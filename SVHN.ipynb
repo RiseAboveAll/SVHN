{
  "nbformat": 4,
  "nbformat_minor": 0,
  "metadata": {
    "colab": {
      "name": "SVHN.ipynb",
      "provenance": [],
      "toc_visible": true,
      "mount_file_id": "15kz6fxVVn8kxUwOKkGXADwStI5OIjRO0",
      "authorship_tag": "ABX9TyPd1eNwHuE6tAEdHbYug9FW",
      "include_colab_link": true
    },
    "kernelspec": {
      "name": "python3",
      "display_name": "Python 3"
    },
    "language_info": {
      "name": "python"
    },
    "accelerator": "GPU"
  },
  "cells": [
    {
      "cell_type": "markdown",
      "metadata": {
        "id": "view-in-github",
        "colab_type": "text"
      },
      "source": [
        "<a href=\"https://colab.research.google.com/github/RiseAboveAll/SVHN_ANN/blob/main/SVHN.ipynb\" target=\"_parent\"><img src=\"https://colab.research.google.com/assets/colab-badge.svg\" alt=\"Open In Colab\"/></a>"
      ]
    },
    {
      "cell_type": "markdown",
      "metadata": {
        "id": "raavGTTL6rys"
      },
      "source": [
        "# Load Packages"
      ]
    },
    {
      "cell_type": "code",
      "metadata": {
        "id": "RrUGjMG0wkW7"
      },
      "source": [
        "import h5py\n",
        "import numpy as np\n",
        "import matplotlib.pyplot as plt\n",
        "from sklearn.preprocessing import StandardScaler, Normalizer\n",
        "from sklearn.metrics import accuracy_score\n",
        "import pandas as pd\n",
        "import os\n",
        "import datetime\n",
        "import matplotlib.pyplot as plt"
      ],
      "execution_count": 1,
      "outputs": []
    },
    {
      "cell_type": "code",
      "metadata": {
        "id": "3BEiHN1RSVbD"
      },
      "source": [
        "%load_ext tensorboard"
      ],
      "execution_count": 2,
      "outputs": []
    },
    {
      "cell_type": "code",
      "metadata": {
        "id": "ZZ9jFpkbxQoH"
      },
      "source": [
        "from tensorflow.keras.models import load_model, clone_model, Model\n",
        "from tensorflow.keras.layers import Input\n",
        "from tensorflow.keras.layers import concatenate\n",
        "import tensorflow as tf\n",
        "from tensorflow.keras.layers import Activation,Dense,BatchNormalization,Dropout\n",
        "from tensorflow.keras import Sequential\n",
        "from tensorflow.keras.utils import to_categorical\n",
        "from tensorflow.keras.optimizers import Adagrad,Adam,SGD,RMSprop,Adamax\n",
        "from tensorflow.keras.callbacks import EarlyStopping,TensorBoard,Callback,LearningRateScheduler\n",
        "from math import pi, cos, floor\n",
        "from tensorflow.keras.losses import categorical_crossentropy, sparse_categorical_crossentropy\n",
        "from tensorflow.keras import backend"
      ],
      "execution_count": 29,
      "outputs": []
    },
    {
      "cell_type": "markdown",
      "metadata": {
        "id": "644hohjj7ABU"
      },
      "source": [
        "# Loading And Processing Data Set"
      ]
    },
    {
      "cell_type": "code",
      "metadata": {
        "id": "DTEnyxBSxQ-e"
      },
      "source": [
        "hf=h5py.File('/content/drive/MyDrive/Projects/SVHN/SVHN_single_grey1.h5','r')\n",
        "X_train = hf['X_train'][:]\n",
        "y_train1 = hf['y_train'][:]\n",
        "X_test = hf['X_test'][:]\n",
        "y_test1 = hf['y_test'][:]\n",
        "\n",
        "\n",
        "# Close this file\n",
        "hf.close()"
      ],
      "execution_count": 10,
      "outputs": []
    },
    {
      "cell_type": "code",
      "metadata": {
        "id": "fTlWAVyZxhDr",
        "colab": {
          "base_uri": "https://localhost:8080/"
        },
        "outputId": "fdce55f0-1c4c-402d-f793-2c6f0aa71e7c"
      },
      "source": [
        "X_train.shape"
      ],
      "execution_count": 11,
      "outputs": [
        {
          "output_type": "execute_result",
          "data": {
            "text/plain": [
              "(42000, 32, 32)"
            ]
          },
          "metadata": {
            "tags": []
          },
          "execution_count": 11
        }
      ]
    },
    {
      "cell_type": "code",
      "metadata": {
        "id": "ynmzdUSD5fwa"
      },
      "source": [
        "X_train=X_train.reshape((X_train.shape[0],-1))\n",
        "X_test=X_test.reshape((X_test.shape[0],-1))\n"
      ],
      "execution_count": 12,
      "outputs": []
    },
    {
      "cell_type": "code",
      "metadata": {
        "id": "L8VyhxAeENg_"
      },
      "source": [
        "norm=Normalizer()\n",
        "norm.fit(X_train)\n",
        "x_train=norm.fit_transform(X_train)\n",
        "x_test=norm.transform(X_test)"
      ],
      "execution_count": 13,
      "outputs": []
    },
    {
      "cell_type": "code",
      "metadata": {
        "id": "g5yTk-h35qjE"
      },
      "source": [
        "y_train=to_categorical(y_train1)\n",
        "y_test=to_categorical(y_test1)"
      ],
      "execution_count": 14,
      "outputs": []
    },
    {
      "cell_type": "code",
      "metadata": {
        "id": "TgW1zM80FOVY"
      },
      "source": [
        "x_val=x_train[30000:]\n",
        "y_val=y_train[30000:]\n",
        "x_train=x_train[:30000]\n",
        "y_train=y_train[:30000]\n"
      ],
      "execution_count": 15,
      "outputs": []
    },
    {
      "cell_type": "code",
      "metadata": {
        "id": "q8inUzii6ADO",
        "colab": {
          "base_uri": "https://localhost:8080/"
        },
        "outputId": "4b6fb3bf-e8cb-4b1a-b8e1-3d72b67fe1d6"
      },
      "source": [
        "print(\"Training Set Shape: {0}\".format(x_train.shape))\n",
        "print(\"Test Set Shape: {0}\".format(x_test.shape))"
      ],
      "execution_count": 16,
      "outputs": [
        {
          "output_type": "stream",
          "text": [
            "Training Set Shape: (30000, 1024)\n",
            "Test Set Shape: (18000, 1024)\n"
          ],
          "name": "stdout"
        }
      ]
    },
    {
      "cell_type": "code",
      "metadata": {
        "id": "weyEZoh86X-8",
        "colab": {
          "base_uri": "https://localhost:8080/"
        },
        "outputId": "7ba035a2-c630-471f-be40-d385ae401f05"
      },
      "source": [
        "print(\"Train Y shape: {0}\".format(y_train.shape))\n",
        "print(\"Test Y shape: {0}\".format(y_test.shape))"
      ],
      "execution_count": 17,
      "outputs": [
        {
          "output_type": "stream",
          "text": [
            "Train Y shape: (30000, 10)\n",
            "Test Y shape: (18000, 10)\n"
          ],
          "name": "stdout"
        }
      ]
    },
    {
      "cell_type": "code",
      "metadata": {
        "id": "MGeZQXpBDrV9"
      },
      "source": [
        "num_class=y_train.shape[1]"
      ],
      "execution_count": 18,
      "outputs": []
    },
    {
      "cell_type": "code",
      "metadata": {
        "id": "cp945UpvFQGr",
        "colab": {
          "base_uri": "https://localhost:8080/"
        },
        "outputId": "ba7c19f0-6507-4db1-dbb2-ae78d2b298b9"
      },
      "source": [
        "num_class"
      ],
      "execution_count": 19,
      "outputs": [
        {
          "output_type": "execute_result",
          "data": {
            "text/plain": [
              "10"
            ]
          },
          "metadata": {
            "tags": []
          },
          "execution_count": 19
        }
      ]
    },
    {
      "cell_type": "markdown",
      "metadata": {
        "id": "I-poXBIqJMQr"
      },
      "source": [
        "# Model 1"
      ]
    },
    {
      "cell_type": "code",
      "metadata": {
        "id": "IHgucmhT6elG"
      },
      "source": [
        "model=Sequential()\n",
        "model.add(Dense(512,input_shape=(1024,),kernel_initializer='he_normal'))\n",
        "model.add(BatchNormalization())\n",
        "model.add(Activation('relu'))\n",
        "model.add(Dense(256,kernel_initializer='he_normal'))\n",
        "model.add(Activation('relu'))\n",
        "model.add(Dense(256,kernel_initializer='he_normal'))\n",
        "model.add(Activation('relu'))\n",
        "model.add(Dense(64,kernel_initializer='he_normal'))\n",
        "model.add(Activation('relu'))\n",
        "model.add(Dense(32,kernel_initializer='he_normal'))\n",
        "model.add(Activation('relu'))\n",
        "model.add(Dense(num_class,kernel_initializer='he_normal',activation='softmax'))\n",
        "optimizer=Adam(learning_rate=1e-3)\n",
        "model.compile(loss=categorical_crossentropy,optimizer=optimizer,metrics=['accuracy'])\n",
        "\n",
        "\n"
      ],
      "execution_count": null,
      "outputs": []
    },
    {
      "cell_type": "code",
      "metadata": {
        "id": "0U4m0JH8GiGJ"
      },
      "source": [
        "model.summary()"
      ],
      "execution_count": null,
      "outputs": []
    },
    {
      "cell_type": "code",
      "metadata": {
        "id": "QTQR-WS_HoJh"
      },
      "source": [
        "history=model.fit(x_train,y_train,validation_data=(x_test,y_test),epochs=30,batch_size=200,verbose=1)"
      ],
      "execution_count": null,
      "outputs": []
    },
    {
      "cell_type": "code",
      "metadata": {
        "id": "cd76Sx1kICMu"
      },
      "source": [
        "\n",
        "history_df = pd.DataFrame(history.history)\n",
        "history_df.loc[:, ['loss', 'val_loss']].plot();\n",
        "print(\"Minimum validation loss: {}\".format(history_df['val_loss'].min()))"
      ],
      "execution_count": null,
      "outputs": []
    },
    {
      "cell_type": "markdown",
      "metadata": {
        "id": "_SOIVhi5JQQP"
      },
      "source": [
        "# Model 2"
      ]
    },
    {
      "cell_type": "code",
      "metadata": {
        "id": "bZJP45G_I-Xm"
      },
      "source": [
        "model=Sequential()\n",
        "model.add(Dense(512,input_shape=(1024,),kernel_initializer='he_uniform'))\n",
        "model.add(BatchNormalization())\n",
        "model.add(Activation('relu'))\n",
        "model.add(Dense(256,kernel_initializer='he_uniform'))\n",
        "model.add(Activation('relu'))\n",
        "model.add(Dense(256,kernel_initializer='he_uniform'))\n",
        "model.add(Activation('relu'))\n",
        "model.add(Dense(64,kernel_initializer='he_uniform'))\n",
        "model.add(Activation('relu'))\n",
        "model.add(Dense(32,kernel_initializer='he_uniform'))\n",
        "model.add(Activation('relu'))\n",
        "model.add(Dense(num_class,kernel_initializer='he_uniform',activation='softmax'))\n",
        "optimizer=Adam(learning_rate=1e-3)\n",
        "model.compile(loss=categorical_crossentropy,optimizer=optimizer,metrics=['accuracy'])\n",
        "history=model.fit(x_train,y_train,validation_data=(x_test,y_test),epochs=30,batch_size=200,verbose=1)\n",
        "\n"
      ],
      "execution_count": null,
      "outputs": []
    },
    {
      "cell_type": "code",
      "metadata": {
        "id": "UBaacfK9JhdG"
      },
      "source": [
        "\n",
        "history_df = pd.DataFrame(history.history)\n",
        "history_df.loc[:, ['loss', 'val_loss']].plot();\n",
        "print(\"Minimum validation loss: {}\".format(history_df['val_loss'].min()))"
      ],
      "execution_count": null,
      "outputs": []
    },
    {
      "cell_type": "markdown",
      "metadata": {
        "id": "PcCs0RGyJ4I8"
      },
      "source": [
        "# Model 3"
      ]
    },
    {
      "cell_type": "code",
      "metadata": {
        "id": "zqCFnQRpJtqP"
      },
      "source": [
        "model=Sequential()\n",
        "model.add(Dense(512,input_shape=(1024,)))\n",
        "model.add(BatchNormalization())\n",
        "model.add(Activation('relu'))\n",
        "model.add(Dense(256))\n",
        "model.add(Activation('relu'))\n",
        "model.add(Dense(256))\n",
        "model.add(Activation('relu'))\n",
        "model.add(Dense(64))\n",
        "model.add(Activation('relu'))\n",
        "model.add(Dense(32))\n",
        "model.add(Activation('relu'))\n",
        "model.add(Dense(num_class,activation='softmax'))\n",
        "optimizer=Adam(learning_rate=1e-3)\n",
        "model.compile(loss=categorical_crossentropy,optimizer=optimizer,metrics=['accuracy'])\n",
        "history=model.fit(x_train,y_train,validation_data=(x_test,y_test),epochs=30,batch_size=200,verbose=1)\n",
        "\n"
      ],
      "execution_count": null,
      "outputs": []
    },
    {
      "cell_type": "code",
      "metadata": {
        "id": "gPlhTYmtK7Gh"
      },
      "source": [
        "\n",
        "history_df = pd.DataFrame(history.history)\n",
        "history_df.loc[:, ['loss', 'val_loss']].plot();\n",
        "print(\"Minimum validation loss: {}\".format(history_df['val_loss'].min()))"
      ],
      "execution_count": null,
      "outputs": []
    },
    {
      "cell_type": "markdown",
      "metadata": {
        "id": "drGR6bi5LI6K"
      },
      "source": [
        "# Model 4"
      ]
    },
    {
      "cell_type": "code",
      "metadata": {
        "id": "a2TpTzYXLKQO"
      },
      "source": [
        "model=Sequential()\n",
        "model.add(Dense(512,input_shape=(1024,),kernel_initializer='he_uniform'))\n",
        "model.add(BatchNormalization())\n",
        "model.add(Activation('relu'))\n",
        "model.add(Dense(256,kernel_initializer='he_uniform'))\n",
        "model.add(Activation('relu'))\n",
        "model.add(Dense(256,kernel_initializer='he_uniform'))\n",
        "model.add(Activation('relu'))\n",
        "model.add(Dense(64,kernel_initializer='he_uniform'))\n",
        "model.add(Activation('relu'))\n",
        "model.add(Dense(32,kernel_initializer='he_uniform'))\n",
        "model.add(Activation('relu'))\n",
        "model.add(Dense(num_class,kernel_initializer='he_uniform',activation='softmax'))\n",
        "optimizer=SGD(learning_rate=1e-3)\n",
        "model.compile(loss=categorical_crossentropy,optimizer=optimizer,metrics=['accuracy'])\n",
        "history=model.fit(x_train,y_train,validation_data=(x_test,y_test),epochs=100,batch_size=200,verbose=1)\n",
        "\n"
      ],
      "execution_count": null,
      "outputs": []
    },
    {
      "cell_type": "code",
      "metadata": {
        "id": "0jVps0bRLQY_"
      },
      "source": [
        "\n",
        "history_df = pd.DataFrame(history.history)\n",
        "history_df.loc[:, ['loss', 'val_loss']].plot();\n",
        "print(\"Minimum validation loss: {}\".format(history_df['val_loss'].min()))"
      ],
      "execution_count": null,
      "outputs": []
    },
    {
      "cell_type": "markdown",
      "metadata": {
        "id": "q3oBu5xaNenj"
      },
      "source": [
        "# Model 5"
      ]
    },
    {
      "cell_type": "code",
      "metadata": {
        "id": "at559ocGLDMj"
      },
      "source": [
        "Model=Sequential()\n",
        "Model.add(Dense(512,input_shape=(1024,),kernel_initializer='he_normal'))\n",
        "Model.add(BatchNormalization())\n",
        "Model.add(Activation('relu'))\n",
        "Model.add(Dense(256,kernel_initializer='he_normal'))\n",
        "Model.add(Activation('relu'))\n",
        "Model.add(Dense(256,kernel_initializer='he_normal'))\n",
        "Model.add(Activation('relu'))\n",
        "Model.add(Dense(64,kernel_initializer='he_normal'))\n",
        "Model.add(Activation('relu'))\n",
        "Model.add(Dense(32,kernel_initializer='he_normal'))\n",
        "Model.add(Activation('relu'))\n",
        "Model.add(Dense(num_class,kernel_initializer='he_normal',activation='softmax'))\n",
        "optimizer=SGD(learning_rate=1e-3)\n",
        "Model.compile(loss=categorical_crossentropy,optimizer=optimizer,metrics=['accuracy'])\n",
        "history=Model.fit(x_train,y_train,validation_data=(x_test,y_test),epochs=100,batch_size=200,verbose=1)\n",
        "\n"
      ],
      "execution_count": null,
      "outputs": []
    },
    {
      "cell_type": "code",
      "metadata": {
        "id": "9fTctnTxN0rZ"
      },
      "source": [
        "\n",
        "history_df = pd.DataFrame(history.history)\n",
        "history_df.loc[:, ['loss', 'val_loss']].plot();\n",
        "print(\"Minimum validation loss: {}\".format(history_df['val_loss'].min()))"
      ],
      "execution_count": null,
      "outputs": []
    },
    {
      "cell_type": "code",
      "metadata": {
        "id": "2YZ5P6hROLIF"
      },
      "source": [
        "\n",
        "history_df = pd.DataFrame(history.history)\n",
        "history_df.loc[:, ['accuracy', 'val_accuracy']].plot();\n",
        "#print(\"Minimum validation loss: {}\".format(history_df['val_loss'].min()))"
      ],
      "execution_count": null,
      "outputs": []
    },
    {
      "cell_type": "code",
      "metadata": {
        "id": "hqhSQ8FzGoQa"
      },
      "source": [
        ""
      ],
      "execution_count": null,
      "outputs": []
    },
    {
      "cell_type": "code",
      "metadata": {
        "id": "vy6R0QBA8D3t"
      },
      "source": [
        "Adam?"
      ],
      "execution_count": null,
      "outputs": []
    },
    {
      "cell_type": "code",
      "metadata": {
        "id": "REdppYwpFhrD"
      },
      "source": [
        ""
      ],
      "execution_count": null,
      "outputs": []
    },
    {
      "cell_type": "code",
      "metadata": {
        "id": "eOyPkONe6aC2"
      },
      "source": [
        ""
      ],
      "execution_count": null,
      "outputs": []
    },
    {
      "cell_type": "markdown",
      "metadata": {
        "id": "cwQLfJ_4OdFM"
      },
      "source": [
        "# Model 6"
      ]
    },
    {
      "cell_type": "code",
      "metadata": {
        "id": "avaOAWONOfeB"
      },
      "source": [
        "Model=Sequential()\n",
        "Model.add(Dense(512,input_shape=(1024,),kernel_initializer='he_normal'))\n",
        "Model.add(BatchNormalization())\n",
        "Model.add(Activation('relu'))\n",
        "Model.add(Dense(256,kernel_initializer='he_normal'))\n",
        "Model.add(Activation('relu'))\n",
        "Model.add(Dense(256,kernel_initializer='he_normal'))\n",
        "Model.add(Activation('relu'))\n",
        "Model.add(Dense(64,kernel_initializer='he_normal'))\n",
        "Model.add(Activation('relu'))\n",
        "Model.add(Dense(32,kernel_initializer='he_normal'))\n",
        "Model.add(Activation('relu'))\n",
        "Model.add(Dense(num_class,kernel_initializer='he_normal',activation='softmax'))\n",
        "optimizer=SGD(learning_rate=1e-3)\n",
        "Model.compile(loss=categorical_crossentropy,optimizer=optimizer,metrics=['accuracy'])\n",
        "history=Model.fit(x_train,y_train,validation_data=(x_test,y_test),epochs=100,batch_size=800,verbose=1)\n",
        "\n"
      ],
      "execution_count": null,
      "outputs": []
    },
    {
      "cell_type": "code",
      "metadata": {
        "id": "qEVlqpf4Os1l"
      },
      "source": [
        "\n",
        "history_df = pd.DataFrame(history.history)\n",
        "history_df.loc[:, ['loss', 'val_loss']].plot();\n",
        "print(\"Minimum validation loss: {}\".format(history_df['val_loss'].min()))"
      ],
      "execution_count": null,
      "outputs": []
    },
    {
      "cell_type": "code",
      "metadata": {
        "id": "WbDNuvopO7ge"
      },
      "source": [
        "history_df = pd.DataFrame(history.history)\n",
        "history_df.loc[:, ['accuracy', 'val_accuracy']].plot();\n",
        "#print(\"Minimum validation loss: {}\".format(history_df['val_loss'].min()))"
      ],
      "execution_count": null,
      "outputs": []
    },
    {
      "cell_type": "markdown",
      "metadata": {
        "id": "p3CNraidPJEX"
      },
      "source": [
        "# Model 7A"
      ]
    },
    {
      "cell_type": "code",
      "metadata": {
        "id": "1uNBjrRUPLxJ"
      },
      "source": [
        "Model=Sequential()\n",
        "Model.add(Dense(16,input_shape=(1024,),kernel_initializer='he_normal'))\n",
        "Model.add(BatchNormalization())\n",
        "Model.add(Activation('relu'))\n",
        "Model.add(Dense(32,kernel_initializer='he_normal'))\n",
        "Model.add(Activation('relu'))\n",
        "Model.add(Dense(64,kernel_initializer='he_normal'))\n",
        "Model.add(Activation('relu'))\n",
        "Model.add(Dense(128,kernel_initializer='he_normal'))\n",
        "Model.add(Activation('relu'))\n",
        "Model.add(Dense(256,kernel_initializer='he_normal'))\n",
        "Model.add(Activation('relu'))\n",
        "Model.add(Dense(512,kernel_initializer='he_normal'))\n",
        "Model.add(Activation('relu'))\n",
        "Model.add(Dense(1024,kernel_initializer='he_normal'))\n",
        "#Model.add(Dropout(.3))\n",
        "Model.add(Activation('relu'))\n",
        "Model.add(Dense(num_class,kernel_initializer='he_normal',activation='softmax'))\n",
        "optimizer=Adam(learning_rate=1e-5)\n",
        "Model.compile(loss=categorical_crossentropy,optimizer=optimizer,metrics=['accuracy'])\n",
        "history=Model.fit(x_train,y_train,validation_data=(x_test,y_test),epochs=500,batch_size=300,verbose=0)\n",
        "\n"
      ],
      "execution_count": null,
      "outputs": []
    },
    {
      "cell_type": "code",
      "metadata": {
        "id": "jFw9juRXPUGK"
      },
      "source": [
        "history_df = pd.DataFrame(history.history)\n",
        "history_df.loc[:, ['loss', 'val_loss']].plot();\n",
        "print(\"Minimum validation loss: {}\".format(history_df['val_loss'].min()))"
      ],
      "execution_count": null,
      "outputs": []
    },
    {
      "cell_type": "code",
      "metadata": {
        "id": "tSD9xu-_PFQ2"
      },
      "source": [
        "history_df = pd.DataFrame(history.history)\n",
        "history_df.loc[:, ['accuracy', 'val_accuracy']].plot();\n",
        "#print(\"Minimum validation loss: {}\".format(history_df['val_loss'].min()))"
      ],
      "execution_count": null,
      "outputs": []
    },
    {
      "cell_type": "code",
      "metadata": {
        "id": "4Ed9v3OAPsUh"
      },
      "source": [
        "Model.evaluate(x_test,y_test)"
      ],
      "execution_count": null,
      "outputs": []
    },
    {
      "cell_type": "code",
      "metadata": {
        "id": "zib7xgSufRDw"
      },
      "source": [
        "Model.evaluate(x_train , y_train)"
      ],
      "execution_count": null,
      "outputs": []
    },
    {
      "cell_type": "markdown",
      "metadata": {
        "id": "jbRH7k8qfEq-"
      },
      "source": [
        "# Model 7B"
      ]
    },
    {
      "cell_type": "code",
      "metadata": {
        "id": "Qg0jjYfpfGXo"
      },
      "source": [
        "Model=Sequential()\n",
        "Model.add(Dense(16,input_shape=(1024,),kernel_initializer='he_normal'))\n",
        "Model.add(Activation('relu'))\n",
        "Model.add(BatchNormalization())\n",
        "Model.add(Dense(32,kernel_initializer='he_normal'))\n",
        "Model.add(Activation('relu'))\n",
        "Model.add(Dense(64,kernel_initializer='he_normal'))\n",
        "Model.add(Activation('relu'))\n",
        "Model.add(Dense(128,kernel_initializer='he_normal'))\n",
        "Model.add(Activation('relu'))\n",
        "Model.add(Dense(256,kernel_initializer='he_normal'))\n",
        "Model.add(Activation('relu'))\n",
        "Model.add(Dense(512,kernel_initializer='he_normal'))\n",
        "Model.add(Activation('relu'))\n",
        "Model.add(Dense(1024,kernel_initializer='he_normal'))\n",
        "#Model.add(Dropout(.3))\n",
        "Model.add(Activation('relu'))\n",
        "Model.add(Dense(num_class,kernel_initializer='he_normal',activation='softmax'))\n",
        "optimizer=Adam(learning_rate=1e-5)\n",
        "Model.compile(loss=categorical_crossentropy,optimizer=optimizer,metrics=['accuracy'])\n",
        "history=Model.fit(x_train,y_train,validation_data=(x_test,y_test),epochs=500,batch_size=300,verbose=0)\n",
        "\n"
      ],
      "execution_count": null,
      "outputs": []
    },
    {
      "cell_type": "code",
      "metadata": {
        "id": "E13fWtxyfJIS"
      },
      "source": [
        "history_df = pd.DataFrame(history.history)\n",
        "history_df.loc[:, ['loss', 'val_loss']].plot();\n",
        "print(\"Minimum validation loss: {}\".format(history_df['val_loss'].min()))"
      ],
      "execution_count": null,
      "outputs": []
    },
    {
      "cell_type": "code",
      "metadata": {
        "id": "poSCjhb9fKDD"
      },
      "source": [
        "history_df = pd.DataFrame(history.history)\n",
        "history_df.loc[:, ['accuracy', 'val_accuracy']].plot();\n",
        "#print(\"Minimum validation loss: {}\".format(history_df['val_loss'].min()))"
      ],
      "execution_count": null,
      "outputs": []
    },
    {
      "cell_type": "code",
      "metadata": {
        "id": "8U_wuzj5gmaj"
      },
      "source": [
        "Model.evaluate(x_test,y_test)"
      ],
      "execution_count": null,
      "outputs": []
    },
    {
      "cell_type": "code",
      "metadata": {
        "id": "Y921FDwYgn3O"
      },
      "source": [
        "Model.evaluate(x_train , y_train)"
      ],
      "execution_count": null,
      "outputs": []
    },
    {
      "cell_type": "markdown",
      "metadata": {
        "id": "ueveu94Lhqxe"
      },
      "source": [
        "# Model 7AC"
      ]
    },
    {
      "cell_type": "code",
      "metadata": {
        "id": "hLfrgHhEhsS6"
      },
      "source": [
        "Model=Sequential()\n",
        "Model.add(Dense(16,input_shape=(1024,),kernel_initializer='he_normal'))\n",
        "Model.add(BatchNormalization())\n",
        "Model.add(Activation('relu'))\n",
        "Model.add(Dense(32,kernel_initializer='he_normal'))\n",
        "Model.add(Activation('relu'))\n",
        "Model.add(Dense(64,kernel_initializer='he_normal'))\n",
        "Model.add(Activation('relu'))\n",
        "Model.add(Dense(128,kernel_initializer='he_normal'))\n",
        "Model.add(Activation('relu'))\n",
        "Model.add(Dense(256,kernel_initializer='he_normal'))\n",
        "Model.add(Activation('relu'))\n",
        "Model.add(Dense(512,kernel_initializer='he_normal'))\n",
        "Model.add(Activation('relu'))\n",
        "Model.add(Dense(1024,kernel_initializer='he_normal'))\n",
        "#Model.add(Dropout(.3))\n",
        "Model.add(Activation('relu'))\n",
        "Model.add(Dense(num_class,kernel_initializer='he_normal',activation='softmax'))\n",
        "optimizer=Adam(learning_rate=1e-5)\n",
        "Model.compile(loss=categorical_crossentropy,optimizer=optimizer,metrics=['accuracy'])\n",
        "history=Model.fit(x_train,y_train,validation_data=(x_test,y_test),epochs=150,batch_size=32,verbose=0)\n",
        "\n"
      ],
      "execution_count": null,
      "outputs": []
    },
    {
      "cell_type": "code",
      "metadata": {
        "id": "1Nf15WUKh5lD"
      },
      "source": [
        "history_df = pd.DataFrame(history.history)\n",
        "history_df.loc[:, ['loss', 'val_loss']].plot();\n",
        "print(\"Minimum validation loss: {}\".format(history_df['val_loss'].min()))"
      ],
      "execution_count": null,
      "outputs": []
    },
    {
      "cell_type": "code",
      "metadata": {
        "id": "B6XGM1Gch8m7"
      },
      "source": [
        "history_df = pd.DataFrame(history.history)\n",
        "history_df.loc[:, ['accuracy', 'val_accuracy']].plot();\n",
        "#print(\"Minimum validation loss: {}\".format(history_df['val_loss'].min()))"
      ],
      "execution_count": null,
      "outputs": []
    },
    {
      "cell_type": "code",
      "metadata": {
        "id": "AWDguQ20iWZf"
      },
      "source": [
        "Model.evaluate(x_test,y_test)"
      ],
      "execution_count": null,
      "outputs": []
    },
    {
      "cell_type": "code",
      "metadata": {
        "id": "uitSdgDMiXBI"
      },
      "source": [
        "Model.evaluate(x_train , y_train)"
      ],
      "execution_count": null,
      "outputs": []
    },
    {
      "cell_type": "markdown",
      "metadata": {
        "id": "MHeKVHv2oFTD"
      },
      "source": [
        "# Model 7ACA"
      ]
    },
    {
      "cell_type": "code",
      "metadata": {
        "id": "ImGkedMkoHgy"
      },
      "source": [
        "Model=Sequential()\n",
        "Model.add(Dense(16,input_shape=(1024,),kernel_initializer='he_normal'))\n",
        "Model.add(BatchNormalization())\n",
        "Model.add(Activation('relu'))\n",
        "Model.add(Dense(32,kernel_initializer='he_normal'))\n",
        "Model.add(Activation('relu'))\n",
        "Model.add(Dense(64,kernel_initializer='he_normal'))\n",
        "Model.add(Activation('relu'))\n",
        "Model.add(Dense(128,kernel_initializer='he_normal'))\n",
        "Model.add(Activation('relu'))\n",
        "Model.add(Dense(256,kernel_initializer='he_normal'))\n",
        "Model.add(Activation('relu'))\n",
        "Model.add(Dense(512,kernel_initializer='he_normal'))\n",
        "Model.add(Activation('relu'))\n",
        "Model.add(Dense(1024,kernel_initializer='he_normal'))\n",
        "#Model.add(Dropout(.3))\n",
        "Model.add(Activation('relu'))\n",
        "Model.add(Dense(num_class,kernel_initializer='he_normal',activation='softmax'))\n",
        "optimizer=Adam(learning_rate=1e-5)\n",
        "Model.compile(loss=categorical_crossentropy,optimizer=optimizer,metrics=['accuracy'])\n",
        "history=Model.fit(x_train,y_train,validation_data=(x_test,y_test),epochs=65,batch_size=80,verbose=0)\n",
        "\n"
      ],
      "execution_count": null,
      "outputs": []
    },
    {
      "cell_type": "code",
      "metadata": {
        "id": "SVw72VLzoOSF"
      },
      "source": [
        "history_df = pd.DataFrame(history.history)\n",
        "history_df.loc[:, ['loss', 'val_loss']].plot();\n",
        "print(\"Minimum validation loss: {}\".format(history_df['val_loss'].min()))"
      ],
      "execution_count": null,
      "outputs": []
    },
    {
      "cell_type": "code",
      "metadata": {
        "id": "yfheEkeioRC4"
      },
      "source": [
        "history_df = pd.DataFrame(history.history)\n",
        "history_df.loc[:, ['accuracy', 'val_accuracy']].plot();\n",
        "#print(\"Minimum validation loss: {}\".format(history_df['val_loss'].min()))"
      ],
      "execution_count": null,
      "outputs": []
    },
    {
      "cell_type": "code",
      "metadata": {
        "id": "828JDbPhoUV8"
      },
      "source": [
        "Model.evaluate(x_test,y_test)\n",
        "Model.evaluate(x_train , y_train)"
      ],
      "execution_count": null,
      "outputs": []
    },
    {
      "cell_type": "markdown",
      "metadata": {
        "id": "o-hzMkBTqmmd"
      },
      "source": [
        "# Model 8"
      ]
    },
    {
      "cell_type": "code",
      "metadata": {
        "id": "HQteTINmql1h"
      },
      "source": [
        "Model=Sequential()\n",
        "Model.add(Dense(1024,input_shape=(1024,)))\n",
        "Model.add(BatchNormalization())\n",
        "Model.add(Activation('relu'))\n",
        "Model.add(Dense(512))\n",
        "Model.add(Activation('relu'))\n",
        "Model.add(Dense(256))\n",
        "Model.add(Activation('relu'))\n",
        "Model.add(Dense(128))\n",
        "Model.add(Activation('relu'))\n",
        "Model.add(BatchNormalization())\n",
        "Model.add(Dense(256))\n",
        "Model.add(Activation('relu'))\n",
        "\n",
        "Model.add(Dense(512))\n",
        "Model.add(Activation('relu'))\n",
        "\n",
        "Model.add(Dense(1024))\n",
        "Model.add(Activation('relu'))\n",
        "Model.add(Dropout(.3))\n",
        "Model.add(Dense(num_class,activation='softmax'))\n",
        "optimizer=Adam(learning_rate=1e-5)\n",
        "Model.compile(loss=categorical_crossentropy,optimizer=optimizer,metrics=['accuracy'])\n",
        "history=Model.fit(x_train,y_train,validation_data=(x_val,y_val),epochs=7,batch_size=32,verbose=0)\n",
        "\n"
      ],
      "execution_count": null,
      "outputs": []
    },
    {
      "cell_type": "code",
      "metadata": {
        "id": "1BymvsjHquyC"
      },
      "source": [
        "history_df = pd.DataFrame(history.history)\n",
        "history_df.loc[:, ['loss', 'val_loss']].plot();\n",
        "print(\"Minimum validation loss: {}\".format(history_df['val_loss'].min()))\n",
        "history_df = pd.DataFrame(history.history)\n",
        "history_df.loc[:, ['accuracy', 'val_accuracy']].plot();\n",
        "#print(\"Minimum validation loss: {}\".format(history_df['val_loss'].min()))"
      ],
      "execution_count": null,
      "outputs": []
    },
    {
      "cell_type": "code",
      "metadata": {
        "id": "Jm9NV_6uqzQ5"
      },
      "source": [
        "Model.evaluate(x_test,y_test)\n",
        "Model.evaluate(x_val,y_val)\n",
        "\n",
        "Model.evaluate(x_train , y_train)"
      ],
      "execution_count": null,
      "outputs": []
    },
    {
      "cell_type": "markdown",
      "metadata": {
        "id": "Lk3iJ3xrf_PR"
      },
      "source": [
        "# Model 9"
      ]
    },
    {
      "cell_type": "markdown",
      "metadata": {
        "id": "11YRObnaOz5i"
      },
      "source": [
        "Start TensorBoard within the notebook using magics:"
      ]
    },
    {
      "cell_type": "code",
      "metadata": {
        "id": "7R6E1aJSOyWO"
      },
      "source": [
        "%tensorboard --logdir logs"
      ],
      "execution_count": null,
      "outputs": []
    },
    {
      "cell_type": "code",
      "metadata": {
        "id": "wQ3LWGUBgAdW"
      },
      "source": [
        "Model=Sequential()\n",
        "Model.add(Dense(512,input_shape=(1024,),kernel_initializer='he_normal'))\n",
        "Model.add(BatchNormalization())\n",
        "Model.add(Activation('relu'))\n",
        "Model.add(Dense(256,kernel_initializer='he_normal'))\n",
        "Model.add(Activation('relu'))\n",
        "Model.add(Dense(128,kernel_initializer='he_normal'))\n",
        "Model.add(Activation('relu'))\n",
        "Model.add(Dense(64,kernel_initializer='he_normal'))\n",
        "Model.add(Activation('relu'))\n",
        "Model.add(Dense(32,kernel_initializer='he_normal'))\n",
        "Model.add(Activation('relu'))\n",
        "Model.add(Dense(num_class,kernel_initializer='he_normal',activation='softmax'))\n",
        "optimizer=Adam(learning_rate=1e-5)\n",
        "Model.compile(loss=categorical_crossentropy,optimizer=optimizer,metrics=['accuracy'])\n",
        "logdir = os.path.join(\"logs\", datetime.datetime.now().strftime(\"%Y%m%d-%H%M%S\"))\n",
        "tb=TensorBoard(log_dir=logdir,histogram_freq=1,write_images=True)\n",
        "history=Model.fit(x_train,y_train,validation_data=(x_val,y_val),epochs=17,batch_size=32,verbose=0,callbacks=[tb])\n",
        "\n"
      ],
      "execution_count": null,
      "outputs": []
    },
    {
      "cell_type": "code",
      "metadata": {
        "id": "aEhI8w9lOmhI"
      },
      "source": [
        "history_df = pd.DataFrame(history.history)\n",
        "history_df.loc[:, ['loss', 'val_loss']].plot();\n",
        "print(\"Minimum validation loss: {}\".format(history_df['val_loss'].min()))\n",
        "history_df = pd.DataFrame(history.history)\n",
        "history_df.loc[:, ['accuracy', 'val_accuracy']].plot();\n",
        "#print(\"Minimum validation loss: {}\".format(history_df['val_loss'].min()))"
      ],
      "execution_count": null,
      "outputs": []
    },
    {
      "cell_type": "code",
      "metadata": {
        "id": "JkcoCmm_gVsw"
      },
      "source": [
        "Model.evaluate(x_test,y_test)\n",
        "Model.evaluate(x_val,y_val)\n",
        "\n",
        "Model.evaluate(x_train , y_train)"
      ],
      "execution_count": null,
      "outputs": []
    },
    {
      "cell_type": "markdown",
      "metadata": {
        "id": "JArG7Bmh6hum"
      },
      "source": [
        "# Summary A"
      ]
    },
    {
      "cell_type": "markdown",
      "metadata": {
        "id": "p2NwQLGEkSHl"
      },
      "source": [
        "- Always keep number of neurons in progression of 2^n\n",
        "\n",
        "- By adding Batch Normalization in the first hidden layer, it increases the training accuracy or reduces the training loss but test accuracy and loss curve tend to become flatter.\n",
        "\n",
        "- By adding Dropout in the first hidden layer itself, the loss increases both for training and test , but test set the curve is not flatter , it is oscilating. It means it is bad.\n",
        "\n",
        "- By adding Dropout before the classification layer have given the best learning curves , in addition adding Batch Norm layer in first hidden layer before activation function, it speeded up the convergence and also has decreased the training and test loss\n",
        "\n",
        "- If we add Batch Normalization layer after the activation , the training and test loss increases but slightly better generalization is there.\n",
        "\n",
        "- Making the network wider decreases the train and test loss , network has 7 layers, earlier it had units of 8,16,32,64,128,256,512 . We made it wide by 16,32,64,128,256,512,1024.\n",
        "\n",
        "- [7AC]Decrease in Batch Size to 32 from 200 takes lot of time to learn, probably need larger learning rate than 1E-5, though performance is bit good, but we can increase the number of epochs , there is still scope of improvement \n",
        "\n",
        "- We can see after increasing the number of epochs from 100 to 150 , we find convergence around 110-120, and increase in train and validation accuracy\n",
        "\n",
        "- [7ACA]Increasing the batch size fastens the learning , aat around 60th epoch model converges, it generalizes well but slightly decrease in model performance. Hence we reduce the epochs from 80 to 60. We can see better generalization but comparatively less accuracy.\n",
        "\n",
        "- [7BC] We have noticed with smaller batchsize , batchnormalization should be used post activation layer\n",
        "\n",
        "- It is validated that 1E-5 i the apt loss with adam optimizer\n",
        "\n",
        "- [Model 8] it is in form of large-small-large unit like bottle neck model. It takes lesser time to learn, i.e around epoch 6th or 7th it conerges at batch size of 32. But it does not have smooth learning as compared to previous models.\n",
        "\n",
        "- [Model 9] It is in form of inverted V , it has good learning , though comparatively to others takes time to learn , converges at around 25th epoch, but has similar performance(When using Batch Norm after activation layer). Have found using batch norm before activation layer fastens the learning and increases the performance also , it converges around 15th epoch. It has smoother learning also  "
      ]
    },
    {
      "cell_type": "markdown",
      "metadata": {
        "id": "N9dcfKcVSB69"
      },
      "source": [
        "# Tensorboard"
      ]
    },
    {
      "cell_type": "code",
      "metadata": {
        "id": "EYqdbyLWQS_v"
      },
      "source": [
        "Model=Sequential()\n",
        "Model.add(Dense(512,input_shape=(1024,),kernel_initializer='he_normal'))\n",
        "Model.add(BatchNormalization())\n",
        "Model.add(Activation('relu'))\n",
        "Model.add(Dense(256,kernel_initializer='he_normal'))\n",
        "Model.add(Activation('relu'))\n",
        "Model.add(Dense(128,kernel_initializer='he_normal'))\n",
        "Model.add(Activation('relu'))\n",
        "Model.add(Dense(64,kernel_initializer='he_normal'))\n",
        "Model.add(Activation('relu'))\n",
        "Model.add(Dense(32,kernel_initializer='he_normal'))\n",
        "Model.add(Activation('relu'))\n",
        "Model.add(Dense(num_class,kernel_initializer='he_normal',activation='softmax'))\n",
        "optimizer=Adam(learning_rate=1e-5)\n",
        "Model.compile(loss=categorical_crossentropy,optimizer=optimizer,metrics=['accuracy'])\n",
        "logdir = os.path.join(\"logs\", datetime.datetime.now().strftime(\"%Y%m%d-%H%M%S\"))\n",
        "tb=TensorBoard(log_dir=logdir,histogram_freq=1,write_images=True)\n",
        "history=Model.fit(x_train,y_train,validation_data=(x_val,y_val),epochs=17,batch_size=32,verbose=0,callbacks=[tb])\n",
        "\n"
      ],
      "execution_count": null,
      "outputs": []
    },
    {
      "cell_type": "markdown",
      "metadata": {
        "id": "aFit-LfcJ6sq"
      },
      "source": [
        "# Weight Ensemble"
      ]
    },
    {
      "cell_type": "code",
      "metadata": {
        "id": "r2A6-RY-SxGW"
      },
      "source": [
        "os.chdir('/content/drive/MyDrive/Projects/')"
      ],
      "execution_count": null,
      "outputs": []
    },
    {
      "cell_type": "code",
      "metadata": {
        "id": "J2OmDP8CSz2J",
        "colab": {
          "base_uri": "https://localhost:8080/",
          "height": 35
        },
        "outputId": "dfa000d7-cb4b-4154-e36e-5ee5d7965f3e"
      },
      "source": [
        "os.getcwd()"
      ],
      "execution_count": null,
      "outputs": [
        {
          "output_type": "execute_result",
          "data": {
            "application/vnd.google.colaboratory.intrinsic+json": {
              "type": "string"
            },
            "text/plain": [
              "'/content/drive/MyDrive/Projects'"
            ]
          },
          "metadata": {
            "tags": []
          },
          "execution_count": 119
        }
      ]
    },
    {
      "cell_type": "code",
      "metadata": {
        "id": "3JehF4d4Xuko"
      },
      "source": [
        "#os.makedirs('Model')"
      ],
      "execution_count": null,
      "outputs": []
    },
    {
      "cell_type": "code",
      "metadata": {
        "id": "KKC4E-6CYeLd"
      },
      "source": [
        "\n",
        "os.chdir('/content/drive/MyDrive/Projects/Stacked_Model/')"
      ],
      "execution_count": null,
      "outputs": []
    },
    {
      "cell_type": "code",
      "metadata": {
        "id": "6l1g27zvYtFW"
      },
      "source": [
        "def create_model():\n",
        "  Model=Sequential()\n",
        "  Model.add(Dense(512,input_shape=(1024,),kernel_initializer='he_normal'))\n",
        "  Model.add(BatchNormalization())\n",
        "  Model.add(Activation('relu'))\n",
        "  Model.add(Dense(256,kernel_initializer='he_normal'))\n",
        "  Model.add(Activation('relu'))\n",
        "  Model.add(Dense(128,kernel_initializer='he_normal'))\n",
        "  Model.add(Activation('relu'))\n",
        "  Model.add(Dense(64,kernel_initializer='he_normal'))\n",
        "  Model.add(Activation('relu'))\n",
        "  Model.add(Dense(32,kernel_initializer='he_normal'))\n",
        "  Model.add(Activation('relu'))\n",
        "  Model.add(Dense(num_class,kernel_initializer='he_normal',activation='softmax'))\n",
        "  optimizer=Adam(learning_rate=1e-5)\n",
        "  Model.compile(loss=categorical_crossentropy,optimizer=optimizer,metrics=['accuracy'])\n",
        "  return Model"
      ],
      "execution_count": null,
      "outputs": []
    },
    {
      "cell_type": "code",
      "metadata": {
        "id": "nZLweosiZZN3"
      },
      "source": [
        "mod=create_model()"
      ],
      "execution_count": null,
      "outputs": []
    },
    {
      "cell_type": "code",
      "metadata": {
        "id": "ejjXOcsYZb1w"
      },
      "source": [
        "num_epochs,save_after=10,5\n",
        "for i in range(num_epochs):\n",
        "  mod.fit(x_train,y_train,validation_data=(x_val,y_val),epochs=17,batch_size=32,verbose=0)\n",
        "  if i>=save_after:\n",
        "    mod.save('model_'+str(i)+'.h5')"
      ],
      "execution_count": null,
      "outputs": []
    },
    {
      "cell_type": "code",
      "metadata": {
        "id": "qAWR2HyIaRbS"
      },
      "source": [
        "def load_models(n_start,n_end):\n",
        "  all_models=list()\n",
        "  for epoch in range(n_start,n_end):\n",
        "    filename='model_'+str(epoch)+'.h5'\n",
        "\n",
        "    model=load_model(filename)\n",
        "    print('loaded file {}'.format(filename))\n",
        "    all_models.append(model)\n",
        "  return all_models"
      ],
      "execution_count": null,
      "outputs": []
    },
    {
      "cell_type": "code",
      "metadata": {
        "id": "5sHUcGTjdSov",
        "colab": {
          "base_uri": "https://localhost:8080/"
        },
        "outputId": "8adcb346-d05d-483b-8651-854ee26d4187"
      },
      "source": [
        "members=load_models(n_start=5,n_end=10)"
      ],
      "execution_count": null,
      "outputs": [
        {
          "output_type": "stream",
          "text": [
            "loaded file model_5.h5\n",
            "loaded file model_6.h5\n",
            "loaded file model_7.h5\n",
            "loaded file model_8.h5\n",
            "loaded file model_9.h5\n"
          ],
          "name": "stdout"
        }
      ]
    },
    {
      "cell_type": "code",
      "metadata": {
        "id": "M-3EYzredWwW"
      },
      "source": [
        "def weight_ensemble(members,weighs):\n",
        "  n_layers=len(members[0].get_weights())\n",
        "  avg_weights=[]\n",
        "  for layer in range(n_layers):\n",
        "    layer_weight=np.array([model.get_weights()[layer] for model in members])\n",
        "    avg_layer_weight=np.average(layer_weight,axis=0,weights=weighs)\n",
        "    avg_weights.append(avg_layer_weight)\n",
        "  model=clone_model(members[0])\n",
        "  model.set_weights(avg_weights)\n",
        "  optimizer=Adam(learning_rate=1e-5)\n",
        "  model.compile(loss=categorical_crossentropy,optimizer=optimizer,metrics=['accuracy'])\n",
        "  return model\n"
      ],
      "execution_count": null,
      "outputs": []
    },
    {
      "cell_type": "code",
      "metadata": {
        "id": "HNNKe-sBe5C6"
      },
      "source": [
        "n_models=len(members)"
      ],
      "execution_count": null,
      "outputs": []
    },
    {
      "cell_type": "code",
      "metadata": {
        "id": "ad1hKCzlkkwr"
      },
      "source": [
        "#Linear Weight Decay\n",
        "weighs=[i/n_models for i in range(n_models,0,-1)]"
      ],
      "execution_count": null,
      "outputs": []
    },
    {
      "cell_type": "code",
      "metadata": {
        "id": "cweZbycMe9W5"
      },
      "source": [
        "#Exponential Weight Decay\n",
        "alpha=2\n",
        "weighs=[float(np.exp(-i/alpha)) for i in range(1,n_models+1) ]"
      ],
      "execution_count": null,
      "outputs": []
    },
    {
      "cell_type": "code",
      "metadata": {
        "id": "w59QMzyOfaU3",
        "colab": {
          "base_uri": "https://localhost:8080/"
        },
        "outputId": "ea9d70e2-99f3-4ed4-da23-0b8104e176d5"
      },
      "source": [
        "weighs"
      ],
      "execution_count": null,
      "outputs": [
        {
          "output_type": "execute_result",
          "data": {
            "text/plain": [
              "[0.6065306597126334,\n",
              " 0.36787944117144233,\n",
              " 0.22313016014842982,\n",
              " 0.1353352832366127,\n",
              " 0.0820849986238988]"
            ]
          },
          "metadata": {
            "tags": []
          },
          "execution_count": 131
        }
      ]
    },
    {
      "cell_type": "code",
      "metadata": {
        "id": "vuWxdxPmfiy4"
      },
      "source": [
        "model=weight_ensemble(members,weighs)"
      ],
      "execution_count": null,
      "outputs": []
    },
    {
      "cell_type": "code",
      "metadata": {
        "id": "LcRQvyLnkBiD",
        "colab": {
          "base_uri": "https://localhost:8080/"
        },
        "outputId": "c00b4249-3580-46ee-8ef3-3ee316f08510"
      },
      "source": [
        "len(members)"
      ],
      "execution_count": null,
      "outputs": [
        {
          "output_type": "execute_result",
          "data": {
            "text/plain": [
              "5"
            ]
          },
          "metadata": {
            "tags": []
          },
          "execution_count": 133
        }
      ]
    },
    {
      "cell_type": "code",
      "metadata": {
        "id": "PLCpGFMffuiN"
      },
      "source": [
        "def eval_n_members(members,n_members,x_train,y_train,x_val,y_val):\n",
        "  \n",
        "  sub=members[:n_members]\n",
        "  w=[i/n_models for i in range(n_members,0,-1) ]\n",
        "  model=weight_ensemble(sub,w)\n",
        "  _,train_acc=model.evaluate(x_train,y_train,verbose=0)\n",
        "  _,val_acc=model.evaluate(x_val,y_val,verbose=0)\n",
        "  return train_acc,val_acc\n"
      ],
      "execution_count": null,
      "outputs": []
    },
    {
      "cell_type": "code",
      "metadata": {
        "id": "59sEpLIRg1DO",
        "colab": {
          "base_uri": "https://localhost:8080/"
        },
        "outputId": "df81a9b8-7d30-4c05-b785-adf88b3619b8"
      },
      "source": [
        "members=list(reversed(members))\n",
        "Single_sc_t,Single_sc_v,ens_sc_t,ens_sc_v=[],[],[],[]\n",
        "for i in range(1,len(members)+1):\n",
        "  en_sc_t,en_sc_v=eval_n_members(members,i,x_train,y_train,x_val,y_val)\n",
        "  _,single_sc_t=members[i-1].evaluate(x_train,y_train,verbose=0)\n",
        "  _,single_sc_v=members[i-1].evaluate(x_val,y_val,verbose=0)\n",
        "  print('>%d single training = %.3f,ensemble training = %.3f, single validation =%.3f, ensemble validation = %.3f'%(i,single_sc_t,en_sc_t,single_sc_v,en_sc_v))\n",
        "  ens_sc_t.append(en_sc_t)\n",
        "  ens_sc_v.append(en_sc_v)\n",
        "  Single_sc_t.append(single_sc_t)\n",
        "  Single_sc_v.append(single_sc_v)\n"
      ],
      "execution_count": null,
      "outputs": [
        {
          "output_type": "stream",
          "text": [
            ">1 single training = 0.988,ensemble training = 0.988, single validation =0.835, ensemble validation = 0.835\n",
            ">2 single training = 0.979,ensemble training = 0.987, single validation =0.829, ensemble validation = 0.836\n",
            ">3 single training = 0.984,ensemble training = 0.988, single validation =0.840, ensemble validation = 0.838\n",
            ">4 single training = 0.973,ensemble training = 0.987, single validation =0.834, ensemble validation = 0.839\n",
            ">5 single training = 0.965,ensemble training = 0.987, single validation =0.838, ensemble validation = 0.840\n"
          ],
          "name": "stdout"
        }
      ]
    },
    {
      "cell_type": "code",
      "metadata": {
        "id": "dTIR8aHHqduf",
        "colab": {
          "base_uri": "https://localhost:8080/",
          "height": 264
        },
        "outputId": "b680a8ef-41ad-44da-f422-f86ebd572afc"
      },
      "source": [
        "x_axis = [i for i in range(1, len(members)+1)]\n",
        "plt.plot(x_axis, Single_sc_t, marker='o',label='Single Train')\n",
        "plt.plot(x_axis, ens_sc_t, marker='o',label='Ensemble Train')\n",
        "\n",
        "plt.legend()\n",
        "plt.show()\n"
      ],
      "execution_count": null,
      "outputs": [
        {
          "output_type": "display_data",
          "data": {
            "image/png": "[encoded data removed]",
            "text/plain": [
              "<Figure size 432x288 with 1 Axes>"
            ]
          },
          "metadata": {
            "tags": [],
            "needs_background": "light"
          }
        }
      ]
    },
    {
      "cell_type": "code",
      "metadata": {
        "id": "UXMQliujq4NV",
        "colab": {
          "base_uri": "https://localhost:8080/",
          "height": 282
        },
        "outputId": "1d2ce641-2f34-4f53-dc89-9d202daf189d"
      },
      "source": [
        "x_axis = [i for i in range(1, len(members)+1)]\n",
        "plt.plot(x_axis, Single_sc_v, marker='o',label='Single Val')\n",
        "plt.plot(x_axis, ens_sc_v, marker='o',label='Ensemble Val')\n",
        "plt.legend()"
      ],
      "execution_count": null,
      "outputs": [
        {
          "output_type": "execute_result",
          "data": {
            "text/plain": [
              "<matplotlib.legend.Legend at 0x7fa5c9209990>"
            ]
          },
          "metadata": {
            "tags": []
          },
          "execution_count": 137
        },
        {
          "output_type": "display_data",
          "data": {
            "image/png": "[encoded data removed]",
            "text/plain": [
              "<Figure size 432x288 with 1 Axes>"
            ]
          },
          "metadata": {
            "tags": [],
            "needs_background": "light"
          }
        }
      ]
    },
    {
      "cell_type": "markdown",
      "metadata": {
        "id": "qLglLGUOOkM3"
      },
      "source": [
        "- We can see with any weight averaging , i.e holistic weighing , linear weigh decay averaginf , exponential weigh decay averaging, models work well on training but does not generalize well on validation set"
      ]
    },
    {
      "cell_type": "code",
      "metadata": {
        "id": "E73Ju8RxrMTS"
      },
      "source": [
        ""
      ],
      "execution_count": null,
      "outputs": []
    },
    {
      "cell_type": "markdown",
      "metadata": {
        "id": "IU3GUhIblJGQ"
      },
      "source": [
        "# Stacked Model"
      ]
    },
    {
      "cell_type": "code",
      "metadata": {
        "id": "w3sndhm0mCpD"
      },
      "source": [
        "#os.chdir('/content/drive/MyDrive/Projects/')\n",
        "#os.makedirs('Stacked_Model')\n",
        "os.chdir('/content/drive/MyDrive/Projects/Stacked_Model/')"
      ],
      "execution_count": null,
      "outputs": []
    },
    {
      "cell_type": "code",
      "metadata": {
        "id": "1XYYG8CBlMBN"
      },
      "source": [
        "def create_model(x_train,y_train,x_val,y_val):\n",
        "  Model=Sequential()\n",
        "  Model.add(Dense(512,input_shape=(1024,),kernel_initializer='he_normal'))\n",
        "  Model.add(BatchNormalization())\n",
        "  Model.add(Activation('relu'))\n",
        "  Model.add(Dense(256,kernel_initializer='he_normal'))\n",
        "  Model.add(Activation('relu'))\n",
        "  Model.add(Dense(128,kernel_initializer='he_normal'))\n",
        "  Model.add(Activation('relu'))\n",
        "  Model.add(Dense(64,kernel_initializer='he_normal'))\n",
        "  Model.add(Activation('relu'))\n",
        "  Model.add(Dense(32,kernel_initializer='he_normal'))\n",
        "  Model.add(Activation('relu'))\n",
        "  Model.add(Dense(num_class,kernel_initializer='he_normal',activation='softmax'))\n",
        "  optimizer=Adam(learning_rate=1e-5)\n",
        "  Model.compile(loss=categorical_crossentropy,optimizer=optimizer,metrics=['accuracy'])\n",
        "  Model.fit(x_train,y_train,validation_data=(x_val,y_val),epochs=17,batch_size=32,verbose=0)\n",
        "  return Model"
      ],
      "execution_count": null,
      "outputs": []
    },
    {
      "cell_type": "code",
      "metadata": {
        "id": "bvnxvemnmLjj"
      },
      "source": [
        "n_members=10\n",
        "for i in range(n_members):\n",
        "  model=create_model(x_train,y_train,x_val,y_val)\n",
        "  filename='model_'+str(i)+'.h5'\n",
        "  \n",
        "  model.save(filename)"
      ],
      "execution_count": null,
      "outputs": []
    },
    {
      "cell_type": "code",
      "metadata": {
        "id": "gAVSDoKsmnjw"
      },
      "source": [
        "def load_models(n_models):\n",
        "  all_models=list()\n",
        "  for i in range(n_models):\n",
        "    filename='model_'+str(i)+'.h5'\n",
        "    model=load_model(filename)\n",
        "    all_models.append(model)\n",
        "  return all_models"
      ],
      "execution_count": null,
      "outputs": []
    },
    {
      "cell_type": "code",
      "metadata": {
        "id": "335CcVNwnjXW"
      },
      "source": [
        "members=load_models(n_members)"
      ],
      "execution_count": null,
      "outputs": []
    },
    {
      "cell_type": "code",
      "metadata": {
        "colab": {
          "base_uri": "https://localhost:8080/"
        },
        "id": "E56P9WTdogWE",
        "outputId": "f80133e4-fe1c-4ecc-f662-157d0b415430"
      },
      "source": [
        "len(members)"
      ],
      "execution_count": null,
      "outputs": [
        {
          "output_type": "execute_result",
          "data": {
            "text/plain": [
              "10"
            ]
          },
          "metadata": {
            "tags": []
          },
          "execution_count": 20
        }
      ]
    },
    {
      "cell_type": "code",
      "metadata": {
        "colab": {
          "base_uri": "https://localhost:8080/"
        },
        "id": "J98-LBPynn6-",
        "outputId": "45d98d88-8899-4ab5-b443-ca1641c332f2"
      },
      "source": [
        "#Individual Sub Model Accuracy\n",
        "for model in members:\n",
        "  _,tacc=model.evaluate(x_train,y_train,verbose=0)\n",
        "  _,vacc=model.evaluate(x_val,y_val,verbose=0)\n",
        "  print(\"Train Accuracy : %.3f, Validation Accuarcy : %.3f\"%(tacc,vacc))"
      ],
      "execution_count": null,
      "outputs": [
        {
          "output_type": "stream",
          "text": [
            "Train Accuracy : 0.801, Validation Accuarcy : 0.765\n",
            "Train Accuracy : 0.802, Validation Accuarcy : 0.769\n",
            "Train Accuracy : 0.802, Validation Accuarcy : 0.763\n",
            "Train Accuracy : 0.801, Validation Accuarcy : 0.763\n",
            "Train Accuracy : 0.804, Validation Accuarcy : 0.770\n",
            "Train Accuracy : 0.797, Validation Accuarcy : 0.759\n",
            "Train Accuracy : 0.798, Validation Accuarcy : 0.760\n",
            "Train Accuracy : 0.788, Validation Accuarcy : 0.754\n",
            "Train Accuracy : 0.794, Validation Accuarcy : 0.758\n",
            "Train Accuracy : 0.801, Validation Accuarcy : 0.760\n"
          ],
          "name": "stdout"
        }
      ]
    },
    {
      "cell_type": "code",
      "metadata": {
        "id": "yO3GkuxDoGVf"
      },
      "source": [
        "def define_stacked_model(members):\n",
        "  for i in range(len(members)):\n",
        "    model=members[i]\n",
        "    for layer in model.layers:\n",
        "      layer.trainable=False\n",
        "      layer._name='ens_'+str(i)+'_'+layer.name\n",
        "  ens_vis=[model.input for model in members]\n",
        "  ens_op=[model.output for model in members]\n",
        "  merge=concatenate(ens_op)\n",
        "  hid=Dense(64,kernel_initializer='he_normal')(merge)\n",
        "  batch=BatchNormalization()(hid)\n",
        "  act_1=Activation('relu')(batch)\n",
        "  hid_1=Dense(32,activation='relu',kernel_initializer='he_normal')(act_1)\n",
        "  hid_2=Dense(16,activation='relu',kernel_initializer='he_normal')(hid_1)\n",
        "  out=Dense(num_class,activation='softmax',kernel_initializer='he_normal')(hid_2)\n",
        "  model=Model(inputs=ens_vis,outputs=out)\n",
        "  optimizer=Adam(learning_rate=5e-4)\n",
        "  model.compile(loss=categorical_crossentropy,optimizer=optimizer,metrics=['accuracy'])\n",
        "  return model\n",
        "\n",
        "\n"
      ],
      "execution_count": null,
      "outputs": []
    },
    {
      "cell_type": "code",
      "metadata": {
        "id": "9qa4A-C-qV_B"
      },
      "source": [
        "stack_m=define_stacked_model(members)"
      ],
      "execution_count": null,
      "outputs": []
    },
    {
      "cell_type": "code",
      "metadata": {
        "colab": {
          "base_uri": "https://localhost:8080/"
        },
        "id": "io3QWcRnw1nX",
        "outputId": "4cdd8a01-0e8e-4cf1-c94b-11337a9a1cc7"
      },
      "source": [
        "len(stack_m.input)"
      ],
      "execution_count": null,
      "outputs": [
        {
          "output_type": "execute_result",
          "data": {
            "text/plain": [
              "10"
            ]
          },
          "metadata": {
            "tags": []
          },
          "execution_count": 89
        }
      ]
    },
    {
      "cell_type": "code",
      "metadata": {
        "id": "FMRh0d5XqZiS"
      },
      "source": [
        "def fit_model(model,x_train,y_train,x_val,y_val):\n",
        "  tx=[x_train for _ in range(len(model.input))]\n",
        "  txv=[x_val for _ in range(len(model.input))]\n",
        "  history=model.fit(tx,y_train,validation_data=(txv,y_val),epochs=5,batch_size=32,verbose=0)\n",
        "  return history\n"
      ],
      "execution_count": null,
      "outputs": []
    },
    {
      "cell_type": "code",
      "metadata": {
        "id": "SrPl6HEbqyms"
      },
      "source": [
        "history=fit_model(stack_m,x_val,y_val,x_test,y_test)"
      ],
      "execution_count": null,
      "outputs": []
    },
    {
      "cell_type": "code",
      "metadata": {
        "colab": {
          "base_uri": "https://localhost:8080/",
          "height": 531
        },
        "id": "jCypMlBexUYD",
        "outputId": "6e05805d-1dea-42ee-e255-20a5185f360f"
      },
      "source": [
        "history_df = pd.DataFrame(history.history)\n",
        "history_df.loc[:, ['loss', 'val_loss']].plot();\n",
        "print(\"Minimum validation loss: {}\".format(history_df['val_loss'].min()))\n",
        "history_df = pd.DataFrame(history.history)\n",
        "history_df.loc[:, ['accuracy', 'val_accuracy']].plot();\n",
        "#print(\"Minimum validation loss: {}\".format(history_df['val_loss'].min()))"
      ],
      "execution_count": null,
      "outputs": [
        {
          "output_type": "stream",
          "text": [
            "Minimum validation loss: 0.6974653005599976\n"
          ],
          "name": "stdout"
        },
        {
          "output_type": "display_data",
          "data": {
            "image/png": "[encoded data removed]",
            "text/plain": [
              "<Figure size 432x288 with 1 Axes>"
            ]
          },
          "metadata": {
            "tags": [],
            "needs_background": "light"
          }
        },
        {
          "output_type": "display_data",
          "data": {
            "image/png": "[encoded data removed]",
            "text/plain": [
              "<Figure size 432x288 with 1 Axes>"
            ]
          },
          "metadata": {
            "tags": [],
            "needs_background": "light"
          }
        }
      ]
    },
    {
      "cell_type": "code",
      "metadata": {
        "id": "NOowgf-Uq5yR"
      },
      "source": [
        "def pred(model,x_train):\n",
        "  tx=[x_train for _ in range(len(model.input))]\n",
        "  return model.predict(tx,verbose=0)"
      ],
      "execution_count": null,
      "outputs": []
    },
    {
      "cell_type": "code",
      "metadata": {
        "id": "zD2p8757tJLP"
      },
      "source": [
        "ytrain1=y_train1[:30000]\n",
        "yval=y_train1[30000:]"
      ],
      "execution_count": 50,
      "outputs": []
    },
    {
      "cell_type": "code",
      "metadata": {
        "id": "4QuWDlXTr1YV"
      },
      "source": [
        ""
      ],
      "execution_count": null,
      "outputs": []
    },
    {
      "cell_type": "code",
      "metadata": {
        "id": "EwdyhT8Or7yb"
      },
      "source": [
        "yhat=pred(stack_m,x_test)\n",
        "yhat=np.argmax(yhat,axis=1)\n",
        "acc=accuracy_score(y_test1,yhat)\n"
      ],
      "execution_count": null,
      "outputs": []
    },
    {
      "cell_type": "code",
      "metadata": {
        "colab": {
          "base_uri": "https://localhost:8080/"
        },
        "id": "qmA2hozssT0V",
        "outputId": "d39012bf-d3e1-45dc-cae3-b39c4adb5fdc"
      },
      "source": [
        "acc"
      ],
      "execution_count": null,
      "outputs": [
        {
          "output_type": "execute_result",
          "data": {
            "text/plain": [
              "0.7953888888888889"
            ]
          },
          "metadata": {
            "tags": []
          },
          "execution_count": 96
        }
      ]
    },
    {
      "cell_type": "code",
      "metadata": {
        "id": "5zTpEk2jstJ8"
      },
      "source": [
        "yhatv=pred(stack_m,x_val)\n",
        "yhatv=np.argmax(yhatv,axis=1)\n",
        "acc=accuracy_score(yval,yhatv)"
      ],
      "execution_count": null,
      "outputs": []
    },
    {
      "cell_type": "code",
      "metadata": {
        "colab": {
          "base_uri": "https://localhost:8080/"
        },
        "id": "3yUEYZJFtZJb",
        "outputId": "8dba927e-4f1d-46a0-df20-d06e3934408f"
      },
      "source": [
        "acc"
      ],
      "execution_count": null,
      "outputs": [
        {
          "output_type": "execute_result",
          "data": {
            "text/plain": [
              "0.805"
            ]
          },
          "metadata": {
            "tags": []
          },
          "execution_count": 98
        }
      ]
    },
    {
      "cell_type": "markdown",
      "metadata": {
        "id": "TGnVM4lYrpa-"
      },
      "source": [
        "# Horizontal Voting"
      ]
    },
    {
      "cell_type": "code",
      "metadata": {
        "id": "XY3mn5wnt8nE"
      },
      "source": [
        "def create_model():\n",
        "  Model=Sequential()\n",
        "  Model.add(Dense(512,input_shape=(1024,),kernel_initializer='he_normal'))\n",
        "  Model.add(BatchNormalization())\n",
        "  Model.add(Activation('relu'))\n",
        "  Model.add(Dense(256,kernel_initializer='he_normal'))\n",
        "  Model.add(Activation('relu'))\n",
        "  Model.add(Dense(128,kernel_initializer='he_normal'))\n",
        "  Model.add(Activation('relu'))\n",
        "  Model.add(Dense(64,kernel_initializer='he_normal'))\n",
        "  Model.add(Activation('relu'))\n",
        "  Model.add(Dense(32,kernel_initializer='he_normal'))\n",
        "  Model.add(Activation('relu'))\n",
        "  Model.add(Dense(num_class,kernel_initializer='he_normal',activation='softmax'))\n",
        "  optimizer=Adam(learning_rate=1e-5)\n",
        "  Model.compile(loss=categorical_crossentropy,optimizer=optimizer,metrics=['accuracy'])\n",
        "  \n",
        "  return Model"
      ],
      "execution_count": null,
      "outputs": []
    },
    {
      "cell_type": "code",
      "metadata": {
        "id": "ycu59vkAr1f4"
      },
      "source": [
        "os.chdir('/content/drive/MyDrive/Projects/SVHN/')\n",
        "os.makedirs('horizontal_models')\n",
        "os.chdir('/content/drive/MyDrive/Projects/SVHN/horizontal_models/')"
      ],
      "execution_count": null,
      "outputs": []
    },
    {
      "cell_type": "code",
      "metadata": {
        "id": "W19-MnXbsMY1"
      },
      "source": [
        "model=create_model()\n",
        "n_epochs,save_after=100,90\n",
        "for i in range(n_epochs):\n",
        "  model.fit(x_train,y_train,validation_data=(x_val,y_val),epochs=4,batch_size=32,verbose=0)\n",
        "  if i>=save_after:\n",
        "    filename='model_'+str(i)+'.h5'\n",
        "    model.save(filename)\n",
        "  "
      ],
      "execution_count": null,
      "outputs": []
    },
    {
      "cell_type": "code",
      "metadata": {
        "id": "8WjR83GvtF9L"
      },
      "source": [
        "def load(n_start,n_end):\n",
        "  all_models=list()\n",
        "  for epoch in range(n_start,n_end):\n",
        "    filename='model_'+str(epoch)+'.h5'\n",
        "    model=load_model(filename)\n",
        "    all_models.append(model)\n",
        "  return all_models"
      ],
      "execution_count": null,
      "outputs": []
    },
    {
      "cell_type": "code",
      "metadata": {
        "id": "CZjzAlkqvE8H"
      },
      "source": [
        "members=load(90,100)\n",
        "members=list(reversed(members))"
      ],
      "execution_count": null,
      "outputs": []
    },
    {
      "cell_type": "code",
      "metadata": {
        "id": "9uRuWcxuvPvC"
      },
      "source": [
        "def pred(members,data):\n",
        "  yhat=[model.predict(data) for model in members]\n",
        "  yhat=np.array(yhat)\n",
        "  summed=np.sum(yhat,axis=0)\n",
        "  result=np.argmax(summed,axis=1)\n",
        "  return result"
      ],
      "execution_count": null,
      "outputs": []
    },
    {
      "cell_type": "code",
      "metadata": {
        "id": "-DEg6fSrvlIz"
      },
      "source": [
        "yhat=pred(members,x_val)"
      ],
      "execution_count": null,
      "outputs": []
    },
    {
      "cell_type": "code",
      "metadata": {
        "colab": {
          "base_uri": "https://localhost:8080/"
        },
        "id": "UfD7cMFsvtbh",
        "outputId": "94f46766-6ffb-4277-a1fd-fe44b2e3a423"
      },
      "source": [
        "accuracy_score(yval,yhat)"
      ],
      "execution_count": null,
      "outputs": [
        {
          "output_type": "execute_result",
          "data": {
            "text/plain": [
              "0.83775"
            ]
          },
          "metadata": {
            "tags": []
          },
          "execution_count": 143
        }
      ]
    },
    {
      "cell_type": "code",
      "metadata": {
        "id": "nL6VmxK2v14o"
      },
      "source": [
        "yhatt=pred(members,x_test)"
      ],
      "execution_count": null,
      "outputs": []
    },
    {
      "cell_type": "code",
      "metadata": {
        "colab": {
          "base_uri": "https://localhost:8080/"
        },
        "id": "GXw3c-sZv8gS",
        "outputId": "b224ea70-d3c3-4945-d222-8d09abfc1ba3"
      },
      "source": [
        "accuracy_score(y_test1,yhatt)"
      ],
      "execution_count": null,
      "outputs": [
        {
          "output_type": "execute_result",
          "data": {
            "text/plain": [
              "0.8356666666666667"
            ]
          },
          "metadata": {
            "tags": []
          },
          "execution_count": 145
        }
      ]
    },
    {
      "cell_type": "code",
      "metadata": {
        "id": "6Aa5NXfVwEGD"
      },
      "source": [
        "tyahat=pred(members,x_train)"
      ],
      "execution_count": null,
      "outputs": []
    },
    {
      "cell_type": "code",
      "metadata": {
        "colab": {
          "base_uri": "https://localhost:8080/"
        },
        "id": "zGuicmmQwLov",
        "outputId": "824409ce-7295-4757-8124-726858940917"
      },
      "source": [
        "accuracy_score(ytrain1,tyahat)"
      ],
      "execution_count": null,
      "outputs": [
        {
          "output_type": "execute_result",
          "data": {
            "text/plain": [
              "0.9998333333333334"
            ]
          },
          "metadata": {
            "tags": []
          },
          "execution_count": 147
        }
      ]
    },
    {
      "cell_type": "markdown",
      "metadata": {
        "id": "54VyWaqRMIY8"
      },
      "source": [
        "# Snapshot Ensemble"
      ]
    },
    {
      "cell_type": "code",
      "metadata": {
        "colab": {
          "base_uri": "https://localhost:8080/",
          "height": 35
        },
        "id": "HTZf0hYebme7",
        "outputId": "b3b292ad-2908-4ef2-f775-3c75cd448a38"
      },
      "source": [
        "os.getcwd()"
      ],
      "execution_count": 41,
      "outputs": [
        {
          "output_type": "execute_result",
          "data": {
            "application/vnd.google.colaboratory.intrinsic+json": {
              "type": "string"
            },
            "text/plain": [
              "'/content/drive/MyDrive/Projects/SVHN/SnapshotLearning'"
            ]
          },
          "metadata": {
            "tags": []
          },
          "execution_count": 41
        }
      ]
    },
    {
      "cell_type": "code",
      "metadata": {
        "id": "AWdMaBg0bqL2"
      },
      "source": [
        "os.chdir('/content/drive/MyDrive/Projects/SVHN/SnapshotLearning/')"
      ],
      "execution_count": 40,
      "outputs": []
    },
    {
      "cell_type": "code",
      "metadata": {
        "id": "OKTBYkroMNfC"
      },
      "source": [
        "class SnapshotEnsemble(Callback):\n",
        "  def __init__(self, n_epochs,n_cycles,lrate_max,verbose=0):\n",
        "    self.epochs = n_epochs\n",
        "    self.cycles = n_cycles\n",
        "    self.lr_max =lrate_max\n",
        "    self.lrates=list()\n",
        "  def cosine_annealing(self,epoch,n_epochs,n_cycles,lrate_max):\n",
        "    epochs_per_cycle = floor(n_epochs / n_cycles)\n",
        "    cos_inner=(pi * (epoch % epochs_per_cycle))/(epochs_per_cycle)\n",
        "    return (lrate_max/2)*(cos(cos_inner)+1)\n",
        "  def on_epoch_begin(self,epoch,log={}):\n",
        "    lr=self.cosine_annealing(epoch,self.epochs,self.cycles,self.lr_max)\n",
        "    backend.set_value(self.model.optimizer.lr,lr)\n",
        "    self.lrates.append(lr)\n",
        "  def on_epoch_end(self,epochs,logs={}):\n",
        "    epochs_per_cycle=floor(self.epochs/self.cycles)\n",
        "    if epochs!=0 and (epochs + 1) == 0:\n",
        "      f='sm_%d.h5'%int((epoch+1)/epochs_per_cycle)\n",
        "      self.model.save(f)\n",
        "      print('>saved %s , epochs %d' %(f,epochs))\n",
        "\n"
      ],
      "execution_count": 42,
      "outputs": []
    },
    {
      "cell_type": "code",
      "metadata": {
        "id": "k2aqPesycKHA"
      },
      "source": [
        "class SnapshotEnsemble(Callback):\n",
        "\t# constructor\n",
        "\tdef __init__(self, n_epochs, n_cycles, lrate_max, verbose=0):\n",
        "\t\tself.epochs = n_epochs\n",
        "\t\tself.cycles = n_cycles\n",
        "\t\tself.lr_max = lrate_max\n",
        "\t\tself.lrates = list()\n",
        " \n",
        "\t# calculate learning rate for epoch\n",
        "\tdef cosine_annealing(self, epoch, n_epochs, n_cycles, lrate_max):\n",
        "\t\tepochs_per_cycle = floor(n_epochs/n_cycles)\n",
        "\t\tcos_inner = (pi * (epoch % epochs_per_cycle)) / (epochs_per_cycle)\n",
        "\t\treturn lrate_max/2 * (cos(cos_inner) + 1)\n",
        " \n",
        "\t# calculate and set learning rate at the start of the epoch\n",
        "\tdef on_epoch_begin(self, epoch, logs={}):\n",
        "\t\t# calculate learning rate\n",
        "\t\tlr = self.cosine_annealing(epoch, self.epochs, self.cycles, self.lr_max)\n",
        "\t\t# set learning rate\n",
        "\t\tbackend.set_value(self.model.optimizer.lr, lr)\n",
        "\t\t# log value\n",
        "\t\tself.lrates.append(lr)\n",
        " \n",
        "\t# save models at the end of each cycle\n",
        "\tdef on_epoch_end(self, epoch, logs={}):\n",
        "\t\t# check if we can save model\n",
        "\t\tepochs_per_cycle = floor(self.epochs / self.cycles)\n",
        "\t\tif epoch != 0 and (epoch + 1) % epochs_per_cycle == 0:\n",
        "\t\t\t# save model to file\n",
        "\t\t\tfilename = \"snapshot_model_%d.h5\" % int((epoch + 1) / epochs_per_cycle)\n",
        "\t\t\tself.model.save(filename)\n",
        "\t\t\tprint('>saved snapshot %s, epoch %d' % (filename, epoch))"
      ],
      "execution_count": 43,
      "outputs": []
    },
    {
      "cell_type": "code",
      "metadata": {
        "id": "6Z3c0xD9Qg1D"
      },
      "source": [
        "def create_model():\n",
        "  Model=Sequential()\n",
        "  Model.add(Dense(512,input_shape=(1024,),kernel_initializer='he_normal'))\n",
        "  Model.add(BatchNormalization())\n",
        "  Model.add(Activation('relu'))\n",
        "  Model.add(Dense(256,kernel_initializer='he_normal'))\n",
        "  Model.add(Activation('relu'))\n",
        "  Model.add(Dense(128,kernel_initializer='he_normal'))\n",
        "  Model.add(Activation('relu'))\n",
        "  Model.add(Dense(64,kernel_initializer='he_normal'))\n",
        "  Model.add(Activation('relu'))\n",
        "  Model.add(Dense(32,kernel_initializer='he_normal'))\n",
        "  Model.add(Activation('relu'))\n",
        "  Model.add(Dense(num_class,kernel_initializer='he_normal',activation='softmax'))\n",
        "  optimizer=Adam()\n",
        "  Model.compile(loss=categorical_crossentropy,optimizer=optimizer,metrics=['accuracy'])\n",
        "  \n",
        "  return Model"
      ],
      "execution_count": 44,
      "outputs": []
    },
    {
      "cell_type": "code",
      "metadata": {
        "colab": {
          "base_uri": "https://localhost:8080/"
        },
        "id": "HLr1bm02QtMg",
        "outputId": "95bb97e9-ea4a-44b7-a5d2-46e3099d3729"
      },
      "source": [
        "model=create_model()\n",
        "n_epochs=500\n",
        "n_cycles=50\n",
        "ca=SnapshotEnsemble(n_epochs=n_epochs,n_cycles=n_cycles,lrate_max=1e-5)\n",
        "model.fit(x_train,y_train,validation_data=(x_val,y_val),epochs=n_epochs,batch_size=32,verbose=0,callbacks=[ca])\n"
      ],
      "execution_count": 53,
      "outputs": [
        {
          "output_type": "stream",
          "text": [
            ">saved snapshot snapshot_model_1.h5, epoch 9\n",
            ">saved snapshot snapshot_model_2.h5, epoch 19\n",
            ">saved snapshot snapshot_model_3.h5, epoch 29\n",
            ">saved snapshot snapshot_model_4.h5, epoch 39\n",
            ">saved snapshot snapshot_model_5.h5, epoch 49\n",
            ">saved snapshot snapshot_model_6.h5, epoch 59\n",
            ">saved snapshot snapshot_model_7.h5, epoch 69\n",
            ">saved snapshot snapshot_model_8.h5, epoch 79\n",
            ">saved snapshot snapshot_model_9.h5, epoch 89\n",
            ">saved snapshot snapshot_model_10.h5, epoch 99\n",
            ">saved snapshot snapshot_model_11.h5, epoch 109\n",
            ">saved snapshot snapshot_model_12.h5, epoch 119\n",
            ">saved snapshot snapshot_model_13.h5, epoch 129\n",
            ">saved snapshot snapshot_model_14.h5, epoch 139\n",
            ">saved snapshot snapshot_model_15.h5, epoch 149\n",
            ">saved snapshot snapshot_model_16.h5, epoch 159\n",
            ">saved snapshot snapshot_model_17.h5, epoch 169\n",
            ">saved snapshot snapshot_model_18.h5, epoch 179\n",
            ">saved snapshot snapshot_model_19.h5, epoch 189\n",
            ">saved snapshot snapshot_model_20.h5, epoch 199\n",
            ">saved snapshot snapshot_model_21.h5, epoch 209\n",
            ">saved snapshot snapshot_model_22.h5, epoch 219\n",
            ">saved snapshot snapshot_model_23.h5, epoch 229\n",
            ">saved snapshot snapshot_model_24.h5, epoch 239\n",
            ">saved snapshot snapshot_model_25.h5, epoch 249\n",
            ">saved snapshot snapshot_model_26.h5, epoch 259\n",
            ">saved snapshot snapshot_model_27.h5, epoch 269\n",
            ">saved snapshot snapshot_model_28.h5, epoch 279\n",
            ">saved snapshot snapshot_model_29.h5, epoch 289\n",
            ">saved snapshot snapshot_model_30.h5, epoch 299\n",
            ">saved snapshot snapshot_model_31.h5, epoch 309\n",
            ">saved snapshot snapshot_model_32.h5, epoch 319\n",
            ">saved snapshot snapshot_model_33.h5, epoch 329\n",
            ">saved snapshot snapshot_model_34.h5, epoch 339\n",
            ">saved snapshot snapshot_model_35.h5, epoch 349\n",
            ">saved snapshot snapshot_model_36.h5, epoch 359\n",
            ">saved snapshot snapshot_model_37.h5, epoch 369\n",
            ">saved snapshot snapshot_model_38.h5, epoch 379\n",
            ">saved snapshot snapshot_model_39.h5, epoch 389\n",
            ">saved snapshot snapshot_model_40.h5, epoch 399\n",
            ">saved snapshot snapshot_model_41.h5, epoch 409\n",
            ">saved snapshot snapshot_model_42.h5, epoch 419\n",
            ">saved snapshot snapshot_model_43.h5, epoch 429\n",
            ">saved snapshot snapshot_model_44.h5, epoch 439\n",
            ">saved snapshot snapshot_model_45.h5, epoch 449\n",
            ">saved snapshot snapshot_model_46.h5, epoch 459\n",
            ">saved snapshot snapshot_model_47.h5, epoch 469\n",
            ">saved snapshot snapshot_model_48.h5, epoch 479\n",
            ">saved snapshot snapshot_model_49.h5, epoch 489\n",
            ">saved snapshot snapshot_model_50.h5, epoch 499\n"
          ],
          "name": "stdout"
        },
        {
          "output_type": "execute_result",
          "data": {
            "text/plain": [
              "<tensorflow.python.keras.callbacks.History at 0x7fc9a23db890>"
            ]
          },
          "metadata": {
            "tags": []
          },
          "execution_count": 53
        }
      ]
    },
    {
      "cell_type": "code",
      "metadata": {
        "id": "58eD_bZ9Zs9n"
      },
      "source": [
        "def load_all_models(n_models):\n",
        "\tall_models = list()\n",
        "\tfor i in range(n_models,50,1):\n",
        "\t\t# define filename for this ensemble\n",
        "\t\tfilename = 'snapshot_model_' + str(i + 1) + '.h5'\n",
        "\t\t# load model from file\n",
        "\t\tmodel = load_model(filename)\n",
        "\t\t# add to list of members\n",
        "\t\tall_models.append(model)\n",
        "\t\tprint('>loaded %s' % filename)\n",
        "  \n",
        "\treturn all_models"
      ],
      "execution_count": 63,
      "outputs": []
    },
    {
      "cell_type": "code",
      "metadata": {
        "id": "kqgREPVnZ4v_"
      },
      "source": [
        "def pred(members,x):\n",
        "  members=list(reversed(members))\n",
        "  yhat=[model.predict(x) for model in members]\n",
        "  yhat=np.array(yhat)\n",
        "  summed=np.sum(yhat,axis=0)\n",
        "  result=np.argmax(summed,axis=1)\n",
        "  return result"
      ],
      "execution_count": 47,
      "outputs": []
    },
    {
      "cell_type": "code",
      "metadata": {
        "id": "oMEYzO-Zamib"
      },
      "source": [
        "def eval_n_members(members,n_members,x,y):\n",
        "  members=list(reversed(members))\n",
        "  sub=members[:n_members]\n",
        "  yhat=pred(sub,x)\n",
        "  return accuracy_score(y,yhat)"
      ],
      "execution_count": 48,
      "outputs": []
    },
    {
      "cell_type": "code",
      "metadata": {
        "colab": {
          "base_uri": "https://localhost:8080/"
        },
        "id": "QVJ8WiEZa6gr",
        "outputId": "bb623b11-04f8-4dd6-d5e5-c2d922cba590"
      },
      "source": [
        "members=load_all_models(10)"
      ],
      "execution_count": 64,
      "outputs": [
        {
          "output_type": "stream",
          "text": [
            ">loaded snapshot_model_11.h5\n",
            ">loaded snapshot_model_12.h5\n",
            ">loaded snapshot_model_13.h5\n",
            ">loaded snapshot_model_14.h5\n",
            ">loaded snapshot_model_15.h5\n",
            ">loaded snapshot_model_16.h5\n",
            ">loaded snapshot_model_17.h5\n",
            ">loaded snapshot_model_18.h5\n",
            ">loaded snapshot_model_19.h5\n",
            ">loaded snapshot_model_20.h5\n",
            ">loaded snapshot_model_21.h5\n",
            ">loaded snapshot_model_22.h5\n",
            ">loaded snapshot_model_23.h5\n",
            ">loaded snapshot_model_24.h5\n",
            ">loaded snapshot_model_25.h5\n",
            ">loaded snapshot_model_26.h5\n",
            ">loaded snapshot_model_27.h5\n",
            ">loaded snapshot_model_28.h5\n",
            ">loaded snapshot_model_29.h5\n",
            ">loaded snapshot_model_30.h5\n",
            ">loaded snapshot_model_31.h5\n",
            ">loaded snapshot_model_32.h5\n",
            ">loaded snapshot_model_33.h5\n",
            ">loaded snapshot_model_34.h5\n",
            ">loaded snapshot_model_35.h5\n",
            ">loaded snapshot_model_36.h5\n",
            ">loaded snapshot_model_37.h5\n",
            ">loaded snapshot_model_38.h5\n",
            ">loaded snapshot_model_39.h5\n",
            ">loaded snapshot_model_40.h5\n",
            ">loaded snapshot_model_41.h5\n",
            ">loaded snapshot_model_42.h5\n",
            ">loaded snapshot_model_43.h5\n",
            ">loaded snapshot_model_44.h5\n",
            ">loaded snapshot_model_45.h5\n",
            ">loaded snapshot_model_46.h5\n",
            ">loaded snapshot_model_47.h5\n",
            ">loaded snapshot_model_48.h5\n",
            ">loaded snapshot_model_49.h5\n",
            ">loaded snapshot_model_50.h5\n"
          ],
          "name": "stdout"
        }
      ]
    },
    {
      "cell_type": "code",
      "metadata": {
        "colab": {
          "base_uri": "https://localhost:8080/"
        },
        "id": "lIU476q9bAR_",
        "outputId": "e61f267b-bc9f-4ff4-e29a-71de958c46a6"
      },
      "source": [
        "single_scores, ensemble_scores = list(), list()\n",
        "for i in range(1, 10):\n",
        "\t# evaluate model with i members\n",
        "\tensemble_score = eval_n_members(members, i, x_train, ytrain1)\n",
        "\t# evaluate the i'th model standalone\n",
        "\t\n",
        "\t_, single_score = members[i-1].evaluate(x_train, y_train, verbose=0)\n",
        "\t# summarize this step\n",
        "\tprint('> %d: single=%.3f, ensemble=%.3f' % (i, single_score, ensemble_score))\n",
        "\tensemble_scores.append(ensemble_score)\n",
        "\tsingle_scores.append(single_score)"
      ],
      "execution_count": 66,
      "outputs": [
        {
          "output_type": "stream",
          "text": [
            "> 1: single=0.930, ensemble=0.999\n",
            "> 2: single=0.938, ensemble=0.999\n",
            "> 3: single=0.945, ensemble=0.999\n",
            "> 4: single=0.952, ensemble=0.999\n",
            "> 5: single=0.958, ensemble=0.999\n",
            "> 6: single=0.963, ensemble=0.999\n",
            "> 7: single=0.968, ensemble=0.999\n",
            "> 8: single=0.971, ensemble=0.999\n",
            "> 9: single=0.975, ensemble=0.999\n"
          ],
          "name": "stdout"
        }
      ]
    },
    {
      "cell_type": "code",
      "metadata": {
        "colab": {
          "base_uri": "https://localhost:8080/"
        },
        "id": "ntAOg6C3qs18",
        "outputId": "1192249a-601b-43f3-8561-d5bc70b0a7b9"
      },
      "source": [
        "single_scores, ensemble_scores = list(), list()\n",
        "for i in range(1, 10):\n",
        "\t# evaluate model with i members\n",
        "\tensemble_score = eval_n_members(members, i, x_val, yval)\n",
        "\t# evaluate the i'th model standalone\n",
        "\t\n",
        "\t_, single_score = members[i-1].evaluate(x_val, y_val, verbose=0)\n",
        "\t# summarize this step\n",
        "\tprint('> %d: single=%.3f, ensemble=%.3f' % (i, single_score, ensemble_score))\n",
        "\tensemble_scores.append(ensemble_score)\n",
        "\tsingle_scores.append(single_score)"
      ],
      "execution_count": 67,
      "outputs": [
        {
          "output_type": "stream",
          "text": [
            "> 1: single=0.833, ensemble=0.839\n",
            "> 2: single=0.836, ensemble=0.840\n",
            "> 3: single=0.836, ensemble=0.839\n",
            "> 4: single=0.838, ensemble=0.839\n",
            "> 5: single=0.838, ensemble=0.839\n",
            "> 6: single=0.840, ensemble=0.839\n",
            "> 7: single=0.839, ensemble=0.839\n",
            "> 8: single=0.840, ensemble=0.839\n",
            "> 9: single=0.839, ensemble=0.839\n"
          ],
          "name": "stdout"
        }
      ]
    },
    {
      "cell_type": "markdown",
      "metadata": {
        "id": "JDl1kKlT6CxP"
      },
      "source": [
        "# Summary B"
      ]
    },
    {
      "cell_type": "markdown",
      "metadata": {
        "id": "hx5mZt2s6GY2"
      },
      "source": [
        "- We tried different types of ensembling methods for neural network , where in we found out only stacked neural network has given us the best generalization , others like horizontal or weight average or snapshot ensemble have issue of overfitting "
      ]
    },
    {
      "cell_type": "code",
      "metadata": {
        "id": "K_oCcVomwSEk"
      },
      "source": [
        ""
      ],
      "execution_count": null,
      "outputs": []
    }
  ]
}