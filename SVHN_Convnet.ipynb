{
  "nbformat": 4,
  "nbformat_minor": 0,
  "metadata": {
    "accelerator": "GPU",
    "colab": {
      "name": "SVHN-Convnet.ipynb",
      "provenance": [],
      "mount_file_id": "1c2YcqJeZ2BA8_RJRlJcmQ09DRUFOq0qm",
      "authorship_tag": "ABX9TyPUVnw5/0KOF+FqfOFurETX",
      "include_colab_link": true
    },
    "kernelspec": {
      "display_name": "Python 3",
      "name": "python3"
    },
    "language_info": {
      "name": "python"
    }
  },
  "cells": [
    {
      "cell_type": "markdown",
      "metadata": {
        "id": "view-in-github",
        "colab_type": "text"
      },
      "source": [
        "<a href=\"https://colab.research.google.com/github/RiseAboveAll/SVHN/blob/main/SVHN_Convnet.ipynb\" target=\"_parent\"><img src=\"https://colab.research.google.com/assets/colab-badge.svg\" alt=\"Open In Colab\"/></a>"
      ]
    },
    {
      "cell_type": "markdown",
      "metadata": {
        "id": "Lfxei25Ngaq0"
      },
      "source": [
        "# Load Libraries"
      ]
    },
    {
      "cell_type": "code",
      "metadata": {
        "id": "vpW8JPNYf1ik"
      },
      "source": [
        "import h5py\n",
        "import numpy as np\n",
        "import matplotlib.pyplot as plt\n",
        "from sklearn.preprocessing import StandardScaler, Normalizer\n",
        "from sklearn.metrics import accuracy_score\n",
        "from sklearn.model_selection import train_test_split\n",
        "import pandas as pd\n",
        "import os\n",
        "import datetime\n",
        "import matplotlib.pyplot as plt"
      ],
      "execution_count": 1,
      "outputs": []
    },
    {
      "cell_type": "code",
      "metadata": {
        "id": "lY5CtVD-gBbN"
      },
      "source": [
        "from tensorflow.keras.models import load_model, clone_model, Model\n",
        "from tensorflow.keras.layers import Input\n",
        "from tensorflow.keras.layers import concatenate\n",
        "import tensorflow as tf\n",
        "from tensorflow.keras.layers import Activation,Dense,BatchNormalization,Dropout,Conv2D,MaxPooling2D,Flatten,concatenate,add,Add,Concatenate,AveragePooling2D\n",
        "from tensorflow.keras import Sequential\n",
        "from tensorflow.keras.utils import to_categorical\n",
        "from tensorflow.keras.optimizers import Adagrad,Adam,SGD,RMSprop,Adamax\n",
        "from tensorflow.keras.callbacks import EarlyStopping,TensorBoard,Callback,LearningRateScheduler,ModelCheckpoint\n",
        "from math import pi, cos, floor\n",
        "from tensorflow.keras.losses import categorical_crossentropy, sparse_categorical_crossentropy\n",
        "from tensorflow.keras import backend\n",
        "from tensorflow.keras.preprocessing.image import ImageDataGenerator"
      ],
      "execution_count": 2,
      "outputs": []
    },
    {
      "cell_type": "code",
      "metadata": {
        "id": "8Hs2z7-U5xrc"
      },
      "source": [
        "tf.keras.backend.clear_session()"
      ],
      "execution_count": 3,
      "outputs": []
    },
    {
      "cell_type": "markdown",
      "metadata": {
        "id": "GMLN1QT_gdtz"
      },
      "source": [
        "# Load Data"
      ]
    },
    {
      "cell_type": "code",
      "metadata": {
        "id": "zYnrTqTugf8W"
      },
      "source": [
        "hf=h5py.File('/content/drive/MyDrive/Projects/SVHN/SVHN_single_grey1.h5','r')\n",
        "X_train = hf['X_train'][:]\n",
        "y_train1 = hf['y_train'][:]\n",
        "X_test = hf['X_test'][:]\n",
        "y_test1 = hf['y_test'][:]\n",
        "# Close this file\n",
        "hf.close()"
      ],
      "execution_count": 4,
      "outputs": []
    },
    {
      "cell_type": "code",
      "metadata": {
        "colab": {
          "base_uri": "https://localhost:8080/"
        },
        "id": "gHe4Y6dlgk8P",
        "outputId": "0cd25389-7141-4665-aed9-a8072768513b"
      },
      "source": [
        "X_train.shape"
      ],
      "execution_count": 5,
      "outputs": [
        {
          "output_type": "execute_result",
          "data": {
            "text/plain": [
              "(42000, 32, 32)"
            ]
          },
          "metadata": {
            "tags": []
          },
          "execution_count": 5
        }
      ]
    },
    {
      "cell_type": "markdown",
      "metadata": {
        "id": "MQ1YH9eUgtSd"
      },
      "source": [
        "# Reshape Data\n"
      ]
    },
    {
      "cell_type": "code",
      "metadata": {
        "id": "oRqIiM7cgvG5"
      },
      "source": [
        "img_rows,img_cols,num_channels=32,32,1\n",
        "X_train=X_train.reshape(X_train.shape[0],img_rows,img_cols,num_channels)\n",
        "X_test=X_test.reshape(X_test.shape[0],img_rows,img_cols,num_channels)"
      ],
      "execution_count": 6,
      "outputs": []
    },
    {
      "cell_type": "markdown",
      "metadata": {
        "id": "8FXDCmyGheco"
      },
      "source": [
        "# One-Hot Target Variable"
      ]
    },
    {
      "cell_type": "code",
      "metadata": {
        "id": "-dwgqzpshFV7"
      },
      "source": [
        "y_train=to_categorical(y_train1)\n",
        "y_test=to_categorical(y_test1)"
      ],
      "execution_count": 7,
      "outputs": []
    },
    {
      "cell_type": "markdown",
      "metadata": {
        "id": "5J7qEUniiGPJ"
      },
      "source": [
        "# Normalize Data"
      ]
    },
    {
      "cell_type": "code",
      "metadata": {
        "id": "u0yivMe0iHy5"
      },
      "source": [
        "X_train=X_train.astype('float32')\n",
        "X_test=X_test.astype('float32')"
      ],
      "execution_count": 8,
      "outputs": []
    },
    {
      "cell_type": "code",
      "metadata": {
        "id": "IFOKyh9PipP6"
      },
      "source": [
        "X_train/=255.0\n",
        "X_test/=255.0"
      ],
      "execution_count": 9,
      "outputs": []
    },
    {
      "cell_type": "markdown",
      "metadata": {
        "id": "7xE8TQoej8LW"
      },
      "source": [
        "# Split Data"
      ]
    },
    {
      "cell_type": "code",
      "metadata": {
        "colab": {
          "base_uri": "https://localhost:8080/"
        },
        "id": "Mot9WmUpkP-Y",
        "outputId": "3cd28aed-dbbe-4824-8abe-c4411c9dd078"
      },
      "source": [
        "X_train.shape"
      ],
      "execution_count": 10,
      "outputs": [
        {
          "output_type": "execute_result",
          "data": {
            "text/plain": [
              "(42000, 32, 32, 1)"
            ]
          },
          "metadata": {
            "tags": []
          },
          "execution_count": 10
        }
      ]
    },
    {
      "cell_type": "code",
      "metadata": {
        "id": "8BX8Skq1j95I"
      },
      "source": [
        "x_train=X_train[:30000]\n",
        "x_val=X_train[30000:]\n",
        "Y_train=y_train[:30000]\n",
        "Y_val=y_train[30000:]"
      ],
      "execution_count": 11,
      "outputs": []
    },
    {
      "cell_type": "markdown",
      "metadata": {
        "id": "F5nk2yVwi0X1"
      },
      "source": [
        "# Define Input Shape"
      ]
    },
    {
      "cell_type": "code",
      "metadata": {
        "id": "7KopZbhIi2cc"
      },
      "source": [
        "input_shape=(img_rows,img_cols,num_channels)\n",
        "num_classes=Y_train.shape[1]"
      ],
      "execution_count": 12,
      "outputs": []
    },
    {
      "cell_type": "code",
      "metadata": {
        "colab": {
          "base_uri": "https://localhost:8080/"
        },
        "id": "UdlJ-68Wr-qR",
        "outputId": "88563d52-b10b-446a-b92e-652d095373a0"
      },
      "source": [
        "num_classes"
      ],
      "execution_count": 13,
      "outputs": [
        {
          "output_type": "execute_result",
          "data": {
            "text/plain": [
              "10"
            ]
          },
          "metadata": {
            "tags": []
          },
          "execution_count": 13
        }
      ]
    },
    {
      "cell_type": "markdown",
      "metadata": {
        "id": "kMTH5cMf1B9C"
      },
      "source": [
        "# Model 1A - Following LeNet Architecture (Modified)\n",
        "\n",
        "- Instead of 5X5 kernel filters , used 3X3 \n",
        "\n",
        "- Used only Single Dense Layer"
      ]
    },
    {
      "cell_type": "code",
      "metadata": {
        "id": "QR2mRvamjExY"
      },
      "source": [
        "input_layer=Input(shape=input_shape)\n",
        "conv_layer_1=Conv2D(8,kernel_size=(3,3),padding='same')(input_layer)\n",
        "pool_layer_1=MaxPooling2D(pool_size=(2,2),strides=2)(conv_layer_1)\n",
        "conv_layer_2=Conv2D(16,kernel_size=(3,3),padding='same',activation='relu')(pool_layer_1)\n",
        "pool_layer_2=MaxPooling2D(pool_size=(2,2),strides=2)(conv_layer_2)\n",
        "conv_layer_3=Conv2D(32,kernel_size=(3,3),padding='same',activation='relu')(pool_layer_2)\n",
        "pool_layer_3=MaxPooling2D(pool_size=(2,2),strides=2)(conv_layer_3)\n",
        "flat_1=Flatten()(pool_layer_3)\n",
        "hidden_layer_1=Dense(1024,kernel_initializer='he_uniform',activation='relu')(flat_1)\n",
        "output=Dense(num_classes,kernel_initializer='he_uniform',activation='softmax')(hidden_layer_1)\n",
        "model=Model(inputs=input_layer,outputs=output)"
      ],
      "execution_count": null,
      "outputs": []
    },
    {
      "cell_type": "code",
      "metadata": {
        "colab": {
          "base_uri": "https://localhost:8080/"
        },
        "id": "v5pAAz5V1N64",
        "outputId": "4a82fd75-6482-401c-b4ec-964a99dd89a8"
      },
      "source": [
        "model.summary()"
      ],
      "execution_count": null,
      "outputs": [
        {
          "output_type": "stream",
          "text": [
            "Model: \"model_3\"\n",
            "_________________________________________________________________\n",
            "Layer (type)                 Output Shape              Param #   \n",
            "=================================================================\n",
            "input_4 (InputLayer)         [(None, 32, 32, 1)]       0         \n",
            "_________________________________________________________________\n",
            "conv2d_9 (Conv2D)            (None, 32, 32, 8)         80        \n",
            "_________________________________________________________________\n",
            "max_pooling2d_9 (MaxPooling2 (None, 16, 16, 8)         0         \n",
            "_________________________________________________________________\n",
            "conv2d_10 (Conv2D)           (None, 16, 16, 16)        1168      \n",
            "_________________________________________________________________\n",
            "max_pooling2d_10 (MaxPooling (None, 8, 8, 16)          0         \n",
            "_________________________________________________________________\n",
            "conv2d_11 (Conv2D)           (None, 8, 8, 32)          4640      \n",
            "_________________________________________________________________\n",
            "max_pooling2d_11 (MaxPooling (None, 4, 4, 32)          0         \n",
            "_________________________________________________________________\n",
            "flatten_3 (Flatten)          (None, 512)               0         \n",
            "_________________________________________________________________\n",
            "dense_6 (Dense)              (None, 1024)              525312    \n",
            "_________________________________________________________________\n",
            "dense_7 (Dense)              (None, 10)                10250     \n",
            "=================================================================\n",
            "Total params: 541,450\n",
            "Trainable params: 541,450\n",
            "Non-trainable params: 0\n",
            "_________________________________________________________________\n"
          ],
          "name": "stdout"
        }
      ]
    },
    {
      "cell_type": "code",
      "metadata": {
        "colab": {
          "base_uri": "https://localhost:8080/"
        },
        "id": "XFj4eGHs1RGu",
        "outputId": "7d9a3b3b-d53c-4a47-cf92-83fc7cb9a21b"
      },
      "source": [
        "optimizer=Adam(learning_rate=1e-5)\n",
        "model.compile(loss=categorical_crossentropy,optimizer=optimizer,metrics=['accuracy'])\n",
        "history=model.fit(x_train,Y_train,validation_data=(x_val,Y_val),epochs=100,batch_size=32,verbose=1)"
      ],
      "execution_count": null,
      "outputs": [
        {
          "output_type": "stream",
          "text": [
            "Epoch 1/100\n",
            "938/938 [==============================] - 7s 7ms/step - loss: 2.3015 - accuracy: 0.1098 - val_loss: 2.2945 - val_accuracy: 0.1507\n",
            "Epoch 2/100\n",
            "938/938 [==============================] - 6s 6ms/step - loss: 2.2896 - accuracy: 0.1643 - val_loss: 2.2758 - val_accuracy: 0.2393\n",
            "Epoch 3/100\n",
            "938/938 [==============================] - 6s 6ms/step - loss: 2.2707 - accuracy: 0.2400 - val_loss: 2.2549 - val_accuracy: 0.2111\n",
            "Epoch 4/100\n",
            "938/938 [==============================] - 6s 6ms/step - loss: 2.2453 - accuracy: 0.2853 - val_loss: 2.2241 - val_accuracy: 0.2942\n",
            "Epoch 5/100\n",
            "938/938 [==============================] - 6s 6ms/step - loss: 2.2118 - accuracy: 0.3458 - val_loss: 2.1793 - val_accuracy: 0.3559\n",
            "Epoch 6/100\n",
            "938/938 [==============================] - 6s 6ms/step - loss: 2.1638 - accuracy: 0.3809 - val_loss: 2.1231 - val_accuracy: 0.4032\n",
            "Epoch 7/100\n",
            "938/938 [==============================] - 6s 6ms/step - loss: 2.1072 - accuracy: 0.4178 - val_loss: 2.0588 - val_accuracy: 0.4316\n",
            "Epoch 8/100\n",
            "938/938 [==============================] - 6s 6ms/step - loss: 2.0400 - accuracy: 0.4569 - val_loss: 1.9819 - val_accuracy: 0.4703\n",
            "Epoch 9/100\n",
            "938/938 [==============================] - 6s 6ms/step - loss: 1.9650 - accuracy: 0.4825 - val_loss: 1.9032 - val_accuracy: 0.5139\n",
            "Epoch 10/100\n",
            "938/938 [==============================] - 6s 6ms/step - loss: 1.8846 - accuracy: 0.5124 - val_loss: 1.8256 - val_accuracy: 0.5136\n",
            "Epoch 11/100\n",
            "938/938 [==============================] - 6s 6ms/step - loss: 1.8076 - accuracy: 0.5309 - val_loss: 1.7436 - val_accuracy: 0.5580\n",
            "Epoch 12/100\n",
            "938/938 [==============================] - 6s 6ms/step - loss: 1.7275 - accuracy: 0.5541 - val_loss: 1.6669 - val_accuracy: 0.5621\n",
            "Epoch 13/100\n",
            "938/938 [==============================] - 6s 6ms/step - loss: 1.6545 - accuracy: 0.5643 - val_loss: 1.5928 - val_accuracy: 0.5798\n",
            "Epoch 14/100\n",
            "938/938 [==============================] - 6s 6ms/step - loss: 1.5814 - accuracy: 0.5857 - val_loss: 1.5270 - val_accuracy: 0.5927\n",
            "Epoch 15/100\n",
            "938/938 [==============================] - 6s 6ms/step - loss: 1.5145 - accuracy: 0.5987 - val_loss: 1.4650 - val_accuracy: 0.6105\n",
            "Epoch 16/100\n",
            "938/938 [==============================] - 6s 6ms/step - loss: 1.4558 - accuracy: 0.6132 - val_loss: 1.4086 - val_accuracy: 0.6274\n",
            "Epoch 17/100\n",
            "938/938 [==============================] - 6s 6ms/step - loss: 1.3953 - accuracy: 0.6300 - val_loss: 1.3578 - val_accuracy: 0.6324\n",
            "Epoch 18/100\n",
            "938/938 [==============================] - 6s 6ms/step - loss: 1.3457 - accuracy: 0.6367 - val_loss: 1.3072 - val_accuracy: 0.6471\n",
            "Epoch 19/100\n",
            "938/938 [==============================] - 6s 6ms/step - loss: 1.2991 - accuracy: 0.6506 - val_loss: 1.2661 - val_accuracy: 0.6569\n",
            "Epoch 20/100\n",
            "938/938 [==============================] - 6s 6ms/step - loss: 1.2601 - accuracy: 0.6560 - val_loss: 1.2323 - val_accuracy: 0.6553\n",
            "Epoch 21/100\n",
            "938/938 [==============================] - 6s 6ms/step - loss: 1.2259 - accuracy: 0.6652 - val_loss: 1.1906 - val_accuracy: 0.6760\n",
            "Epoch 22/100\n",
            "938/938 [==============================] - 6s 6ms/step - loss: 1.1874 - accuracy: 0.6742 - val_loss: 1.1588 - val_accuracy: 0.6847\n",
            "Epoch 23/100\n",
            "938/938 [==============================] - 6s 6ms/step - loss: 1.1601 - accuracy: 0.6810 - val_loss: 1.1293 - val_accuracy: 0.6916\n",
            "Epoch 24/100\n",
            "938/938 [==============================] - 6s 6ms/step - loss: 1.1206 - accuracy: 0.6881 - val_loss: 1.1019 - val_accuracy: 0.6973\n",
            "Epoch 25/100\n",
            "938/938 [==============================] - 6s 6ms/step - loss: 1.0976 - accuracy: 0.6927 - val_loss: 1.0716 - val_accuracy: 0.7048\n",
            "Epoch 26/100\n",
            "938/938 [==============================] - 6s 6ms/step - loss: 1.0674 - accuracy: 0.7021 - val_loss: 1.0515 - val_accuracy: 0.7117\n",
            "Epoch 27/100\n",
            "938/938 [==============================] - 6s 6ms/step - loss: 1.0506 - accuracy: 0.7037 - val_loss: 1.0290 - val_accuracy: 0.7158\n",
            "Epoch 28/100\n",
            "938/938 [==============================] - 6s 6ms/step - loss: 1.0314 - accuracy: 0.7104 - val_loss: 1.0045 - val_accuracy: 0.7223\n",
            "Epoch 29/100\n",
            "938/938 [==============================] - 6s 6ms/step - loss: 1.0003 - accuracy: 0.7199 - val_loss: 0.9857 - val_accuracy: 0.7240\n",
            "Epoch 30/100\n",
            "938/938 [==============================] - 6s 6ms/step - loss: 0.9865 - accuracy: 0.7226 - val_loss: 0.9677 - val_accuracy: 0.7296\n",
            "Epoch 31/100\n",
            "938/938 [==============================] - 6s 6ms/step - loss: 0.9736 - accuracy: 0.7250 - val_loss: 0.9506 - val_accuracy: 0.7340\n",
            "Epoch 32/100\n",
            "938/938 [==============================] - 6s 6ms/step - loss: 0.9474 - accuracy: 0.7318 - val_loss: 0.9388 - val_accuracy: 0.7345\n",
            "Epoch 33/100\n",
            "938/938 [==============================] - 6s 6ms/step - loss: 0.9235 - accuracy: 0.7421 - val_loss: 0.9223 - val_accuracy: 0.7379\n",
            "Epoch 34/100\n",
            "938/938 [==============================] - 6s 6ms/step - loss: 0.9050 - accuracy: 0.7473 - val_loss: 0.9044 - val_accuracy: 0.7404\n",
            "Epoch 35/100\n",
            "938/938 [==============================] - 6s 6ms/step - loss: 0.8916 - accuracy: 0.7486 - val_loss: 0.8884 - val_accuracy: 0.7493\n",
            "Epoch 36/100\n",
            "938/938 [==============================] - 6s 6ms/step - loss: 0.8828 - accuracy: 0.7498 - val_loss: 0.8710 - val_accuracy: 0.7524\n",
            "Epoch 37/100\n",
            "938/938 [==============================] - 6s 6ms/step - loss: 0.8556 - accuracy: 0.7557 - val_loss: 0.8622 - val_accuracy: 0.7553\n",
            "Epoch 38/100\n",
            "938/938 [==============================] - 6s 6ms/step - loss: 0.8559 - accuracy: 0.7576 - val_loss: 0.8496 - val_accuracy: 0.7556\n",
            "Epoch 39/100\n",
            "938/938 [==============================] - 6s 6ms/step - loss: 0.8453 - accuracy: 0.7570 - val_loss: 0.8410 - val_accuracy: 0.7631\n",
            "Epoch 40/100\n",
            "938/938 [==============================] - 6s 6ms/step - loss: 0.8445 - accuracy: 0.7591 - val_loss: 0.8275 - val_accuracy: 0.7652\n",
            "Epoch 41/100\n",
            "938/938 [==============================] - 6s 6ms/step - loss: 0.8126 - accuracy: 0.7672 - val_loss: 0.8154 - val_accuracy: 0.7688\n",
            "Epoch 42/100\n",
            "938/938 [==============================] - 6s 6ms/step - loss: 0.8166 - accuracy: 0.7665 - val_loss: 0.8132 - val_accuracy: 0.7671\n",
            "Epoch 43/100\n",
            "938/938 [==============================] - 6s 7ms/step - loss: 0.7883 - accuracy: 0.7747 - val_loss: 0.7973 - val_accuracy: 0.7747\n",
            "Epoch 44/100\n",
            "938/938 [==============================] - 6s 6ms/step - loss: 0.7972 - accuracy: 0.7735 - val_loss: 0.7906 - val_accuracy: 0.7741\n",
            "Epoch 45/100\n",
            "938/938 [==============================] - 6s 6ms/step - loss: 0.7673 - accuracy: 0.7798 - val_loss: 0.7870 - val_accuracy: 0.7792\n",
            "Epoch 46/100\n",
            "938/938 [==============================] - 6s 6ms/step - loss: 0.7605 - accuracy: 0.7842 - val_loss: 0.7755 - val_accuracy: 0.7785\n",
            "Epoch 47/100\n",
            "938/938 [==============================] - 6s 6ms/step - loss: 0.7596 - accuracy: 0.7819 - val_loss: 0.7648 - val_accuracy: 0.7822\n",
            "Epoch 48/100\n",
            "938/938 [==============================] - 6s 6ms/step - loss: 0.7416 - accuracy: 0.7891 - val_loss: 0.7595 - val_accuracy: 0.7853\n",
            "Epoch 49/100\n",
            "938/938 [==============================] - 6s 6ms/step - loss: 0.7451 - accuracy: 0.7850 - val_loss: 0.7563 - val_accuracy: 0.7873\n",
            "Epoch 50/100\n",
            "938/938 [==============================] - 6s 6ms/step - loss: 0.7253 - accuracy: 0.7927 - val_loss: 0.7428 - val_accuracy: 0.7917\n",
            "Epoch 51/100\n",
            "938/938 [==============================] - 6s 6ms/step - loss: 0.7276 - accuracy: 0.7925 - val_loss: 0.7388 - val_accuracy: 0.7907\n",
            "Epoch 52/100\n",
            "938/938 [==============================] - 6s 6ms/step - loss: 0.7191 - accuracy: 0.7952 - val_loss: 0.7308 - val_accuracy: 0.7930\n",
            "Epoch 53/100\n",
            "938/938 [==============================] - 6s 6ms/step - loss: 0.7134 - accuracy: 0.7996 - val_loss: 0.7295 - val_accuracy: 0.7938\n",
            "Epoch 54/100\n",
            "938/938 [==============================] - 6s 6ms/step - loss: 0.7123 - accuracy: 0.7964 - val_loss: 0.7214 - val_accuracy: 0.7939\n",
            "Epoch 55/100\n",
            "938/938 [==============================] - 6s 6ms/step - loss: 0.6883 - accuracy: 0.8019 - val_loss: 0.7171 - val_accuracy: 0.7949\n",
            "Epoch 56/100\n",
            "938/938 [==============================] - 6s 6ms/step - loss: 0.6909 - accuracy: 0.8069 - val_loss: 0.7058 - val_accuracy: 0.7997\n",
            "Epoch 57/100\n",
            "938/938 [==============================] - 6s 6ms/step - loss: 0.6889 - accuracy: 0.8051 - val_loss: 0.7023 - val_accuracy: 0.8018\n",
            "Epoch 58/100\n",
            "938/938 [==============================] - 6s 6ms/step - loss: 0.6916 - accuracy: 0.8034 - val_loss: 0.7033 - val_accuracy: 0.7992\n",
            "Epoch 59/100\n",
            "938/938 [==============================] - 6s 6ms/step - loss: 0.6822 - accuracy: 0.8079 - val_loss: 0.6975 - val_accuracy: 0.8007\n",
            "Epoch 60/100\n",
            "938/938 [==============================] - 6s 6ms/step - loss: 0.6704 - accuracy: 0.8061 - val_loss: 0.6908 - val_accuracy: 0.8048\n",
            "Epoch 61/100\n",
            "938/938 [==============================] - 6s 6ms/step - loss: 0.6751 - accuracy: 0.8051 - val_loss: 0.6840 - val_accuracy: 0.8054\n",
            "Epoch 62/100\n",
            "938/938 [==============================] - 6s 6ms/step - loss: 0.6610 - accuracy: 0.8115 - val_loss: 0.6856 - val_accuracy: 0.8050\n",
            "Epoch 63/100\n",
            "938/938 [==============================] - 6s 6ms/step - loss: 0.6594 - accuracy: 0.8141 - val_loss: 0.6793 - val_accuracy: 0.8089\n",
            "Epoch 64/100\n",
            "938/938 [==============================] - 6s 6ms/step - loss: 0.6525 - accuracy: 0.8141 - val_loss: 0.6808 - val_accuracy: 0.8073\n",
            "Epoch 65/100\n",
            "938/938 [==============================] - 6s 6ms/step - loss: 0.6512 - accuracy: 0.8174 - val_loss: 0.6724 - val_accuracy: 0.8097\n",
            "Epoch 66/100\n",
            "938/938 [==============================] - 6s 6ms/step - loss: 0.6495 - accuracy: 0.8183 - val_loss: 0.6689 - val_accuracy: 0.8104\n",
            "Epoch 67/100\n",
            "938/938 [==============================] - 6s 6ms/step - loss: 0.6456 - accuracy: 0.8172 - val_loss: 0.6607 - val_accuracy: 0.8148\n",
            "Epoch 68/100\n",
            "938/938 [==============================] - 6s 6ms/step - loss: 0.6213 - accuracy: 0.8221 - val_loss: 0.6612 - val_accuracy: 0.8117\n",
            "Epoch 69/100\n",
            "938/938 [==============================] - 6s 6ms/step - loss: 0.6321 - accuracy: 0.8184 - val_loss: 0.6606 - val_accuracy: 0.8119\n",
            "Epoch 70/100\n",
            "938/938 [==============================] - 6s 6ms/step - loss: 0.6314 - accuracy: 0.8221 - val_loss: 0.6564 - val_accuracy: 0.8143\n",
            "Epoch 71/100\n",
            "938/938 [==============================] - 6s 6ms/step - loss: 0.6188 - accuracy: 0.8256 - val_loss: 0.6507 - val_accuracy: 0.8143\n",
            "Epoch 72/100\n",
            "938/938 [==============================] - 6s 6ms/step - loss: 0.6223 - accuracy: 0.8231 - val_loss: 0.6468 - val_accuracy: 0.8167\n",
            "Epoch 73/100\n",
            "938/938 [==============================] - 6s 6ms/step - loss: 0.6118 - accuracy: 0.8240 - val_loss: 0.6430 - val_accuracy: 0.8198\n",
            "Epoch 74/100\n",
            "938/938 [==============================] - 6s 6ms/step - loss: 0.6079 - accuracy: 0.8273 - val_loss: 0.6430 - val_accuracy: 0.8164\n",
            "Epoch 75/100\n",
            "938/938 [==============================] - 6s 6ms/step - loss: 0.6029 - accuracy: 0.8285 - val_loss: 0.6389 - val_accuracy: 0.8192\n",
            "Epoch 76/100\n",
            "938/938 [==============================] - 6s 6ms/step - loss: 0.6065 - accuracy: 0.8266 - val_loss: 0.6344 - val_accuracy: 0.8223\n",
            "Epoch 77/100\n",
            "938/938 [==============================] - 6s 6ms/step - loss: 0.6035 - accuracy: 0.8266 - val_loss: 0.6338 - val_accuracy: 0.8200\n",
            "Epoch 78/100\n",
            "938/938 [==============================] - 6s 6ms/step - loss: 0.5989 - accuracy: 0.8301 - val_loss: 0.6287 - val_accuracy: 0.8242\n",
            "Epoch 79/100\n",
            "938/938 [==============================] - 6s 6ms/step - loss: 0.5882 - accuracy: 0.8316 - val_loss: 0.6285 - val_accuracy: 0.8244\n",
            "Epoch 80/100\n",
            "938/938 [==============================] - 6s 6ms/step - loss: 0.6020 - accuracy: 0.8288 - val_loss: 0.6265 - val_accuracy: 0.8257\n",
            "Epoch 81/100\n",
            "938/938 [==============================] - 6s 6ms/step - loss: 0.5877 - accuracy: 0.8306 - val_loss: 0.6235 - val_accuracy: 0.8253\n",
            "Epoch 82/100\n",
            "938/938 [==============================] - 6s 6ms/step - loss: 0.5848 - accuracy: 0.8306 - val_loss: 0.6189 - val_accuracy: 0.8273\n",
            "Epoch 83/100\n",
            "938/938 [==============================] - 6s 6ms/step - loss: 0.5840 - accuracy: 0.8352 - val_loss: 0.6170 - val_accuracy: 0.8288\n",
            "Epoch 84/100\n",
            "938/938 [==============================] - 6s 6ms/step - loss: 0.5747 - accuracy: 0.8332 - val_loss: 0.6169 - val_accuracy: 0.8256\n",
            "Epoch 85/100\n",
            "938/938 [==============================] - 6s 6ms/step - loss: 0.5705 - accuracy: 0.8380 - val_loss: 0.6107 - val_accuracy: 0.8291\n",
            "Epoch 86/100\n",
            "938/938 [==============================] - 6s 6ms/step - loss: 0.5662 - accuracy: 0.8402 - val_loss: 0.6140 - val_accuracy: 0.8290\n",
            "Epoch 87/100\n",
            "938/938 [==============================] - 6s 6ms/step - loss: 0.5682 - accuracy: 0.8363 - val_loss: 0.6144 - val_accuracy: 0.8278\n",
            "Epoch 88/100\n",
            "938/938 [==============================] - 6s 6ms/step - loss: 0.5698 - accuracy: 0.8395 - val_loss: 0.6047 - val_accuracy: 0.8301\n",
            "Epoch 89/100\n",
            "938/938 [==============================] - 6s 6ms/step - loss: 0.5644 - accuracy: 0.8393 - val_loss: 0.6029 - val_accuracy: 0.8292\n",
            "Epoch 90/100\n",
            "938/938 [==============================] - 6s 6ms/step - loss: 0.5620 - accuracy: 0.8392 - val_loss: 0.6053 - val_accuracy: 0.8316\n",
            "Epoch 91/100\n",
            "938/938 [==============================] - 6s 6ms/step - loss: 0.5579 - accuracy: 0.8388 - val_loss: 0.6049 - val_accuracy: 0.8317\n",
            "Epoch 92/100\n",
            "938/938 [==============================] - 6s 6ms/step - loss: 0.5592 - accuracy: 0.8379 - val_loss: 0.6029 - val_accuracy: 0.8331\n",
            "Epoch 93/100\n",
            "938/938 [==============================] - 6s 6ms/step - loss: 0.5520 - accuracy: 0.8441 - val_loss: 0.6000 - val_accuracy: 0.8331\n",
            "Epoch 94/100\n",
            "938/938 [==============================] - 6s 6ms/step - loss: 0.5419 - accuracy: 0.8462 - val_loss: 0.5961 - val_accuracy: 0.8317\n",
            "Epoch 95/100\n",
            "938/938 [==============================] - 6s 6ms/step - loss: 0.5338 - accuracy: 0.8457 - val_loss: 0.5964 - val_accuracy: 0.8331\n",
            "Epoch 96/100\n",
            "938/938 [==============================] - 6s 6ms/step - loss: 0.5518 - accuracy: 0.8411 - val_loss: 0.5950 - val_accuracy: 0.8325\n",
            "Epoch 97/100\n",
            "938/938 [==============================] - 6s 6ms/step - loss: 0.5422 - accuracy: 0.8460 - val_loss: 0.5874 - val_accuracy: 0.8357\n",
            "Epoch 98/100\n",
            "938/938 [==============================] - 6s 6ms/step - loss: 0.5442 - accuracy: 0.8450 - val_loss: 0.5860 - val_accuracy: 0.8356\n",
            "Epoch 99/100\n",
            "938/938 [==============================] - 6s 6ms/step - loss: 0.5318 - accuracy: 0.8473 - val_loss: 0.5963 - val_accuracy: 0.8281\n",
            "Epoch 100/100\n",
            "938/938 [==============================] - 6s 6ms/step - loss: 0.5353 - accuracy: 0.8487 - val_loss: 0.5874 - val_accuracy: 0.8355\n"
          ],
          "name": "stdout"
        }
      ]
    },
    {
      "cell_type": "code",
      "metadata": {
        "colab": {
          "base_uri": "https://localhost:8080/",
          "height": 528
        },
        "id": "MayiFc_r1T68",
        "outputId": "650d6e7d-7cee-468f-9d76-65d8e24748de"
      },
      "source": [
        "history_df = pd.DataFrame(history.history)\n",
        "history_df.loc[:, ['loss', 'val_loss']].plot();\n",
        "print(\"Minimum validation loss: {}\".format(history_df['val_loss'].min()))\n",
        "history_df = pd.DataFrame(history.history)\n",
        "history_df.loc[:, ['accuracy', 'val_accuracy']].plot();\n",
        "#print(\"Minimum validation loss: {}\".format(history_df['val_loss'].min()))"
      ],
      "execution_count": null,
      "outputs": [
        {
          "output_type": "stream",
          "text": [
            "Minimum validation loss: 0.5860321521759033\n"
          ],
          "name": "stdout"
        },
        {
          "output_type": "display_data",
          "data": {
            "image/png": "[encoded data removed]",
            "text/plain": [
              "<Figure size 432x288 with 1 Axes>"
            ]
          },
          "metadata": {
            "tags": []
          }
        },
        {
          "output_type": "display_data",
          "data": {
            "image/png": "[encoded data removed]",
            "text/plain": [
              "<Figure size 432x288 with 1 Axes>"
            ]
          },
          "metadata": {
            "tags": []
          }
        }
      ]
    },
    {
      "cell_type": "code",
      "metadata": {
        "colab": {
          "base_uri": "https://localhost:8080/"
        },
        "id": "GYHc81Ct3yG8",
        "outputId": "3b74f5b8-26e4-4ed4-ee81-d1561c3c8aee"
      },
      "source": [
        "model.evaluate(X_test,y_test)\n",
        "model.evaluate(x_val,Y_val)\n",
        "\n",
        "model.evaluate(x_train , Y_train)"
      ],
      "execution_count": null,
      "outputs": [
        {
          "output_type": "stream",
          "text": [
            "563/563 [==============================] - 2s 4ms/step - loss: 0.5864 - accuracy: 0.8328\n",
            "375/375 [==============================] - 1s 3ms/step - loss: 0.5874 - accuracy: 0.8355\n",
            "938/938 [==============================] - 4s 4ms/step - loss: 0.5324 - accuracy: 0.8476\n"
          ],
          "name": "stdout"
        },
        {
          "output_type": "execute_result",
          "data": {
            "text/plain": [
              "[0.5323991179466248, 0.847599983215332]"
            ]
          },
          "metadata": {
            "tags": []
          },
          "execution_count": 51
        }
      ]
    },
    {
      "cell_type": "markdown",
      "metadata": {
        "id": "PTD_ysGJi9cj"
      },
      "source": [
        "# Model 1B Modified LeNet Architecture with BatchNormalization"
      ]
    },
    {
      "cell_type": "code",
      "metadata": {
        "id": "Ee2VKcoF1Ixz"
      },
      "source": [
        "input_layer=Input(shape=input_shape)\n",
        "conv_layer_1=Conv2D(8,kernel_size=(3,3),padding='same')(input_layer)\n",
        "batch_norm_1=BatchNormalization()(conv_layer_1)\n",
        "activation_layer_1=Activation('relu')(batch_norm_1)\n",
        "pool_layer_1=MaxPooling2D(pool_size=(2,2),strides=2)(activation_layer_1)\n",
        "conv_layer_2=Conv2D(16,kernel_size=(3,3),padding='same',activation='relu')(pool_layer_1)\n",
        "pool_layer_2=MaxPooling2D(pool_size=(2,2),strides=2)(conv_layer_2)\n",
        "conv_layer_3=Conv2D(32,kernel_size=(3,3),padding='same',activation='relu')(pool_layer_2)\n",
        "pool_layer_3=MaxPooling2D(pool_size=(2,2),strides=2)(conv_layer_3)\n",
        "flat_1=Flatten()(pool_layer_3)\n",
        "hidden_layer_1=Dense(1024,kernel_initializer='he_uniform',activation='relu')(flat_1)\n",
        "output=Dense(num_classes,kernel_initializer='he_uniform',activation='softmax')(hidden_layer_1)\n",
        "model=Model(inputs=input_layer,outputs=output)"
      ],
      "execution_count": null,
      "outputs": []
    },
    {
      "cell_type": "code",
      "metadata": {
        "colab": {
          "base_uri": "https://localhost:8080/"
        },
        "id": "uB5HHYdgsfBc",
        "outputId": "2859b698-3d2f-4ce0-ecad-cc13ca78a97a"
      },
      "source": [
        "model.summary()"
      ],
      "execution_count": null,
      "outputs": [
        {
          "output_type": "stream",
          "text": [
            "Model: \"model\"\n",
            "_________________________________________________________________\n",
            "Layer (type)                 Output Shape              Param #   \n",
            "=================================================================\n",
            "input_1 (InputLayer)         [(None, 32, 32, 1)]       0         \n",
            "_________________________________________________________________\n",
            "conv2d (Conv2D)              (None, 32, 32, 8)         80        \n",
            "_________________________________________________________________\n",
            "batch_normalization (BatchNo (None, 32, 32, 8)         32        \n",
            "_________________________________________________________________\n",
            "activation (Activation)      (None, 32, 32, 8)         0         \n",
            "_________________________________________________________________\n",
            "max_pooling2d (MaxPooling2D) (None, 16, 16, 8)         0         \n",
            "_________________________________________________________________\n",
            "conv2d_1 (Conv2D)            (None, 16, 16, 16)        1168      \n",
            "_________________________________________________________________\n",
            "max_pooling2d_1 (MaxPooling2 (None, 8, 8, 16)          0         \n",
            "_________________________________________________________________\n",
            "conv2d_2 (Conv2D)            (None, 8, 8, 32)          4640      \n",
            "_________________________________________________________________\n",
            "max_pooling2d_2 (MaxPooling2 (None, 4, 4, 32)          0         \n",
            "_________________________________________________________________\n",
            "flatten (Flatten)            (None, 512)               0         \n",
            "_________________________________________________________________\n",
            "dense (Dense)                (None, 1024)              525312    \n",
            "_________________________________________________________________\n",
            "dense_1 (Dense)              (None, 10)                10250     \n",
            "=================================================================\n",
            "Total params: 541,482\n",
            "Trainable params: 541,466\n",
            "Non-trainable params: 16\n",
            "_________________________________________________________________\n"
          ],
          "name": "stdout"
        }
      ]
    },
    {
      "cell_type": "code",
      "metadata": {
        "colab": {
          "base_uri": "https://localhost:8080/"
        },
        "id": "rpL5RoaGsiU9",
        "outputId": "4b8ddd7b-52d3-457c-ea2c-6272544dc805"
      },
      "source": [
        "optimizer=Adam(learning_rate=1e-5)\n",
        "model.compile(loss=categorical_crossentropy,optimizer=optimizer,metrics=['accuracy'])\n",
        "history=model.fit(x_train,Y_train,validation_data=(x_val,Y_val),epochs=100,batch_size=32,verbose=1)"
      ],
      "execution_count": null,
      "outputs": [
        {
          "output_type": "stream",
          "text": [
            "Epoch 1/100\n",
            "938/938 [==============================] - 37s 5ms/step - loss: 2.3458 - accuracy: 0.1052 - val_loss: 2.2707 - val_accuracy: 0.1513\n",
            "Epoch 2/100\n",
            "938/938 [==============================] - 4s 4ms/step - loss: 2.2536 - accuracy: 0.1718 - val_loss: 2.1994 - val_accuracy: 0.2510\n",
            "Epoch 3/100\n",
            "938/938 [==============================] - 4s 4ms/step - loss: 2.1768 - accuracy: 0.2630 - val_loss: 2.0954 - val_accuracy: 0.3249\n",
            "Epoch 4/100\n",
            "938/938 [==============================] - 4s 4ms/step - loss: 2.0663 - accuracy: 0.3503 - val_loss: 1.9467 - val_accuracy: 0.4296\n",
            "Epoch 5/100\n",
            "938/938 [==============================] - 4s 4ms/step - loss: 1.9105 - accuracy: 0.4391 - val_loss: 1.7701 - val_accuracy: 0.4890\n",
            "Epoch 6/100\n",
            "938/938 [==============================] - 4s 4ms/step - loss: 1.7329 - accuracy: 0.5088 - val_loss: 1.6021 - val_accuracy: 0.5477\n",
            "Epoch 7/100\n",
            "938/938 [==============================] - 4s 4ms/step - loss: 1.5638 - accuracy: 0.5609 - val_loss: 1.4504 - val_accuracy: 0.5877\n",
            "Epoch 8/100\n",
            "938/938 [==============================] - 4s 4ms/step - loss: 1.4326 - accuracy: 0.5937 - val_loss: 1.3367 - val_accuracy: 0.6205\n",
            "Epoch 9/100\n",
            "938/938 [==============================] - 4s 4ms/step - loss: 1.3101 - accuracy: 0.6304 - val_loss: 1.2392 - val_accuracy: 0.6530\n",
            "Epoch 10/100\n",
            "938/938 [==============================] - 4s 4ms/step - loss: 1.2198 - accuracy: 0.6578 - val_loss: 1.1639 - val_accuracy: 0.6708\n",
            "Epoch 11/100\n",
            "938/938 [==============================] - 4s 4ms/step - loss: 1.1447 - accuracy: 0.6780 - val_loss: 1.1019 - val_accuracy: 0.6930\n",
            "Epoch 12/100\n",
            "938/938 [==============================] - 4s 4ms/step - loss: 1.0845 - accuracy: 0.6936 - val_loss: 1.0534 - val_accuracy: 0.7010\n",
            "Epoch 13/100\n",
            "938/938 [==============================] - 4s 4ms/step - loss: 1.0312 - accuracy: 0.7032 - val_loss: 1.0010 - val_accuracy: 0.7167\n",
            "Epoch 14/100\n",
            "938/938 [==============================] - 4s 4ms/step - loss: 0.9842 - accuracy: 0.7212 - val_loss: 0.9654 - val_accuracy: 0.7237\n",
            "Epoch 15/100\n",
            "938/938 [==============================] - 4s 4ms/step - loss: 0.9406 - accuracy: 0.7344 - val_loss: 0.9307 - val_accuracy: 0.7318\n",
            "Epoch 16/100\n",
            "938/938 [==============================] - 4s 4ms/step - loss: 0.9159 - accuracy: 0.7409 - val_loss: 0.9039 - val_accuracy: 0.7416\n",
            "Epoch 17/100\n",
            "938/938 [==============================] - 4s 4ms/step - loss: 0.8832 - accuracy: 0.7486 - val_loss: 0.8764 - val_accuracy: 0.7492\n",
            "Epoch 18/100\n",
            "938/938 [==============================] - 4s 4ms/step - loss: 0.8636 - accuracy: 0.7552 - val_loss: 0.8552 - val_accuracy: 0.7567\n",
            "Epoch 19/100\n",
            "938/938 [==============================] - 4s 4ms/step - loss: 0.8299 - accuracy: 0.7625 - val_loss: 0.8268 - val_accuracy: 0.7694\n",
            "Epoch 20/100\n",
            "938/938 [==============================] - 4s 4ms/step - loss: 0.8063 - accuracy: 0.7712 - val_loss: 0.8083 - val_accuracy: 0.7689\n",
            "Epoch 21/100\n",
            "938/938 [==============================] - 4s 4ms/step - loss: 0.7817 - accuracy: 0.7794 - val_loss: 0.7934 - val_accuracy: 0.7737\n",
            "Epoch 22/100\n",
            "938/938 [==============================] - 4s 4ms/step - loss: 0.7702 - accuracy: 0.7806 - val_loss: 0.7831 - val_accuracy: 0.7735\n",
            "Epoch 23/100\n",
            "938/938 [==============================] - 4s 4ms/step - loss: 0.7589 - accuracy: 0.7833 - val_loss: 0.7620 - val_accuracy: 0.7828\n",
            "Epoch 24/100\n",
            "938/938 [==============================] - 4s 4ms/step - loss: 0.7360 - accuracy: 0.7902 - val_loss: 0.7556 - val_accuracy: 0.7828\n",
            "Epoch 25/100\n",
            "938/938 [==============================] - 4s 4ms/step - loss: 0.7335 - accuracy: 0.7915 - val_loss: 0.7375 - val_accuracy: 0.7897\n",
            "Epoch 26/100\n",
            "938/938 [==============================] - 4s 4ms/step - loss: 0.7063 - accuracy: 0.7973 - val_loss: 0.7275 - val_accuracy: 0.7931\n",
            "Epoch 27/100\n",
            "938/938 [==============================] - 4s 4ms/step - loss: 0.7024 - accuracy: 0.7991 - val_loss: 0.7215 - val_accuracy: 0.7935\n",
            "Epoch 28/100\n",
            "938/938 [==============================] - 4s 4ms/step - loss: 0.6897 - accuracy: 0.8034 - val_loss: 0.7068 - val_accuracy: 0.8019\n",
            "Epoch 29/100\n",
            "938/938 [==============================] - 4s 4ms/step - loss: 0.6865 - accuracy: 0.8054 - val_loss: 0.6995 - val_accuracy: 0.8003\n",
            "Epoch 30/100\n",
            "938/938 [==============================] - 4s 4ms/step - loss: 0.6693 - accuracy: 0.8086 - val_loss: 0.6946 - val_accuracy: 0.8023\n",
            "Epoch 31/100\n",
            "938/938 [==============================] - 4s 4ms/step - loss: 0.6616 - accuracy: 0.8147 - val_loss: 0.6862 - val_accuracy: 0.8027\n",
            "Epoch 32/100\n",
            "938/938 [==============================] - 4s 4ms/step - loss: 0.6574 - accuracy: 0.8122 - val_loss: 0.6754 - val_accuracy: 0.8076\n",
            "Epoch 33/100\n",
            "938/938 [==============================] - 4s 4ms/step - loss: 0.6363 - accuracy: 0.8184 - val_loss: 0.6705 - val_accuracy: 0.8103\n",
            "Epoch 34/100\n",
            "938/938 [==============================] - 4s 4ms/step - loss: 0.6395 - accuracy: 0.8192 - val_loss: 0.6659 - val_accuracy: 0.8113\n",
            "Epoch 35/100\n",
            "938/938 [==============================] - 4s 4ms/step - loss: 0.6196 - accuracy: 0.8235 - val_loss: 0.6634 - val_accuracy: 0.8103\n",
            "Epoch 36/100\n",
            "938/938 [==============================] - 4s 4ms/step - loss: 0.6210 - accuracy: 0.8226 - val_loss: 0.6557 - val_accuracy: 0.8143\n",
            "Epoch 37/100\n",
            "938/938 [==============================] - 4s 4ms/step - loss: 0.6169 - accuracy: 0.8236 - val_loss: 0.6485 - val_accuracy: 0.8148\n",
            "Epoch 38/100\n",
            "938/938 [==============================] - 4s 4ms/step - loss: 0.6127 - accuracy: 0.8271 - val_loss: 0.6433 - val_accuracy: 0.8173\n",
            "Epoch 39/100\n",
            "938/938 [==============================] - 4s 4ms/step - loss: 0.5934 - accuracy: 0.8302 - val_loss: 0.6384 - val_accuracy: 0.8199\n",
            "Epoch 40/100\n",
            "938/938 [==============================] - 4s 4ms/step - loss: 0.6008 - accuracy: 0.8264 - val_loss: 0.6320 - val_accuracy: 0.8197\n",
            "Epoch 41/100\n",
            "938/938 [==============================] - 4s 4ms/step - loss: 0.5943 - accuracy: 0.8320 - val_loss: 0.6301 - val_accuracy: 0.8200\n",
            "Epoch 42/100\n",
            "938/938 [==============================] - 4s 4ms/step - loss: 0.5868 - accuracy: 0.8314 - val_loss: 0.6227 - val_accuracy: 0.8234\n",
            "Epoch 43/100\n",
            "938/938 [==============================] - 4s 4ms/step - loss: 0.5804 - accuracy: 0.8359 - val_loss: 0.6208 - val_accuracy: 0.8249\n",
            "Epoch 44/100\n",
            "938/938 [==============================] - 4s 4ms/step - loss: 0.5792 - accuracy: 0.8293 - val_loss: 0.6142 - val_accuracy: 0.8263\n",
            "Epoch 45/100\n",
            "938/938 [==============================] - 4s 4ms/step - loss: 0.5712 - accuracy: 0.8348 - val_loss: 0.6117 - val_accuracy: 0.8257\n",
            "Epoch 46/100\n",
            "938/938 [==============================] - 4s 4ms/step - loss: 0.5669 - accuracy: 0.8360 - val_loss: 0.6097 - val_accuracy: 0.8264\n",
            "Epoch 47/100\n",
            "938/938 [==============================] - 4s 4ms/step - loss: 0.5621 - accuracy: 0.8386 - val_loss: 0.6037 - val_accuracy: 0.8298\n",
            "Epoch 48/100\n",
            "938/938 [==============================] - 4s 4ms/step - loss: 0.5605 - accuracy: 0.8366 - val_loss: 0.5984 - val_accuracy: 0.8313\n",
            "Epoch 49/100\n",
            "938/938 [==============================] - 4s 4ms/step - loss: 0.5512 - accuracy: 0.8401 - val_loss: 0.5997 - val_accuracy: 0.8300\n",
            "Epoch 50/100\n",
            "938/938 [==============================] - 4s 4ms/step - loss: 0.5460 - accuracy: 0.8422 - val_loss: 0.5957 - val_accuracy: 0.8302\n",
            "Epoch 51/100\n",
            "938/938 [==============================] - 4s 4ms/step - loss: 0.5417 - accuracy: 0.8444 - val_loss: 0.5892 - val_accuracy: 0.8330\n",
            "Epoch 52/100\n",
            "938/938 [==============================] - 4s 4ms/step - loss: 0.5335 - accuracy: 0.8431 - val_loss: 0.6009 - val_accuracy: 0.8279\n",
            "Epoch 53/100\n",
            "938/938 [==============================] - 4s 4ms/step - loss: 0.5399 - accuracy: 0.8457 - val_loss: 0.5839 - val_accuracy: 0.8364\n",
            "Epoch 54/100\n",
            "938/938 [==============================] - 4s 4ms/step - loss: 0.5299 - accuracy: 0.8470 - val_loss: 0.5866 - val_accuracy: 0.8356\n",
            "Epoch 55/100\n",
            "938/938 [==============================] - 4s 4ms/step - loss: 0.5262 - accuracy: 0.8536 - val_loss: 0.5868 - val_accuracy: 0.8347\n",
            "Epoch 56/100\n",
            "938/938 [==============================] - 4s 4ms/step - loss: 0.5230 - accuracy: 0.8495 - val_loss: 0.5791 - val_accuracy: 0.8362\n",
            "Epoch 57/100\n",
            "938/938 [==============================] - 4s 4ms/step - loss: 0.5162 - accuracy: 0.8510 - val_loss: 0.5761 - val_accuracy: 0.8363\n",
            "Epoch 58/100\n",
            "938/938 [==============================] - 4s 4ms/step - loss: 0.5164 - accuracy: 0.8526 - val_loss: 0.5744 - val_accuracy: 0.8395\n",
            "Epoch 59/100\n",
            "938/938 [==============================] - 4s 4ms/step - loss: 0.4977 - accuracy: 0.8602 - val_loss: 0.5706 - val_accuracy: 0.8390\n",
            "Epoch 60/100\n",
            "938/938 [==============================] - 4s 4ms/step - loss: 0.5208 - accuracy: 0.8503 - val_loss: 0.5756 - val_accuracy: 0.8357\n",
            "Epoch 61/100\n",
            "938/938 [==============================] - 4s 4ms/step - loss: 0.4993 - accuracy: 0.8567 - val_loss: 0.5716 - val_accuracy: 0.8372\n",
            "Epoch 62/100\n",
            "938/938 [==============================] - 4s 4ms/step - loss: 0.5003 - accuracy: 0.8537 - val_loss: 0.5668 - val_accuracy: 0.8395\n",
            "Epoch 63/100\n",
            "938/938 [==============================] - 4s 4ms/step - loss: 0.4950 - accuracy: 0.8619 - val_loss: 0.5609 - val_accuracy: 0.8417\n",
            "Epoch 64/100\n",
            "938/938 [==============================] - 4s 4ms/step - loss: 0.4921 - accuracy: 0.8574 - val_loss: 0.5624 - val_accuracy: 0.8399\n",
            "Epoch 65/100\n",
            "938/938 [==============================] - 4s 4ms/step - loss: 0.4960 - accuracy: 0.8621 - val_loss: 0.5583 - val_accuracy: 0.8422\n",
            "Epoch 66/100\n",
            "938/938 [==============================] - 4s 4ms/step - loss: 0.4825 - accuracy: 0.8622 - val_loss: 0.5564 - val_accuracy: 0.8429\n",
            "Epoch 67/100\n",
            "938/938 [==============================] - 4s 4ms/step - loss: 0.4799 - accuracy: 0.8594 - val_loss: 0.5563 - val_accuracy: 0.8424\n",
            "Epoch 68/100\n",
            "938/938 [==============================] - 4s 4ms/step - loss: 0.4817 - accuracy: 0.8620 - val_loss: 0.5570 - val_accuracy: 0.8420\n",
            "Epoch 69/100\n",
            "938/938 [==============================] - 4s 4ms/step - loss: 0.4910 - accuracy: 0.8602 - val_loss: 0.5467 - val_accuracy: 0.8453\n",
            "Epoch 70/100\n",
            "938/938 [==============================] - 4s 4ms/step - loss: 0.4682 - accuracy: 0.8677 - val_loss: 0.5490 - val_accuracy: 0.8446\n",
            "Epoch 71/100\n",
            "938/938 [==============================] - 4s 4ms/step - loss: 0.4697 - accuracy: 0.8627 - val_loss: 0.5474 - val_accuracy: 0.8437\n",
            "Epoch 72/100\n",
            "938/938 [==============================] - 4s 4ms/step - loss: 0.4760 - accuracy: 0.8631 - val_loss: 0.5440 - val_accuracy: 0.8464\n",
            "Epoch 73/100\n",
            "938/938 [==============================] - 4s 4ms/step - loss: 0.4679 - accuracy: 0.8688 - val_loss: 0.5411 - val_accuracy: 0.8482\n",
            "Epoch 74/100\n",
            "938/938 [==============================] - 4s 4ms/step - loss: 0.4583 - accuracy: 0.8672 - val_loss: 0.5394 - val_accuracy: 0.8468\n",
            "Epoch 75/100\n",
            "938/938 [==============================] - 4s 4ms/step - loss: 0.4662 - accuracy: 0.8668 - val_loss: 0.5375 - val_accuracy: 0.8487\n",
            "Epoch 76/100\n",
            "938/938 [==============================] - 4s 4ms/step - loss: 0.4602 - accuracy: 0.8682 - val_loss: 0.5377 - val_accuracy: 0.8475\n",
            "Epoch 77/100\n",
            "938/938 [==============================] - 4s 4ms/step - loss: 0.4537 - accuracy: 0.8709 - val_loss: 0.5360 - val_accuracy: 0.8474\n",
            "Epoch 78/100\n",
            "938/938 [==============================] - 4s 4ms/step - loss: 0.4381 - accuracy: 0.8754 - val_loss: 0.5313 - val_accuracy: 0.8504\n",
            "Epoch 79/100\n",
            "938/938 [==============================] - 4s 4ms/step - loss: 0.4445 - accuracy: 0.8742 - val_loss: 0.5282 - val_accuracy: 0.8517\n",
            "Epoch 80/100\n",
            "938/938 [==============================] - 4s 4ms/step - loss: 0.4403 - accuracy: 0.8759 - val_loss: 0.5291 - val_accuracy: 0.8501\n",
            "Epoch 81/100\n",
            "938/938 [==============================] - 4s 4ms/step - loss: 0.4351 - accuracy: 0.8766 - val_loss: 0.5300 - val_accuracy: 0.8505\n",
            "Epoch 82/100\n",
            "938/938 [==============================] - 4s 4ms/step - loss: 0.4460 - accuracy: 0.8733 - val_loss: 0.5279 - val_accuracy: 0.8499\n",
            "Epoch 83/100\n",
            "938/938 [==============================] - 4s 4ms/step - loss: 0.4360 - accuracy: 0.8762 - val_loss: 0.5341 - val_accuracy: 0.8477\n",
            "Epoch 84/100\n",
            "938/938 [==============================] - 4s 4ms/step - loss: 0.4404 - accuracy: 0.8759 - val_loss: 0.5230 - val_accuracy: 0.8537\n",
            "Epoch 85/100\n",
            "938/938 [==============================] - 4s 4ms/step - loss: 0.4222 - accuracy: 0.8776 - val_loss: 0.5239 - val_accuracy: 0.8528\n",
            "Epoch 86/100\n",
            "938/938 [==============================] - 4s 4ms/step - loss: 0.4334 - accuracy: 0.8774 - val_loss: 0.5172 - val_accuracy: 0.8559\n",
            "Epoch 87/100\n",
            "938/938 [==============================] - 4s 4ms/step - loss: 0.4377 - accuracy: 0.8764 - val_loss: 0.5244 - val_accuracy: 0.8516\n",
            "Epoch 88/100\n",
            "938/938 [==============================] - 4s 4ms/step - loss: 0.4188 - accuracy: 0.8818 - val_loss: 0.5197 - val_accuracy: 0.8543\n",
            "Epoch 89/100\n",
            "938/938 [==============================] - 4s 4ms/step - loss: 0.4221 - accuracy: 0.8796 - val_loss: 0.5146 - val_accuracy: 0.8544\n",
            "Epoch 90/100\n",
            "938/938 [==============================] - 4s 4ms/step - loss: 0.4194 - accuracy: 0.8799 - val_loss: 0.5130 - val_accuracy: 0.8540\n",
            "Epoch 91/100\n",
            "938/938 [==============================] - 4s 4ms/step - loss: 0.4232 - accuracy: 0.8805 - val_loss: 0.5132 - val_accuracy: 0.8553\n",
            "Epoch 92/100\n",
            "938/938 [==============================] - 4s 4ms/step - loss: 0.4167 - accuracy: 0.8822 - val_loss: 0.5106 - val_accuracy: 0.8556\n",
            "Epoch 93/100\n",
            "938/938 [==============================] - 4s 4ms/step - loss: 0.4161 - accuracy: 0.8800 - val_loss: 0.5227 - val_accuracy: 0.8526\n",
            "Epoch 94/100\n",
            "938/938 [==============================] - 4s 4ms/step - loss: 0.4044 - accuracy: 0.8856 - val_loss: 0.5087 - val_accuracy: 0.8568\n",
            "Epoch 95/100\n",
            "938/938 [==============================] - 4s 4ms/step - loss: 0.4105 - accuracy: 0.8845 - val_loss: 0.5047 - val_accuracy: 0.8571\n",
            "Epoch 96/100\n",
            "938/938 [==============================] - 4s 4ms/step - loss: 0.3853 - accuracy: 0.8898 - val_loss: 0.5045 - val_accuracy: 0.8592\n",
            "Epoch 97/100\n",
            "938/938 [==============================] - 4s 4ms/step - loss: 0.3975 - accuracy: 0.8872 - val_loss: 0.5055 - val_accuracy: 0.8584\n",
            "Epoch 98/100\n",
            "938/938 [==============================] - 4s 4ms/step - loss: 0.4037 - accuracy: 0.8835 - val_loss: 0.5034 - val_accuracy: 0.8574\n",
            "Epoch 99/100\n",
            "938/938 [==============================] - 4s 4ms/step - loss: 0.4008 - accuracy: 0.8848 - val_loss: 0.5016 - val_accuracy: 0.8590\n",
            "Epoch 100/100\n",
            "938/938 [==============================] - 4s 4ms/step - loss: 0.3941 - accuracy: 0.8880 - val_loss: 0.4965 - val_accuracy: 0.8605\n"
          ],
          "name": "stdout"
        }
      ]
    },
    {
      "cell_type": "code",
      "metadata": {
        "colab": {
          "base_uri": "https://localhost:8080/",
          "height": 528
        },
        "id": "Yxf0azzCtM39",
        "outputId": "8f841bf5-0f40-4518-f8ea-2ab9f43800bb"
      },
      "source": [
        "history_df = pd.DataFrame(history.history)\n",
        "history_df.loc[:, ['loss', 'val_loss']].plot();\n",
        "print(\"Minimum validation loss: {}\".format(history_df['val_loss'].min()))\n",
        "history_df = pd.DataFrame(history.history)\n",
        "history_df.loc[:, ['accuracy', 'val_accuracy']].plot();\n",
        "#print(\"Minimum validation loss: {}\".format(history_df['val_loss'].min()))"
      ],
      "execution_count": null,
      "outputs": [
        {
          "output_type": "stream",
          "text": [
            "Minimum validation loss: 0.4964812099933624\n"
          ],
          "name": "stdout"
        },
        {
          "output_type": "display_data",
          "data": {
            "image/png": "[encoded data removed]",
            "text/plain": [
              "<Figure size 432x288 with 1 Axes>"
            ]
          },
          "metadata": {
            "tags": []
          }
        },
        {
          "output_type": "display_data",
          "data": {
            "image/png": "[encoded data removed]",
            "text/plain": [
              "<Figure size 432x288 with 1 Axes>"
            ]
          },
          "metadata": {
            "tags": []
          }
        }
      ]
    },
    {
      "cell_type": "code",
      "metadata": {
        "colab": {
          "base_uri": "https://localhost:8080/"
        },
        "id": "3H2g-FV78IIR",
        "outputId": "aded3bd1-32e3-4a47-db2b-8a992d017f1e"
      },
      "source": [
        "history.history.keys()"
      ],
      "execution_count": null,
      "outputs": [
        {
          "output_type": "execute_result",
          "data": {
            "text/plain": [
              "dict_keys(['loss', 'accuracy', 'val_loss', 'val_accuracy'])"
            ]
          },
          "metadata": {
            "tags": []
          },
          "execution_count": 22
        }
      ]
    },
    {
      "cell_type": "code",
      "metadata": {
        "colab": {
          "base_uri": "https://localhost:8080/"
        },
        "id": "SBa5UtT2i77v",
        "outputId": "8201772f-412d-4611-fc72-780d357380a2"
      },
      "source": [
        "model.evaluate(X_test,y_test)\n",
        "model.evaluate(x_val,Y_val)\n",
        "\n",
        "model.evaluate(x_train , Y_train)"
      ],
      "execution_count": null,
      "outputs": [
        {
          "output_type": "stream",
          "text": [
            "563/563 [==============================] - 2s 3ms/step - loss: 0.4995 - accuracy: 0.8620\n",
            "375/375 [==============================] - 1s 2ms/step - loss: 0.4965 - accuracy: 0.8605\n",
            "938/938 [==============================] - 3s 3ms/step - loss: 0.3868 - accuracy: 0.8908\n"
          ],
          "name": "stdout"
        },
        {
          "output_type": "execute_result",
          "data": {
            "text/plain": [
              "[0.38680627942085266, 0.8907999992370605]"
            ]
          },
          "metadata": {
            "tags": []
          },
          "execution_count": 17
        }
      ]
    },
    {
      "cell_type": "markdown",
      "metadata": {
        "id": "D1wz7Mf-8oWu"
      },
      "source": [
        "# Model 1C Modiefied Model 1B with ImageDataGenerator"
      ]
    },
    {
      "cell_type": "code",
      "metadata": {
        "id": "5p6HfQA08tpE"
      },
      "source": [
        "datagen = ImageDataGenerator(rotation_range=8,\n",
        "                             zoom_range=[0.95, 1.05],\n",
        "                             height_shift_range=0.10,\n",
        "                             shear_range=0.15)"
      ],
      "execution_count": null,
      "outputs": []
    },
    {
      "cell_type": "code",
      "metadata": {
        "id": "ZTtMCEQh8x1F"
      },
      "source": [
        "input_layer=Input(shape=input_shape)\n",
        "conv_layer_1=Conv2D(8,kernel_size=(3,3),padding='same')(input_layer)\n",
        "batch_norm_1=BatchNormalization()(conv_layer_1)\n",
        "activation_layer_1=Activation('relu')(batch_norm_1)\n",
        "pool_layer_1=MaxPooling2D(pool_size=(2,2),strides=2)(activation_layer_1)\n",
        "conv_layer_2=Conv2D(16,kernel_size=(3,3),padding='same',activation='relu')(pool_layer_1)\n",
        "pool_layer_2=MaxPooling2D(pool_size=(2,2),strides=2)(conv_layer_2)\n",
        "conv_layer_3=Conv2D(32,kernel_size=(3,3),padding='same',activation='relu')(pool_layer_2)\n",
        "pool_layer_3=MaxPooling2D(pool_size=(2,2),strides=2)(conv_layer_3)\n",
        "flat_1=Flatten()(pool_layer_3)\n",
        "hidden_layer_1=Dense(1024,kernel_initializer='he_uniform',activation='relu')(flat_1)\n",
        "output=Dense(num_classes,kernel_initializer='he_uniform',activation='softmax')(hidden_layer_1)\n",
        "model=Model(inputs=input_layer,outputs=output)"
      ],
      "execution_count": null,
      "outputs": []
    },
    {
      "cell_type": "code",
      "metadata": {
        "colab": {
          "base_uri": "https://localhost:8080/"
        },
        "id": "FC82pNHE81-6",
        "outputId": "c39368f1-4044-41d2-8071-6ab1e52e1383"
      },
      "source": [
        "model.summary()"
      ],
      "execution_count": null,
      "outputs": [
        {
          "output_type": "stream",
          "text": [
            "Model: \"model\"\n",
            "_________________________________________________________________\n",
            "Layer (type)                 Output Shape              Param #   \n",
            "=================================================================\n",
            "input_1 (InputLayer)         [(None, 32, 32, 1)]       0         \n",
            "_________________________________________________________________\n",
            "conv2d (Conv2D)              (None, 32, 32, 8)         80        \n",
            "_________________________________________________________________\n",
            "batch_normalization (BatchNo (None, 32, 32, 8)         32        \n",
            "_________________________________________________________________\n",
            "activation (Activation)      (None, 32, 32, 8)         0         \n",
            "_________________________________________________________________\n",
            "max_pooling2d (MaxPooling2D) (None, 16, 16, 8)         0         \n",
            "_________________________________________________________________\n",
            "conv2d_1 (Conv2D)            (None, 16, 16, 16)        1168      \n",
            "_________________________________________________________________\n",
            "max_pooling2d_1 (MaxPooling2 (None, 8, 8, 16)          0         \n",
            "_________________________________________________________________\n",
            "conv2d_2 (Conv2D)            (None, 8, 8, 32)          4640      \n",
            "_________________________________________________________________\n",
            "max_pooling2d_2 (MaxPooling2 (None, 4, 4, 32)          0         \n",
            "_________________________________________________________________\n",
            "flatten (Flatten)            (None, 512)               0         \n",
            "_________________________________________________________________\n",
            "dense (Dense)                (None, 1024)              525312    \n",
            "_________________________________________________________________\n",
            "dense_1 (Dense)              (None, 10)                10250     \n",
            "=================================================================\n",
            "Total params: 541,482\n",
            "Trainable params: 541,466\n",
            "Non-trainable params: 16\n",
            "_________________________________________________________________\n"
          ],
          "name": "stdout"
        }
      ]
    },
    {
      "cell_type": "code",
      "metadata": {
        "id": "wscNLOM5_ZDW"
      },
      "source": [
        "os.chdir('/content/drive/MyDrive/Projects/SVHN/Convolution_Checkpoints')"
      ],
      "execution_count": null,
      "outputs": []
    },
    {
      "cell_type": "code",
      "metadata": {
        "colab": {
          "base_uri": "https://localhost:8080/"
        },
        "id": "2Thij5Vt864R",
        "outputId": "a9d25b69-074f-43e8-f98a-ac08976735c9"
      },
      "source": [
        "optimizer=Adam(learning_rate=1e-5,amsgrad=True)\n",
        "#lr_schedule = LearningRateScheduler(lambda epoch: 1e-4 * 10**(epoch / 10))\n",
        "early_stopping = EarlyStopping(patience=8)\n",
        "model_checkpoint = ModelCheckpoint(\n",
        "                   '/content/drive/MyDrive/Projects/SVHN/Convolution_Checkpoints/best_cnn.h5', \n",
        "                   save_best_only=True)\n",
        "model.compile(loss=categorical_crossentropy,optimizer=optimizer,metrics=['accuracy'])\n",
        "#history=model.fit(x_train,Y_train,validation_data=(x_val,Y_val),epochs=100,batch_size=32,verbose=1)\n",
        "history = model.fit(datagen.flow(x_train, Y_train, batch_size=32),\n",
        "                              epochs=100, validation_data=(x_val, Y_val),\n",
        "                              callbacks=[early_stopping,model_checkpoint])"
      ],
      "execution_count": null,
      "outputs": [
        {
          "output_type": "stream",
          "text": [
            "Epoch 1/100\n",
            "938/938 [==============================] - 11s 12ms/step - loss: 2.3560 - accuracy: 0.1085 - val_loss: 2.2506 - val_accuracy: 0.1947\n",
            "Epoch 2/100\n",
            "938/938 [==============================] - 11s 11ms/step - loss: 2.2410 - accuracy: 0.1885 - val_loss: 2.1651 - val_accuracy: 0.2618\n",
            "Epoch 3/100\n",
            "938/938 [==============================] - 11s 11ms/step - loss: 2.1646 - accuracy: 0.2619 - val_loss: 2.0459 - val_accuracy: 0.3499\n",
            "Epoch 4/100\n",
            "938/938 [==============================] - 11s 11ms/step - loss: 2.0544 - accuracy: 0.3370 - val_loss: 1.8962 - val_accuracy: 0.4298\n",
            "Epoch 5/100\n",
            "938/938 [==============================] - 11s 11ms/step - loss: 1.9224 - accuracy: 0.3932 - val_loss: 1.7420 - val_accuracy: 0.4857\n",
            "Epoch 6/100\n",
            "938/938 [==============================] - 11s 11ms/step - loss: 1.7916 - accuracy: 0.4463 - val_loss: 1.6033 - val_accuracy: 0.5251\n",
            "Epoch 7/100\n",
            "938/938 [==============================] - 11s 12ms/step - loss: 1.6682 - accuracy: 0.4867 - val_loss: 1.4794 - val_accuracy: 0.5710\n",
            "Epoch 8/100\n",
            "938/938 [==============================] - 11s 11ms/step - loss: 1.5627 - accuracy: 0.5225 - val_loss: 1.3813 - val_accuracy: 0.6066\n",
            "Epoch 9/100\n",
            "938/938 [==============================] - 11s 11ms/step - loss: 1.4782 - accuracy: 0.5493 - val_loss: 1.2977 - val_accuracy: 0.6208\n",
            "Epoch 10/100\n",
            "938/938 [==============================] - 11s 11ms/step - loss: 1.4090 - accuracy: 0.5724 - val_loss: 1.2299 - val_accuracy: 0.6439\n",
            "Epoch 11/100\n",
            "938/938 [==============================] - 11s 11ms/step - loss: 1.3400 - accuracy: 0.5979 - val_loss: 1.1656 - val_accuracy: 0.6594\n",
            "Epoch 12/100\n",
            "938/938 [==============================] - 11s 11ms/step - loss: 1.2867 - accuracy: 0.6080 - val_loss: 1.1141 - val_accuracy: 0.6801\n",
            "Epoch 13/100\n",
            "938/938 [==============================] - 11s 12ms/step - loss: 1.2471 - accuracy: 0.6251 - val_loss: 1.0678 - val_accuracy: 0.6879\n",
            "Epoch 14/100\n",
            "938/938 [==============================] - 11s 11ms/step - loss: 1.1989 - accuracy: 0.6418 - val_loss: 1.0281 - val_accuracy: 0.7120\n",
            "Epoch 15/100\n",
            "938/938 [==============================] - 11s 11ms/step - loss: 1.1642 - accuracy: 0.6522 - val_loss: 0.9952 - val_accuracy: 0.7138\n",
            "Epoch 16/100\n",
            "938/938 [==============================] - 11s 12ms/step - loss: 1.1334 - accuracy: 0.6589 - val_loss: 0.9733 - val_accuracy: 0.7119\n",
            "Epoch 17/100\n",
            "938/938 [==============================] - 11s 11ms/step - loss: 1.1091 - accuracy: 0.6667 - val_loss: 0.9418 - val_accuracy: 0.7283\n",
            "Epoch 18/100\n",
            "938/938 [==============================] - 11s 11ms/step - loss: 1.0719 - accuracy: 0.6853 - val_loss: 0.9151 - val_accuracy: 0.7330\n",
            "Epoch 19/100\n",
            "938/938 [==============================] - 11s 12ms/step - loss: 1.0617 - accuracy: 0.6832 - val_loss: 0.8941 - val_accuracy: 0.7397\n",
            "Epoch 20/100\n",
            "938/938 [==============================] - 11s 12ms/step - loss: 1.0498 - accuracy: 0.6860 - val_loss: 0.8716 - val_accuracy: 0.7475\n",
            "Epoch 21/100\n",
            "938/938 [==============================] - 11s 12ms/step - loss: 1.0136 - accuracy: 0.7000 - val_loss: 0.8534 - val_accuracy: 0.7564\n",
            "Epoch 22/100\n",
            "938/938 [==============================] - 12s 12ms/step - loss: 0.9885 - accuracy: 0.7116 - val_loss: 0.8363 - val_accuracy: 0.7599\n",
            "Epoch 23/100\n",
            "938/938 [==============================] - 11s 12ms/step - loss: 0.9726 - accuracy: 0.7134 - val_loss: 0.8212 - val_accuracy: 0.7601\n",
            "Epoch 24/100\n",
            "938/938 [==============================] - 12s 12ms/step - loss: 0.9519 - accuracy: 0.7148 - val_loss: 0.8068 - val_accuracy: 0.7648\n",
            "Epoch 25/100\n",
            "938/938 [==============================] - 11s 12ms/step - loss: 0.9424 - accuracy: 0.7230 - val_loss: 0.7948 - val_accuracy: 0.7697\n",
            "Epoch 26/100\n",
            "938/938 [==============================] - 11s 12ms/step - loss: 0.9461 - accuracy: 0.7206 - val_loss: 0.7768 - val_accuracy: 0.7797\n",
            "Epoch 27/100\n",
            "938/938 [==============================] - 11s 12ms/step - loss: 0.9248 - accuracy: 0.7256 - val_loss: 0.7697 - val_accuracy: 0.7779\n",
            "Epoch 28/100\n",
            "938/938 [==============================] - 11s 12ms/step - loss: 0.9125 - accuracy: 0.7354 - val_loss: 0.7507 - val_accuracy: 0.7855\n",
            "Epoch 29/100\n",
            "938/938 [==============================] - 11s 12ms/step - loss: 0.8926 - accuracy: 0.7343 - val_loss: 0.7429 - val_accuracy: 0.7869\n",
            "Epoch 30/100\n",
            "938/938 [==============================] - 11s 12ms/step - loss: 0.8797 - accuracy: 0.7410 - val_loss: 0.7318 - val_accuracy: 0.7927\n",
            "Epoch 31/100\n",
            "938/938 [==============================] - 11s 12ms/step - loss: 0.8629 - accuracy: 0.7488 - val_loss: 0.7258 - val_accuracy: 0.7977\n",
            "Epoch 32/100\n",
            "938/938 [==============================] - 11s 12ms/step - loss: 0.8589 - accuracy: 0.7477 - val_loss: 0.7122 - val_accuracy: 0.7976\n",
            "Epoch 33/100\n",
            "938/938 [==============================] - 11s 12ms/step - loss: 0.8447 - accuracy: 0.7539 - val_loss: 0.7081 - val_accuracy: 0.7990\n",
            "Epoch 34/100\n",
            "938/938 [==============================] - 11s 12ms/step - loss: 0.8381 - accuracy: 0.7552 - val_loss: 0.6984 - val_accuracy: 0.8013\n",
            "Epoch 35/100\n",
            "938/938 [==============================] - 11s 12ms/step - loss: 0.8227 - accuracy: 0.7568 - val_loss: 0.6933 - val_accuracy: 0.8002\n",
            "Epoch 36/100\n",
            "938/938 [==============================] - 11s 12ms/step - loss: 0.8374 - accuracy: 0.7530 - val_loss: 0.6798 - val_accuracy: 0.8067\n",
            "Epoch 37/100\n",
            "938/938 [==============================] - 11s 12ms/step - loss: 0.8128 - accuracy: 0.7613 - val_loss: 0.6791 - val_accuracy: 0.8067\n",
            "Epoch 38/100\n",
            "938/938 [==============================] - 11s 12ms/step - loss: 0.8116 - accuracy: 0.7631 - val_loss: 0.6707 - val_accuracy: 0.8096\n",
            "Epoch 39/100\n",
            "938/938 [==============================] - 11s 12ms/step - loss: 0.8013 - accuracy: 0.7690 - val_loss: 0.6629 - val_accuracy: 0.8081\n",
            "Epoch 40/100\n",
            "938/938 [==============================] - 11s 12ms/step - loss: 0.7815 - accuracy: 0.7714 - val_loss: 0.6529 - val_accuracy: 0.8156\n",
            "Epoch 41/100\n",
            "938/938 [==============================] - 11s 12ms/step - loss: 0.7965 - accuracy: 0.7665 - val_loss: 0.6473 - val_accuracy: 0.8139\n",
            "Epoch 42/100\n",
            "938/938 [==============================] - 11s 12ms/step - loss: 0.7680 - accuracy: 0.7783 - val_loss: 0.6442 - val_accuracy: 0.8190\n",
            "Epoch 43/100\n",
            "938/938 [==============================] - 11s 12ms/step - loss: 0.7739 - accuracy: 0.7744 - val_loss: 0.6405 - val_accuracy: 0.8170\n",
            "Epoch 44/100\n",
            "938/938 [==============================] - 11s 12ms/step - loss: 0.7710 - accuracy: 0.7723 - val_loss: 0.6305 - val_accuracy: 0.8217\n",
            "Epoch 45/100\n",
            "938/938 [==============================] - 11s 12ms/step - loss: 0.7674 - accuracy: 0.7763 - val_loss: 0.6298 - val_accuracy: 0.8169\n",
            "Epoch 46/100\n",
            "938/938 [==============================] - 11s 12ms/step - loss: 0.7552 - accuracy: 0.7816 - val_loss: 0.6209 - val_accuracy: 0.8231\n",
            "Epoch 47/100\n",
            "938/938 [==============================] - 11s 12ms/step - loss: 0.7406 - accuracy: 0.7860 - val_loss: 0.6218 - val_accuracy: 0.8227\n",
            "Epoch 48/100\n",
            "938/938 [==============================] - 11s 12ms/step - loss: 0.7346 - accuracy: 0.7850 - val_loss: 0.6165 - val_accuracy: 0.8234\n",
            "Epoch 49/100\n",
            "938/938 [==============================] - 11s 12ms/step - loss: 0.7370 - accuracy: 0.7831 - val_loss: 0.6072 - val_accuracy: 0.8285\n",
            "Epoch 50/100\n",
            "938/938 [==============================] - 11s 12ms/step - loss: 0.7220 - accuracy: 0.7852 - val_loss: 0.6021 - val_accuracy: 0.8290\n",
            "Epoch 51/100\n",
            "938/938 [==============================] - 11s 12ms/step - loss: 0.7372 - accuracy: 0.7822 - val_loss: 0.6020 - val_accuracy: 0.8292\n",
            "Epoch 52/100\n",
            "938/938 [==============================] - 11s 12ms/step - loss: 0.7170 - accuracy: 0.7902 - val_loss: 0.5965 - val_accuracy: 0.8299\n",
            "Epoch 53/100\n",
            "938/938 [==============================] - 12s 13ms/step - loss: 0.7188 - accuracy: 0.7909 - val_loss: 0.5997 - val_accuracy: 0.8264\n",
            "Epoch 54/100\n",
            "938/938 [==============================] - 11s 12ms/step - loss: 0.7166 - accuracy: 0.7900 - val_loss: 0.5876 - val_accuracy: 0.8328\n",
            "Epoch 55/100\n",
            "938/938 [==============================] - 12s 13ms/step - loss: 0.7189 - accuracy: 0.7894 - val_loss: 0.5824 - val_accuracy: 0.8361\n",
            "Epoch 56/100\n",
            "938/938 [==============================] - 12s 12ms/step - loss: 0.7048 - accuracy: 0.7934 - val_loss: 0.5816 - val_accuracy: 0.8375\n",
            "Epoch 57/100\n",
            "938/938 [==============================] - 11s 12ms/step - loss: 0.6952 - accuracy: 0.7971 - val_loss: 0.5800 - val_accuracy: 0.8346\n",
            "Epoch 58/100\n",
            "938/938 [==============================] - 11s 12ms/step - loss: 0.7056 - accuracy: 0.7933 - val_loss: 0.5769 - val_accuracy: 0.8345\n",
            "Epoch 59/100\n",
            "938/938 [==============================] - 11s 12ms/step - loss: 0.6866 - accuracy: 0.7991 - val_loss: 0.5681 - val_accuracy: 0.8400\n",
            "Epoch 60/100\n",
            "938/938 [==============================] - 11s 12ms/step - loss: 0.6840 - accuracy: 0.7950 - val_loss: 0.5709 - val_accuracy: 0.8404\n",
            "Epoch 61/100\n",
            "938/938 [==============================] - 12s 12ms/step - loss: 0.6943 - accuracy: 0.7971 - val_loss: 0.5688 - val_accuracy: 0.8378\n",
            "Epoch 62/100\n",
            "938/938 [==============================] - 12s 13ms/step - loss: 0.6791 - accuracy: 0.8019 - val_loss: 0.5605 - val_accuracy: 0.8424\n",
            "Epoch 63/100\n",
            "938/938 [==============================] - 12s 13ms/step - loss: 0.6723 - accuracy: 0.8029 - val_loss: 0.5597 - val_accuracy: 0.8437\n",
            "Epoch 64/100\n",
            "938/938 [==============================] - 12s 13ms/step - loss: 0.6727 - accuracy: 0.8054 - val_loss: 0.5533 - val_accuracy: 0.8448\n",
            "Epoch 65/100\n",
            "938/938 [==============================] - 12s 13ms/step - loss: 0.6624 - accuracy: 0.8051 - val_loss: 0.5528 - val_accuracy: 0.8446\n",
            "Epoch 66/100\n",
            "938/938 [==============================] - 12s 12ms/step - loss: 0.6718 - accuracy: 0.8044 - val_loss: 0.5535 - val_accuracy: 0.8436\n",
            "Epoch 67/100\n",
            "938/938 [==============================] - 12s 12ms/step - loss: 0.6581 - accuracy: 0.8045 - val_loss: 0.5485 - val_accuracy: 0.8477\n",
            "Epoch 68/100\n",
            "938/938 [==============================] - 12s 12ms/step - loss: 0.6641 - accuracy: 0.8046 - val_loss: 0.5493 - val_accuracy: 0.8474\n",
            "Epoch 69/100\n",
            "938/938 [==============================] - 12s 12ms/step - loss: 0.6497 - accuracy: 0.8122 - val_loss: 0.5406 - val_accuracy: 0.8490\n",
            "Epoch 70/100\n",
            "938/938 [==============================] - 12s 13ms/step - loss: 0.6450 - accuracy: 0.8104 - val_loss: 0.5374 - val_accuracy: 0.8482\n",
            "Epoch 71/100\n",
            "938/938 [==============================] - 12s 12ms/step - loss: 0.6495 - accuracy: 0.8105 - val_loss: 0.5366 - val_accuracy: 0.8497\n",
            "Epoch 72/100\n",
            "938/938 [==============================] - 12s 12ms/step - loss: 0.6362 - accuracy: 0.8155 - val_loss: 0.5357 - val_accuracy: 0.8525\n",
            "Epoch 73/100\n",
            "938/938 [==============================] - 12s 12ms/step - loss: 0.6374 - accuracy: 0.8130 - val_loss: 0.5313 - val_accuracy: 0.8521\n",
            "Epoch 74/100\n",
            "938/938 [==============================] - 11s 12ms/step - loss: 0.6282 - accuracy: 0.8188 - val_loss: 0.5294 - val_accuracy: 0.8528\n",
            "Epoch 75/100\n",
            "938/938 [==============================] - 11s 12ms/step - loss: 0.6347 - accuracy: 0.8164 - val_loss: 0.5254 - val_accuracy: 0.8550\n",
            "Epoch 76/100\n",
            "938/938 [==============================] - 11s 12ms/step - loss: 0.6321 - accuracy: 0.8153 - val_loss: 0.5241 - val_accuracy: 0.8536\n",
            "Epoch 77/100\n",
            "938/938 [==============================] - 11s 12ms/step - loss: 0.6166 - accuracy: 0.8223 - val_loss: 0.5218 - val_accuracy: 0.8525\n",
            "Epoch 78/100\n",
            "938/938 [==============================] - 11s 12ms/step - loss: 0.6220 - accuracy: 0.8177 - val_loss: 0.5236 - val_accuracy: 0.8534\n",
            "Epoch 79/100\n",
            "938/938 [==============================] - 11s 12ms/step - loss: 0.6201 - accuracy: 0.8188 - val_loss: 0.5151 - val_accuracy: 0.8572\n",
            "Epoch 80/100\n",
            "938/938 [==============================] - 11s 12ms/step - loss: 0.6254 - accuracy: 0.8182 - val_loss: 0.5144 - val_accuracy: 0.8569\n",
            "Epoch 81/100\n",
            "938/938 [==============================] - 11s 12ms/step - loss: 0.6151 - accuracy: 0.8218 - val_loss: 0.5143 - val_accuracy: 0.8572\n",
            "Epoch 82/100\n",
            "938/938 [==============================] - 11s 12ms/step - loss: 0.6106 - accuracy: 0.8243 - val_loss: 0.5134 - val_accuracy: 0.8582\n",
            "Epoch 83/100\n",
            "938/938 [==============================] - 11s 12ms/step - loss: 0.6008 - accuracy: 0.8240 - val_loss: 0.5110 - val_accuracy: 0.8572\n",
            "Epoch 84/100\n",
            "938/938 [==============================] - 11s 12ms/step - loss: 0.6039 - accuracy: 0.8224 - val_loss: 0.5054 - val_accuracy: 0.8611\n",
            "Epoch 85/100\n",
            "938/938 [==============================] - 11s 12ms/step - loss: 0.5986 - accuracy: 0.8264 - val_loss: 0.5024 - val_accuracy: 0.8623\n",
            "Epoch 86/100\n",
            "938/938 [==============================] - 11s 12ms/step - loss: 0.5978 - accuracy: 0.8269 - val_loss: 0.5081 - val_accuracy: 0.8579\n",
            "Epoch 87/100\n",
            "938/938 [==============================] - 11s 12ms/step - loss: 0.5981 - accuracy: 0.8260 - val_loss: 0.5021 - val_accuracy: 0.8608\n",
            "Epoch 88/100\n",
            "938/938 [==============================] - 12s 12ms/step - loss: 0.5922 - accuracy: 0.8287 - val_loss: 0.5047 - val_accuracy: 0.8588\n",
            "Epoch 89/100\n",
            "938/938 [==============================] - 11s 12ms/step - loss: 0.5900 - accuracy: 0.8290 - val_loss: 0.5001 - val_accuracy: 0.8612\n",
            "Epoch 90/100\n",
            "938/938 [==============================] - 11s 12ms/step - loss: 0.5896 - accuracy: 0.8269 - val_loss: 0.4965 - val_accuracy: 0.8617\n",
            "Epoch 91/100\n",
            "938/938 [==============================] - 11s 12ms/step - loss: 0.5999 - accuracy: 0.8257 - val_loss: 0.4969 - val_accuracy: 0.8633\n",
            "Epoch 92/100\n",
            "938/938 [==============================] - 11s 12ms/step - loss: 0.5827 - accuracy: 0.8316 - val_loss: 0.4944 - val_accuracy: 0.8622\n",
            "Epoch 93/100\n",
            "938/938 [==============================] - 11s 12ms/step - loss: 0.5911 - accuracy: 0.8306 - val_loss: 0.4887 - val_accuracy: 0.8650\n",
            "Epoch 94/100\n",
            "938/938 [==============================] - 11s 12ms/step - loss: 0.5710 - accuracy: 0.8329 - val_loss: 0.4870 - val_accuracy: 0.8666\n",
            "Epoch 95/100\n",
            "938/938 [==============================] - 11s 12ms/step - loss: 0.5881 - accuracy: 0.8293 - val_loss: 0.4886 - val_accuracy: 0.8653\n",
            "Epoch 96/100\n",
            "938/938 [==============================] - 11s 12ms/step - loss: 0.5816 - accuracy: 0.8309 - val_loss: 0.4856 - val_accuracy: 0.8681\n",
            "Epoch 97/100\n",
            "938/938 [==============================] - 11s 12ms/step - loss: 0.5729 - accuracy: 0.8329 - val_loss: 0.4865 - val_accuracy: 0.8648\n",
            "Epoch 98/100\n",
            "938/938 [==============================] - 11s 12ms/step - loss: 0.5624 - accuracy: 0.8371 - val_loss: 0.4812 - val_accuracy: 0.8682\n",
            "Epoch 99/100\n",
            "938/938 [==============================] - 11s 12ms/step - loss: 0.5653 - accuracy: 0.8347 - val_loss: 0.4812 - val_accuracy: 0.8679\n",
            "Epoch 100/100\n",
            "938/938 [==============================] - 11s 12ms/step - loss: 0.5664 - accuracy: 0.8338 - val_loss: 0.4796 - val_accuracy: 0.8669\n"
          ],
          "name": "stdout"
        }
      ]
    },
    {
      "cell_type": "code",
      "metadata": {
        "colab": {
          "base_uri": "https://localhost:8080/",
          "height": 532
        },
        "id": "gCpZvnB59X47",
        "outputId": "e12f8a8c-4fc0-4630-f5db-65efb617e31e"
      },
      "source": [
        "history_df = pd.DataFrame(history.history)\n",
        "history_df.loc[:, ['loss', 'val_loss']].plot();\n",
        "print(\"Minimum validation loss: {}\".format(history_df['val_loss'].min()))\n",
        "history_df = pd.DataFrame(history.history)\n",
        "history_df.loc[:, ['accuracy', 'val_accuracy']].plot();\n",
        "#print(\"Minimum validation loss: {}\".format(history_df['val_loss'].min()))"
      ],
      "execution_count": null,
      "outputs": [
        {
          "output_type": "stream",
          "text": [
            "Minimum validation loss: 0.47955936193466187\n"
          ],
          "name": "stdout"
        },
        {
          "output_type": "display_data",
          "data": {
            "image/png": "[encoded data removed]",
            "text/plain": [
              "<Figure size 432x288 with 1 Axes>"
            ]
          },
          "metadata": {
            "tags": []
          }
        },
        {
          "output_type": "display_data",
          "data": {
            "image/png": "[encoded data removed]",
            "text/plain": [
              "<Figure size 432x288 with 1 Axes>"
            ]
          },
          "metadata": {
            "tags": []
          }
        }
      ]
    },
    {
      "cell_type": "code",
      "metadata": {
        "colab": {
          "base_uri": "https://localhost:8080/"
        },
        "id": "OTiZDM67C8BT",
        "outputId": "b1aefdf8-f479-4474-8001-ef96ba092c3e"
      },
      "source": [
        "model.evaluate(X_test,y_test)\n",
        "model.evaluate(x_val,Y_val)\n",
        "\n",
        "model.evaluate(x_train , Y_train)"
      ],
      "execution_count": null,
      "outputs": [
        {
          "output_type": "stream",
          "text": [
            "563/563 [==============================] - 2s 3ms/step - loss: 0.4873 - accuracy: 0.8672\n",
            "375/375 [==============================] - 1s 2ms/step - loss: 0.4796 - accuracy: 0.8669\n",
            "938/938 [==============================] - 3s 3ms/step - loss: 0.4363 - accuracy: 0.8769\n"
          ],
          "name": "stdout"
        },
        {
          "output_type": "execute_result",
          "data": {
            "text/plain": [
              "[0.4362945258617401, 0.8769333362579346]"
            ]
          },
          "metadata": {
            "tags": []
          },
          "execution_count": 47
        }
      ]
    },
    {
      "cell_type": "markdown",
      "metadata": {
        "id": "ZlmI1oxZI-y4"
      },
      "source": [
        "# Model 1D Modified Model 1C with Increased Filters"
      ]
    },
    {
      "cell_type": "code",
      "metadata": {
        "id": "uByic8BsJF9V"
      },
      "source": [
        "datagen = ImageDataGenerator(rotation_range=8,\n",
        "                             zoom_range=[0.95, 1.05],\n",
        "                             height_shift_range=0.10,\n",
        "                             shear_range=0.15)"
      ],
      "execution_count": null,
      "outputs": []
    },
    {
      "cell_type": "code",
      "metadata": {
        "id": "kfjKdAX6JISL"
      },
      "source": [
        "input_layer=Input(shape=input_shape)\n",
        "conv_layer_1=Conv2D(16,kernel_size=(3,3),padding='same')(input_layer)\n",
        "batch_norm_1=BatchNormalization()(conv_layer_1)\n",
        "activation_layer_1=Activation('relu')(batch_norm_1)\n",
        "pool_layer_1=MaxPooling2D(pool_size=(2,2),strides=2)(activation_layer_1)\n",
        "conv_layer_2=Conv2D(32,kernel_size=(3,3),padding='same',activation='relu')(pool_layer_1)\n",
        "pool_layer_2=MaxPooling2D(pool_size=(2,2),strides=2)(conv_layer_2)\n",
        "conv_layer_3=Conv2D(64,kernel_size=(3,3),padding='same',activation='relu')(pool_layer_2)\n",
        "pool_layer_3=MaxPooling2D(pool_size=(2,2),strides=2)(conv_layer_3)\n",
        "flat_1=Flatten()(pool_layer_3)\n",
        "hidden_layer_1=Dense(1024,kernel_initializer='he_uniform',activation='relu')(flat_1)\n",
        "output=Dense(num_classes,kernel_initializer='he_uniform',activation='softmax')(hidden_layer_1)\n",
        "model=Model(inputs=input_layer,outputs=output)"
      ],
      "execution_count": null,
      "outputs": []
    },
    {
      "cell_type": "code",
      "metadata": {
        "colab": {
          "base_uri": "https://localhost:8080/"
        },
        "id": "Ji4kjCB2JXiG",
        "outputId": "ef9bb0ce-5da0-41a9-8bc0-a3c8dad52d11"
      },
      "source": [
        "model.summary()"
      ],
      "execution_count": null,
      "outputs": [
        {
          "output_type": "stream",
          "text": [
            "Model: \"model_1\"\n",
            "_________________________________________________________________\n",
            "Layer (type)                 Output Shape              Param #   \n",
            "=================================================================\n",
            "input_2 (InputLayer)         [(None, 32, 32, 1)]       0         \n",
            "_________________________________________________________________\n",
            "conv2d_3 (Conv2D)            (None, 32, 32, 16)        160       \n",
            "_________________________________________________________________\n",
            "batch_normalization_1 (Batch (None, 32, 32, 16)        64        \n",
            "_________________________________________________________________\n",
            "activation_1 (Activation)    (None, 32, 32, 16)        0         \n",
            "_________________________________________________________________\n",
            "max_pooling2d_3 (MaxPooling2 (None, 16, 16, 16)        0         \n",
            "_________________________________________________________________\n",
            "conv2d_4 (Conv2D)            (None, 16, 16, 32)        4640      \n",
            "_________________________________________________________________\n",
            "max_pooling2d_4 (MaxPooling2 (None, 8, 8, 32)          0         \n",
            "_________________________________________________________________\n",
            "conv2d_5 (Conv2D)            (None, 8, 8, 64)          18496     \n",
            "_________________________________________________________________\n",
            "max_pooling2d_5 (MaxPooling2 (None, 4, 4, 64)          0         \n",
            "_________________________________________________________________\n",
            "flatten_1 (Flatten)          (None, 1024)              0         \n",
            "_________________________________________________________________\n",
            "dense_2 (Dense)              (None, 1024)              1049600   \n",
            "_________________________________________________________________\n",
            "dense_3 (Dense)              (None, 10)                10250     \n",
            "=================================================================\n",
            "Total params: 1,083,210\n",
            "Trainable params: 1,083,178\n",
            "Non-trainable params: 32\n",
            "_________________________________________________________________\n"
          ],
          "name": "stdout"
        }
      ]
    },
    {
      "cell_type": "code",
      "metadata": {
        "colab": {
          "base_uri": "https://localhost:8080/"
        },
        "id": "ggz2aXh8Jbhz",
        "outputId": "1f873ec0-6627-454d-de3f-b2cb1194726e"
      },
      "source": [
        "optimizer=Adam(learning_rate=1e-5,amsgrad=True)\n",
        "#lr_schedule = LearningRateScheduler(lambda epoch: 1e-4 * 10**(epoch / 10))\n",
        "early_stopping = EarlyStopping(patience=8)\n",
        "model_checkpoint = ModelCheckpoint(\n",
        "                   '/content/drive/MyDrive/Projects/SVHN/Convolution_Checkpoints/best_cnn.h5', \n",
        "                   save_best_only=True)\n",
        "model.compile(loss=categorical_crossentropy,optimizer=optimizer,metrics=['accuracy'])\n",
        "#history=model.fit(x_train,Y_train,validation_data=(x_val,Y_val),epochs=100,batch_size=32,verbose=1)\n",
        "history = model.fit(datagen.flow(x_train, Y_train, batch_size=32),\n",
        "                              epochs=100, validation_data=(x_val, Y_val),\n",
        "                              callbacks=[early_stopping,model_checkpoint])"
      ],
      "execution_count": null,
      "outputs": [
        {
          "output_type": "stream",
          "text": [
            "Epoch 1/100\n",
            "938/938 [==============================] - 12s 12ms/step - loss: 2.3026 - accuracy: 0.1208 - val_loss: 2.2359 - val_accuracy: 0.2023\n",
            "Epoch 2/100\n",
            "938/938 [==============================] - 11s 12ms/step - loss: 2.2205 - accuracy: 0.2273 - val_loss: 2.1248 - val_accuracy: 0.3043\n",
            "Epoch 3/100\n",
            "938/938 [==============================] - 11s 12ms/step - loss: 2.0983 - accuracy: 0.3378 - val_loss: 1.9355 - val_accuracy: 0.4362\n",
            "Epoch 4/100\n",
            "938/938 [==============================] - 11s 12ms/step - loss: 1.9240 - accuracy: 0.4222 - val_loss: 1.7209 - val_accuracy: 0.5047\n",
            "Epoch 5/100\n",
            "938/938 [==============================] - 11s 12ms/step - loss: 1.7308 - accuracy: 0.5030 - val_loss: 1.5103 - val_accuracy: 0.5955\n",
            "Epoch 6/100\n",
            "938/938 [==============================] - 11s 12ms/step - loss: 1.5519 - accuracy: 0.5655 - val_loss: 1.3468 - val_accuracy: 0.6382\n",
            "Epoch 7/100\n",
            "938/938 [==============================] - 11s 12ms/step - loss: 1.4091 - accuracy: 0.6031 - val_loss: 1.2142 - val_accuracy: 0.6677\n",
            "Epoch 8/100\n",
            "938/938 [==============================] - 11s 12ms/step - loss: 1.2909 - accuracy: 0.6336 - val_loss: 1.1147 - val_accuracy: 0.7003\n",
            "Epoch 9/100\n",
            "938/938 [==============================] - 11s 12ms/step - loss: 1.2150 - accuracy: 0.6521 - val_loss: 1.0410 - val_accuracy: 0.7142\n",
            "Epoch 10/100\n",
            "938/938 [==============================] - 11s 12ms/step - loss: 1.1325 - accuracy: 0.6745 - val_loss: 0.9781 - val_accuracy: 0.7287\n",
            "Epoch 11/100\n",
            "938/938 [==============================] - 11s 12ms/step - loss: 1.0828 - accuracy: 0.6923 - val_loss: 0.9192 - val_accuracy: 0.7517\n",
            "Epoch 12/100\n",
            "938/938 [==============================] - 11s 12ms/step - loss: 1.0307 - accuracy: 0.7040 - val_loss: 0.8883 - val_accuracy: 0.7552\n",
            "Epoch 13/100\n",
            "938/938 [==============================] - 11s 12ms/step - loss: 0.9997 - accuracy: 0.7117 - val_loss: 0.8534 - val_accuracy: 0.7684\n",
            "Epoch 14/100\n",
            "938/938 [==============================] - 11s 12ms/step - loss: 0.9616 - accuracy: 0.7224 - val_loss: 0.8170 - val_accuracy: 0.7776\n",
            "Epoch 15/100\n",
            "938/938 [==============================] - 11s 12ms/step - loss: 0.9221 - accuracy: 0.7356 - val_loss: 0.7879 - val_accuracy: 0.7814\n",
            "Epoch 16/100\n",
            "938/938 [==============================] - 11s 12ms/step - loss: 0.9088 - accuracy: 0.7409 - val_loss: 0.7793 - val_accuracy: 0.7823\n",
            "Epoch 17/100\n",
            "938/938 [==============================] - 11s 11ms/step - loss: 0.8817 - accuracy: 0.7482 - val_loss: 0.7436 - val_accuracy: 0.7978\n",
            "Epoch 18/100\n",
            "938/938 [==============================] - 11s 12ms/step - loss: 0.8675 - accuracy: 0.7503 - val_loss: 0.7244 - val_accuracy: 0.8061\n",
            "Epoch 19/100\n",
            "938/938 [==============================] - 11s 12ms/step - loss: 0.8416 - accuracy: 0.7591 - val_loss: 0.7128 - val_accuracy: 0.8078\n",
            "Epoch 20/100\n",
            "938/938 [==============================] - 11s 12ms/step - loss: 0.8282 - accuracy: 0.7621 - val_loss: 0.6953 - val_accuracy: 0.8098\n",
            "Epoch 21/100\n",
            "938/938 [==============================] - 11s 12ms/step - loss: 0.8134 - accuracy: 0.7671 - val_loss: 0.6802 - val_accuracy: 0.8167\n",
            "Epoch 22/100\n",
            "938/938 [==============================] - 11s 12ms/step - loss: 0.7966 - accuracy: 0.7740 - val_loss: 0.6687 - val_accuracy: 0.8202\n",
            "Epoch 23/100\n",
            "938/938 [==============================] - 11s 12ms/step - loss: 0.7754 - accuracy: 0.7764 - val_loss: 0.6575 - val_accuracy: 0.8229\n",
            "Epoch 24/100\n",
            "938/938 [==============================] - 11s 12ms/step - loss: 0.7632 - accuracy: 0.7820 - val_loss: 0.6462 - val_accuracy: 0.8265\n",
            "Epoch 25/100\n",
            "938/938 [==============================] - 11s 12ms/step - loss: 0.7621 - accuracy: 0.7793 - val_loss: 0.6388 - val_accuracy: 0.8240\n",
            "Epoch 26/100\n",
            "938/938 [==============================] - 11s 12ms/step - loss: 0.7417 - accuracy: 0.7869 - val_loss: 0.6208 - val_accuracy: 0.8307\n",
            "Epoch 27/100\n",
            "938/938 [==============================] - 11s 12ms/step - loss: 0.7290 - accuracy: 0.7862 - val_loss: 0.6167 - val_accuracy: 0.8321\n",
            "Epoch 28/100\n",
            "938/938 [==============================] - 11s 12ms/step - loss: 0.7304 - accuracy: 0.7906 - val_loss: 0.6040 - val_accuracy: 0.8364\n",
            "Epoch 29/100\n",
            "938/938 [==============================] - 11s 12ms/step - loss: 0.7288 - accuracy: 0.7867 - val_loss: 0.5965 - val_accuracy: 0.8397\n",
            "Epoch 30/100\n",
            "938/938 [==============================] - 11s 12ms/step - loss: 0.7117 - accuracy: 0.7998 - val_loss: 0.5899 - val_accuracy: 0.8431\n",
            "Epoch 31/100\n",
            "938/938 [==============================] - 11s 12ms/step - loss: 0.6913 - accuracy: 0.8034 - val_loss: 0.5919 - val_accuracy: 0.8372\n",
            "Epoch 32/100\n",
            "938/938 [==============================] - 11s 12ms/step - loss: 0.7045 - accuracy: 0.7929 - val_loss: 0.5817 - val_accuracy: 0.8421\n",
            "Epoch 33/100\n",
            "938/938 [==============================] - 11s 12ms/step - loss: 0.6779 - accuracy: 0.8038 - val_loss: 0.5721 - val_accuracy: 0.8447\n",
            "Epoch 34/100\n",
            "938/938 [==============================] - 11s 12ms/step - loss: 0.6835 - accuracy: 0.8038 - val_loss: 0.5655 - val_accuracy: 0.8498\n",
            "Epoch 35/100\n",
            "938/938 [==============================] - 11s 12ms/step - loss: 0.6691 - accuracy: 0.8113 - val_loss: 0.5607 - val_accuracy: 0.8503\n",
            "Epoch 36/100\n",
            "938/938 [==============================] - 11s 12ms/step - loss: 0.6581 - accuracy: 0.8104 - val_loss: 0.5628 - val_accuracy: 0.8446\n",
            "Epoch 37/100\n",
            "938/938 [==============================] - 11s 12ms/step - loss: 0.6571 - accuracy: 0.8130 - val_loss: 0.5542 - val_accuracy: 0.8507\n",
            "Epoch 38/100\n",
            "938/938 [==============================] - 11s 12ms/step - loss: 0.6438 - accuracy: 0.8134 - val_loss: 0.5489 - val_accuracy: 0.8508\n",
            "Epoch 39/100\n",
            "938/938 [==============================] - 11s 12ms/step - loss: 0.6454 - accuracy: 0.8153 - val_loss: 0.5437 - val_accuracy: 0.8515\n",
            "Epoch 40/100\n",
            "938/938 [==============================] - 11s 12ms/step - loss: 0.6416 - accuracy: 0.8175 - val_loss: 0.5376 - val_accuracy: 0.8527\n",
            "Epoch 41/100\n",
            "938/938 [==============================] - 11s 12ms/step - loss: 0.6329 - accuracy: 0.8209 - val_loss: 0.5326 - val_accuracy: 0.8576\n",
            "Epoch 42/100\n",
            "938/938 [==============================] - 11s 12ms/step - loss: 0.6303 - accuracy: 0.8204 - val_loss: 0.5322 - val_accuracy: 0.8548\n",
            "Epoch 43/100\n",
            "938/938 [==============================] - 11s 12ms/step - loss: 0.6328 - accuracy: 0.8209 - val_loss: 0.5234 - val_accuracy: 0.8607\n",
            "Epoch 44/100\n",
            "938/938 [==============================] - 11s 12ms/step - loss: 0.6179 - accuracy: 0.8245 - val_loss: 0.5229 - val_accuracy: 0.8587\n",
            "Epoch 45/100\n",
            "938/938 [==============================] - 11s 12ms/step - loss: 0.6246 - accuracy: 0.8190 - val_loss: 0.5178 - val_accuracy: 0.8602\n",
            "Epoch 46/100\n",
            "938/938 [==============================] - 11s 12ms/step - loss: 0.6145 - accuracy: 0.8253 - val_loss: 0.5180 - val_accuracy: 0.8570\n",
            "Epoch 47/100\n",
            "938/938 [==============================] - 11s 12ms/step - loss: 0.5994 - accuracy: 0.8276 - val_loss: 0.5206 - val_accuracy: 0.8559\n",
            "Epoch 48/100\n",
            "938/938 [==============================] - 11s 12ms/step - loss: 0.6076 - accuracy: 0.8283 - val_loss: 0.5159 - val_accuracy: 0.8609\n",
            "Epoch 49/100\n",
            "938/938 [==============================] - 11s 12ms/step - loss: 0.5986 - accuracy: 0.8294 - val_loss: 0.5048 - val_accuracy: 0.8620\n",
            "Epoch 50/100\n",
            "938/938 [==============================] - 11s 12ms/step - loss: 0.5858 - accuracy: 0.8312 - val_loss: 0.5126 - val_accuracy: 0.8618\n",
            "Epoch 51/100\n",
            "938/938 [==============================] - 11s 12ms/step - loss: 0.5853 - accuracy: 0.8360 - val_loss: 0.5033 - val_accuracy: 0.8620\n",
            "Epoch 52/100\n",
            "938/938 [==============================] - 11s 12ms/step - loss: 0.5781 - accuracy: 0.8336 - val_loss: 0.4971 - val_accuracy: 0.8642\n",
            "Epoch 53/100\n",
            "938/938 [==============================] - 11s 12ms/step - loss: 0.5746 - accuracy: 0.8367 - val_loss: 0.4964 - val_accuracy: 0.8651\n",
            "Epoch 54/100\n",
            "938/938 [==============================] - 11s 12ms/step - loss: 0.5679 - accuracy: 0.8371 - val_loss: 0.4913 - val_accuracy: 0.8659\n",
            "Epoch 55/100\n",
            "938/938 [==============================] - 11s 12ms/step - loss: 0.5615 - accuracy: 0.8406 - val_loss: 0.4925 - val_accuracy: 0.8670\n",
            "Epoch 56/100\n",
            "938/938 [==============================] - 11s 12ms/step - loss: 0.5605 - accuracy: 0.8425 - val_loss: 0.4883 - val_accuracy: 0.8683\n",
            "Epoch 57/100\n",
            "938/938 [==============================] - 11s 12ms/step - loss: 0.5717 - accuracy: 0.8350 - val_loss: 0.4804 - val_accuracy: 0.8717\n",
            "Epoch 58/100\n",
            "938/938 [==============================] - 11s 12ms/step - loss: 0.5664 - accuracy: 0.8374 - val_loss: 0.4842 - val_accuracy: 0.8683\n",
            "Epoch 59/100\n",
            "938/938 [==============================] - 11s 12ms/step - loss: 0.5538 - accuracy: 0.8400 - val_loss: 0.4807 - val_accuracy: 0.8678\n",
            "Epoch 60/100\n",
            "938/938 [==============================] - 11s 12ms/step - loss: 0.5633 - accuracy: 0.8399 - val_loss: 0.4896 - val_accuracy: 0.8634\n",
            "Epoch 61/100\n",
            "938/938 [==============================] - 11s 12ms/step - loss: 0.5559 - accuracy: 0.8389 - val_loss: 0.4807 - val_accuracy: 0.8671\n",
            "Epoch 62/100\n",
            "938/938 [==============================] - 11s 12ms/step - loss: 0.5346 - accuracy: 0.8486 - val_loss: 0.4833 - val_accuracy: 0.8643\n",
            "Epoch 63/100\n",
            "938/938 [==============================] - 11s 12ms/step - loss: 0.5299 - accuracy: 0.8487 - val_loss: 0.4755 - val_accuracy: 0.8673\n",
            "Epoch 64/100\n",
            "938/938 [==============================] - 11s 12ms/step - loss: 0.5386 - accuracy: 0.8484 - val_loss: 0.4738 - val_accuracy: 0.8680\n",
            "Epoch 65/100\n",
            "938/938 [==============================] - 11s 12ms/step - loss: 0.5244 - accuracy: 0.8478 - val_loss: 0.4638 - val_accuracy: 0.8733\n",
            "Epoch 66/100\n",
            "938/938 [==============================] - 11s 12ms/step - loss: 0.5318 - accuracy: 0.8449 - val_loss: 0.4631 - val_accuracy: 0.8736\n",
            "Epoch 67/100\n",
            "938/938 [==============================] - 11s 12ms/step - loss: 0.5385 - accuracy: 0.8437 - val_loss: 0.4605 - val_accuracy: 0.8742\n",
            "Epoch 68/100\n",
            "938/938 [==============================] - 11s 12ms/step - loss: 0.5350 - accuracy: 0.8428 - val_loss: 0.4584 - val_accuracy: 0.8747\n",
            "Epoch 69/100\n",
            "938/938 [==============================] - 11s 12ms/step - loss: 0.5171 - accuracy: 0.8546 - val_loss: 0.4593 - val_accuracy: 0.8742\n",
            "Epoch 70/100\n",
            "938/938 [==============================] - 11s 12ms/step - loss: 0.5173 - accuracy: 0.8533 - val_loss: 0.4654 - val_accuracy: 0.8719\n",
            "Epoch 71/100\n",
            "938/938 [==============================] - 11s 12ms/step - loss: 0.5259 - accuracy: 0.8472 - val_loss: 0.4649 - val_accuracy: 0.8708\n",
            "Epoch 72/100\n",
            "938/938 [==============================] - 11s 12ms/step - loss: 0.5173 - accuracy: 0.8531 - val_loss: 0.4505 - val_accuracy: 0.8769\n",
            "Epoch 73/100\n",
            "938/938 [==============================] - 11s 12ms/step - loss: 0.5120 - accuracy: 0.8526 - val_loss: 0.4512 - val_accuracy: 0.8765\n",
            "Epoch 74/100\n",
            "938/938 [==============================] - 11s 12ms/step - loss: 0.5150 - accuracy: 0.8552 - val_loss: 0.4512 - val_accuracy: 0.8753\n",
            "Epoch 75/100\n",
            "938/938 [==============================] - 11s 12ms/step - loss: 0.5083 - accuracy: 0.8523 - val_loss: 0.4461 - val_accuracy: 0.8763\n",
            "Epoch 76/100\n",
            "938/938 [==============================] - 11s 12ms/step - loss: 0.5118 - accuracy: 0.8535 - val_loss: 0.4488 - val_accuracy: 0.8757\n",
            "Epoch 77/100\n",
            "938/938 [==============================] - 11s 12ms/step - loss: 0.5095 - accuracy: 0.8551 - val_loss: 0.4478 - val_accuracy: 0.8748\n",
            "Epoch 78/100\n",
            "938/938 [==============================] - 11s 12ms/step - loss: 0.5039 - accuracy: 0.8589 - val_loss: 0.4439 - val_accuracy: 0.8774\n",
            "Epoch 79/100\n",
            "938/938 [==============================] - 11s 12ms/step - loss: 0.4963 - accuracy: 0.8552 - val_loss: 0.4404 - val_accuracy: 0.8782\n",
            "Epoch 80/100\n",
            "938/938 [==============================] - 11s 12ms/step - loss: 0.4975 - accuracy: 0.8549 - val_loss: 0.4446 - val_accuracy: 0.8787\n",
            "Epoch 81/100\n",
            "938/938 [==============================] - 11s 12ms/step - loss: 0.4936 - accuracy: 0.8569 - val_loss: 0.4358 - val_accuracy: 0.8798\n",
            "Epoch 82/100\n",
            "938/938 [==============================] - 11s 12ms/step - loss: 0.4936 - accuracy: 0.8583 - val_loss: 0.4360 - val_accuracy: 0.8810\n",
            "Epoch 83/100\n",
            "938/938 [==============================] - 11s 12ms/step - loss: 0.4753 - accuracy: 0.8640 - val_loss: 0.4323 - val_accuracy: 0.8811\n",
            "Epoch 84/100\n",
            "938/938 [==============================] - 11s 12ms/step - loss: 0.4733 - accuracy: 0.8624 - val_loss: 0.4355 - val_accuracy: 0.8793\n",
            "Epoch 85/100\n",
            "938/938 [==============================] - 11s 12ms/step - loss: 0.4823 - accuracy: 0.8626 - val_loss: 0.4322 - val_accuracy: 0.8811\n",
            "Epoch 86/100\n",
            "938/938 [==============================] - 11s 12ms/step - loss: 0.4782 - accuracy: 0.8666 - val_loss: 0.4329 - val_accuracy: 0.8798\n",
            "Epoch 87/100\n",
            "938/938 [==============================] - 11s 12ms/step - loss: 0.4620 - accuracy: 0.8666 - val_loss: 0.4276 - val_accuracy: 0.8823\n",
            "Epoch 88/100\n",
            "938/938 [==============================] - 11s 12ms/step - loss: 0.4728 - accuracy: 0.8623 - val_loss: 0.4258 - val_accuracy: 0.8834\n",
            "Epoch 89/100\n",
            "938/938 [==============================] - 11s 12ms/step - loss: 0.4684 - accuracy: 0.8653 - val_loss: 0.4220 - val_accuracy: 0.8838\n",
            "Epoch 90/100\n",
            "938/938 [==============================] - 11s 12ms/step - loss: 0.4647 - accuracy: 0.8659 - val_loss: 0.4225 - val_accuracy: 0.8852\n",
            "Epoch 91/100\n",
            "938/938 [==============================] - 11s 12ms/step - loss: 0.4568 - accuracy: 0.8686 - val_loss: 0.4277 - val_accuracy: 0.8820\n",
            "Epoch 92/100\n",
            "938/938 [==============================] - 11s 12ms/step - loss: 0.4487 - accuracy: 0.8718 - val_loss: 0.4250 - val_accuracy: 0.8848\n",
            "Epoch 93/100\n",
            "938/938 [==============================] - 11s 12ms/step - loss: 0.4586 - accuracy: 0.8633 - val_loss: 0.4205 - val_accuracy: 0.8850\n",
            "Epoch 94/100\n",
            "938/938 [==============================] - 11s 12ms/step - loss: 0.4603 - accuracy: 0.8696 - val_loss: 0.4190 - val_accuracy: 0.8852\n",
            "Epoch 95/100\n",
            "938/938 [==============================] - 11s 12ms/step - loss: 0.4508 - accuracy: 0.8724 - val_loss: 0.4219 - val_accuracy: 0.8821\n",
            "Epoch 96/100\n",
            "938/938 [==============================] - 11s 12ms/step - loss: 0.4534 - accuracy: 0.8698 - val_loss: 0.4159 - val_accuracy: 0.8856\n",
            "Epoch 97/100\n",
            "938/938 [==============================] - 11s 12ms/step - loss: 0.4431 - accuracy: 0.8724 - val_loss: 0.4186 - val_accuracy: 0.8842\n",
            "Epoch 98/100\n",
            "938/938 [==============================] - 11s 12ms/step - loss: 0.4514 - accuracy: 0.8712 - val_loss: 0.4144 - val_accuracy: 0.8867\n",
            "Epoch 99/100\n",
            "938/938 [==============================] - 11s 12ms/step - loss: 0.4402 - accuracy: 0.8735 - val_loss: 0.4119 - val_accuracy: 0.8867\n",
            "Epoch 100/100\n",
            "938/938 [==============================] - 11s 12ms/step - loss: 0.4447 - accuracy: 0.8713 - val_loss: 0.4085 - val_accuracy: 0.8873\n"
          ],
          "name": "stdout"
        }
      ]
    },
    {
      "cell_type": "code",
      "metadata": {
        "colab": {
          "base_uri": "https://localhost:8080/",
          "height": 528
        },
        "id": "SO1FoSsqKACF",
        "outputId": "986bbc42-740e-4170-b069-ef66ba604df9"
      },
      "source": [
        "history_df = pd.DataFrame(history.history)\n",
        "history_df.loc[:, ['loss', 'val_loss']].plot();\n",
        "print(\"Minimum validation loss: {}\".format(history_df['val_loss'].min()))\n",
        "history_df = pd.DataFrame(history.history)\n",
        "history_df.loc[:, ['accuracy', 'val_accuracy']].plot();\n",
        "#print(\"Minimum validation loss: {}\".format(history_df['val_loss'].min()))"
      ],
      "execution_count": null,
      "outputs": [
        {
          "output_type": "stream",
          "text": [
            "Minimum validation loss: 0.40849819779396057\n"
          ],
          "name": "stdout"
        },
        {
          "output_type": "display_data",
          "data": {
            "image/png": "[encoded data removed]",
            "text/plain": [
              "<Figure size 432x288 with 1 Axes>"
            ]
          },
          "metadata": {
            "tags": []
          }
        },
        {
          "output_type": "display_data",
          "data": {
            "image/png": "[encoded data removed]",
            "text/plain": [
              "<Figure size 432x288 with 1 Axes>"
            ]
          },
          "metadata": {
            "tags": []
          }
        }
      ]
    },
    {
      "cell_type": "code",
      "metadata": {
        "colab": {
          "base_uri": "https://localhost:8080/"
        },
        "id": "EbEWjQSDPTwW",
        "outputId": "b1b76d82-6615-45c2-85c1-9f203f857347"
      },
      "source": [
        "model.evaluate(X_test,y_test)\n",
        "model.evaluate(x_val,Y_val)\n",
        "\n",
        "model.evaluate(x_train , Y_train)"
      ],
      "execution_count": null,
      "outputs": [
        {
          "output_type": "stream",
          "text": [
            "563/563 [==============================] - 2s 3ms/step - loss: 0.4167 - accuracy: 0.8871\n",
            "375/375 [==============================] - 1s 2ms/step - loss: 0.4085 - accuracy: 0.8873\n",
            "938/938 [==============================] - 3s 3ms/step - loss: 0.3294 - accuracy: 0.9097\n"
          ],
          "name": "stdout"
        },
        {
          "output_type": "execute_result",
          "data": {
            "text/plain": [
              "[0.3294128477573395, 0.9096666574478149]"
            ]
          },
          "metadata": {
            "tags": []
          },
          "execution_count": 53
        }
      ]
    },
    {
      "cell_type": "markdown",
      "metadata": {
        "id": "2Asq8RycP_Tb"
      },
      "source": [
        "# Model 1E Modified Model 1D by Increasing Hidden Layer and Reduced no of Neurons"
      ]
    },
    {
      "cell_type": "code",
      "metadata": {
        "id": "ccvLptQ_PX2Z"
      },
      "source": [
        "datagen = ImageDataGenerator(rotation_range=8,\n",
        "                             zoom_range=[0.95, 1.05],\n",
        "                             height_shift_range=0.10,\n",
        "                             shear_range=0.15)"
      ],
      "execution_count": null,
      "outputs": []
    },
    {
      "cell_type": "code",
      "metadata": {
        "id": "5FtE2LuxQGn7"
      },
      "source": [
        "input_layer=Input(shape=input_shape)\n",
        "conv_layer_1=Conv2D(16,kernel_size=(3,3),padding='same')(input_layer)\n",
        "batch_norm_1=BatchNormalization()(conv_layer_1)\n",
        "activation_layer_1=Activation('relu')(batch_norm_1)\n",
        "pool_layer_1=MaxPooling2D(pool_size=(2,2),strides=2)(activation_layer_1)\n",
        "conv_layer_2=Conv2D(32,kernel_size=(3,3),padding='same',activation='relu')(pool_layer_1)\n",
        "pool_layer_2=MaxPooling2D(pool_size=(2,2),strides=2)(conv_layer_2)\n",
        "conv_layer_3=Conv2D(64,kernel_size=(3,3),padding='same',activation='relu')(pool_layer_2)\n",
        "pool_layer_3=MaxPooling2D(pool_size=(2,2),strides=2)(conv_layer_3)\n",
        "flat_1=Flatten()(pool_layer_3)\n",
        "hidden_layer_1=Dense(120,kernel_initializer='he_uniform',activation='relu')(flat_1)\n",
        "hidden_layer_2=Dense(84,kernel_initializer='he_uniform',activation='relu')(hidden_layer_1)\n",
        "output=Dense(num_classes,kernel_initializer='he_uniform',activation='softmax')(hidden_layer_2)\n",
        "model=Model(inputs=input_layer,outputs=output)"
      ],
      "execution_count": null,
      "outputs": []
    },
    {
      "cell_type": "code",
      "metadata": {
        "colab": {
          "base_uri": "https://localhost:8080/"
        },
        "id": "laaZvkHOVHGh",
        "outputId": "b3c6e6af-08d4-43ef-e8b1-890d53473a05"
      },
      "source": [
        "model.summary()"
      ],
      "execution_count": null,
      "outputs": [
        {
          "output_type": "stream",
          "text": [
            "Model: \"model_2\"\n",
            "_________________________________________________________________\n",
            "Layer (type)                 Output Shape              Param #   \n",
            "=================================================================\n",
            "input_3 (InputLayer)         [(None, 32, 32, 1)]       0         \n",
            "_________________________________________________________________\n",
            "conv2d_6 (Conv2D)            (None, 32, 32, 16)        160       \n",
            "_________________________________________________________________\n",
            "batch_normalization_2 (Batch (None, 32, 32, 16)        64        \n",
            "_________________________________________________________________\n",
            "activation_2 (Activation)    (None, 32, 32, 16)        0         \n",
            "_________________________________________________________________\n",
            "max_pooling2d_6 (MaxPooling2 (None, 16, 16, 16)        0         \n",
            "_________________________________________________________________\n",
            "conv2d_7 (Conv2D)            (None, 16, 16, 32)        4640      \n",
            "_________________________________________________________________\n",
            "max_pooling2d_7 (MaxPooling2 (None, 8, 8, 32)          0         \n",
            "_________________________________________________________________\n",
            "conv2d_8 (Conv2D)            (None, 8, 8, 64)          18496     \n",
            "_________________________________________________________________\n",
            "max_pooling2d_8 (MaxPooling2 (None, 4, 4, 64)          0         \n",
            "_________________________________________________________________\n",
            "flatten_2 (Flatten)          (None, 1024)              0         \n",
            "_________________________________________________________________\n",
            "dense_4 (Dense)              (None, 120)               123000    \n",
            "_________________________________________________________________\n",
            "dense_5 (Dense)              (None, 84)                10164     \n",
            "_________________________________________________________________\n",
            "dense_6 (Dense)              (None, 10)                850       \n",
            "=================================================================\n",
            "Total params: 157,374\n",
            "Trainable params: 157,342\n",
            "Non-trainable params: 32\n",
            "_________________________________________________________________\n"
          ],
          "name": "stdout"
        }
      ]
    },
    {
      "cell_type": "code",
      "metadata": {
        "colab": {
          "base_uri": "https://localhost:8080/"
        },
        "id": "O0SyUbqFQeg6",
        "outputId": "beb05325-044e-4711-d7b1-2598c8138880"
      },
      "source": [
        "optimizer=Adam(learning_rate=1e-5,amsgrad=True)\n",
        "#lr_schedule = LearningRateScheduler(lambda epoch: 1e-4 * 10**(epoch / 10))\n",
        "early_stopping = EarlyStopping(patience=8)\n",
        "model_checkpoint = ModelCheckpoint(\n",
        "                   '/content/drive/MyDrive/Projects/SVHN/Convolution_Checkpoints/best_cnn.h5', \n",
        "                   save_best_only=True)\n",
        "model.compile(loss=categorical_crossentropy,optimizer=optimizer,metrics=['accuracy'])\n",
        "#history=model.fit(x_train,Y_train,validation_data=(x_val,Y_val),epochs=100,batch_size=32,verbose=1)\n",
        "history = model.fit(datagen.flow(x_train, Y_train, batch_size=32),\n",
        "                              epochs=100, validation_data=(x_val, Y_val),\n",
        "                              callbacks=[early_stopping,model_checkpoint])"
      ],
      "execution_count": null,
      "outputs": [
        {
          "output_type": "stream",
          "text": [
            "Epoch 1/100\n",
            "938/938 [==============================] - 11s 12ms/step - loss: 2.3357 - accuracy: 0.1062 - val_loss: 2.2805 - val_accuracy: 0.1402\n",
            "Epoch 2/100\n",
            "938/938 [==============================] - 11s 11ms/step - loss: 2.2775 - accuracy: 0.1516 - val_loss: 2.2459 - val_accuracy: 0.1900\n",
            "Epoch 3/100\n",
            "938/938 [==============================] - 11s 11ms/step - loss: 2.2390 - accuracy: 0.1996 - val_loss: 2.1885 - val_accuracy: 0.2513\n",
            "Epoch 4/100\n",
            "938/938 [==============================] - 11s 12ms/step - loss: 2.1823 - accuracy: 0.2579 - val_loss: 2.0899 - val_accuracy: 0.3281\n",
            "Epoch 5/100\n",
            "938/938 [==============================] - 11s 12ms/step - loss: 2.0860 - accuracy: 0.3279 - val_loss: 1.9470 - val_accuracy: 0.3930\n",
            "Epoch 6/100\n",
            "938/938 [==============================] - 11s 11ms/step - loss: 1.9405 - accuracy: 0.4011 - val_loss: 1.7724 - val_accuracy: 0.4721\n",
            "Epoch 7/100\n",
            "938/938 [==============================] - 11s 11ms/step - loss: 1.7797 - accuracy: 0.4720 - val_loss: 1.5987 - val_accuracy: 0.5460\n",
            "Epoch 8/100\n",
            "938/938 [==============================] - 11s 12ms/step - loss: 1.6374 - accuracy: 0.5175 - val_loss: 1.4411 - val_accuracy: 0.5938\n",
            "Epoch 9/100\n",
            "938/938 [==============================] - 11s 11ms/step - loss: 1.5075 - accuracy: 0.5555 - val_loss: 1.3135 - val_accuracy: 0.6272\n",
            "Epoch 10/100\n",
            "938/938 [==============================] - 11s 12ms/step - loss: 1.3957 - accuracy: 0.5852 - val_loss: 1.2162 - val_accuracy: 0.6561\n",
            "Epoch 11/100\n",
            "938/938 [==============================] - 11s 11ms/step - loss: 1.2936 - accuracy: 0.6149 - val_loss: 1.1282 - val_accuracy: 0.6774\n",
            "Epoch 12/100\n",
            "938/938 [==============================] - 11s 12ms/step - loss: 1.2201 - accuracy: 0.6400 - val_loss: 1.0595 - val_accuracy: 0.6974\n",
            "Epoch 13/100\n",
            "938/938 [==============================] - 11s 12ms/step - loss: 1.1589 - accuracy: 0.6494 - val_loss: 1.0055 - val_accuracy: 0.7082\n",
            "Epoch 14/100\n",
            "938/938 [==============================] - 11s 12ms/step - loss: 1.1069 - accuracy: 0.6676 - val_loss: 0.9656 - val_accuracy: 0.7174\n",
            "Epoch 15/100\n",
            "938/938 [==============================] - 11s 12ms/step - loss: 1.0630 - accuracy: 0.6794 - val_loss: 0.9214 - val_accuracy: 0.7327\n",
            "Epoch 16/100\n",
            "938/938 [==============================] - 11s 11ms/step - loss: 1.0255 - accuracy: 0.6939 - val_loss: 0.8838 - val_accuracy: 0.7456\n",
            "Epoch 17/100\n",
            "938/938 [==============================] - 11s 11ms/step - loss: 0.9965 - accuracy: 0.7029 - val_loss: 0.8551 - val_accuracy: 0.7523\n",
            "Epoch 18/100\n",
            "938/938 [==============================] - 11s 11ms/step - loss: 0.9833 - accuracy: 0.7033 - val_loss: 0.8256 - val_accuracy: 0.7620\n",
            "Epoch 19/100\n",
            "938/938 [==============================] - 11s 12ms/step - loss: 0.9517 - accuracy: 0.7146 - val_loss: 0.8024 - val_accuracy: 0.7696\n",
            "Epoch 20/100\n",
            "938/938 [==============================] - 11s 11ms/step - loss: 0.9163 - accuracy: 0.7238 - val_loss: 0.7813 - val_accuracy: 0.7771\n",
            "Epoch 21/100\n",
            "938/938 [==============================] - 11s 12ms/step - loss: 0.8966 - accuracy: 0.7334 - val_loss: 0.7570 - val_accuracy: 0.7825\n",
            "Epoch 22/100\n",
            "938/938 [==============================] - 11s 12ms/step - loss: 0.8871 - accuracy: 0.7341 - val_loss: 0.7413 - val_accuracy: 0.7889\n",
            "Epoch 23/100\n",
            "938/938 [==============================] - 11s 11ms/step - loss: 0.8681 - accuracy: 0.7413 - val_loss: 0.7315 - val_accuracy: 0.7876\n",
            "Epoch 24/100\n",
            "938/938 [==============================] - 11s 12ms/step - loss: 0.8494 - accuracy: 0.7475 - val_loss: 0.7180 - val_accuracy: 0.7946\n",
            "Epoch 25/100\n",
            "938/938 [==============================] - 11s 11ms/step - loss: 0.8441 - accuracy: 0.7505 - val_loss: 0.7000 - val_accuracy: 0.7978\n",
            "Epoch 26/100\n",
            "938/938 [==============================] - 11s 12ms/step - loss: 0.8228 - accuracy: 0.7555 - val_loss: 0.6876 - val_accuracy: 0.8044\n",
            "Epoch 27/100\n",
            "938/938 [==============================] - 11s 12ms/step - loss: 0.8029 - accuracy: 0.7609 - val_loss: 0.6835 - val_accuracy: 0.8054\n",
            "Epoch 28/100\n",
            "938/938 [==============================] - 11s 11ms/step - loss: 0.7934 - accuracy: 0.7678 - val_loss: 0.6613 - val_accuracy: 0.8131\n",
            "Epoch 29/100\n",
            "938/938 [==============================] - 11s 11ms/step - loss: 0.7847 - accuracy: 0.7674 - val_loss: 0.6528 - val_accuracy: 0.8136\n",
            "Epoch 30/100\n",
            "938/938 [==============================] - 11s 12ms/step - loss: 0.7671 - accuracy: 0.7749 - val_loss: 0.6432 - val_accuracy: 0.8165\n",
            "Epoch 31/100\n",
            "938/938 [==============================] - 11s 12ms/step - loss: 0.7706 - accuracy: 0.7721 - val_loss: 0.6361 - val_accuracy: 0.8201\n",
            "Epoch 32/100\n",
            "938/938 [==============================] - 11s 12ms/step - loss: 0.7485 - accuracy: 0.7753 - val_loss: 0.6252 - val_accuracy: 0.8257\n",
            "Epoch 33/100\n",
            "938/938 [==============================] - 11s 12ms/step - loss: 0.7436 - accuracy: 0.7798 - val_loss: 0.6351 - val_accuracy: 0.8148\n",
            "Epoch 34/100\n",
            "938/938 [==============================] - 11s 12ms/step - loss: 0.7461 - accuracy: 0.7809 - val_loss: 0.6137 - val_accuracy: 0.8266\n",
            "Epoch 35/100\n",
            "938/938 [==============================] - 11s 12ms/step - loss: 0.7297 - accuracy: 0.7856 - val_loss: 0.6066 - val_accuracy: 0.8273\n",
            "Epoch 36/100\n",
            "938/938 [==============================] - 11s 11ms/step - loss: 0.7256 - accuracy: 0.7856 - val_loss: 0.5974 - val_accuracy: 0.8367\n",
            "Epoch 37/100\n",
            "938/938 [==============================] - 11s 12ms/step - loss: 0.7173 - accuracy: 0.7920 - val_loss: 0.5921 - val_accuracy: 0.8370\n",
            "Epoch 38/100\n",
            "938/938 [==============================] - 11s 12ms/step - loss: 0.6959 - accuracy: 0.7954 - val_loss: 0.5884 - val_accuracy: 0.8340\n",
            "Epoch 39/100\n",
            "938/938 [==============================] - 11s 11ms/step - loss: 0.7052 - accuracy: 0.7936 - val_loss: 0.5827 - val_accuracy: 0.8375\n",
            "Epoch 40/100\n",
            "938/938 [==============================] - 11s 11ms/step - loss: 0.7097 - accuracy: 0.7919 - val_loss: 0.5779 - val_accuracy: 0.8385\n",
            "Epoch 41/100\n",
            "938/938 [==============================] - 11s 12ms/step - loss: 0.6866 - accuracy: 0.7988 - val_loss: 0.5767 - val_accuracy: 0.8369\n",
            "Epoch 42/100\n",
            "938/938 [==============================] - 11s 11ms/step - loss: 0.6959 - accuracy: 0.7967 - val_loss: 0.5697 - val_accuracy: 0.8401\n",
            "Epoch 43/100\n",
            "938/938 [==============================] - 11s 12ms/step - loss: 0.6852 - accuracy: 0.8019 - val_loss: 0.5685 - val_accuracy: 0.8363\n",
            "Epoch 44/100\n",
            "938/938 [==============================] - 11s 11ms/step - loss: 0.6695 - accuracy: 0.8044 - val_loss: 0.5624 - val_accuracy: 0.8414\n",
            "Epoch 45/100\n",
            "938/938 [==============================] - 11s 11ms/step - loss: 0.6794 - accuracy: 0.8000 - val_loss: 0.5527 - val_accuracy: 0.8456\n",
            "Epoch 46/100\n",
            "938/938 [==============================] - 11s 12ms/step - loss: 0.6847 - accuracy: 0.7983 - val_loss: 0.5561 - val_accuracy: 0.8446\n",
            "Epoch 47/100\n",
            "938/938 [==============================] - 11s 12ms/step - loss: 0.6654 - accuracy: 0.8050 - val_loss: 0.5533 - val_accuracy: 0.8422\n",
            "Epoch 48/100\n",
            "938/938 [==============================] - 11s 12ms/step - loss: 0.6512 - accuracy: 0.8086 - val_loss: 0.5437 - val_accuracy: 0.8457\n",
            "Epoch 49/100\n",
            "938/938 [==============================] - 11s 12ms/step - loss: 0.6626 - accuracy: 0.8057 - val_loss: 0.5367 - val_accuracy: 0.8497\n",
            "Epoch 50/100\n",
            "938/938 [==============================] - 11s 12ms/step - loss: 0.6386 - accuracy: 0.8135 - val_loss: 0.5356 - val_accuracy: 0.8498\n",
            "Epoch 51/100\n",
            "938/938 [==============================] - 11s 12ms/step - loss: 0.6465 - accuracy: 0.8127 - val_loss: 0.5271 - val_accuracy: 0.8508\n",
            "Epoch 52/100\n",
            "938/938 [==============================] - 11s 12ms/step - loss: 0.6253 - accuracy: 0.8158 - val_loss: 0.5299 - val_accuracy: 0.8497\n",
            "Epoch 53/100\n",
            "938/938 [==============================] - 11s 12ms/step - loss: 0.6274 - accuracy: 0.8172 - val_loss: 0.5202 - val_accuracy: 0.8536\n",
            "Epoch 54/100\n",
            "938/938 [==============================] - 11s 12ms/step - loss: 0.6267 - accuracy: 0.8191 - val_loss: 0.5207 - val_accuracy: 0.8521\n",
            "Epoch 55/100\n",
            "938/938 [==============================] - 11s 12ms/step - loss: 0.6205 - accuracy: 0.8178 - val_loss: 0.5130 - val_accuracy: 0.8557\n",
            "Epoch 56/100\n",
            "938/938 [==============================] - 11s 12ms/step - loss: 0.6311 - accuracy: 0.8123 - val_loss: 0.5115 - val_accuracy: 0.8558\n",
            "Epoch 57/100\n",
            "938/938 [==============================] - 11s 12ms/step - loss: 0.6243 - accuracy: 0.8185 - val_loss: 0.5113 - val_accuracy: 0.8560\n",
            "Epoch 58/100\n",
            "938/938 [==============================] - 11s 11ms/step - loss: 0.6290 - accuracy: 0.8162 - val_loss: 0.5077 - val_accuracy: 0.8591\n",
            "Epoch 59/100\n",
            "938/938 [==============================] - 11s 12ms/step - loss: 0.6223 - accuracy: 0.8198 - val_loss: 0.5051 - val_accuracy: 0.8593\n",
            "Epoch 60/100\n",
            "938/938 [==============================] - 11s 12ms/step - loss: 0.6014 - accuracy: 0.8210 - val_loss: 0.5011 - val_accuracy: 0.8591\n",
            "Epoch 61/100\n",
            "938/938 [==============================] - 11s 12ms/step - loss: 0.6021 - accuracy: 0.8223 - val_loss: 0.4978 - val_accuracy: 0.8583\n",
            "Epoch 62/100\n",
            "938/938 [==============================] - 11s 12ms/step - loss: 0.6035 - accuracy: 0.8252 - val_loss: 0.4954 - val_accuracy: 0.8602\n",
            "Epoch 63/100\n",
            "938/938 [==============================] - 11s 12ms/step - loss: 0.5844 - accuracy: 0.8289 - val_loss: 0.4943 - val_accuracy: 0.8593\n",
            "Epoch 64/100\n",
            "938/938 [==============================] - 11s 12ms/step - loss: 0.5907 - accuracy: 0.8252 - val_loss: 0.4967 - val_accuracy: 0.8610\n",
            "Epoch 65/100\n",
            "938/938 [==============================] - 11s 12ms/step - loss: 0.5936 - accuracy: 0.8266 - val_loss: 0.4900 - val_accuracy: 0.8621\n",
            "Epoch 66/100\n",
            "938/938 [==============================] - 11s 12ms/step - loss: 0.5983 - accuracy: 0.8250 - val_loss: 0.4872 - val_accuracy: 0.8633\n",
            "Epoch 67/100\n",
            "938/938 [==============================] - 11s 12ms/step - loss: 0.5816 - accuracy: 0.8286 - val_loss: 0.4866 - val_accuracy: 0.8645\n",
            "Epoch 68/100\n",
            "938/938 [==============================] - 11s 12ms/step - loss: 0.5869 - accuracy: 0.8259 - val_loss: 0.4820 - val_accuracy: 0.8652\n",
            "Epoch 69/100\n",
            "938/938 [==============================] - 11s 12ms/step - loss: 0.5859 - accuracy: 0.8285 - val_loss: 0.4812 - val_accuracy: 0.8649\n",
            "Epoch 70/100\n",
            "938/938 [==============================] - 11s 12ms/step - loss: 0.5803 - accuracy: 0.8280 - val_loss: 0.4820 - val_accuracy: 0.8616\n",
            "Epoch 71/100\n",
            "938/938 [==============================] - 11s 12ms/step - loss: 0.5690 - accuracy: 0.8340 - val_loss: 0.4768 - val_accuracy: 0.8651\n",
            "Epoch 72/100\n",
            "938/938 [==============================] - 11s 12ms/step - loss: 0.5795 - accuracy: 0.8303 - val_loss: 0.4765 - val_accuracy: 0.8640\n",
            "Epoch 73/100\n",
            "938/938 [==============================] - 11s 12ms/step - loss: 0.5568 - accuracy: 0.8374 - val_loss: 0.4727 - val_accuracy: 0.8660\n",
            "Epoch 74/100\n",
            "938/938 [==============================] - 11s 12ms/step - loss: 0.5713 - accuracy: 0.8324 - val_loss: 0.4709 - val_accuracy: 0.8660\n",
            "Epoch 75/100\n",
            "938/938 [==============================] - 11s 12ms/step - loss: 0.5495 - accuracy: 0.8391 - val_loss: 0.4694 - val_accuracy: 0.8692\n",
            "Epoch 76/100\n",
            "938/938 [==============================] - 11s 12ms/step - loss: 0.5670 - accuracy: 0.8303 - val_loss: 0.4676 - val_accuracy: 0.8699\n",
            "Epoch 77/100\n",
            "938/938 [==============================] - 11s 12ms/step - loss: 0.5546 - accuracy: 0.8356 - val_loss: 0.4701 - val_accuracy: 0.8680\n",
            "Epoch 78/100\n",
            "938/938 [==============================] - 11s 12ms/step - loss: 0.5457 - accuracy: 0.8387 - val_loss: 0.4641 - val_accuracy: 0.8717\n",
            "Epoch 79/100\n",
            "938/938 [==============================] - 11s 12ms/step - loss: 0.5578 - accuracy: 0.8351 - val_loss: 0.4592 - val_accuracy: 0.8711\n",
            "Epoch 80/100\n",
            "938/938 [==============================] - 11s 12ms/step - loss: 0.5447 - accuracy: 0.8387 - val_loss: 0.4573 - val_accuracy: 0.8702\n",
            "Epoch 81/100\n",
            "938/938 [==============================] - 11s 12ms/step - loss: 0.5419 - accuracy: 0.8416 - val_loss: 0.4569 - val_accuracy: 0.8711\n",
            "Epoch 82/100\n",
            "938/938 [==============================] - 11s 12ms/step - loss: 0.5454 - accuracy: 0.8406 - val_loss: 0.4543 - val_accuracy: 0.8717\n",
            "Epoch 83/100\n",
            "938/938 [==============================] - 11s 12ms/step - loss: 0.5500 - accuracy: 0.8412 - val_loss: 0.4562 - val_accuracy: 0.8687\n",
            "Epoch 84/100\n",
            "938/938 [==============================] - 11s 12ms/step - loss: 0.5417 - accuracy: 0.8432 - val_loss: 0.4561 - val_accuracy: 0.8723\n",
            "Epoch 85/100\n",
            "938/938 [==============================] - 11s 12ms/step - loss: 0.5384 - accuracy: 0.8385 - val_loss: 0.4523 - val_accuracy: 0.8719\n",
            "Epoch 86/100\n",
            "938/938 [==============================] - 11s 12ms/step - loss: 0.5514 - accuracy: 0.8380 - val_loss: 0.4498 - val_accuracy: 0.8748\n",
            "Epoch 87/100\n",
            "938/938 [==============================] - 11s 12ms/step - loss: 0.5191 - accuracy: 0.8468 - val_loss: 0.4502 - val_accuracy: 0.8712\n",
            "Epoch 88/100\n",
            "938/938 [==============================] - 11s 12ms/step - loss: 0.5326 - accuracy: 0.8450 - val_loss: 0.4467 - val_accuracy: 0.8750\n",
            "Epoch 89/100\n",
            "938/938 [==============================] - 11s 12ms/step - loss: 0.5270 - accuracy: 0.8443 - val_loss: 0.4434 - val_accuracy: 0.8753\n",
            "Epoch 90/100\n",
            "938/938 [==============================] - 11s 12ms/step - loss: 0.5269 - accuracy: 0.8460 - val_loss: 0.4432 - val_accuracy: 0.8742\n",
            "Epoch 91/100\n",
            "938/938 [==============================] - 11s 12ms/step - loss: 0.5207 - accuracy: 0.8470 - val_loss: 0.4464 - val_accuracy: 0.8734\n",
            "Epoch 92/100\n",
            "938/938 [==============================] - 11s 12ms/step - loss: 0.5202 - accuracy: 0.8461 - val_loss: 0.4403 - val_accuracy: 0.8766\n",
            "Epoch 93/100\n",
            "938/938 [==============================] - 11s 12ms/step - loss: 0.5136 - accuracy: 0.8493 - val_loss: 0.4371 - val_accuracy: 0.8767\n",
            "Epoch 94/100\n",
            "938/938 [==============================] - 11s 12ms/step - loss: 0.5216 - accuracy: 0.8472 - val_loss: 0.4354 - val_accuracy: 0.8772\n",
            "Epoch 95/100\n",
            "938/938 [==============================] - 11s 12ms/step - loss: 0.5119 - accuracy: 0.8487 - val_loss: 0.4366 - val_accuracy: 0.8766\n",
            "Epoch 96/100\n",
            "938/938 [==============================] - 11s 12ms/step - loss: 0.5027 - accuracy: 0.8551 - val_loss: 0.4378 - val_accuracy: 0.8755\n",
            "Epoch 97/100\n",
            "938/938 [==============================] - 11s 12ms/step - loss: 0.5040 - accuracy: 0.8514 - val_loss: 0.4395 - val_accuracy: 0.8744\n",
            "Epoch 98/100\n",
            "938/938 [==============================] - 11s 12ms/step - loss: 0.5203 - accuracy: 0.8465 - val_loss: 0.4313 - val_accuracy: 0.8781\n",
            "Epoch 99/100\n",
            "938/938 [==============================] - 11s 12ms/step - loss: 0.5173 - accuracy: 0.8462 - val_loss: 0.4311 - val_accuracy: 0.8794\n",
            "Epoch 100/100\n",
            "938/938 [==============================] - 11s 12ms/step - loss: 0.5053 - accuracy: 0.8485 - val_loss: 0.4289 - val_accuracy: 0.8804\n"
          ],
          "name": "stdout"
        }
      ]
    },
    {
      "cell_type": "code",
      "metadata": {
        "colab": {
          "base_uri": "https://localhost:8080/",
          "height": 528
        },
        "id": "GPl57Gv6Qjcz",
        "outputId": "b9e6b803-cd0e-4c6c-d65b-d30837d48087"
      },
      "source": [
        "history_df = pd.DataFrame(history.history)\n",
        "history_df.loc[:, ['loss', 'val_loss']].plot();\n",
        "print(\"Minimum validation loss: {}\".format(history_df['val_loss'].min()))\n",
        "history_df = pd.DataFrame(history.history)\n",
        "history_df.loc[:, ['accuracy', 'val_accuracy']].plot();\n",
        "#print(\"Minimum validation loss: {}\".format(history_df['val_loss'].min()))"
      ],
      "execution_count": null,
      "outputs": [
        {
          "output_type": "stream",
          "text": [
            "Minimum validation loss: 0.4289493262767792\n"
          ],
          "name": "stdout"
        },
        {
          "output_type": "display_data",
          "data": {
            "image/png": "[encoded data removed]",
            "text/plain": [
              "<Figure size 432x288 with 1 Axes>"
            ]
          },
          "metadata": {
            "tags": []
          }
        },
        {
          "output_type": "display_data",
          "data": {
            "image/png": "[encoded data removed]",
            "text/plain": [
              "<Figure size 432x288 with 1 Axes>"
            ]
          },
          "metadata": {
            "tags": []
          }
        }
      ]
    },
    {
      "cell_type": "code",
      "metadata": {
        "colab": {
          "base_uri": "https://localhost:8080/"
        },
        "id": "2Ir3-9YKU7th",
        "outputId": "697d3473-0238-4959-b37d-e9377a691c98"
      },
      "source": [
        "model.evaluate(X_test,y_test)\n",
        "model.evaluate(x_val,Y_val)\n",
        "\n",
        "model.evaluate(x_train , Y_train)"
      ],
      "execution_count": null,
      "outputs": [
        {
          "output_type": "stream",
          "text": [
            "563/563 [==============================] - 2s 3ms/step - loss: 0.4343 - accuracy: 0.8789\n",
            "375/375 [==============================] - 1s 2ms/step - loss: 0.4289 - accuracy: 0.8804\n",
            "938/938 [==============================] - 2s 3ms/step - loss: 0.3850 - accuracy: 0.8922\n"
          ],
          "name": "stdout"
        },
        {
          "output_type": "execute_result",
          "data": {
            "text/plain": [
              "[0.3850264847278595, 0.8921666741371155]"
            ]
          },
          "metadata": {
            "tags": []
          },
          "execution_count": 58
        }
      ]
    },
    {
      "cell_type": "markdown",
      "metadata": {
        "id": "3Fvhb3pkYpJZ"
      },
      "source": [
        "# Model 1F Increased Filters Further"
      ]
    },
    {
      "cell_type": "code",
      "metadata": {
        "id": "DaZApbsVVA83"
      },
      "source": [
        "input_layer=Input(shape=input_shape)\n",
        "conv_layer_1=Conv2D(32,kernel_size=(3,3),padding='same')(input_layer)\n",
        "batch_norm_1=BatchNormalization()(conv_layer_1)\n",
        "activation_layer_1=Activation('relu')(batch_norm_1)\n",
        "pool_layer_1=MaxPooling2D(pool_size=(2,2),strides=2)(activation_layer_1)\n",
        "conv_layer_2=Conv2D(64,kernel_size=(3,3),padding='same',activation='relu')(pool_layer_1)\n",
        "pool_layer_2=MaxPooling2D(pool_size=(2,2),strides=2)(conv_layer_2)\n",
        "conv_layer_3=Conv2D(128,kernel_size=(3,3),padding='same',activation='relu')(pool_layer_2)\n",
        "pool_layer_3=MaxPooling2D(pool_size=(2,2),strides=2)(conv_layer_3)\n",
        "flat_1=Flatten()(pool_layer_3)\n",
        "hidden_layer_1=Dense(120,kernel_initializer='he_uniform',activation='relu')(flat_1)\n",
        "hidden_layer_2=Dense(84,kernel_initializer='he_uniform',activation='relu')(hidden_layer_1)\n",
        "output=Dense(num_classes,kernel_initializer='he_uniform',activation='softmax')(hidden_layer_2)\n",
        "model=Model(inputs=input_layer,outputs=output)"
      ],
      "execution_count": null,
      "outputs": []
    },
    {
      "cell_type": "code",
      "metadata": {
        "colab": {
          "base_uri": "https://localhost:8080/"
        },
        "id": "6wWp5FdCY0b8",
        "outputId": "c6b2e384-7499-4979-db9b-7c9b426f9467"
      },
      "source": [
        "model.summary()"
      ],
      "execution_count": null,
      "outputs": [
        {
          "output_type": "stream",
          "text": [
            "Model: \"model\"\n",
            "_________________________________________________________________\n",
            "Layer (type)                 Output Shape              Param #   \n",
            "=================================================================\n",
            "input_1 (InputLayer)         [(None, 32, 32, 1)]       0         \n",
            "_________________________________________________________________\n",
            "conv2d (Conv2D)              (None, 32, 32, 32)        320       \n",
            "_________________________________________________________________\n",
            "batch_normalization (BatchNo (None, 32, 32, 32)        128       \n",
            "_________________________________________________________________\n",
            "activation (Activation)      (None, 32, 32, 32)        0         \n",
            "_________________________________________________________________\n",
            "max_pooling2d (MaxPooling2D) (None, 16, 16, 32)        0         \n",
            "_________________________________________________________________\n",
            "conv2d_1 (Conv2D)            (None, 16, 16, 64)        18496     \n",
            "_________________________________________________________________\n",
            "max_pooling2d_1 (MaxPooling2 (None, 8, 8, 64)          0         \n",
            "_________________________________________________________________\n",
            "conv2d_2 (Conv2D)            (None, 8, 8, 128)         73856     \n",
            "_________________________________________________________________\n",
            "max_pooling2d_2 (MaxPooling2 (None, 4, 4, 128)         0         \n",
            "_________________________________________________________________\n",
            "flatten (Flatten)            (None, 2048)              0         \n",
            "_________________________________________________________________\n",
            "dense (Dense)                (None, 120)               245880    \n",
            "_________________________________________________________________\n",
            "dense_1 (Dense)              (None, 84)                10164     \n",
            "_________________________________________________________________\n",
            "dense_2 (Dense)              (None, 10)                850       \n",
            "=================================================================\n",
            "Total params: 349,694\n",
            "Trainable params: 349,630\n",
            "Non-trainable params: 64\n",
            "_________________________________________________________________\n"
          ],
          "name": "stdout"
        }
      ]
    },
    {
      "cell_type": "code",
      "metadata": {
        "colab": {
          "base_uri": "https://localhost:8080/"
        },
        "id": "-Gg4uP3wY19b",
        "outputId": "6e3cd65c-c946-44fd-a179-e0ebab027aff"
      },
      "source": [
        "optimizer=Adam(learning_rate=1e-5,amsgrad=True)\n",
        "#lr_schedule = LearningRateScheduler(lambda epoch: 1e-5 * 10**(epoch / 10))\n",
        "early_stopping = EarlyStopping(patience=8)\n",
        "model_checkpoint = ModelCheckpoint(\n",
        "                   '/content/drive/MyDrive/Projects/SVHN/Convolution_Checkpoints/best_cnn.h5', \n",
        "                   save_best_only=True)\n",
        "model.compile(loss=categorical_crossentropy,optimizer=optimizer,metrics=['accuracy'])\n",
        "#history=model.fit(x_train,Y_train,validation_data=(x_val,Y_val),epochs=100,batch_size=32,verbose=1)\n",
        "history = model.fit(datagen.flow(x_train, Y_train, batch_size=32),\n",
        "                              epochs=100, validation_data=(x_val, Y_val),\n",
        "                              callbacks=[early_stopping,model_checkpoint])"
      ],
      "execution_count": null,
      "outputs": [
        {
          "output_type": "stream",
          "text": [
            "Epoch 1/100\n",
            "938/938 [==============================] - 12s 12ms/step - loss: 2.3016 - accuracy: 0.1116 - val_loss: 2.2398 - val_accuracy: 0.1908\n",
            "Epoch 2/100\n",
            "938/938 [==============================] - 11s 12ms/step - loss: 2.2236 - accuracy: 0.2045 - val_loss: 2.0952 - val_accuracy: 0.3332\n",
            "Epoch 3/100\n",
            "938/938 [==============================] - 11s 12ms/step - loss: 2.0710 - accuracy: 0.3300 - val_loss: 1.8361 - val_accuracy: 0.4553\n",
            "Epoch 4/100\n",
            "938/938 [==============================] - 11s 12ms/step - loss: 1.8190 - accuracy: 0.4484 - val_loss: 1.5285 - val_accuracy: 0.5660\n",
            "Epoch 5/100\n",
            "938/938 [==============================] - 11s 12ms/step - loss: 1.5536 - accuracy: 0.5482 - val_loss: 1.2940 - val_accuracy: 0.6361\n",
            "Epoch 6/100\n",
            "938/938 [==============================] - 11s 12ms/step - loss: 1.3542 - accuracy: 0.6102 - val_loss: 1.1320 - val_accuracy: 0.6853\n",
            "Epoch 7/100\n",
            "938/938 [==============================] - 11s 12ms/step - loss: 1.2066 - accuracy: 0.6553 - val_loss: 1.0059 - val_accuracy: 0.7262\n",
            "Epoch 8/100\n",
            "938/938 [==============================] - 12s 12ms/step - loss: 1.1122 - accuracy: 0.6744 - val_loss: 0.9270 - val_accuracy: 0.7448\n",
            "Epoch 9/100\n",
            "938/938 [==============================] - 12s 12ms/step - loss: 1.0342 - accuracy: 0.6966 - val_loss: 0.8630 - val_accuracy: 0.7663\n",
            "Epoch 10/100\n",
            "938/938 [==============================] - 12s 12ms/step - loss: 0.9758 - accuracy: 0.7105 - val_loss: 0.8319 - val_accuracy: 0.7554\n",
            "Epoch 11/100\n",
            "938/938 [==============================] - 11s 12ms/step - loss: 0.9358 - accuracy: 0.7279 - val_loss: 0.7777 - val_accuracy: 0.7845\n",
            "Epoch 12/100\n",
            "938/938 [==============================] - 11s 12ms/step - loss: 0.8892 - accuracy: 0.7398 - val_loss: 0.7444 - val_accuracy: 0.7974\n",
            "Epoch 13/100\n",
            "938/938 [==============================] - 12s 12ms/step - loss: 0.8707 - accuracy: 0.7481 - val_loss: 0.7107 - val_accuracy: 0.8042\n",
            "Epoch 14/100\n",
            "938/938 [==============================] - 12s 13ms/step - loss: 0.8483 - accuracy: 0.7545 - val_loss: 0.6886 - val_accuracy: 0.8158\n",
            "Epoch 15/100\n",
            "938/938 [==============================] - 11s 12ms/step - loss: 0.8174 - accuracy: 0.7628 - val_loss: 0.6736 - val_accuracy: 0.8097\n",
            "Epoch 16/100\n",
            "938/938 [==============================] - 11s 12ms/step - loss: 0.7991 - accuracy: 0.7688 - val_loss: 0.6558 - val_accuracy: 0.8146\n",
            "Epoch 17/100\n",
            "938/938 [==============================] - 11s 12ms/step - loss: 0.7737 - accuracy: 0.7749 - val_loss: 0.6356 - val_accuracy: 0.8303\n",
            "Epoch 18/100\n",
            "938/938 [==============================] - 12s 12ms/step - loss: 0.7629 - accuracy: 0.7785 - val_loss: 0.6255 - val_accuracy: 0.8324\n",
            "Epoch 19/100\n",
            "938/938 [==============================] - 12s 12ms/step - loss: 0.7438 - accuracy: 0.7831 - val_loss: 0.6101 - val_accuracy: 0.8319\n",
            "Epoch 20/100\n",
            "938/938 [==============================] - 12s 12ms/step - loss: 0.7210 - accuracy: 0.7957 - val_loss: 0.5920 - val_accuracy: 0.8390\n",
            "Epoch 21/100\n",
            "938/938 [==============================] - 12s 12ms/step - loss: 0.7233 - accuracy: 0.7919 - val_loss: 0.5853 - val_accuracy: 0.8432\n",
            "Epoch 22/100\n",
            "938/938 [==============================] - 12s 12ms/step - loss: 0.6988 - accuracy: 0.7962 - val_loss: 0.5767 - val_accuracy: 0.8412\n",
            "Epoch 23/100\n",
            "938/938 [==============================] - 12s 12ms/step - loss: 0.6988 - accuracy: 0.7991 - val_loss: 0.5655 - val_accuracy: 0.8469\n",
            "Epoch 24/100\n",
            "938/938 [==============================] - 12s 12ms/step - loss: 0.6931 - accuracy: 0.7990 - val_loss: 0.5621 - val_accuracy: 0.8507\n",
            "Epoch 25/100\n",
            "938/938 [==============================] - 12s 12ms/step - loss: 0.6706 - accuracy: 0.8055 - val_loss: 0.5520 - val_accuracy: 0.8509\n",
            "Epoch 26/100\n",
            "938/938 [==============================] - 12s 12ms/step - loss: 0.6641 - accuracy: 0.8093 - val_loss: 0.5394 - val_accuracy: 0.8572\n",
            "Epoch 27/100\n",
            "938/938 [==============================] - 12s 12ms/step - loss: 0.6550 - accuracy: 0.8126 - val_loss: 0.5362 - val_accuracy: 0.8567\n",
            "Epoch 28/100\n",
            "938/938 [==============================] - 12s 12ms/step - loss: 0.6613 - accuracy: 0.8098 - val_loss: 0.5380 - val_accuracy: 0.8535\n",
            "Epoch 29/100\n",
            "938/938 [==============================] - 12s 12ms/step - loss: 0.6407 - accuracy: 0.8167 - val_loss: 0.5268 - val_accuracy: 0.8600\n",
            "Epoch 30/100\n",
            "938/938 [==============================] - 12s 12ms/step - loss: 0.6321 - accuracy: 0.8193 - val_loss: 0.5142 - val_accuracy: 0.8619\n",
            "Epoch 31/100\n",
            "938/938 [==============================] - 11s 12ms/step - loss: 0.6206 - accuracy: 0.8203 - val_loss: 0.5100 - val_accuracy: 0.8631\n",
            "Epoch 32/100\n",
            "938/938 [==============================] - 12s 12ms/step - loss: 0.6059 - accuracy: 0.8236 - val_loss: 0.5056 - val_accuracy: 0.8646\n",
            "Epoch 33/100\n",
            "938/938 [==============================] - 11s 12ms/step - loss: 0.6103 - accuracy: 0.8258 - val_loss: 0.4997 - val_accuracy: 0.8667\n",
            "Epoch 34/100\n",
            "938/938 [==============================] - 12s 13ms/step - loss: 0.5993 - accuracy: 0.8269 - val_loss: 0.4953 - val_accuracy: 0.8678\n",
            "Epoch 35/100\n",
            "938/938 [==============================] - 12s 12ms/step - loss: 0.5975 - accuracy: 0.8306 - val_loss: 0.4988 - val_accuracy: 0.8652\n",
            "Epoch 36/100\n",
            "938/938 [==============================] - 12s 12ms/step - loss: 0.5932 - accuracy: 0.8301 - val_loss: 0.4898 - val_accuracy: 0.8677\n",
            "Epoch 37/100\n",
            "938/938 [==============================] - 12s 12ms/step - loss: 0.5831 - accuracy: 0.8327 - val_loss: 0.4833 - val_accuracy: 0.8712\n",
            "Epoch 38/100\n",
            "938/938 [==============================] - 12s 12ms/step - loss: 0.5686 - accuracy: 0.8363 - val_loss: 0.4791 - val_accuracy: 0.8712\n",
            "Epoch 39/100\n",
            "938/938 [==============================] - 12s 12ms/step - loss: 0.5729 - accuracy: 0.8341 - val_loss: 0.4756 - val_accuracy: 0.8743\n",
            "Epoch 40/100\n",
            "938/938 [==============================] - 12s 13ms/step - loss: 0.5709 - accuracy: 0.8340 - val_loss: 0.4698 - val_accuracy: 0.8746\n",
            "Epoch 41/100\n",
            "938/938 [==============================] - 12s 12ms/step - loss: 0.5522 - accuracy: 0.8400 - val_loss: 0.4712 - val_accuracy: 0.8704\n",
            "Epoch 42/100\n",
            "938/938 [==============================] - 12s 12ms/step - loss: 0.5515 - accuracy: 0.8409 - val_loss: 0.4678 - val_accuracy: 0.8701\n",
            "Epoch 43/100\n",
            "938/938 [==============================] - 12s 12ms/step - loss: 0.5427 - accuracy: 0.8415 - val_loss: 0.4596 - val_accuracy: 0.8765\n",
            "Epoch 44/100\n",
            "938/938 [==============================] - 12s 13ms/step - loss: 0.5464 - accuracy: 0.8409 - val_loss: 0.4543 - val_accuracy: 0.8771\n",
            "Epoch 45/100\n",
            "938/938 [==============================] - 12s 12ms/step - loss: 0.5384 - accuracy: 0.8443 - val_loss: 0.4539 - val_accuracy: 0.8785\n",
            "Epoch 46/100\n",
            "938/938 [==============================] - 12s 12ms/step - loss: 0.5452 - accuracy: 0.8426 - val_loss: 0.4504 - val_accuracy: 0.8784\n",
            "Epoch 47/100\n",
            "938/938 [==============================] - 12s 13ms/step - loss: 0.5295 - accuracy: 0.8462 - val_loss: 0.4454 - val_accuracy: 0.8780\n",
            "Epoch 48/100\n",
            "938/938 [==============================] - 12s 12ms/step - loss: 0.5289 - accuracy: 0.8469 - val_loss: 0.4470 - val_accuracy: 0.8780\n",
            "Epoch 49/100\n",
            "938/938 [==============================] - 12s 13ms/step - loss: 0.5244 - accuracy: 0.8492 - val_loss: 0.4489 - val_accuracy: 0.8788\n",
            "Epoch 50/100\n",
            "938/938 [==============================] - 12s 12ms/step - loss: 0.5143 - accuracy: 0.8538 - val_loss: 0.4402 - val_accuracy: 0.8797\n",
            "Epoch 51/100\n",
            "938/938 [==============================] - 12s 13ms/step - loss: 0.5054 - accuracy: 0.8535 - val_loss: 0.4362 - val_accuracy: 0.8793\n",
            "Epoch 52/100\n",
            "938/938 [==============================] - 12s 12ms/step - loss: 0.5076 - accuracy: 0.8530 - val_loss: 0.4360 - val_accuracy: 0.8834\n",
            "Epoch 53/100\n",
            "938/938 [==============================] - 12s 12ms/step - loss: 0.5053 - accuracy: 0.8528 - val_loss: 0.4279 - val_accuracy: 0.8841\n",
            "Epoch 54/100\n",
            "938/938 [==============================] - 12s 12ms/step - loss: 0.5060 - accuracy: 0.8544 - val_loss: 0.4264 - val_accuracy: 0.8835\n",
            "Epoch 55/100\n",
            "938/938 [==============================] - 12s 13ms/step - loss: 0.4883 - accuracy: 0.8551 - val_loss: 0.4215 - val_accuracy: 0.8861\n",
            "Epoch 56/100\n",
            "938/938 [==============================] - 12s 12ms/step - loss: 0.4937 - accuracy: 0.8581 - val_loss: 0.4194 - val_accuracy: 0.8878\n",
            "Epoch 57/100\n",
            "938/938 [==============================] - 12s 13ms/step - loss: 0.4869 - accuracy: 0.8597 - val_loss: 0.4204 - val_accuracy: 0.8850\n",
            "Epoch 58/100\n",
            "938/938 [==============================] - 12s 12ms/step - loss: 0.4834 - accuracy: 0.8574 - val_loss: 0.4195 - val_accuracy: 0.8858\n",
            "Epoch 59/100\n",
            "938/938 [==============================] - 12s 13ms/step - loss: 0.4665 - accuracy: 0.8656 - val_loss: 0.4150 - val_accuracy: 0.8869\n",
            "Epoch 60/100\n",
            "938/938 [==============================] - 12s 13ms/step - loss: 0.4829 - accuracy: 0.8589 - val_loss: 0.4109 - val_accuracy: 0.8895\n",
            "Epoch 61/100\n",
            "938/938 [==============================] - 12s 13ms/step - loss: 0.4701 - accuracy: 0.8625 - val_loss: 0.4163 - val_accuracy: 0.8859\n",
            "Epoch 62/100\n",
            "938/938 [==============================] - 12s 13ms/step - loss: 0.4654 - accuracy: 0.8656 - val_loss: 0.4124 - val_accuracy: 0.8892\n",
            "Epoch 63/100\n",
            "938/938 [==============================] - 12s 13ms/step - loss: 0.4700 - accuracy: 0.8645 - val_loss: 0.4125 - val_accuracy: 0.8863\n",
            "Epoch 64/100\n",
            "938/938 [==============================] - 12s 13ms/step - loss: 0.4714 - accuracy: 0.8648 - val_loss: 0.4015 - val_accuracy: 0.8917\n",
            "Epoch 65/100\n",
            "938/938 [==============================] - 12s 13ms/step - loss: 0.4606 - accuracy: 0.8684 - val_loss: 0.4081 - val_accuracy: 0.8902\n",
            "Epoch 66/100\n",
            "938/938 [==============================] - 12s 13ms/step - loss: 0.4600 - accuracy: 0.8651 - val_loss: 0.4006 - val_accuracy: 0.8911\n",
            "Epoch 67/100\n",
            "938/938 [==============================] - 12s 13ms/step - loss: 0.4672 - accuracy: 0.8639 - val_loss: 0.4008 - val_accuracy: 0.8917\n",
            "Epoch 68/100\n",
            "938/938 [==============================] - 12s 13ms/step - loss: 0.4480 - accuracy: 0.8702 - val_loss: 0.3989 - val_accuracy: 0.8898\n",
            "Epoch 69/100\n",
            "938/938 [==============================] - 12s 13ms/step - loss: 0.4467 - accuracy: 0.8684 - val_loss: 0.3948 - val_accuracy: 0.8935\n",
            "Epoch 70/100\n",
            "938/938 [==============================] - 12s 13ms/step - loss: 0.4479 - accuracy: 0.8725 - val_loss: 0.3957 - val_accuracy: 0.8924\n",
            "Epoch 71/100\n",
            "938/938 [==============================] - 12s 13ms/step - loss: 0.4410 - accuracy: 0.8715 - val_loss: 0.3924 - val_accuracy: 0.8924\n",
            "Epoch 72/100\n",
            "938/938 [==============================] - 12s 13ms/step - loss: 0.4379 - accuracy: 0.8736 - val_loss: 0.3948 - val_accuracy: 0.8925\n",
            "Epoch 73/100\n",
            "938/938 [==============================] - 12s 13ms/step - loss: 0.4356 - accuracy: 0.8749 - val_loss: 0.3926 - val_accuracy: 0.8913\n",
            "Epoch 74/100\n",
            "938/938 [==============================] - 12s 13ms/step - loss: 0.4322 - accuracy: 0.8739 - val_loss: 0.3897 - val_accuracy: 0.8943\n",
            "Epoch 75/100\n",
            "938/938 [==============================] - 12s 13ms/step - loss: 0.4427 - accuracy: 0.8698 - val_loss: 0.3880 - val_accuracy: 0.8966\n",
            "Epoch 76/100\n",
            "938/938 [==============================] - 12s 13ms/step - loss: 0.4375 - accuracy: 0.8737 - val_loss: 0.3883 - val_accuracy: 0.8932\n",
            "Epoch 77/100\n",
            "938/938 [==============================] - 12s 13ms/step - loss: 0.4303 - accuracy: 0.8734 - val_loss: 0.3869 - val_accuracy: 0.8962\n",
            "Epoch 78/100\n",
            "938/938 [==============================] - 12s 13ms/step - loss: 0.4245 - accuracy: 0.8783 - val_loss: 0.3887 - val_accuracy: 0.8949\n",
            "Epoch 79/100\n",
            "938/938 [==============================] - 12s 13ms/step - loss: 0.4158 - accuracy: 0.8788 - val_loss: 0.3861 - val_accuracy: 0.8947\n",
            "Epoch 80/100\n",
            "938/938 [==============================] - 12s 13ms/step - loss: 0.4189 - accuracy: 0.8807 - val_loss: 0.3821 - val_accuracy: 0.8957\n",
            "Epoch 81/100\n",
            "938/938 [==============================] - 12s 13ms/step - loss: 0.4122 - accuracy: 0.8805 - val_loss: 0.3807 - val_accuracy: 0.8970\n",
            "Epoch 82/100\n",
            "938/938 [==============================] - 12s 12ms/step - loss: 0.4126 - accuracy: 0.8805 - val_loss: 0.3793 - val_accuracy: 0.8976\n",
            "Epoch 83/100\n",
            "938/938 [==============================] - 12s 12ms/step - loss: 0.4121 - accuracy: 0.8773 - val_loss: 0.3783 - val_accuracy: 0.8965\n",
            "Epoch 84/100\n",
            "938/938 [==============================] - 12s 12ms/step - loss: 0.4065 - accuracy: 0.8812 - val_loss: 0.3762 - val_accuracy: 0.8980\n",
            "Epoch 85/100\n",
            "938/938 [==============================] - 12s 13ms/step - loss: 0.4095 - accuracy: 0.8814 - val_loss: 0.3757 - val_accuracy: 0.8987\n",
            "Epoch 86/100\n",
            "938/938 [==============================] - 12s 13ms/step - loss: 0.4063 - accuracy: 0.8805 - val_loss: 0.3816 - val_accuracy: 0.8972\n",
            "Epoch 87/100\n",
            "938/938 [==============================] - 12s 13ms/step - loss: 0.4019 - accuracy: 0.8839 - val_loss: 0.3772 - val_accuracy: 0.8958\n",
            "Epoch 88/100\n",
            "938/938 [==============================] - 12s 13ms/step - loss: 0.3996 - accuracy: 0.8858 - val_loss: 0.3773 - val_accuracy: 0.8952\n",
            "Epoch 89/100\n",
            "938/938 [==============================] - 13s 13ms/step - loss: 0.4046 - accuracy: 0.8813 - val_loss: 0.3734 - val_accuracy: 0.8972\n",
            "Epoch 90/100\n",
            "938/938 [==============================] - 12s 13ms/step - loss: 0.3925 - accuracy: 0.8843 - val_loss: 0.3687 - val_accuracy: 0.8995\n",
            "Epoch 91/100\n",
            "938/938 [==============================] - 12s 13ms/step - loss: 0.3970 - accuracy: 0.8865 - val_loss: 0.3734 - val_accuracy: 0.8968\n",
            "Epoch 92/100\n",
            "938/938 [==============================] - 12s 13ms/step - loss: 0.3911 - accuracy: 0.8835 - val_loss: 0.3688 - val_accuracy: 0.8998\n",
            "Epoch 93/100\n",
            "938/938 [==============================] - 12s 12ms/step - loss: 0.3870 - accuracy: 0.8852 - val_loss: 0.3695 - val_accuracy: 0.9001\n",
            "Epoch 94/100\n",
            "938/938 [==============================] - 12s 12ms/step - loss: 0.3967 - accuracy: 0.8855 - val_loss: 0.3660 - val_accuracy: 0.9004\n",
            "Epoch 95/100\n",
            "938/938 [==============================] - 12s 13ms/step - loss: 0.3804 - accuracy: 0.8886 - val_loss: 0.3636 - val_accuracy: 0.9011\n",
            "Epoch 96/100\n",
            "938/938 [==============================] - 12s 13ms/step - loss: 0.3823 - accuracy: 0.8902 - val_loss: 0.3653 - val_accuracy: 0.9022\n",
            "Epoch 97/100\n",
            "938/938 [==============================] - 12s 13ms/step - loss: 0.3780 - accuracy: 0.8909 - val_loss: 0.3630 - val_accuracy: 0.9022\n",
            "Epoch 98/100\n",
            "938/938 [==============================] - 12s 13ms/step - loss: 0.3773 - accuracy: 0.8901 - val_loss: 0.3609 - val_accuracy: 0.9044\n",
            "Epoch 99/100\n",
            "938/938 [==============================] - 12s 13ms/step - loss: 0.3751 - accuracy: 0.8900 - val_loss: 0.3577 - val_accuracy: 0.9038\n",
            "Epoch 100/100\n",
            "938/938 [==============================] - 12s 13ms/step - loss: 0.3791 - accuracy: 0.8879 - val_loss: 0.3588 - val_accuracy: 0.9014\n"
          ],
          "name": "stdout"
        }
      ]
    },
    {
      "cell_type": "code",
      "metadata": {
        "colab": {
          "base_uri": "https://localhost:8080/",
          "height": 528
        },
        "id": "yYmH8ydyY8nf",
        "outputId": "2b7f30d8-e908-41ba-e3cb-87ba0ee57212"
      },
      "source": [
        "history_df = pd.DataFrame(history.history)\n",
        "history_df.loc[:, ['loss', 'val_loss']].plot();\n",
        "print(\"Minimum validation loss: {}\".format(history_df['val_loss'].min()))\n",
        "history_df = pd.DataFrame(history.history)\n",
        "history_df.loc[:, ['accuracy', 'val_accuracy']].plot();\n",
        "#print(\"Minimum validation loss: {}\".format(history_df['val_loss'].min()))"
      ],
      "execution_count": null,
      "outputs": [
        {
          "output_type": "stream",
          "text": [
            "Minimum validation loss: 0.3577238917350769\n"
          ],
          "name": "stdout"
        },
        {
          "output_type": "display_data",
          "data": {
            "image/png": "[encoded data removed]",
            "text/plain": [
              "<Figure size 432x288 with 1 Axes>"
            ]
          },
          "metadata": {
            "tags": []
          }
        },
        {
          "output_type": "display_data",
          "data": {
            "image/png": "[encoded data removed]",
            "text/plain": [
              "<Figure size 432x288 with 1 Axes>"
            ]
          },
          "metadata": {
            "tags": []
          }
        }
      ]
    },
    {
      "cell_type": "code",
      "metadata": {
        "colab": {
          "base_uri": "https://localhost:8080/"
        },
        "id": "2gTP2MSuH514",
        "outputId": "17a8ab06-a8eb-4d58-ad7b-ac4d6b76e7b5"
      },
      "source": [
        "model.evaluate(X_test,y_test)\n",
        "model.evaluate(x_val,Y_val)\n",
        "\n",
        "model.evaluate(x_train , Y_train)"
      ],
      "execution_count": null,
      "outputs": [
        {
          "output_type": "stream",
          "text": [
            "563/563 [==============================] - 2s 3ms/step - loss: 0.3625 - accuracy: 0.8996\n",
            "375/375 [==============================] - 1s 2ms/step - loss: 0.3588 - accuracy: 0.9014\n",
            "938/938 [==============================] - 3s 3ms/step - loss: 0.2732 - accuracy: 0.9234\n"
          ],
          "name": "stdout"
        },
        {
          "output_type": "execute_result",
          "data": {
            "text/plain": [
              "[0.2732243239879608, 0.9234333038330078]"
            ]
          },
          "metadata": {
            "tags": []
          },
          "execution_count": 95
        }
      ]
    },
    {
      "cell_type": "markdown",
      "metadata": {
        "id": "kbfXNKt7C2oC"
      },
      "source": [
        "# Model 2"
      ]
    },
    {
      "cell_type": "code",
      "metadata": {
        "id": "qfVUsoFxDMfA"
      },
      "source": [
        "input_layer=Input(shape=input_shape)\n",
        "conv_layer_main=Conv2D(16,kernel_size=(3,3),padding='same',kernel_initializer='he_normal')(input_layer)\n",
        "batch_layer_1=BatchNormalization()(conv_layer_main)\n",
        "activation_layer_1=Activation('relu')(batch_layer_1)\n",
        "pool_layer_main=MaxPooling2D(pool_size=(2,2))(activation_layer_1)\n",
        "A_conv_layer1=Conv2D(32,kernel_size=(3,3),padding='same',kernel_initializer='he_normal',activation='relu')(pool_layer_main)\n",
        "A_pool_layer1=MaxPooling2D(pool_size=(2,2))(A_conv_layer1)\n",
        "A_conv_layer2=Conv2D(64,kernel_size=(3,3),padding='same',kernel_initializer='he_normal',activation='relu')(A_pool_layer1)\n",
        "A_pool_layer2=MaxPooling2D(pool_size=(2,2))(A_conv_layer2)\n",
        "A_Dropout=Dropout(.3)(A_pool_layer2)\n",
        "A_Final_Conv=Conv2D(128,kernel_size=(4,4),kernel_initializer='he_normal',activation='relu')(A_Dropout)\n",
        "A_Flatten=Flatten()(A_Final_Conv)\n",
        "B_conv_layer1=Conv2D(32,kernel_size=(3,3),padding='same',kernel_initializer='he_normal',activation='relu')(pool_layer_main)\n",
        "B_pool_layer1=MaxPooling2D(pool_size=(2,2))(B_conv_layer1)\n",
        "B_conv_layer2=Conv2D(64,kernel_size=(3,3),padding='same',kernel_initializer='he_normal',activation='relu')(B_pool_layer1)\n",
        "B_pool_layer2=MaxPooling2D(pool_size=(2,2))(B_conv_layer2)\n",
        "B_dropout=Dropout(.3)(B_pool_layer2)\n",
        "B_Final_Conv=Conv2D(128,kernel_size=(4,4),kernel_initializer='he_normal',activation='relu')(B_dropout)\n",
        "\n",
        "B_Flatten=Flatten()(B_Final_Conv)\n",
        "#merge=concatenate([A_Flatten,B_Flatten])\n",
        "merge=Add()([A_Flatten,B_Flatten])\n",
        "hidden_layer_1=Dense(128,activation='relu',kernel_initializer='he_normal')(merge)\n",
        "hidden_layer_2=Dense(256,activation='relu',kernel_initializer='he_normal')(hidden_layer_1)\n",
        "output=Dense(num_classes,activation='softmax',kernel_initializer='he_normal')(hidden_layer_2)\n",
        "model=Model(inputs=input_layer,outputs=output)"
      ],
      "execution_count": 41,
      "outputs": []
    },
    {
      "cell_type": "code",
      "metadata": {
        "colab": {
          "base_uri": "https://localhost:8080/"
        },
        "id": "LNXZAWA2G32l",
        "outputId": "06d59833-aa48-42fe-ebc1-802557c9c45c"
      },
      "source": [
        "model.summary()"
      ],
      "execution_count": 42,
      "outputs": [
        {
          "output_type": "stream",
          "text": [
            "Model: \"model_4\"\n",
            "__________________________________________________________________________________________________\n",
            "Layer (type)                    Output Shape         Param #     Connected to                     \n",
            "==================================================================================================\n",
            "input_5 (InputLayer)            [(None, 32, 32, 1)]  0                                            \n",
            "__________________________________________________________________________________________________\n",
            "conv2d_28 (Conv2D)              (None, 32, 32, 16)   160         input_5[0][0]                    \n",
            "__________________________________________________________________________________________________\n",
            "batch_normalization_4 (BatchNor (None, 32, 32, 16)   64          conv2d_28[0][0]                  \n",
            "__________________________________________________________________________________________________\n",
            "activation_4 (Activation)       (None, 32, 32, 16)   0           batch_normalization_4[0][0]      \n",
            "__________________________________________________________________________________________________\n",
            "max_pooling2d_20 (MaxPooling2D) (None, 16, 16, 16)   0           activation_4[0][0]               \n",
            "__________________________________________________________________________________________________\n",
            "conv2d_29 (Conv2D)              (None, 16, 16, 32)   4640        max_pooling2d_20[0][0]           \n",
            "__________________________________________________________________________________________________\n",
            "conv2d_32 (Conv2D)              (None, 16, 16, 32)   4640        max_pooling2d_20[0][0]           \n",
            "__________________________________________________________________________________________________\n",
            "max_pooling2d_21 (MaxPooling2D) (None, 8, 8, 32)     0           conv2d_29[0][0]                  \n",
            "__________________________________________________________________________________________________\n",
            "max_pooling2d_23 (MaxPooling2D) (None, 8, 8, 32)     0           conv2d_32[0][0]                  \n",
            "__________________________________________________________________________________________________\n",
            "conv2d_30 (Conv2D)              (None, 8, 8, 64)     18496       max_pooling2d_21[0][0]           \n",
            "__________________________________________________________________________________________________\n",
            "conv2d_33 (Conv2D)              (None, 8, 8, 64)     18496       max_pooling2d_23[0][0]           \n",
            "__________________________________________________________________________________________________\n",
            "max_pooling2d_22 (MaxPooling2D) (None, 4, 4, 64)     0           conv2d_30[0][0]                  \n",
            "__________________________________________________________________________________________________\n",
            "max_pooling2d_24 (MaxPooling2D) (None, 4, 4, 64)     0           conv2d_33[0][0]                  \n",
            "__________________________________________________________________________________________________\n",
            "dropout_2 (Dropout)             (None, 4, 4, 64)     0           max_pooling2d_22[0][0]           \n",
            "__________________________________________________________________________________________________\n",
            "dropout_3 (Dropout)             (None, 4, 4, 64)     0           max_pooling2d_24[0][0]           \n",
            "__________________________________________________________________________________________________\n",
            "conv2d_31 (Conv2D)              (None, 1, 1, 128)    131200      dropout_2[0][0]                  \n",
            "__________________________________________________________________________________________________\n",
            "conv2d_34 (Conv2D)              (None, 1, 1, 128)    131200      dropout_3[0][0]                  \n",
            "__________________________________________________________________________________________________\n",
            "flatten_6 (Flatten)             (None, 128)          0           conv2d_31[0][0]                  \n",
            "__________________________________________________________________________________________________\n",
            "flatten_7 (Flatten)             (None, 128)          0           conv2d_34[0][0]                  \n",
            "__________________________________________________________________________________________________\n",
            "add_1 (Add)                     (None, 128)          0           flatten_6[0][0]                  \n",
            "                                                                 flatten_7[0][0]                  \n",
            "__________________________________________________________________________________________________\n",
            "dense_12 (Dense)                (None, 128)          16512       add_1[0][0]                      \n",
            "__________________________________________________________________________________________________\n",
            "dense_13 (Dense)                (None, 256)          33024       dense_12[0][0]                   \n",
            "__________________________________________________________________________________________________\n",
            "dense_14 (Dense)                (None, 10)           2570        dense_13[0][0]                   \n",
            "==================================================================================================\n",
            "Total params: 361,002\n",
            "Trainable params: 360,970\n",
            "Non-trainable params: 32\n",
            "__________________________________________________________________________________________________\n"
          ],
          "name": "stdout"
        }
      ]
    },
    {
      "cell_type": "code",
      "metadata": {
        "colab": {
          "base_uri": "https://localhost:8080/"
        },
        "id": "gWIgsCHNHKJV",
        "outputId": "6dfd4dcc-b198-483d-ab22-abef21e34b25"
      },
      "source": [
        "datagen = ImageDataGenerator(rotation_range=8,\n",
        "                             zoom_range=[0.95, 1.05],\n",
        "                             height_shift_range=0.10,\n",
        "                             shear_range=0.15)\n",
        "optimizer=Adam(learning_rate=1e-5,amsgrad=True)\n",
        "#lr_schedule = LearningRateScheduler(lambda epoch: 1e-5 * 10**(epoch / 10))\n",
        "early_stopping = EarlyStopping(patience=8)\n",
        "model_checkpoint = ModelCheckpoint(\n",
        "                   '/content/drive/MyDrive/Projects/SVHN/Convolution_Checkpoints/best_cnn.h5', \n",
        "                   save_best_only=True)\n",
        "model.compile(loss=categorical_crossentropy,optimizer=optimizer,metrics=['accuracy'])\n",
        "#history=model.fit(x_train,Y_train,validation_data=(x_val,Y_val),epochs=100,batch_size=32,verbose=1)\n",
        "history = model.fit(datagen.flow(x_train, Y_train, batch_size=32),\n",
        "                              epochs=100, validation_data=(x_val, Y_val),\n",
        "                              callbacks=[early_stopping,model_checkpoint])"
      ],
      "execution_count": 43,
      "outputs": [
        {
          "output_type": "stream",
          "text": [
            "Epoch 1/100\n",
            "938/938 [==============================] - 13s 13ms/step - loss: 2.9709 - accuracy: 0.1029 - val_loss: 2.3095 - val_accuracy: 0.1243\n",
            "Epoch 2/100\n",
            "938/938 [==============================] - 12s 13ms/step - loss: 2.4330 - accuracy: 0.1142 - val_loss: 2.2587 - val_accuracy: 0.1542\n",
            "Epoch 3/100\n",
            "938/938 [==============================] - 12s 13ms/step - loss: 2.3442 - accuracy: 0.1318 - val_loss: 2.2242 - val_accuracy: 0.1732\n",
            "Epoch 4/100\n",
            "938/938 [==============================] - 12s 13ms/step - loss: 2.2897 - accuracy: 0.1487 - val_loss: 2.1880 - val_accuracy: 0.2072\n",
            "Epoch 5/100\n",
            "938/938 [==============================] - 12s 13ms/step - loss: 2.2516 - accuracy: 0.1658 - val_loss: 2.1429 - val_accuracy: 0.2454\n",
            "Epoch 6/100\n",
            "938/938 [==============================] - 12s 13ms/step - loss: 2.2091 - accuracy: 0.1958 - val_loss: 2.0811 - val_accuracy: 0.2811\n",
            "Epoch 7/100\n",
            "938/938 [==============================] - 12s 13ms/step - loss: 2.1606 - accuracy: 0.2168 - val_loss: 2.0003 - val_accuracy: 0.3358\n",
            "Epoch 8/100\n",
            "938/938 [==============================] - 12s 13ms/step - loss: 2.1021 - accuracy: 0.2443 - val_loss: 1.9079 - val_accuracy: 0.3602\n",
            "Epoch 9/100\n",
            "938/938 [==============================] - 12s 13ms/step - loss: 2.0162 - accuracy: 0.2819 - val_loss: 1.8023 - val_accuracy: 0.4164\n",
            "Epoch 10/100\n",
            "938/938 [==============================] - 12s 13ms/step - loss: 1.9494 - accuracy: 0.3044 - val_loss: 1.6929 - val_accuracy: 0.4582\n",
            "Epoch 11/100\n",
            "938/938 [==============================] - 12s 13ms/step - loss: 1.8792 - accuracy: 0.3390 - val_loss: 1.5969 - val_accuracy: 0.4955\n",
            "Epoch 12/100\n",
            "938/938 [==============================] - 12s 13ms/step - loss: 1.7975 - accuracy: 0.3757 - val_loss: 1.5058 - val_accuracy: 0.5291\n",
            "Epoch 13/100\n",
            "938/938 [==============================] - 12s 13ms/step - loss: 1.7216 - accuracy: 0.4017 - val_loss: 1.4280 - val_accuracy: 0.5545\n",
            "Epoch 14/100\n",
            "938/938 [==============================] - 12s 13ms/step - loss: 1.6589 - accuracy: 0.4237 - val_loss: 1.3674 - val_accuracy: 0.5778\n",
            "Epoch 15/100\n",
            "938/938 [==============================] - 12s 13ms/step - loss: 1.5871 - accuracy: 0.4560 - val_loss: 1.2874 - val_accuracy: 0.6102\n",
            "Epoch 16/100\n",
            "938/938 [==============================] - 12s 13ms/step - loss: 1.5437 - accuracy: 0.4728 - val_loss: 1.2466 - val_accuracy: 0.6158\n",
            "Epoch 17/100\n",
            "938/938 [==============================] - 12s 13ms/step - loss: 1.4787 - accuracy: 0.4984 - val_loss: 1.1718 - val_accuracy: 0.6452\n",
            "Epoch 18/100\n",
            "938/938 [==============================] - 12s 13ms/step - loss: 1.4198 - accuracy: 0.5209 - val_loss: 1.1329 - val_accuracy: 0.6536\n",
            "Epoch 19/100\n",
            "938/938 [==============================] - 12s 13ms/step - loss: 1.3835 - accuracy: 0.5357 - val_loss: 1.0901 - val_accuracy: 0.6665\n",
            "Epoch 20/100\n",
            "938/938 [==============================] - 12s 13ms/step - loss: 1.3399 - accuracy: 0.5538 - val_loss: 1.0423 - val_accuracy: 0.6827\n",
            "Epoch 21/100\n",
            "938/938 [==============================] - 12s 13ms/step - loss: 1.2982 - accuracy: 0.5612 - val_loss: 1.0090 - val_accuracy: 0.6957\n",
            "Epoch 22/100\n",
            "938/938 [==============================] - 12s 13ms/step - loss: 1.2612 - accuracy: 0.5760 - val_loss: 0.9785 - val_accuracy: 0.7017\n",
            "Epoch 23/100\n",
            "938/938 [==============================] - 12s 13ms/step - loss: 1.2401 - accuracy: 0.5874 - val_loss: 0.9379 - val_accuracy: 0.7189\n",
            "Epoch 24/100\n",
            "938/938 [==============================] - 12s 13ms/step - loss: 1.2136 - accuracy: 0.6061 - val_loss: 0.9105 - val_accuracy: 0.7289\n",
            "Epoch 25/100\n",
            "938/938 [==============================] - 12s 13ms/step - loss: 1.1871 - accuracy: 0.6112 - val_loss: 0.8901 - val_accuracy: 0.7318\n",
            "Epoch 26/100\n",
            "938/938 [==============================] - 12s 13ms/step - loss: 1.1505 - accuracy: 0.6260 - val_loss: 0.8635 - val_accuracy: 0.7432\n",
            "Epoch 27/100\n",
            "938/938 [==============================] - 12s 13ms/step - loss: 1.1317 - accuracy: 0.6233 - val_loss: 0.8488 - val_accuracy: 0.7471\n",
            "Epoch 28/100\n",
            "938/938 [==============================] - 12s 13ms/step - loss: 1.0933 - accuracy: 0.6412 - val_loss: 0.8423 - val_accuracy: 0.7482\n",
            "Epoch 29/100\n",
            "938/938 [==============================] - 12s 13ms/step - loss: 1.0821 - accuracy: 0.6473 - val_loss: 0.8137 - val_accuracy: 0.7576\n",
            "Epoch 30/100\n",
            "938/938 [==============================] - 12s 13ms/step - loss: 1.0567 - accuracy: 0.6594 - val_loss: 0.7893 - val_accuracy: 0.7679\n",
            "Epoch 31/100\n",
            "938/938 [==============================] - 12s 13ms/step - loss: 1.0463 - accuracy: 0.6604 - val_loss: 0.7709 - val_accuracy: 0.7731\n",
            "Epoch 32/100\n",
            "938/938 [==============================] - 12s 13ms/step - loss: 1.0205 - accuracy: 0.6712 - val_loss: 0.7589 - val_accuracy: 0.7755\n",
            "Epoch 33/100\n",
            "938/938 [==============================] - 12s 13ms/step - loss: 1.0106 - accuracy: 0.6725 - val_loss: 0.7375 - val_accuracy: 0.7827\n",
            "Epoch 34/100\n",
            "938/938 [==============================] - 12s 13ms/step - loss: 0.9840 - accuracy: 0.6851 - val_loss: 0.7324 - val_accuracy: 0.7860\n",
            "Epoch 35/100\n",
            "938/938 [==============================] - 12s 13ms/step - loss: 0.9783 - accuracy: 0.6899 - val_loss: 0.7202 - val_accuracy: 0.7912\n",
            "Epoch 36/100\n",
            "938/938 [==============================] - 12s 13ms/step - loss: 0.9616 - accuracy: 0.6908 - val_loss: 0.7065 - val_accuracy: 0.7926\n",
            "Epoch 37/100\n",
            "938/938 [==============================] - 12s 13ms/step - loss: 0.9395 - accuracy: 0.7011 - val_loss: 0.6962 - val_accuracy: 0.7979\n",
            "Epoch 38/100\n",
            "938/938 [==============================] - 12s 13ms/step - loss: 0.9368 - accuracy: 0.7009 - val_loss: 0.6854 - val_accuracy: 0.7999\n",
            "Epoch 39/100\n",
            "938/938 [==============================] - 12s 13ms/step - loss: 0.9187 - accuracy: 0.7039 - val_loss: 0.6715 - val_accuracy: 0.8057\n",
            "Epoch 40/100\n",
            "938/938 [==============================] - 12s 13ms/step - loss: 0.9059 - accuracy: 0.7139 - val_loss: 0.6622 - val_accuracy: 0.8091\n",
            "Epoch 41/100\n",
            "938/938 [==============================] - 12s 13ms/step - loss: 0.8915 - accuracy: 0.7209 - val_loss: 0.6538 - val_accuracy: 0.8107\n",
            "Epoch 42/100\n",
            "938/938 [==============================] - 12s 13ms/step - loss: 0.8879 - accuracy: 0.7187 - val_loss: 0.6458 - val_accuracy: 0.8138\n",
            "Epoch 43/100\n",
            "938/938 [==============================] - 12s 13ms/step - loss: 0.8797 - accuracy: 0.7207 - val_loss: 0.6378 - val_accuracy: 0.8150\n",
            "Epoch 44/100\n",
            "938/938 [==============================] - 12s 13ms/step - loss: 0.8510 - accuracy: 0.7325 - val_loss: 0.6272 - val_accuracy: 0.8202\n",
            "Epoch 45/100\n",
            "938/938 [==============================] - 12s 13ms/step - loss: 0.8460 - accuracy: 0.7296 - val_loss: 0.6211 - val_accuracy: 0.8227\n",
            "Epoch 46/100\n",
            "938/938 [==============================] - 12s 13ms/step - loss: 0.8447 - accuracy: 0.7315 - val_loss: 0.6148 - val_accuracy: 0.8255\n",
            "Epoch 47/100\n",
            "938/938 [==============================] - 12s 13ms/step - loss: 0.8383 - accuracy: 0.7303 - val_loss: 0.6059 - val_accuracy: 0.8282\n",
            "Epoch 48/100\n",
            "938/938 [==============================] - 12s 13ms/step - loss: 0.8363 - accuracy: 0.7362 - val_loss: 0.5991 - val_accuracy: 0.8305\n",
            "Epoch 49/100\n",
            "938/938 [==============================] - 12s 13ms/step - loss: 0.8198 - accuracy: 0.7392 - val_loss: 0.5958 - val_accuracy: 0.8298\n",
            "Epoch 50/100\n",
            "938/938 [==============================] - 12s 13ms/step - loss: 0.8191 - accuracy: 0.7402 - val_loss: 0.5872 - val_accuracy: 0.8335\n",
            "Epoch 51/100\n",
            "938/938 [==============================] - 12s 13ms/step - loss: 0.8038 - accuracy: 0.7502 - val_loss: 0.5814 - val_accuracy: 0.8357\n",
            "Epoch 52/100\n",
            "938/938 [==============================] - 12s 13ms/step - loss: 0.7948 - accuracy: 0.7476 - val_loss: 0.5780 - val_accuracy: 0.8349\n",
            "Epoch 53/100\n",
            "938/938 [==============================] - 12s 13ms/step - loss: 0.7822 - accuracy: 0.7530 - val_loss: 0.5699 - val_accuracy: 0.8393\n",
            "Epoch 54/100\n",
            "938/938 [==============================] - 12s 13ms/step - loss: 0.7933 - accuracy: 0.7516 - val_loss: 0.5633 - val_accuracy: 0.8418\n",
            "Epoch 55/100\n",
            "938/938 [==============================] - 12s 13ms/step - loss: 0.7818 - accuracy: 0.7501 - val_loss: 0.5612 - val_accuracy: 0.8425\n",
            "Epoch 56/100\n",
            "938/938 [==============================] - 12s 13ms/step - loss: 0.7717 - accuracy: 0.7587 - val_loss: 0.5579 - val_accuracy: 0.8407\n",
            "Epoch 57/100\n",
            "938/938 [==============================] - 12s 13ms/step - loss: 0.7630 - accuracy: 0.7627 - val_loss: 0.5514 - val_accuracy: 0.8432\n",
            "Epoch 58/100\n",
            "938/938 [==============================] - 12s 13ms/step - loss: 0.7665 - accuracy: 0.7605 - val_loss: 0.5476 - val_accuracy: 0.8460\n",
            "Epoch 59/100\n",
            "938/938 [==============================] - 12s 13ms/step - loss: 0.7563 - accuracy: 0.7630 - val_loss: 0.5436 - val_accuracy: 0.8469\n",
            "Epoch 60/100\n",
            "938/938 [==============================] - 12s 13ms/step - loss: 0.7436 - accuracy: 0.7658 - val_loss: 0.5373 - val_accuracy: 0.8497\n",
            "Epoch 61/100\n",
            "938/938 [==============================] - 12s 13ms/step - loss: 0.7281 - accuracy: 0.7711 - val_loss: 0.5346 - val_accuracy: 0.8493\n",
            "Epoch 62/100\n",
            "938/938 [==============================] - 12s 13ms/step - loss: 0.7348 - accuracy: 0.7714 - val_loss: 0.5301 - val_accuracy: 0.8508\n",
            "Epoch 63/100\n",
            "938/938 [==============================] - 12s 13ms/step - loss: 0.7273 - accuracy: 0.7711 - val_loss: 0.5233 - val_accuracy: 0.8542\n",
            "Epoch 64/100\n",
            "938/938 [==============================] - 12s 13ms/step - loss: 0.7098 - accuracy: 0.7781 - val_loss: 0.5226 - val_accuracy: 0.8533\n",
            "Epoch 65/100\n",
            "938/938 [==============================] - 12s 13ms/step - loss: 0.7112 - accuracy: 0.7780 - val_loss: 0.5173 - val_accuracy: 0.8543\n",
            "Epoch 66/100\n",
            "938/938 [==============================] - 12s 13ms/step - loss: 0.7107 - accuracy: 0.7777 - val_loss: 0.5136 - val_accuracy: 0.8560\n",
            "Epoch 67/100\n",
            "938/938 [==============================] - 12s 13ms/step - loss: 0.7015 - accuracy: 0.7792 - val_loss: 0.5096 - val_accuracy: 0.8573\n",
            "Epoch 68/100\n",
            "938/938 [==============================] - 12s 13ms/step - loss: 0.7123 - accuracy: 0.7792 - val_loss: 0.5069 - val_accuracy: 0.8570\n",
            "Epoch 69/100\n",
            "938/938 [==============================] - 12s 13ms/step - loss: 0.7074 - accuracy: 0.7782 - val_loss: 0.5006 - val_accuracy: 0.8605\n",
            "Epoch 70/100\n",
            "938/938 [==============================] - 12s 13ms/step - loss: 0.6892 - accuracy: 0.7890 - val_loss: 0.4985 - val_accuracy: 0.8608\n",
            "Epoch 71/100\n",
            "938/938 [==============================] - 12s 13ms/step - loss: 0.6839 - accuracy: 0.7877 - val_loss: 0.4948 - val_accuracy: 0.8612\n",
            "Epoch 72/100\n",
            "938/938 [==============================] - 12s 13ms/step - loss: 0.6836 - accuracy: 0.7862 - val_loss: 0.4912 - val_accuracy: 0.8629\n",
            "Epoch 73/100\n",
            "938/938 [==============================] - 12s 13ms/step - loss: 0.6801 - accuracy: 0.7905 - val_loss: 0.4875 - val_accuracy: 0.8642\n",
            "Epoch 74/100\n",
            "938/938 [==============================] - 12s 13ms/step - loss: 0.6783 - accuracy: 0.7892 - val_loss: 0.4858 - val_accuracy: 0.8647\n",
            "Epoch 75/100\n",
            "938/938 [==============================] - 12s 13ms/step - loss: 0.6752 - accuracy: 0.7903 - val_loss: 0.4831 - val_accuracy: 0.8650\n",
            "Epoch 76/100\n",
            "938/938 [==============================] - 12s 13ms/step - loss: 0.6690 - accuracy: 0.7932 - val_loss: 0.4776 - val_accuracy: 0.8678\n",
            "Epoch 77/100\n",
            "938/938 [==============================] - 12s 13ms/step - loss: 0.6658 - accuracy: 0.7916 - val_loss: 0.4769 - val_accuracy: 0.8678\n",
            "Epoch 78/100\n",
            "938/938 [==============================] - 12s 13ms/step - loss: 0.6653 - accuracy: 0.7924 - val_loss: 0.4768 - val_accuracy: 0.8667\n",
            "Epoch 79/100\n",
            "938/938 [==============================] - 12s 13ms/step - loss: 0.6383 - accuracy: 0.7983 - val_loss: 0.4718 - val_accuracy: 0.8672\n",
            "Epoch 80/100\n",
            "938/938 [==============================] - 12s 13ms/step - loss: 0.6651 - accuracy: 0.7971 - val_loss: 0.4701 - val_accuracy: 0.8665\n",
            "Epoch 81/100\n",
            "938/938 [==============================] - 12s 13ms/step - loss: 0.6385 - accuracy: 0.7968 - val_loss: 0.4672 - val_accuracy: 0.8674\n",
            "Epoch 82/100\n",
            "938/938 [==============================] - 12s 13ms/step - loss: 0.6427 - accuracy: 0.8000 - val_loss: 0.4627 - val_accuracy: 0.8699\n",
            "Epoch 83/100\n",
            "938/938 [==============================] - 12s 13ms/step - loss: 0.6367 - accuracy: 0.8012 - val_loss: 0.4579 - val_accuracy: 0.8713\n",
            "Epoch 84/100\n",
            "938/938 [==============================] - 12s 13ms/step - loss: 0.6374 - accuracy: 0.8012 - val_loss: 0.4591 - val_accuracy: 0.8716\n",
            "Epoch 85/100\n",
            "938/938 [==============================] - 12s 13ms/step - loss: 0.6082 - accuracy: 0.8090 - val_loss: 0.4535 - val_accuracy: 0.8726\n",
            "Epoch 86/100\n",
            "938/938 [==============================] - 12s 13ms/step - loss: 0.6174 - accuracy: 0.8071 - val_loss: 0.4561 - val_accuracy: 0.8704\n",
            "Epoch 87/100\n",
            "938/938 [==============================] - 12s 13ms/step - loss: 0.6212 - accuracy: 0.8072 - val_loss: 0.4511 - val_accuracy: 0.8722\n",
            "Epoch 88/100\n",
            "938/938 [==============================] - 12s 13ms/step - loss: 0.6222 - accuracy: 0.8056 - val_loss: 0.4469 - val_accuracy: 0.8714\n",
            "Epoch 89/100\n",
            "938/938 [==============================] - 12s 13ms/step - loss: 0.6229 - accuracy: 0.8030 - val_loss: 0.4464 - val_accuracy: 0.8737\n",
            "Epoch 90/100\n",
            "938/938 [==============================] - 12s 13ms/step - loss: 0.6098 - accuracy: 0.8102 - val_loss: 0.4423 - val_accuracy: 0.8753\n",
            "Epoch 91/100\n",
            "938/938 [==============================] - 12s 13ms/step - loss: 0.6019 - accuracy: 0.8149 - val_loss: 0.4393 - val_accuracy: 0.8765\n",
            "Epoch 92/100\n",
            "938/938 [==============================] - 12s 13ms/step - loss: 0.6090 - accuracy: 0.8106 - val_loss: 0.4380 - val_accuracy: 0.8758\n",
            "Epoch 93/100\n",
            "938/938 [==============================] - 12s 13ms/step - loss: 0.5914 - accuracy: 0.8134 - val_loss: 0.4376 - val_accuracy: 0.8770\n",
            "Epoch 94/100\n",
            "938/938 [==============================] - 12s 13ms/step - loss: 0.6004 - accuracy: 0.8123 - val_loss: 0.4346 - val_accuracy: 0.8771\n",
            "Epoch 95/100\n",
            "938/938 [==============================] - 12s 13ms/step - loss: 0.5811 - accuracy: 0.8151 - val_loss: 0.4347 - val_accuracy: 0.8766\n",
            "Epoch 96/100\n",
            "938/938 [==============================] - 12s 13ms/step - loss: 0.5859 - accuracy: 0.8203 - val_loss: 0.4282 - val_accuracy: 0.8789\n",
            "Epoch 97/100\n",
            "938/938 [==============================] - 12s 13ms/step - loss: 0.5897 - accuracy: 0.8158 - val_loss: 0.4314 - val_accuracy: 0.8783\n",
            "Epoch 98/100\n",
            "938/938 [==============================] - 12s 13ms/step - loss: 0.5844 - accuracy: 0.8204 - val_loss: 0.4279 - val_accuracy: 0.8773\n",
            "Epoch 99/100\n",
            "938/938 [==============================] - 12s 13ms/step - loss: 0.5906 - accuracy: 0.8146 - val_loss: 0.4257 - val_accuracy: 0.8797\n",
            "Epoch 100/100\n",
            "938/938 [==============================] - 12s 13ms/step - loss: 0.5767 - accuracy: 0.8202 - val_loss: 0.4209 - val_accuracy: 0.8809\n"
          ],
          "name": "stdout"
        }
      ]
    },
    {
      "cell_type": "code",
      "metadata": {
        "colab": {
          "base_uri": "https://localhost:8080/",
          "height": 533
        },
        "id": "B8tsrjaVHfNR",
        "outputId": "127e4210-0626-48c2-c92d-ba33f53c8681"
      },
      "source": [
        "history_df = pd.DataFrame(history.history)\n",
        "history_df.loc[:, ['loss', 'val_loss']].plot();\n",
        "print(\"Minimum validation loss: {}\".format(history_df['val_loss'].min()))\n",
        "history_df = pd.DataFrame(history.history)\n",
        "history_df.loc[:, ['accuracy', 'val_accuracy']].plot();\n",
        "#print(\"Minimum validation loss: {}\".format(history_df['val_loss'].min()))"
      ],
      "execution_count": 39,
      "outputs": [
        {
          "output_type": "stream",
          "text": [
            "Minimum validation loss: 0.4672638773918152\n"
          ],
          "name": "stdout"
        },
        {
          "output_type": "display_data",
          "data": {
            "image/png": "[encoded data removed]",
            "text/plain": [
              "<Figure size 432x288 with 1 Axes>"
            ]
          },
          "metadata": {
            "tags": [],
            "needs_background": "light"
          }
        },
        {
          "output_type": "display_data",
          "data": {
            "image/png": "[encoded data removed]",
            "text/plain": [
              "<Figure size 432x288 with 1 Axes>"
            ]
          },
          "metadata": {
            "tags": [],
            "needs_background": "light"
          }
        }
      ]
    },
    {
      "cell_type": "code",
      "metadata": {
        "colab": {
          "base_uri": "https://localhost:8080/"
        },
        "id": "9iPiCrR7HqiR",
        "outputId": "63ffb462-aaa8-4a93-faa3-f9b3c7c1e884"
      },
      "source": [
        "model.evaluate(X_test,y_test)\n",
        "model.evaluate(x_val,Y_val)\n",
        "\n",
        "model.evaluate(x_train , Y_train)"
      ],
      "execution_count": 40,
      "outputs": [
        {
          "output_type": "stream",
          "text": [
            "563/563 [==============================] - 2s 3ms/step - loss: 0.4595 - accuracy: 0.8701\n",
            "375/375 [==============================] - 1s 2ms/step - loss: 0.4673 - accuracy: 0.8633\n",
            "938/938 [==============================] - 3s 3ms/step - loss: 0.3845 - accuracy: 0.8873\n"
          ],
          "name": "stdout"
        },
        {
          "output_type": "execute_result",
          "data": {
            "text/plain": [
              "[0.3845058083534241, 0.887333333492279]"
            ]
          },
          "metadata": {
            "tags": []
          },
          "execution_count": 40
        }
      ]
    },
    {
      "cell_type": "markdown",
      "metadata": {
        "id": "1ZBqQm0dGCSD"
      },
      "source": [
        "# Model 3 - Based on VGG "
      ]
    },
    {
      "cell_type": "code",
      "metadata": {
        "id": "4nK1JOOEGF5U"
      },
      "source": [
        "input_layer=Input(shape=input_shape)\n",
        "conv_layer1a=Conv2D(64,kernel_size=(3,3),padding='same',kernel_initializer='he_normal',activation='relu')(input_layer)\n",
        "conv_layer1b=Conv2D(64,kernel_size=(3,3),padding='same',kernel_initializer='he_normal',activation='relu')(conv_layer1a)\n",
        "pool_layer1=MaxPooling2D(pool_size=(2,2),strides=2)(conv_layer1b)\n",
        "conv_layer2a=Conv2D(128,kernel_size=(3,3),padding='same',kernel_initializer='he_normal',activation='relu')(pool_layer1)\n",
        "conv_layer2b=Conv2D(128,kernel_size=(3,3),padding='same',kernel_initializer='he_normal',activation='relu')(conv_layer2a)\n",
        "pool_layer2=MaxPooling2D(pool_size=(2,2))(conv_layer2b)\n",
        "conv_layer3a=Conv2D(256,kernel_size=(3,3),padding='same',kernel_initializer='he_normal',activation='relu')(pool_layer2)\n",
        "conv_layer3b=Conv2D(256,kernel_size=(3,3),padding='same',kernel_initializer='he_normal',activation='relu')(conv_layer3a)\n",
        "conv_layer3c=Conv2D(256,kernel_size=(3,3),padding='same',kernel_initializer='he_normal',activation='relu')(conv_layer3b)\n",
        "pool_layer3=MaxPooling2D(pool_size=(2,2))(conv_layer3c)\n",
        "conv_layer4a=Conv2D(512,kernel_size=(3,3),padding='same',kernel_initializer='he_normal',activation='relu')(pool_layer3)\n",
        "conv_layer4b=Conv2D(512,kernel_size=(3,3),padding='same',kernel_initializer='he_normal',activation='relu')(conv_layer4a)\n",
        "conv_layer4c=Conv2D(512,kernel_size=(3,3),padding='same',kernel_initializer='he_normal',activation='relu')(conv_layer4b)\n",
        "pool_layer4=MaxPooling2D(pool_size=(2,2),strides=(2,2))(conv_layer4c)\n",
        "flat_1=Flatten()(pool_layer4)\n",
        "hidden_1=Dense(512)(flat_1)\n",
        "act_1=Activation('relu')(hidden_1)\n",
        "hidden_2=Dense(512,activation='relu')(act_1)\n",
        "output=Dense(num_classes,activation='softmax',kernel_initializer='he_normal')(hidden_2)\n",
        "model=Model(inputs=input_layer,outputs=output)\n",
        "\n",
        "\n"
      ],
      "execution_count": 35,
      "outputs": []
    },
    {
      "cell_type": "code",
      "metadata": {
        "colab": {
          "base_uri": "https://localhost:8080/"
        },
        "id": "WX2vGAUmL3Pv",
        "outputId": "c919bf04-3840-4aac-e1d0-7908f54024bf"
      },
      "source": [
        "model.summary()"
      ],
      "execution_count": 18,
      "outputs": [
        {
          "output_type": "stream",
          "text": [
            "Model: \"model_2\"\n",
            "_________________________________________________________________\n",
            "Layer (type)                 Output Shape              Param #   \n",
            "=================================================================\n",
            "input_3 (InputLayer)         [(None, 32, 32, 1)]       0         \n",
            "_________________________________________________________________\n",
            "conv2d_20 (Conv2D)           (None, 32, 32, 64)        640       \n",
            "_________________________________________________________________\n",
            "conv2d_21 (Conv2D)           (None, 32, 32, 64)        36928     \n",
            "_________________________________________________________________\n",
            "max_pooling2d_8 (MaxPooling2 (None, 16, 16, 64)        0         \n",
            "_________________________________________________________________\n",
            "conv2d_22 (Conv2D)           (None, 16, 16, 128)       73856     \n",
            "_________________________________________________________________\n",
            "conv2d_23 (Conv2D)           (None, 16, 16, 128)       147584    \n",
            "_________________________________________________________________\n",
            "max_pooling2d_9 (MaxPooling2 (None, 8, 8, 128)         0         \n",
            "_________________________________________________________________\n",
            "conv2d_24 (Conv2D)           (None, 8, 8, 256)         295168    \n",
            "_________________________________________________________________\n",
            "conv2d_25 (Conv2D)           (None, 8, 8, 256)         590080    \n",
            "_________________________________________________________________\n",
            "conv2d_26 (Conv2D)           (None, 8, 8, 256)         590080    \n",
            "_________________________________________________________________\n",
            "max_pooling2d_10 (MaxPooling (None, 4, 4, 256)         0         \n",
            "_________________________________________________________________\n",
            "conv2d_27 (Conv2D)           (None, 4, 4, 512)         1180160   \n",
            "_________________________________________________________________\n",
            "conv2d_28 (Conv2D)           (None, 4, 4, 512)         2359808   \n",
            "_________________________________________________________________\n",
            "conv2d_29 (Conv2D)           (None, 4, 4, 512)         2359808   \n",
            "_________________________________________________________________\n",
            "max_pooling2d_11 (MaxPooling (None, 2, 2, 512)         0         \n",
            "_________________________________________________________________\n",
            "flatten_2 (Flatten)          (None, 2048)              0         \n",
            "_________________________________________________________________\n",
            "dense_6 (Dense)              (None, 512)               1049088   \n",
            "_________________________________________________________________\n",
            "activation_2 (Activation)    (None, 512)               0         \n",
            "_________________________________________________________________\n",
            "dense_7 (Dense)              (None, 512)               262656    \n",
            "_________________________________________________________________\n",
            "dense_8 (Dense)              (None, 10)                5130      \n",
            "=================================================================\n",
            "Total params: 8,950,986\n",
            "Trainable params: 8,950,986\n",
            "Non-trainable params: 0\n",
            "_________________________________________________________________\n"
          ],
          "name": "stdout"
        }
      ]
    },
    {
      "cell_type": "code",
      "metadata": {
        "colab": {
          "base_uri": "https://localhost:8080/"
        },
        "id": "7rHDphjkL_GT",
        "outputId": "67c47489-fc92-46b0-96e9-25fe47530185"
      },
      "source": [
        "datagen = ImageDataGenerator(rotation_range=8,\n",
        "                             zoom_range=[0.95, 1.05],\n",
        "                             height_shift_range=0.10,\n",
        "                             shear_range=0.15)\n",
        "optimizer=SGD(learning_rate=1e-3,momentum=.9 )\n",
        "#optimizer=Adam(learning_rate=1e-5,amsgrad=True)\n",
        "#lr_schedule = LearningRateScheduler(lambda epoch: 1e-5 * 10**(epoch / 10))\n",
        "early_stopping = EarlyStopping(monitor='val_loss',patience=5,restore_best_weights=True)\n",
        "model_checkpoint = ModelCheckpoint(\n",
        "                   '/content/drive/MyDrive/Projects/SVHN/Convolution_Checkpoints/best_cnn.h5', \n",
        "                   save_best_only=True)\n",
        "model.compile(loss=categorical_crossentropy,optimizer=optimizer,metrics=['accuracy'])\n",
        "#history=model.fit(x_train,Y_train,validation_data=(x_val,Y_val),epochs=100,batch_size=32,verbose=1)\n",
        "history = model.fit(datagen.flow(x_train, Y_train, batch_size=128),\n",
        "                              epochs=50, validation_data=(x_val, Y_val),\n",
        "                              callbacks=[early_stopping,model_checkpoint])"
      ],
      "execution_count": 36,
      "outputs": [
        {
          "output_type": "stream",
          "text": [
            "Epoch 1/50\n",
            "235/235 [==============================] - 14s 56ms/step - loss: 2.2936 - accuracy: 0.1346 - val_loss: 2.0495 - val_accuracy: 0.3210\n",
            "Epoch 2/50\n",
            "235/235 [==============================] - 13s 56ms/step - loss: 1.8354 - accuracy: 0.3861 - val_loss: 0.9255 - val_accuracy: 0.7022\n",
            "Epoch 3/50\n",
            "235/235 [==============================] - 14s 58ms/step - loss: 0.9640 - accuracy: 0.6958 - val_loss: 0.5633 - val_accuracy: 0.8373\n",
            "Epoch 4/50\n",
            "235/235 [==============================] - 13s 57ms/step - loss: 0.6988 - accuracy: 0.7885 - val_loss: 0.5288 - val_accuracy: 0.8507\n",
            "Epoch 5/50\n",
            "235/235 [==============================] - 13s 57ms/step - loss: 0.5931 - accuracy: 0.8216 - val_loss: 0.4582 - val_accuracy: 0.8690\n",
            "Epoch 6/50\n",
            "235/235 [==============================] - 14s 57ms/step - loss: 0.5082 - accuracy: 0.8476 - val_loss: 0.4222 - val_accuracy: 0.8735\n",
            "Epoch 7/50\n",
            "235/235 [==============================] - 13s 57ms/step - loss: 0.4528 - accuracy: 0.8619 - val_loss: 0.3657 - val_accuracy: 0.8956\n",
            "Epoch 8/50\n",
            "235/235 [==============================] - 14s 58ms/step - loss: 0.4128 - accuracy: 0.8781 - val_loss: 0.3818 - val_accuracy: 0.8923\n",
            "Epoch 9/50\n",
            "235/235 [==============================] - 13s 56ms/step - loss: 0.3773 - accuracy: 0.8858 - val_loss: 0.3444 - val_accuracy: 0.8988\n",
            "Epoch 10/50\n",
            "235/235 [==============================] - 13s 56ms/step - loss: 0.3536 - accuracy: 0.8922 - val_loss: 0.3422 - val_accuracy: 0.9010\n",
            "Epoch 11/50\n",
            "235/235 [==============================] - 13s 57ms/step - loss: 0.3131 - accuracy: 0.9048 - val_loss: 0.3046 - val_accuracy: 0.9137\n",
            "Epoch 12/50\n",
            "235/235 [==============================] - 13s 56ms/step - loss: 0.3015 - accuracy: 0.9081 - val_loss: 0.3330 - val_accuracy: 0.9062\n",
            "Epoch 13/50\n",
            "235/235 [==============================] - 13s 55ms/step - loss: 0.2786 - accuracy: 0.9163 - val_loss: 0.2968 - val_accuracy: 0.9158\n",
            "Epoch 14/50\n",
            "235/235 [==============================] - 13s 56ms/step - loss: 0.2706 - accuracy: 0.9149 - val_loss: 0.3028 - val_accuracy: 0.9134\n",
            "Epoch 15/50\n",
            "235/235 [==============================] - 13s 56ms/step - loss: 0.2476 - accuracy: 0.9253 - val_loss: 0.3044 - val_accuracy: 0.9139\n",
            "Epoch 16/50\n",
            "235/235 [==============================] - 13s 55ms/step - loss: 0.2299 - accuracy: 0.9308 - val_loss: 0.2988 - val_accuracy: 0.9156\n",
            "Epoch 17/50\n",
            "235/235 [==============================] - 13s 55ms/step - loss: 0.2149 - accuracy: 0.9334 - val_loss: 0.3024 - val_accuracy: 0.9163\n",
            "Epoch 18/50\n",
            "235/235 [==============================] - 13s 56ms/step - loss: 0.2086 - accuracy: 0.9370 - val_loss: 0.2858 - val_accuracy: 0.9212\n",
            "Epoch 19/50\n",
            "235/235 [==============================] - 13s 57ms/step - loss: 0.1894 - accuracy: 0.9443 - val_loss: 0.2998 - val_accuracy: 0.9167\n",
            "Epoch 20/50\n",
            "235/235 [==============================] - 13s 55ms/step - loss: 0.1847 - accuracy: 0.9432 - val_loss: 0.3284 - val_accuracy: 0.9143\n",
            "Epoch 21/50\n",
            "235/235 [==============================] - 13s 56ms/step - loss: 0.1712 - accuracy: 0.9484 - val_loss: 0.2936 - val_accuracy: 0.9224\n",
            "Epoch 22/50\n",
            "235/235 [==============================] - 13s 55ms/step - loss: 0.1628 - accuracy: 0.9473 - val_loss: 0.3126 - val_accuracy: 0.9209\n",
            "Epoch 23/50\n",
            "235/235 [==============================] - 13s 55ms/step - loss: 0.1455 - accuracy: 0.9560 - val_loss: 0.3059 - val_accuracy: 0.9237\n"
          ],
          "name": "stdout"
        }
      ]
    },
    {
      "cell_type": "code",
      "metadata": {
        "colab": {
          "base_uri": "https://localhost:8080/",
          "height": 528
        },
        "id": "_15DdfsoMV34",
        "outputId": "f2c2f843-1ed5-4c4c-c0fb-b26fc64c7eb4"
      },
      "source": [
        "history_df = pd.DataFrame(history.history)\n",
        "history_df.loc[:, ['loss', 'val_loss']].plot();\n",
        "print(\"Minimum validation loss: {}\".format(history_df['val_loss'].min()))\n",
        "history_df = pd.DataFrame(history.history)\n",
        "history_df.loc[:, ['accuracy', 'val_accuracy']].plot();\n",
        "#print(\"Minimum validation loss: {}\".format(history_df['val_loss'].min()))"
      ],
      "execution_count": 37,
      "outputs": [
        {
          "output_type": "stream",
          "text": [
            "Minimum validation loss: 0.28578945994377136\n"
          ],
          "name": "stdout"
        },
        {
          "output_type": "display_data",
          "data": {
            "image/png": "[encoded data removed]",
            "text/plain": [
              "<Figure size 432x288 with 1 Axes>"
            ]
          },
          "metadata": {
            "tags": [],
            "needs_background": "light"
          }
        },
        {
          "output_type": "display_data",
          "data": {
            "image/png": "[encoded data removed]",
            "text/plain": [
              "<Figure size 432x288 with 1 Axes>"
            ]
          },
          "metadata": {
            "tags": [],
            "needs_background": "light"
          }
        }
      ]
    },
    {
      "cell_type": "code",
      "metadata": {
        "colab": {
          "base_uri": "https://localhost:8080/"
        },
        "id": "S0vL9u2DvTV1",
        "outputId": "2b0e544c-ad70-4f4e-d32d-75ba290874c3"
      },
      "source": [
        "model.evaluate(X_test,y_test)\n",
        "model.evaluate(x_val,Y_val)\n",
        "\n",
        "model.evaluate(x_train , Y_train)"
      ],
      "execution_count": 38,
      "outputs": [
        {
          "output_type": "stream",
          "text": [
            "563/563 [==============================] - 4s 6ms/step - loss: 0.2931 - accuracy: 0.9173\n",
            "375/375 [==============================] - 2s 6ms/step - loss: 0.2858 - accuracy: 0.9212\n",
            "938/938 [==============================] - 6s 6ms/step - loss: 0.1203 - accuracy: 0.9673\n"
          ],
          "name": "stdout"
        },
        {
          "output_type": "execute_result",
          "data": {
            "text/plain": [
              "[0.12026186287403107, 0.9672666788101196]"
            ]
          },
          "metadata": {
            "tags": []
          },
          "execution_count": 38
        }
      ]
    },
    {
      "cell_type": "code",
      "metadata": {
        "id": "PWJjAKqzveDS"
      },
      "source": [
        ""
      ],
      "execution_count": null,
      "outputs": []
    },
    {
      "cell_type": "markdown",
      "metadata": {
        "id": "offprD54IobQ"
      },
      "source": [
        "# Model 4 Based on Inception"
      ]
    },
    {
      "cell_type": "code",
      "metadata": {
        "id": "MPrvAsUnIxVf"
      },
      "source": [
        "input_layer=Input(shape=input_shape)\n",
        "conv_layer_1=Conv2D(128,kernel_size=(3,3),padding='same',activation='relu')(input_layer)\n",
        "pool_layer_1=MaxPooling2D(pool_size=(2,2))(conv_layer_1)\n",
        "conv_layer_2=Conv2D(256,kernel_size=(3,3),padding='same',activation='relu')(pool_layer_1)\n",
        "pool_layer_2=MaxPooling2D(pool_size=(2,2))(conv_layer_2)\n",
        "conv_inc_1a=Conv2D(64,kernel_size=(1,1),activation='relu')(pool_layer_2)\n",
        "conv_inc_1ao=Conv2D(128,kernel_size=(3,3),padding='same',activation='relu')(conv_inc_1a)\n",
        "conv_inc_1b=Conv2D(32,kernel_size=(1,1),activation='relu')(pool_layer_2)\n",
        "conv_inc_1bo=Conv2D(64,kernel_size=(3,3),padding='same',activation='relu')(conv_inc_1b)\n",
        "conv_inc_1co=Conv2D(32,kernel_size=(1,1),activation='relu')(pool_layer_2)\n",
        "pool_inc_1o=MaxPooling2D(pool_size=(3,3),strides=(1,1),padding='same')(pool_layer_2)\n",
        "conv_pool_inc=Conv2D(32,kernel_size=(1,1),activation='relu')(pool_inc_1o)\n",
        "merge=Concatenate()([conv_inc_1ao,conv_inc_1bo,conv_inc_1co,conv_pool_inc])\n",
        "pool_layer_3=MaxPooling2D(pool_size=(2,2))(merge)\n",
        "conv_layer_4=Conv2D(512,kernel_size=(3,3),padding='same',activation='relu')(pool_layer_3)\n",
        "pool_layer_4=MaxPooling2D(pool_size=(2,2))(conv_layer_4)\n",
        "flat1=Flatten()(pool_layer_4)\n",
        "hidden_layer_1=Dense(512,activation='relu')(flat1)\n",
        "op=Dense(num_classes,activation='softmax')(hidden_layer_1)\n",
        "model=Model(inputs=input_layer,outputs=op)"
      ],
      "execution_count": 36,
      "outputs": []
    },
    {
      "cell_type": "code",
      "metadata": {
        "colab": {
          "base_uri": "https://localhost:8080/"
        },
        "id": "7IgnXW2hMu5n",
        "outputId": "a11fe4dc-7cf3-48f9-bf70-1e4e598e53f2"
      },
      "source": [
        "model.summary()"
      ],
      "execution_count": 37,
      "outputs": [
        {
          "output_type": "stream",
          "text": [
            "Model: \"model_7\"\n",
            "__________________________________________________________________________________________________\n",
            "Layer (type)                    Output Shape         Param #     Connected to                     \n",
            "==================================================================================================\n",
            "input_8 (InputLayer)            [(None, 32, 32, 1)]  0                                            \n",
            "__________________________________________________________________________________________________\n",
            "conv2d_59 (Conv2D)              (None, 32, 32, 128)  1280        input_8[0][0]                    \n",
            "__________________________________________________________________________________________________\n",
            "max_pooling2d_30 (MaxPooling2D) (None, 16, 16, 128)  0           conv2d_59[0][0]                  \n",
            "__________________________________________________________________________________________________\n",
            "conv2d_60 (Conv2D)              (None, 16, 16, 256)  295168      max_pooling2d_30[0][0]           \n",
            "__________________________________________________________________________________________________\n",
            "max_pooling2d_31 (MaxPooling2D) (None, 8, 8, 256)    0           conv2d_60[0][0]                  \n",
            "__________________________________________________________________________________________________\n",
            "conv2d_61 (Conv2D)              (None, 8, 8, 64)     16448       max_pooling2d_31[0][0]           \n",
            "__________________________________________________________________________________________________\n",
            "conv2d_63 (Conv2D)              (None, 8, 8, 32)     8224        max_pooling2d_31[0][0]           \n",
            "__________________________________________________________________________________________________\n",
            "max_pooling2d_32 (MaxPooling2D) (None, 8, 8, 256)    0           max_pooling2d_31[0][0]           \n",
            "__________________________________________________________________________________________________\n",
            "conv2d_62 (Conv2D)              (None, 8, 8, 128)    73856       conv2d_61[0][0]                  \n",
            "__________________________________________________________________________________________________\n",
            "conv2d_64 (Conv2D)              (None, 8, 8, 64)     18496       conv2d_63[0][0]                  \n",
            "__________________________________________________________________________________________________\n",
            "conv2d_65 (Conv2D)              (None, 8, 8, 32)     8224        max_pooling2d_31[0][0]           \n",
            "__________________________________________________________________________________________________\n",
            "conv2d_66 (Conv2D)              (None, 8, 8, 32)     8224        max_pooling2d_32[0][0]           \n",
            "__________________________________________________________________________________________________\n",
            "concatenate_7 (Concatenate)     (None, 8, 8, 256)    0           conv2d_62[0][0]                  \n",
            "                                                                 conv2d_64[0][0]                  \n",
            "                                                                 conv2d_65[0][0]                  \n",
            "                                                                 conv2d_66[0][0]                  \n",
            "__________________________________________________________________________________________________\n",
            "max_pooling2d_33 (MaxPooling2D) (None, 4, 4, 256)    0           concatenate_7[0][0]              \n",
            "__________________________________________________________________________________________________\n",
            "conv2d_67 (Conv2D)              (None, 4, 4, 512)    1180160     max_pooling2d_33[0][0]           \n",
            "__________________________________________________________________________________________________\n",
            "max_pooling2d_34 (MaxPooling2D) (None, 2, 2, 512)    0           conv2d_67[0][0]                  \n",
            "__________________________________________________________________________________________________\n",
            "flatten_7 (Flatten)             (None, 2048)         0           max_pooling2d_34[0][0]           \n",
            "__________________________________________________________________________________________________\n",
            "dense_12 (Dense)                (None, 512)          1049088     flatten_7[0][0]                  \n",
            "__________________________________________________________________________________________________\n",
            "dense_13 (Dense)                (None, 10)           5130        dense_12[0][0]                   \n",
            "==================================================================================================\n",
            "Total params: 2,664,298\n",
            "Trainable params: 2,664,298\n",
            "Non-trainable params: 0\n",
            "__________________________________________________________________________________________________\n"
          ],
          "name": "stdout"
        }
      ]
    },
    {
      "cell_type": "code",
      "metadata": {
        "colab": {
          "base_uri": "https://localhost:8080/"
        },
        "id": "0qPhOnlZMBQg",
        "outputId": "e64df89a-b83a-413c-883c-ccd452a3c05b"
      },
      "source": [
        "datagen = ImageDataGenerator(rotation_range=8,\n",
        "                             zoom_range=[0.95, 1.05],\n",
        "                             height_shift_range=0.10,\n",
        "                             shear_range=0.15)\n",
        "#optimizer=SGD(learning_rate=1e-3,momentum=.9 )\n",
        "optimizer=Adam(learning_rate=1e-5,amsgrad=True)\n",
        "#lr_schedule = LearningRateScheduler(lambda epoch: 1e-5 * 10**(epoch / 10))\n",
        "early_stopping = EarlyStopping(monitor='val_loss',patience=5,restore_best_weights=True)\n",
        "model_checkpoint = ModelCheckpoint(\n",
        "                   '/content/drive/MyDrive/Projects/SVHN/Convolution_Checkpoints/best_cnn.h5', \n",
        "                   save_best_only=True)\n",
        "model.compile(loss=categorical_crossentropy,optimizer=optimizer,metrics=['accuracy'])\n",
        "#history=model.fit(x_train,Y_train,validation_data=(x_val,Y_val),epochs=100,batch_size=32,verbose=1)\n",
        "history = model.fit(datagen.flow(x_train, Y_train, batch_size=128),\n",
        "                              epochs=150, validation_data=(x_val, Y_val),\n",
        "                              callbacks=[early_stopping,model_checkpoint])"
      ],
      "execution_count": 38,
      "outputs": [
        {
          "output_type": "stream",
          "text": [
            "Epoch 1/150\n",
            "235/235 [==============================] - 13s 49ms/step - loss: 2.3019 - accuracy: 0.1024 - val_loss: 2.2982 - val_accuracy: 0.1717\n",
            "Epoch 2/150\n",
            "235/235 [==============================] - 11s 46ms/step - loss: 2.2963 - accuracy: 0.1485 - val_loss: 2.2836 - val_accuracy: 0.1318\n",
            "Epoch 3/150\n",
            "235/235 [==============================] - 11s 46ms/step - loss: 2.2731 - accuracy: 0.2290 - val_loss: 2.2038 - val_accuracy: 0.4100\n",
            "Epoch 4/150\n",
            "235/235 [==============================] - 11s 46ms/step - loss: 2.1714 - accuracy: 0.3465 - val_loss: 1.9878 - val_accuracy: 0.4267\n",
            "Epoch 5/150\n",
            "235/235 [==============================] - 11s 46ms/step - loss: 1.9542 - accuracy: 0.4062 - val_loss: 1.7516 - val_accuracy: 0.4943\n",
            "Epoch 6/150\n",
            "235/235 [==============================] - 11s 46ms/step - loss: 1.7677 - accuracy: 0.4589 - val_loss: 1.5714 - val_accuracy: 0.5455\n",
            "Epoch 7/150\n",
            "235/235 [==============================] - 11s 46ms/step - loss: 1.6068 - accuracy: 0.5157 - val_loss: 1.4420 - val_accuracy: 0.5742\n",
            "Epoch 8/150\n",
            "235/235 [==============================] - 11s 47ms/step - loss: 1.5054 - accuracy: 0.5404 - val_loss: 1.3311 - val_accuracy: 0.6237\n",
            "Epoch 9/150\n",
            "235/235 [==============================] - 11s 46ms/step - loss: 1.4100 - accuracy: 0.5702 - val_loss: 1.2451 - val_accuracy: 0.6317\n",
            "Epoch 10/150\n",
            "235/235 [==============================] - 11s 46ms/step - loss: 1.3469 - accuracy: 0.5934 - val_loss: 1.1741 - val_accuracy: 0.6532\n",
            "Epoch 11/150\n",
            "235/235 [==============================] - 11s 46ms/step - loss: 1.2762 - accuracy: 0.6144 - val_loss: 1.1114 - val_accuracy: 0.6668\n",
            "Epoch 12/150\n",
            "235/235 [==============================] - 11s 46ms/step - loss: 1.2258 - accuracy: 0.6327 - val_loss: 1.0580 - val_accuracy: 0.6963\n",
            "Epoch 13/150\n",
            "235/235 [==============================] - 11s 46ms/step - loss: 1.1780 - accuracy: 0.6489 - val_loss: 1.0275 - val_accuracy: 0.7003\n",
            "Epoch 14/150\n",
            "235/235 [==============================] - 11s 46ms/step - loss: 1.1390 - accuracy: 0.6633 - val_loss: 0.9737 - val_accuracy: 0.7177\n",
            "Epoch 15/150\n",
            "235/235 [==============================] - 11s 46ms/step - loss: 1.0916 - accuracy: 0.6721 - val_loss: 0.9313 - val_accuracy: 0.7333\n",
            "Epoch 16/150\n",
            "235/235 [==============================] - 11s 46ms/step - loss: 1.0589 - accuracy: 0.6868 - val_loss: 0.9101 - val_accuracy: 0.7363\n",
            "Epoch 17/150\n",
            "235/235 [==============================] - 11s 46ms/step - loss: 1.0379 - accuracy: 0.6970 - val_loss: 0.8732 - val_accuracy: 0.7489\n",
            "Epoch 18/150\n",
            "235/235 [==============================] - 11s 46ms/step - loss: 1.0038 - accuracy: 0.7042 - val_loss: 0.8571 - val_accuracy: 0.7471\n",
            "Epoch 19/150\n",
            "235/235 [==============================] - 11s 46ms/step - loss: 0.9707 - accuracy: 0.7152 - val_loss: 0.8284 - val_accuracy: 0.7589\n",
            "Epoch 20/150\n",
            "235/235 [==============================] - 11s 46ms/step - loss: 0.9633 - accuracy: 0.7158 - val_loss: 0.8163 - val_accuracy: 0.7640\n",
            "Epoch 21/150\n",
            "235/235 [==============================] - 11s 46ms/step - loss: 0.9368 - accuracy: 0.7212 - val_loss: 0.7833 - val_accuracy: 0.7753\n",
            "Epoch 22/150\n",
            "235/235 [==============================] - 11s 46ms/step - loss: 0.9204 - accuracy: 0.7270 - val_loss: 0.7606 - val_accuracy: 0.7879\n",
            "Epoch 23/150\n",
            "235/235 [==============================] - 11s 46ms/step - loss: 0.8925 - accuracy: 0.7345 - val_loss: 0.7644 - val_accuracy: 0.7717\n",
            "Epoch 24/150\n",
            "235/235 [==============================] - 11s 45ms/step - loss: 0.8692 - accuracy: 0.7424 - val_loss: 0.7347 - val_accuracy: 0.7868\n",
            "Epoch 25/150\n",
            "235/235 [==============================] - 11s 46ms/step - loss: 0.8536 - accuracy: 0.7503 - val_loss: 0.7226 - val_accuracy: 0.7966\n",
            "Epoch 26/150\n",
            "235/235 [==============================] - 11s 46ms/step - loss: 0.8416 - accuracy: 0.7536 - val_loss: 0.7066 - val_accuracy: 0.8001\n",
            "Epoch 27/150\n",
            "235/235 [==============================] - 11s 46ms/step - loss: 0.8325 - accuracy: 0.7552 - val_loss: 0.6924 - val_accuracy: 0.8073\n",
            "Epoch 28/150\n",
            "235/235 [==============================] - 11s 46ms/step - loss: 0.8369 - accuracy: 0.7521 - val_loss: 0.6909 - val_accuracy: 0.8065\n",
            "Epoch 29/150\n",
            "235/235 [==============================] - 11s 46ms/step - loss: 0.8044 - accuracy: 0.7670 - val_loss: 0.6707 - val_accuracy: 0.8127\n",
            "Epoch 30/150\n",
            "235/235 [==============================] - 11s 46ms/step - loss: 0.8007 - accuracy: 0.7641 - val_loss: 0.6696 - val_accuracy: 0.8138\n",
            "Epoch 31/150\n",
            "235/235 [==============================] - 11s 46ms/step - loss: 0.7935 - accuracy: 0.7667 - val_loss: 0.6613 - val_accuracy: 0.8091\n",
            "Epoch 32/150\n",
            "235/235 [==============================] - 11s 46ms/step - loss: 0.7760 - accuracy: 0.7733 - val_loss: 0.6489 - val_accuracy: 0.8167\n",
            "Epoch 33/150\n",
            "235/235 [==============================] - 11s 46ms/step - loss: 0.7697 - accuracy: 0.7785 - val_loss: 0.6334 - val_accuracy: 0.8227\n",
            "Epoch 34/150\n",
            "235/235 [==============================] - 11s 46ms/step - loss: 0.7595 - accuracy: 0.7776 - val_loss: 0.6216 - val_accuracy: 0.8295\n",
            "Epoch 35/150\n",
            "235/235 [==============================] - 11s 47ms/step - loss: 0.7452 - accuracy: 0.7829 - val_loss: 0.6201 - val_accuracy: 0.8303\n",
            "Epoch 36/150\n",
            "235/235 [==============================] - 11s 46ms/step - loss: 0.7510 - accuracy: 0.7830 - val_loss: 0.6187 - val_accuracy: 0.8253\n",
            "Epoch 37/150\n",
            "235/235 [==============================] - 11s 46ms/step - loss: 0.7234 - accuracy: 0.7900 - val_loss: 0.6054 - val_accuracy: 0.8304\n",
            "Epoch 38/150\n",
            "235/235 [==============================] - 11s 46ms/step - loss: 0.7283 - accuracy: 0.7847 - val_loss: 0.6030 - val_accuracy: 0.8287\n",
            "Epoch 39/150\n",
            "235/235 [==============================] - 11s 46ms/step - loss: 0.7054 - accuracy: 0.7915 - val_loss: 0.5850 - val_accuracy: 0.8402\n",
            "Epoch 40/150\n",
            "235/235 [==============================] - 11s 46ms/step - loss: 0.6944 - accuracy: 0.7983 - val_loss: 0.5840 - val_accuracy: 0.8373\n",
            "Epoch 41/150\n",
            "235/235 [==============================] - 11s 46ms/step - loss: 0.6955 - accuracy: 0.8033 - val_loss: 0.5765 - val_accuracy: 0.8424\n",
            "Epoch 42/150\n",
            "235/235 [==============================] - 11s 46ms/step - loss: 0.6855 - accuracy: 0.7975 - val_loss: 0.5722 - val_accuracy: 0.8441\n",
            "Epoch 43/150\n",
            "235/235 [==============================] - 11s 46ms/step - loss: 0.6964 - accuracy: 0.7951 - val_loss: 0.5622 - val_accuracy: 0.8445\n",
            "Epoch 44/150\n",
            "235/235 [==============================] - 11s 46ms/step - loss: 0.6790 - accuracy: 0.8037 - val_loss: 0.5599 - val_accuracy: 0.8437\n",
            "Epoch 45/150\n",
            "235/235 [==============================] - 11s 46ms/step - loss: 0.6705 - accuracy: 0.8071 - val_loss: 0.5557 - val_accuracy: 0.8468\n",
            "Epoch 46/150\n",
            "235/235 [==============================] - 11s 46ms/step - loss: 0.6661 - accuracy: 0.8016 - val_loss: 0.5487 - val_accuracy: 0.8492\n",
            "Epoch 47/150\n",
            "235/235 [==============================] - 11s 46ms/step - loss: 0.6641 - accuracy: 0.8086 - val_loss: 0.5585 - val_accuracy: 0.8407\n",
            "Epoch 48/150\n",
            "235/235 [==============================] - 11s 45ms/step - loss: 0.6471 - accuracy: 0.8136 - val_loss: 0.5434 - val_accuracy: 0.8511\n",
            "Epoch 49/150\n",
            "235/235 [==============================] - 11s 46ms/step - loss: 0.6475 - accuracy: 0.8134 - val_loss: 0.5365 - val_accuracy: 0.8507\n",
            "Epoch 50/150\n",
            "235/235 [==============================] - 11s 46ms/step - loss: 0.6394 - accuracy: 0.8140 - val_loss: 0.5348 - val_accuracy: 0.8512\n",
            "Epoch 51/150\n",
            "235/235 [==============================] - 11s 46ms/step - loss: 0.6424 - accuracy: 0.8144 - val_loss: 0.5283 - val_accuracy: 0.8532\n",
            "Epoch 52/150\n",
            "235/235 [==============================] - 11s 46ms/step - loss: 0.6313 - accuracy: 0.8147 - val_loss: 0.5227 - val_accuracy: 0.8565\n",
            "Epoch 53/150\n",
            "235/235 [==============================] - 11s 46ms/step - loss: 0.6323 - accuracy: 0.8186 - val_loss: 0.5247 - val_accuracy: 0.8542\n",
            "Epoch 54/150\n",
            "235/235 [==============================] - 11s 46ms/step - loss: 0.6189 - accuracy: 0.8198 - val_loss: 0.5155 - val_accuracy: 0.8562\n",
            "Epoch 55/150\n",
            "235/235 [==============================] - 11s 46ms/step - loss: 0.6273 - accuracy: 0.8171 - val_loss: 0.5104 - val_accuracy: 0.8585\n",
            "Epoch 56/150\n",
            "235/235 [==============================] - 11s 46ms/step - loss: 0.6121 - accuracy: 0.8252 - val_loss: 0.5054 - val_accuracy: 0.8607\n",
            "Epoch 57/150\n",
            "235/235 [==============================] - 11s 46ms/step - loss: 0.6072 - accuracy: 0.8229 - val_loss: 0.5029 - val_accuracy: 0.8601\n",
            "Epoch 58/150\n",
            "235/235 [==============================] - 11s 46ms/step - loss: 0.6076 - accuracy: 0.8235 - val_loss: 0.5034 - val_accuracy: 0.8621\n",
            "Epoch 59/150\n",
            "235/235 [==============================] - 11s 46ms/step - loss: 0.5937 - accuracy: 0.8229 - val_loss: 0.4981 - val_accuracy: 0.8618\n",
            "Epoch 60/150\n",
            "235/235 [==============================] - 11s 46ms/step - loss: 0.5758 - accuracy: 0.8338 - val_loss: 0.4946 - val_accuracy: 0.8608\n",
            "Epoch 61/150\n",
            "235/235 [==============================] - 11s 46ms/step - loss: 0.5881 - accuracy: 0.8312 - val_loss: 0.4945 - val_accuracy: 0.8629\n",
            "Epoch 62/150\n",
            "235/235 [==============================] - 11s 47ms/step - loss: 0.5778 - accuracy: 0.8312 - val_loss: 0.4917 - val_accuracy: 0.8629\n",
            "Epoch 63/150\n",
            "235/235 [==============================] - 11s 46ms/step - loss: 0.5793 - accuracy: 0.8325 - val_loss: 0.4908 - val_accuracy: 0.8620\n",
            "Epoch 64/150\n",
            "235/235 [==============================] - 11s 47ms/step - loss: 0.5763 - accuracy: 0.8317 - val_loss: 0.4789 - val_accuracy: 0.8668\n",
            "Epoch 65/150\n",
            "235/235 [==============================] - 11s 46ms/step - loss: 0.5779 - accuracy: 0.8297 - val_loss: 0.4753 - val_accuracy: 0.8689\n",
            "Epoch 66/150\n",
            "235/235 [==============================] - 11s 46ms/step - loss: 0.5531 - accuracy: 0.8438 - val_loss: 0.4770 - val_accuracy: 0.8673\n",
            "Epoch 67/150\n",
            "235/235 [==============================] - 11s 46ms/step - loss: 0.5628 - accuracy: 0.8369 - val_loss: 0.4807 - val_accuracy: 0.8644\n",
            "Epoch 68/150\n",
            "235/235 [==============================] - 11s 45ms/step - loss: 0.5553 - accuracy: 0.8396 - val_loss: 0.4658 - val_accuracy: 0.8712\n",
            "Epoch 69/150\n",
            "235/235 [==============================] - 11s 46ms/step - loss: 0.5540 - accuracy: 0.8425 - val_loss: 0.4631 - val_accuracy: 0.8735\n",
            "Epoch 70/150\n",
            "235/235 [==============================] - 11s 46ms/step - loss: 0.5584 - accuracy: 0.8366 - val_loss: 0.4611 - val_accuracy: 0.8724\n",
            "Epoch 71/150\n",
            "235/235 [==============================] - 11s 46ms/step - loss: 0.5493 - accuracy: 0.8424 - val_loss: 0.4583 - val_accuracy: 0.8735\n",
            "Epoch 72/150\n",
            "235/235 [==============================] - 11s 46ms/step - loss: 0.5375 - accuracy: 0.8453 - val_loss: 0.4576 - val_accuracy: 0.8733\n",
            "Epoch 73/150\n",
            "235/235 [==============================] - 11s 46ms/step - loss: 0.5326 - accuracy: 0.8453 - val_loss: 0.4540 - val_accuracy: 0.8747\n",
            "Epoch 74/150\n",
            "235/235 [==============================] - 11s 46ms/step - loss: 0.5479 - accuracy: 0.8443 - val_loss: 0.4477 - val_accuracy: 0.8762\n",
            "Epoch 75/150\n",
            "235/235 [==============================] - 11s 46ms/step - loss: 0.5385 - accuracy: 0.8430 - val_loss: 0.4453 - val_accuracy: 0.8768\n",
            "Epoch 76/150\n",
            "235/235 [==============================] - 11s 46ms/step - loss: 0.5263 - accuracy: 0.8496 - val_loss: 0.4419 - val_accuracy: 0.8788\n",
            "Epoch 77/150\n",
            "235/235 [==============================] - 11s 46ms/step - loss: 0.5313 - accuracy: 0.8471 - val_loss: 0.4410 - val_accuracy: 0.8784\n",
            "Epoch 78/150\n",
            "235/235 [==============================] - 11s 46ms/step - loss: 0.5183 - accuracy: 0.8505 - val_loss: 0.4384 - val_accuracy: 0.8786\n",
            "Epoch 79/150\n",
            "235/235 [==============================] - 11s 46ms/step - loss: 0.5232 - accuracy: 0.8466 - val_loss: 0.4368 - val_accuracy: 0.8809\n",
            "Epoch 80/150\n",
            "235/235 [==============================] - 11s 46ms/step - loss: 0.5023 - accuracy: 0.8514 - val_loss: 0.4388 - val_accuracy: 0.8768\n",
            "Epoch 81/150\n",
            "235/235 [==============================] - 11s 46ms/step - loss: 0.5135 - accuracy: 0.8516 - val_loss: 0.4489 - val_accuracy: 0.8727\n",
            "Epoch 82/150\n",
            "235/235 [==============================] - 11s 45ms/step - loss: 0.5046 - accuracy: 0.8542 - val_loss: 0.4311 - val_accuracy: 0.8800\n",
            "Epoch 83/150\n",
            "235/235 [==============================] - 11s 46ms/step - loss: 0.5142 - accuracy: 0.8516 - val_loss: 0.4265 - val_accuracy: 0.8836\n",
            "Epoch 84/150\n",
            "235/235 [==============================] - 11s 46ms/step - loss: 0.5107 - accuracy: 0.8524 - val_loss: 0.4288 - val_accuracy: 0.8807\n",
            "Epoch 85/150\n",
            "235/235 [==============================] - 11s 46ms/step - loss: 0.5018 - accuracy: 0.8503 - val_loss: 0.4230 - val_accuracy: 0.8832\n",
            "Epoch 86/150\n",
            "235/235 [==============================] - 11s 46ms/step - loss: 0.4962 - accuracy: 0.8579 - val_loss: 0.4312 - val_accuracy: 0.8797\n",
            "Epoch 87/150\n",
            "235/235 [==============================] - 11s 45ms/step - loss: 0.5003 - accuracy: 0.8561 - val_loss: 0.4172 - val_accuracy: 0.8835\n",
            "Epoch 88/150\n",
            "235/235 [==============================] - 11s 46ms/step - loss: 0.4982 - accuracy: 0.8532 - val_loss: 0.4169 - val_accuracy: 0.8835\n",
            "Epoch 89/150\n",
            "235/235 [==============================] - 11s 46ms/step - loss: 0.4816 - accuracy: 0.8603 - val_loss: 0.4249 - val_accuracy: 0.8825\n",
            "Epoch 90/150\n",
            "235/235 [==============================] - 11s 46ms/step - loss: 0.4926 - accuracy: 0.8578 - val_loss: 0.4136 - val_accuracy: 0.8866\n",
            "Epoch 91/150\n",
            "235/235 [==============================] - 11s 46ms/step - loss: 0.4754 - accuracy: 0.8620 - val_loss: 0.4290 - val_accuracy: 0.8788\n",
            "Epoch 92/150\n",
            "235/235 [==============================] - 11s 46ms/step - loss: 0.4789 - accuracy: 0.8584 - val_loss: 0.4090 - val_accuracy: 0.8859\n",
            "Epoch 93/150\n",
            "235/235 [==============================] - 11s 46ms/step - loss: 0.4706 - accuracy: 0.8644 - val_loss: 0.4198 - val_accuracy: 0.8822\n",
            "Epoch 94/150\n",
            "235/235 [==============================] - 11s 45ms/step - loss: 0.4756 - accuracy: 0.8615 - val_loss: 0.4076 - val_accuracy: 0.8873\n",
            "Epoch 95/150\n",
            "235/235 [==============================] - 11s 46ms/step - loss: 0.4737 - accuracy: 0.8601 - val_loss: 0.4132 - val_accuracy: 0.8843\n",
            "Epoch 96/150\n",
            "235/235 [==============================] - 11s 46ms/step - loss: 0.4677 - accuracy: 0.8669 - val_loss: 0.4069 - val_accuracy: 0.8876\n",
            "Epoch 97/150\n",
            "235/235 [==============================] - 11s 46ms/step - loss: 0.4732 - accuracy: 0.8648 - val_loss: 0.4191 - val_accuracy: 0.8822\n",
            "Epoch 98/150\n",
            "235/235 [==============================] - 11s 46ms/step - loss: 0.4675 - accuracy: 0.8641 - val_loss: 0.4192 - val_accuracy: 0.8811\n",
            "Epoch 99/150\n",
            "235/235 [==============================] - 11s 46ms/step - loss: 0.4579 - accuracy: 0.8703 - val_loss: 0.3995 - val_accuracy: 0.8882\n",
            "Epoch 100/150\n",
            "235/235 [==============================] - 11s 46ms/step - loss: 0.4650 - accuracy: 0.8644 - val_loss: 0.4078 - val_accuracy: 0.8870\n",
            "Epoch 101/150\n",
            "235/235 [==============================] - 11s 46ms/step - loss: 0.4599 - accuracy: 0.8662 - val_loss: 0.4001 - val_accuracy: 0.8878\n",
            "Epoch 102/150\n",
            "235/235 [==============================] - 11s 46ms/step - loss: 0.4607 - accuracy: 0.8664 - val_loss: 0.4015 - val_accuracy: 0.8862\n",
            "Epoch 103/150\n",
            "235/235 [==============================] - 11s 46ms/step - loss: 0.4515 - accuracy: 0.8700 - val_loss: 0.3909 - val_accuracy: 0.8921\n",
            "Epoch 104/150\n",
            "235/235 [==============================] - 11s 46ms/step - loss: 0.4524 - accuracy: 0.8708 - val_loss: 0.3940 - val_accuracy: 0.8887\n",
            "Epoch 105/150\n",
            "235/235 [==============================] - 11s 45ms/step - loss: 0.4466 - accuracy: 0.8693 - val_loss: 0.3919 - val_accuracy: 0.8903\n",
            "Epoch 106/150\n",
            "235/235 [==============================] - 11s 45ms/step - loss: 0.4433 - accuracy: 0.8738 - val_loss: 0.3919 - val_accuracy: 0.8937\n",
            "Epoch 107/150\n",
            "235/235 [==============================] - 11s 46ms/step - loss: 0.4371 - accuracy: 0.8745 - val_loss: 0.3850 - val_accuracy: 0.8934\n",
            "Epoch 108/150\n",
            "235/235 [==============================] - 11s 46ms/step - loss: 0.4446 - accuracy: 0.8709 - val_loss: 0.3838 - val_accuracy: 0.8942\n",
            "Epoch 109/150\n",
            "235/235 [==============================] - 11s 46ms/step - loss: 0.4397 - accuracy: 0.8708 - val_loss: 0.3862 - val_accuracy: 0.8939\n",
            "Epoch 110/150\n",
            "235/235 [==============================] - 11s 46ms/step - loss: 0.4356 - accuracy: 0.8741 - val_loss: 0.3843 - val_accuracy: 0.8925\n",
            "Epoch 111/150\n",
            "235/235 [==============================] - 11s 46ms/step - loss: 0.4356 - accuracy: 0.8740 - val_loss: 0.3861 - val_accuracy: 0.8937\n",
            "Epoch 112/150\n",
            "235/235 [==============================] - 11s 46ms/step - loss: 0.4340 - accuracy: 0.8771 - val_loss: 0.3820 - val_accuracy: 0.8930\n",
            "Epoch 113/150\n",
            "235/235 [==============================] - 11s 46ms/step - loss: 0.4257 - accuracy: 0.8776 - val_loss: 0.3916 - val_accuracy: 0.8905\n",
            "Epoch 114/150\n",
            "235/235 [==============================] - 11s 46ms/step - loss: 0.4251 - accuracy: 0.8735 - val_loss: 0.3736 - val_accuracy: 0.8966\n",
            "Epoch 115/150\n",
            "235/235 [==============================] - 11s 46ms/step - loss: 0.4205 - accuracy: 0.8778 - val_loss: 0.3727 - val_accuracy: 0.8983\n",
            "Epoch 116/150\n",
            "235/235 [==============================] - 11s 46ms/step - loss: 0.4138 - accuracy: 0.8779 - val_loss: 0.3791 - val_accuracy: 0.8953\n",
            "Epoch 117/150\n",
            "235/235 [==============================] - 11s 46ms/step - loss: 0.4190 - accuracy: 0.8794 - val_loss: 0.3717 - val_accuracy: 0.8964\n",
            "Epoch 118/150\n",
            "235/235 [==============================] - 11s 47ms/step - loss: 0.4266 - accuracy: 0.8769 - val_loss: 0.3697 - val_accuracy: 0.8973\n",
            "Epoch 119/150\n",
            "235/235 [==============================] - 11s 46ms/step - loss: 0.4246 - accuracy: 0.8772 - val_loss: 0.3786 - val_accuracy: 0.8923\n",
            "Epoch 120/150\n",
            "235/235 [==============================] - 11s 46ms/step - loss: 0.4209 - accuracy: 0.8800 - val_loss: 0.3696 - val_accuracy: 0.8978\n",
            "Epoch 121/150\n",
            "235/235 [==============================] - 11s 46ms/step - loss: 0.4137 - accuracy: 0.8810 - val_loss: 0.3630 - val_accuracy: 0.8987\n",
            "Epoch 122/150\n",
            "235/235 [==============================] - 11s 46ms/step - loss: 0.4104 - accuracy: 0.8825 - val_loss: 0.3695 - val_accuracy: 0.8977\n",
            "Epoch 123/150\n",
            "235/235 [==============================] - 11s 46ms/step - loss: 0.4055 - accuracy: 0.8825 - val_loss: 0.3842 - val_accuracy: 0.8950\n",
            "Epoch 124/150\n",
            "235/235 [==============================] - 11s 46ms/step - loss: 0.4180 - accuracy: 0.8775 - val_loss: 0.3659 - val_accuracy: 0.8969\n",
            "Epoch 125/150\n",
            "235/235 [==============================] - 11s 46ms/step - loss: 0.3959 - accuracy: 0.8851 - val_loss: 0.3633 - val_accuracy: 0.8990\n",
            "Epoch 126/150\n",
            "235/235 [==============================] - 11s 46ms/step - loss: 0.3917 - accuracy: 0.8861 - val_loss: 0.3636 - val_accuracy: 0.8989\n"
          ],
          "name": "stdout"
        }
      ]
    },
    {
      "cell_type": "code",
      "metadata": {
        "colab": {
          "base_uri": "https://localhost:8080/",
          "height": 528
        },
        "id": "qWUqFKdgN27d",
        "outputId": "1414e65e-6b3e-4dc5-dad6-08b97721a690"
      },
      "source": [
        "history_df = pd.DataFrame(history.history)\n",
        "history_df.loc[:, ['loss', 'val_loss']].plot();\n",
        "print(\"Minimum validation loss: {}\".format(history_df['val_loss'].min()))\n",
        "history_df = pd.DataFrame(history.history)\n",
        "history_df.loc[:, ['accuracy', 'val_accuracy']].plot();\n",
        "#print(\"Minimum validation loss: {}\".format(history_df['val_loss'].min()))"
      ],
      "execution_count": 39,
      "outputs": [
        {
          "output_type": "stream",
          "text": [
            "Minimum validation loss: 0.3630245327949524\n"
          ],
          "name": "stdout"
        },
        {
          "output_type": "display_data",
          "data": {
            "image/png": "[encoded data removed]",
            "text/plain": [
              "<Figure size 432x288 with 1 Axes>"
            ]
          },
          "metadata": {
            "tags": [],
            "needs_background": "light"
          }
        },
        {
          "output_type": "display_data",
          "data": {
            "image/png": "[encoded data removed]",
            "text/plain": [
              "<Figure size 432x288 with 1 Axes>"
            ]
          },
          "metadata": {
            "tags": [],
            "needs_background": "light"
          }
        }
      ]
    },
    {
      "cell_type": "code",
      "metadata": {
        "colab": {
          "base_uri": "https://localhost:8080/"
        },
        "id": "vqx6xA_kN8Gf",
        "outputId": "6406aca7-bf38-42df-cf5f-e896db57183c"
      },
      "source": [
        "model.evaluate(X_test,y_test)\n",
        "model.evaluate(x_val,Y_val)\n",
        "\n",
        "model.evaluate(x_train , Y_train)"
      ],
      "execution_count": 40,
      "outputs": [
        {
          "output_type": "stream",
          "text": [
            "563/563 [==============================] - 3s 4ms/step - loss: 0.3695 - accuracy: 0.8974\n",
            "375/375 [==============================] - 1s 3ms/step - loss: 0.3630 - accuracy: 0.8987\n",
            "938/938 [==============================] - 4s 4ms/step - loss: 0.3120 - accuracy: 0.9135\n"
          ],
          "name": "stdout"
        },
        {
          "output_type": "execute_result",
          "data": {
            "text/plain": [
              "[0.3120180666446686, 0.9135333299636841]"
            ]
          },
          "metadata": {
            "tags": []
          },
          "execution_count": 40
        }
      ]
    },
    {
      "cell_type": "markdown",
      "metadata": {
        "id": "S5u8Yh5R5g1x"
      },
      "source": [
        "# Summary"
      ]
    },
    {
      "cell_type": "markdown",
      "metadata": {
        "id": "bHStVQLjCRjO"
      },
      "source": [
        "- Model 1F - Train Acc : .92 ; Train Loss : .27\n",
        "           - Val Acc   : .90 ; Val Loss   : .35\n",
        "           - Test Acc  : .89 ; Test Loss  : .36\n",
        "\n",
        "- Model 1E - Train Acc : .89 ; Train Loss : .38\n",
        "           - Val Acc   : .88 ; Val Loss   : .42\n",
        "           - Test Acc  : .87 ; Test Loss  : .43\n",
        "\n",
        "- Model 1D - Train Acc : .90 ; Train Loss : .32\n",
        "           - Val Acc   : .88 ; Val Loss   : .40\n",
        "           - Test Acc  : .88 ; Test Loss  : .41\n",
        "\n",
        "- Model 1C - Train Acc : .87 ; Train Loss : .43\n",
        "           - Val Acc   : .86 ; Val Loss   : .47\n",
        "           - Test Acc  : .86 ; Test Loss  : .48\n",
        "\n",
        "- Model 1B - Train Acc : .89 ; Train Loss : .38\n",
        "           - Val Acc   : .86 ; Val Loss   : .49\n",
        "           - Test Acc  : .86 ; Test Loss  : .49\n",
        "\n",
        "- Model 1A - Train Acc : .84 ; Train Loss : .53\n",
        "           - Val Acc   : .83 ; Val Loss   : .58\n",
        "           - Test Acc  : .83 ; Test Loss  : .58\n",
        "\n"
      ]
    },
    {
      "cell_type": "markdown",
      "metadata": {
        "id": "hPFhG87k5kUc"
      },
      "source": [
        "- We see that Convolution with BatchNorm has faster convergence and increase in performance \n",
        "\n",
        "- We notice that increasing the filters we have increased the performance of the model\n",
        "\n",
        "- Also, Increasing the hidden layers from 1 to 2 hidden layer with reduced neurons , increases the performance"
      ]
    },
    {
      "cell_type": "code",
      "metadata": {
        "id": "zxe9mts25jn6"
      },
      "source": [
        ""
      ],
      "execution_count": null,
      "outputs": []
    },
    {
      "cell_type": "code",
      "metadata": {
        "id": "aqA-aifmiwCG"
      },
      "source": [
        ""
      ],
      "execution_count": null,
      "outputs": []
    },
    {
      "cell_type": "code",
      "metadata": {
        "id": "REQwoFFoiX-h"
      },
      "source": [
        ""
      ],
      "execution_count": null,
      "outputs": []
    },
    {
      "cell_type": "code",
      "metadata": {
        "id": "KuP59i35iBMn"
      },
      "source": [
        ""
      ],
      "execution_count": null,
      "outputs": []
    },
    {
      "cell_type": "code",
      "metadata": {
        "id": "zliIcV6Rh75j"
      },
      "source": [
        ""
      ],
      "execution_count": null,
      "outputs": []
    }
  ]
}