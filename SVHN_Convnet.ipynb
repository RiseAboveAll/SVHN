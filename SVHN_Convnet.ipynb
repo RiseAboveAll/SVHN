{
  "nbformat": 4,
  "nbformat_minor": 0,
  "metadata": {
    "colab": {
      "name": "SVHN-Convnet.ipynb",
      "provenance": [],
      "mount_file_id": "1c2YcqJeZ2BA8_RJRlJcmQ09DRUFOq0qm",
      "authorship_tag": "ABX9TyPSdzkkZUdJc/4QybgiEG3j",
      "include_colab_link": true
    },
    "kernelspec": {
      "name": "python3",
      "display_name": "Python 3"
    },
    "language_info": {
      "name": "python"
    },
    "accelerator": "GPU"
  },
  "cells": [
    {
      "cell_type": "markdown",
      "metadata": {
        "id": "view-in-github",
        "colab_type": "text"
      },
      "source": [
        "<a href=\"https://colab.research.google.com/github/RiseAboveAll/SVHN_ANN/blob/main/SVHN_Convnet.ipynb\" target=\"_parent\"><img src=\"https://colab.research.google.com/assets/colab-badge.svg\" alt=\"Open In Colab\"/></a>"
      ]
    },
    {
      "cell_type": "markdown",
      "metadata": {
        "id": "Lfxei25Ngaq0"
      },
      "source": [
        "# Load Libraries"
      ]
    },
    {
      "cell_type": "code",
      "metadata": {
        "id": "vpW8JPNYf1ik"
      },
      "source": [
        "import h5py\n",
        "import numpy as np\n",
        "import matplotlib.pyplot as plt\n",
        "from sklearn.preprocessing import StandardScaler, Normalizer\n",
        "from sklearn.metrics import accuracy_score\n",
        "from sklearn.model_selection import train_test_split\n",
        "import pandas as pd\n",
        "import os\n",
        "import datetime\n",
        "import matplotlib.pyplot as plt"
      ],
      "execution_count": null,
      "outputs": []
    },
    {
      "cell_type": "code",
      "metadata": {
        "id": "lY5CtVD-gBbN"
      },
      "source": [
        "from tensorflow.keras.models import load_model, clone_model, Model\n",
        "from tensorflow.keras.layers import Input\n",
        "from tensorflow.keras.layers import concatenate\n",
        "import tensorflow as tf\n",
        "from tensorflow.keras.layers import Activation,Dense,BatchNormalization,Dropout,Conv2D,MaxPooling2D,Flatten\n",
        "from tensorflow.keras import Sequential\n",
        "from tensorflow.keras.utils import to_categorical\n",
        "from tensorflow.keras.optimizers import Adagrad,Adam,SGD,RMSprop,Adamax\n",
        "from tensorflow.keras.callbacks import EarlyStopping,TensorBoard,Callback,LearningRateScheduler,ModelCheckpoint\n",
        "from math import pi, cos, floor\n",
        "from tensorflow.keras.losses import categorical_crossentropy, sparse_categorical_crossentropy\n",
        "from tensorflow.keras import backend\n",
        "from tensorflow.keras.preprocessing.image import ImageDataGenerator"
      ],
      "execution_count": null,
      "outputs": []
    },
    {
      "cell_type": "code",
      "metadata": {
        "id": "8Hs2z7-U5xrc"
      },
      "source": [
        "tf.keras.backend.clear_session()"
      ],
      "execution_count": null,
      "outputs": []
    },
    {
      "cell_type": "markdown",
      "metadata": {
        "id": "GMLN1QT_gdtz"
      },
      "source": [
        "# Load Data"
      ]
    },
    {
      "cell_type": "code",
      "metadata": {
        "id": "zYnrTqTugf8W"
      },
      "source": [
        "hf=h5py.File('/content/drive/MyDrive/Projects/SVHN/SVHN_single_grey1.h5','r')\n",
        "X_train = hf['X_train'][:]\n",
        "y_train1 = hf['y_train'][:]\n",
        "X_test = hf['X_test'][:]\n",
        "y_test1 = hf['y_test'][:]\n",
        "# Close this file\n",
        "hf.close()"
      ],
      "execution_count": null,
      "outputs": []
    },
    {
      "cell_type": "code",
      "metadata": {
        "colab": {
          "base_uri": "https://localhost:8080/"
        },
        "id": "gHe4Y6dlgk8P",
        "outputId": "1d04c7b6-7d7f-48c0-afb7-9ae137e1866d"
      },
      "source": [
        "X_train.shape"
      ],
      "execution_count": null,
      "outputs": [
        {
          "output_type": "execute_result",
          "data": {
            "text/plain": [
              "(42000, 32, 32)"
            ]
          },
          "metadata": {
            "tags": []
          },
          "execution_count": 70
        }
      ]
    },
    {
      "cell_type": "markdown",
      "metadata": {
        "id": "MQ1YH9eUgtSd"
      },
      "source": [
        "# Reshape Data\n"
      ]
    },
    {
      "cell_type": "code",
      "metadata": {
        "id": "oRqIiM7cgvG5"
      },
      "source": [
        "img_rows,img_cols,num_channels=32,32,1\n",
        "X_train=X_train.reshape(X_train.shape[0],img_rows,img_cols,num_channels)\n",
        "X_test=X_test.reshape(X_test.shape[0],img_rows,img_cols,num_channels)"
      ],
      "execution_count": null,
      "outputs": []
    },
    {
      "cell_type": "markdown",
      "metadata": {
        "id": "8FXDCmyGheco"
      },
      "source": [
        "# One-Hot Target Variable"
      ]
    },
    {
      "cell_type": "code",
      "metadata": {
        "id": "-dwgqzpshFV7"
      },
      "source": [
        "y_train=to_categorical(y_train1)\n",
        "y_test=to_categorical(y_test1)"
      ],
      "execution_count": null,
      "outputs": []
    },
    {
      "cell_type": "markdown",
      "metadata": {
        "id": "5J7qEUniiGPJ"
      },
      "source": [
        "# Normalize Data"
      ]
    },
    {
      "cell_type": "code",
      "metadata": {
        "id": "u0yivMe0iHy5"
      },
      "source": [
        "X_train=X_train.astype('float32')\n",
        "X_test=X_test.astype('float32')"
      ],
      "execution_count": null,
      "outputs": []
    },
    {
      "cell_type": "code",
      "metadata": {
        "id": "IFOKyh9PipP6"
      },
      "source": [
        "X_train/=255.0\n",
        "X_test/=255.0"
      ],
      "execution_count": null,
      "outputs": []
    },
    {
      "cell_type": "markdown",
      "metadata": {
        "id": "7xE8TQoej8LW"
      },
      "source": [
        "# Split Data"
      ]
    },
    {
      "cell_type": "code",
      "metadata": {
        "colab": {
          "base_uri": "https://localhost:8080/"
        },
        "id": "Mot9WmUpkP-Y",
        "outputId": "3cc1e9a2-ef79-4405-84e8-2816955815a5"
      },
      "source": [
        "X_train.shape"
      ],
      "execution_count": null,
      "outputs": [
        {
          "output_type": "execute_result",
          "data": {
            "text/plain": [
              "(42000, 32, 32, 1)"
            ]
          },
          "metadata": {
            "tags": []
          },
          "execution_count": 75
        }
      ]
    },
    {
      "cell_type": "code",
      "metadata": {
        "id": "8BX8Skq1j95I"
      },
      "source": [
        "x_train=X_train[:30000]\n",
        "x_val=X_train[30000:]\n",
        "Y_train=y_train[:30000]\n",
        "Y_val=y_train[30000:]"
      ],
      "execution_count": null,
      "outputs": []
    },
    {
      "cell_type": "markdown",
      "metadata": {
        "id": "F5nk2yVwi0X1"
      },
      "source": [
        "# Define Input Shape"
      ]
    },
    {
      "cell_type": "code",
      "metadata": {
        "id": "7KopZbhIi2cc"
      },
      "source": [
        "input_shape=(img_rows,img_cols,num_channels)\n",
        "num_classes=Y_train.shape[1]"
      ],
      "execution_count": null,
      "outputs": []
    },
    {
      "cell_type": "code",
      "metadata": {
        "colab": {
          "base_uri": "https://localhost:8080/"
        },
        "id": "UdlJ-68Wr-qR",
        "outputId": "91795e45-0bb3-4175-ff66-3d3091956288"
      },
      "source": [
        "num_classes"
      ],
      "execution_count": null,
      "outputs": [
        {
          "output_type": "execute_result",
          "data": {
            "text/plain": [
              "10"
            ]
          },
          "metadata": {
            "tags": []
          },
          "execution_count": 78
        }
      ]
    },
    {
      "cell_type": "markdown",
      "metadata": {
        "id": "kMTH5cMf1B9C"
      },
      "source": [
        "# Model 1A - Following LeNet Architecture (Modified)\n",
        "\n",
        "- Instead of 5X5 kernel filters , used 3X3 \n",
        "\n",
        "- Used only Single Dense Layer"
      ]
    },
    {
      "cell_type": "code",
      "metadata": {
        "id": "QR2mRvamjExY"
      },
      "source": [
        "input_layer=Input(shape=input_shape)\n",
        "conv_layer_1=Conv2D(8,kernel_size=(3,3),padding='same')(input_layer)\n",
        "pool_layer_1=MaxPooling2D(pool_size=(2,2),strides=2)(conv_layer_1)\n",
        "conv_layer_2=Conv2D(16,kernel_size=(3,3),padding='same',activation='relu')(pool_layer_1)\n",
        "pool_layer_2=MaxPooling2D(pool_size=(2,2),strides=2)(conv_layer_2)\n",
        "conv_layer_3=Conv2D(32,kernel_size=(3,3),padding='same',activation='relu')(pool_layer_2)\n",
        "pool_layer_3=MaxPooling2D(pool_size=(2,2),strides=2)(conv_layer_3)\n",
        "flat_1=Flatten()(pool_layer_3)\n",
        "hidden_layer_1=Dense(1024,kernel_initializer='he_uniform',activation='relu')(flat_1)\n",
        "output=Dense(num_classes,kernel_initializer='he_uniform',activation='softmax')(hidden_layer_1)\n",
        "model=Model(inputs=input_layer,outputs=output)"
      ],
      "execution_count": null,
      "outputs": []
    },
    {
      "cell_type": "code",
      "metadata": {
        "colab": {
          "base_uri": "https://localhost:8080/"
        },
        "id": "v5pAAz5V1N64",
        "outputId": "4a82fd75-6482-401c-b4ec-964a99dd89a8"
      },
      "source": [
        "model.summary()"
      ],
      "execution_count": null,
      "outputs": [
        {
          "output_type": "stream",
          "text": [
            "Model: \"model_3\"\n",
            "_________________________________________________________________\n",
            "Layer (type)                 Output Shape              Param #   \n",
            "=================================================================\n",
            "input_4 (InputLayer)         [(None, 32, 32, 1)]       0         \n",
            "_________________________________________________________________\n",
            "conv2d_9 (Conv2D)            (None, 32, 32, 8)         80        \n",
            "_________________________________________________________________\n",
            "max_pooling2d_9 (MaxPooling2 (None, 16, 16, 8)         0         \n",
            "_________________________________________________________________\n",
            "conv2d_10 (Conv2D)           (None, 16, 16, 16)        1168      \n",
            "_________________________________________________________________\n",
            "max_pooling2d_10 (MaxPooling (None, 8, 8, 16)          0         \n",
            "_________________________________________________________________\n",
            "conv2d_11 (Conv2D)           (None, 8, 8, 32)          4640      \n",
            "_________________________________________________________________\n",
            "max_pooling2d_11 (MaxPooling (None, 4, 4, 32)          0         \n",
            "_________________________________________________________________\n",
            "flatten_3 (Flatten)          (None, 512)               0         \n",
            "_________________________________________________________________\n",
            "dense_6 (Dense)              (None, 1024)              525312    \n",
            "_________________________________________________________________\n",
            "dense_7 (Dense)              (None, 10)                10250     \n",
            "=================================================================\n",
            "Total params: 541,450\n",
            "Trainable params: 541,450\n",
            "Non-trainable params: 0\n",
            "_________________________________________________________________\n"
          ],
          "name": "stdout"
        }
      ]
    },
    {
      "cell_type": "code",
      "metadata": {
        "colab": {
          "base_uri": "https://localhost:8080/"
        },
        "id": "XFj4eGHs1RGu",
        "outputId": "7d9a3b3b-d53c-4a47-cf92-83fc7cb9a21b"
      },
      "source": [
        "optimizer=Adam(learning_rate=1e-5)\n",
        "model.compile(loss=categorical_crossentropy,optimizer=optimizer,metrics=['accuracy'])\n",
        "history=model.fit(x_train,Y_train,validation_data=(x_val,Y_val),epochs=100,batch_size=32,verbose=1)"
      ],
      "execution_count": null,
      "outputs": [
        {
          "output_type": "stream",
          "text": [
            "Epoch 1/100\n",
            "938/938 [==============================] - 7s 7ms/step - loss: 2.3015 - accuracy: 0.1098 - val_loss: 2.2945 - val_accuracy: 0.1507\n",
            "Epoch 2/100\n",
            "938/938 [==============================] - 6s 6ms/step - loss: 2.2896 - accuracy: 0.1643 - val_loss: 2.2758 - val_accuracy: 0.2393\n",
            "Epoch 3/100\n",
            "938/938 [==============================] - 6s 6ms/step - loss: 2.2707 - accuracy: 0.2400 - val_loss: 2.2549 - val_accuracy: 0.2111\n",
            "Epoch 4/100\n",
            "938/938 [==============================] - 6s 6ms/step - loss: 2.2453 - accuracy: 0.2853 - val_loss: 2.2241 - val_accuracy: 0.2942\n",
            "Epoch 5/100\n",
            "938/938 [==============================] - 6s 6ms/step - loss: 2.2118 - accuracy: 0.3458 - val_loss: 2.1793 - val_accuracy: 0.3559\n",
            "Epoch 6/100\n",
            "938/938 [==============================] - 6s 6ms/step - loss: 2.1638 - accuracy: 0.3809 - val_loss: 2.1231 - val_accuracy: 0.4032\n",
            "Epoch 7/100\n",
            "938/938 [==============================] - 6s 6ms/step - loss: 2.1072 - accuracy: 0.4178 - val_loss: 2.0588 - val_accuracy: 0.4316\n",
            "Epoch 8/100\n",
            "938/938 [==============================] - 6s 6ms/step - loss: 2.0400 - accuracy: 0.4569 - val_loss: 1.9819 - val_accuracy: 0.4703\n",
            "Epoch 9/100\n",
            "938/938 [==============================] - 6s 6ms/step - loss: 1.9650 - accuracy: 0.4825 - val_loss: 1.9032 - val_accuracy: 0.5139\n",
            "Epoch 10/100\n",
            "938/938 [==============================] - 6s 6ms/step - loss: 1.8846 - accuracy: 0.5124 - val_loss: 1.8256 - val_accuracy: 0.5136\n",
            "Epoch 11/100\n",
            "938/938 [==============================] - 6s 6ms/step - loss: 1.8076 - accuracy: 0.5309 - val_loss: 1.7436 - val_accuracy: 0.5580\n",
            "Epoch 12/100\n",
            "938/938 [==============================] - 6s 6ms/step - loss: 1.7275 - accuracy: 0.5541 - val_loss: 1.6669 - val_accuracy: 0.5621\n",
            "Epoch 13/100\n",
            "938/938 [==============================] - 6s 6ms/step - loss: 1.6545 - accuracy: 0.5643 - val_loss: 1.5928 - val_accuracy: 0.5798\n",
            "Epoch 14/100\n",
            "938/938 [==============================] - 6s 6ms/step - loss: 1.5814 - accuracy: 0.5857 - val_loss: 1.5270 - val_accuracy: 0.5927\n",
            "Epoch 15/100\n",
            "938/938 [==============================] - 6s 6ms/step - loss: 1.5145 - accuracy: 0.5987 - val_loss: 1.4650 - val_accuracy: 0.6105\n",
            "Epoch 16/100\n",
            "938/938 [==============================] - 6s 6ms/step - loss: 1.4558 - accuracy: 0.6132 - val_loss: 1.4086 - val_accuracy: 0.6274\n",
            "Epoch 17/100\n",
            "938/938 [==============================] - 6s 6ms/step - loss: 1.3953 - accuracy: 0.6300 - val_loss: 1.3578 - val_accuracy: 0.6324\n",
            "Epoch 18/100\n",
            "938/938 [==============================] - 6s 6ms/step - loss: 1.3457 - accuracy: 0.6367 - val_loss: 1.3072 - val_accuracy: 0.6471\n",
            "Epoch 19/100\n",
            "938/938 [==============================] - 6s 6ms/step - loss: 1.2991 - accuracy: 0.6506 - val_loss: 1.2661 - val_accuracy: 0.6569\n",
            "Epoch 20/100\n",
            "938/938 [==============================] - 6s 6ms/step - loss: 1.2601 - accuracy: 0.6560 - val_loss: 1.2323 - val_accuracy: 0.6553\n",
            "Epoch 21/100\n",
            "938/938 [==============================] - 6s 6ms/step - loss: 1.2259 - accuracy: 0.6652 - val_loss: 1.1906 - val_accuracy: 0.6760\n",
            "Epoch 22/100\n",
            "938/938 [==============================] - 6s 6ms/step - loss: 1.1874 - accuracy: 0.6742 - val_loss: 1.1588 - val_accuracy: 0.6847\n",
            "Epoch 23/100\n",
            "938/938 [==============================] - 6s 6ms/step - loss: 1.1601 - accuracy: 0.6810 - val_loss: 1.1293 - val_accuracy: 0.6916\n",
            "Epoch 24/100\n",
            "938/938 [==============================] - 6s 6ms/step - loss: 1.1206 - accuracy: 0.6881 - val_loss: 1.1019 - val_accuracy: 0.6973\n",
            "Epoch 25/100\n",
            "938/938 [==============================] - 6s 6ms/step - loss: 1.0976 - accuracy: 0.6927 - val_loss: 1.0716 - val_accuracy: 0.7048\n",
            "Epoch 26/100\n",
            "938/938 [==============================] - 6s 6ms/step - loss: 1.0674 - accuracy: 0.7021 - val_loss: 1.0515 - val_accuracy: 0.7117\n",
            "Epoch 27/100\n",
            "938/938 [==============================] - 6s 6ms/step - loss: 1.0506 - accuracy: 0.7037 - val_loss: 1.0290 - val_accuracy: 0.7158\n",
            "Epoch 28/100\n",
            "938/938 [==============================] - 6s 6ms/step - loss: 1.0314 - accuracy: 0.7104 - val_loss: 1.0045 - val_accuracy: 0.7223\n",
            "Epoch 29/100\n",
            "938/938 [==============================] - 6s 6ms/step - loss: 1.0003 - accuracy: 0.7199 - val_loss: 0.9857 - val_accuracy: 0.7240\n",
            "Epoch 30/100\n",
            "938/938 [==============================] - 6s 6ms/step - loss: 0.9865 - accuracy: 0.7226 - val_loss: 0.9677 - val_accuracy: 0.7296\n",
            "Epoch 31/100\n",
            "938/938 [==============================] - 6s 6ms/step - loss: 0.9736 - accuracy: 0.7250 - val_loss: 0.9506 - val_accuracy: 0.7340\n",
            "Epoch 32/100\n",
            "938/938 [==============================] - 6s 6ms/step - loss: 0.9474 - accuracy: 0.7318 - val_loss: 0.9388 - val_accuracy: 0.7345\n",
            "Epoch 33/100\n",
            "938/938 [==============================] - 6s 6ms/step - loss: 0.9235 - accuracy: 0.7421 - val_loss: 0.9223 - val_accuracy: 0.7379\n",
            "Epoch 34/100\n",
            "938/938 [==============================] - 6s 6ms/step - loss: 0.9050 - accuracy: 0.7473 - val_loss: 0.9044 - val_accuracy: 0.7404\n",
            "Epoch 35/100\n",
            "938/938 [==============================] - 6s 6ms/step - loss: 0.8916 - accuracy: 0.7486 - val_loss: 0.8884 - val_accuracy: 0.7493\n",
            "Epoch 36/100\n",
            "938/938 [==============================] - 6s 6ms/step - loss: 0.8828 - accuracy: 0.7498 - val_loss: 0.8710 - val_accuracy: 0.7524\n",
            "Epoch 37/100\n",
            "938/938 [==============================] - 6s 6ms/step - loss: 0.8556 - accuracy: 0.7557 - val_loss: 0.8622 - val_accuracy: 0.7553\n",
            "Epoch 38/100\n",
            "938/938 [==============================] - 6s 6ms/step - loss: 0.8559 - accuracy: 0.7576 - val_loss: 0.8496 - val_accuracy: 0.7556\n",
            "Epoch 39/100\n",
            "938/938 [==============================] - 6s 6ms/step - loss: 0.8453 - accuracy: 0.7570 - val_loss: 0.8410 - val_accuracy: 0.7631\n",
            "Epoch 40/100\n",
            "938/938 [==============================] - 6s 6ms/step - loss: 0.8445 - accuracy: 0.7591 - val_loss: 0.8275 - val_accuracy: 0.7652\n",
            "Epoch 41/100\n",
            "938/938 [==============================] - 6s 6ms/step - loss: 0.8126 - accuracy: 0.7672 - val_loss: 0.8154 - val_accuracy: 0.7688\n",
            "Epoch 42/100\n",
            "938/938 [==============================] - 6s 6ms/step - loss: 0.8166 - accuracy: 0.7665 - val_loss: 0.8132 - val_accuracy: 0.7671\n",
            "Epoch 43/100\n",
            "938/938 [==============================] - 6s 7ms/step - loss: 0.7883 - accuracy: 0.7747 - val_loss: 0.7973 - val_accuracy: 0.7747\n",
            "Epoch 44/100\n",
            "938/938 [==============================] - 6s 6ms/step - loss: 0.7972 - accuracy: 0.7735 - val_loss: 0.7906 - val_accuracy: 0.7741\n",
            "Epoch 45/100\n",
            "938/938 [==============================] - 6s 6ms/step - loss: 0.7673 - accuracy: 0.7798 - val_loss: 0.7870 - val_accuracy: 0.7792\n",
            "Epoch 46/100\n",
            "938/938 [==============================] - 6s 6ms/step - loss: 0.7605 - accuracy: 0.7842 - val_loss: 0.7755 - val_accuracy: 0.7785\n",
            "Epoch 47/100\n",
            "938/938 [==============================] - 6s 6ms/step - loss: 0.7596 - accuracy: 0.7819 - val_loss: 0.7648 - val_accuracy: 0.7822\n",
            "Epoch 48/100\n",
            "938/938 [==============================] - 6s 6ms/step - loss: 0.7416 - accuracy: 0.7891 - val_loss: 0.7595 - val_accuracy: 0.7853\n",
            "Epoch 49/100\n",
            "938/938 [==============================] - 6s 6ms/step - loss: 0.7451 - accuracy: 0.7850 - val_loss: 0.7563 - val_accuracy: 0.7873\n",
            "Epoch 50/100\n",
            "938/938 [==============================] - 6s 6ms/step - loss: 0.7253 - accuracy: 0.7927 - val_loss: 0.7428 - val_accuracy: 0.7917\n",
            "Epoch 51/100\n",
            "938/938 [==============================] - 6s 6ms/step - loss: 0.7276 - accuracy: 0.7925 - val_loss: 0.7388 - val_accuracy: 0.7907\n",
            "Epoch 52/100\n",
            "938/938 [==============================] - 6s 6ms/step - loss: 0.7191 - accuracy: 0.7952 - val_loss: 0.7308 - val_accuracy: 0.7930\n",
            "Epoch 53/100\n",
            "938/938 [==============================] - 6s 6ms/step - loss: 0.7134 - accuracy: 0.7996 - val_loss: 0.7295 - val_accuracy: 0.7938\n",
            "Epoch 54/100\n",
            "938/938 [==============================] - 6s 6ms/step - loss: 0.7123 - accuracy: 0.7964 - val_loss: 0.7214 - val_accuracy: 0.7939\n",
            "Epoch 55/100\n",
            "938/938 [==============================] - 6s 6ms/step - loss: 0.6883 - accuracy: 0.8019 - val_loss: 0.7171 - val_accuracy: 0.7949\n",
            "Epoch 56/100\n",
            "938/938 [==============================] - 6s 6ms/step - loss: 0.6909 - accuracy: 0.8069 - val_loss: 0.7058 - val_accuracy: 0.7997\n",
            "Epoch 57/100\n",
            "938/938 [==============================] - 6s 6ms/step - loss: 0.6889 - accuracy: 0.8051 - val_loss: 0.7023 - val_accuracy: 0.8018\n",
            "Epoch 58/100\n",
            "938/938 [==============================] - 6s 6ms/step - loss: 0.6916 - accuracy: 0.8034 - val_loss: 0.7033 - val_accuracy: 0.7992\n",
            "Epoch 59/100\n",
            "938/938 [==============================] - 6s 6ms/step - loss: 0.6822 - accuracy: 0.8079 - val_loss: 0.6975 - val_accuracy: 0.8007\n",
            "Epoch 60/100\n",
            "938/938 [==============================] - 6s 6ms/step - loss: 0.6704 - accuracy: 0.8061 - val_loss: 0.6908 - val_accuracy: 0.8048\n",
            "Epoch 61/100\n",
            "938/938 [==============================] - 6s 6ms/step - loss: 0.6751 - accuracy: 0.8051 - val_loss: 0.6840 - val_accuracy: 0.8054\n",
            "Epoch 62/100\n",
            "938/938 [==============================] - 6s 6ms/step - loss: 0.6610 - accuracy: 0.8115 - val_loss: 0.6856 - val_accuracy: 0.8050\n",
            "Epoch 63/100\n",
            "938/938 [==============================] - 6s 6ms/step - loss: 0.6594 - accuracy: 0.8141 - val_loss: 0.6793 - val_accuracy: 0.8089\n",
            "Epoch 64/100\n",
            "938/938 [==============================] - 6s 6ms/step - loss: 0.6525 - accuracy: 0.8141 - val_loss: 0.6808 - val_accuracy: 0.8073\n",
            "Epoch 65/100\n",
            "938/938 [==============================] - 6s 6ms/step - loss: 0.6512 - accuracy: 0.8174 - val_loss: 0.6724 - val_accuracy: 0.8097\n",
            "Epoch 66/100\n",
            "938/938 [==============================] - 6s 6ms/step - loss: 0.6495 - accuracy: 0.8183 - val_loss: 0.6689 - val_accuracy: 0.8104\n",
            "Epoch 67/100\n",
            "938/938 [==============================] - 6s 6ms/step - loss: 0.6456 - accuracy: 0.8172 - val_loss: 0.6607 - val_accuracy: 0.8148\n",
            "Epoch 68/100\n",
            "938/938 [==============================] - 6s 6ms/step - loss: 0.6213 - accuracy: 0.8221 - val_loss: 0.6612 - val_accuracy: 0.8117\n",
            "Epoch 69/100\n",
            "938/938 [==============================] - 6s 6ms/step - loss: 0.6321 - accuracy: 0.8184 - val_loss: 0.6606 - val_accuracy: 0.8119\n",
            "Epoch 70/100\n",
            "938/938 [==============================] - 6s 6ms/step - loss: 0.6314 - accuracy: 0.8221 - val_loss: 0.6564 - val_accuracy: 0.8143\n",
            "Epoch 71/100\n",
            "938/938 [==============================] - 6s 6ms/step - loss: 0.6188 - accuracy: 0.8256 - val_loss: 0.6507 - val_accuracy: 0.8143\n",
            "Epoch 72/100\n",
            "938/938 [==============================] - 6s 6ms/step - loss: 0.6223 - accuracy: 0.8231 - val_loss: 0.6468 - val_accuracy: 0.8167\n",
            "Epoch 73/100\n",
            "938/938 [==============================] - 6s 6ms/step - loss: 0.6118 - accuracy: 0.8240 - val_loss: 0.6430 - val_accuracy: 0.8198\n",
            "Epoch 74/100\n",
            "938/938 [==============================] - 6s 6ms/step - loss: 0.6079 - accuracy: 0.8273 - val_loss: 0.6430 - val_accuracy: 0.8164\n",
            "Epoch 75/100\n",
            "938/938 [==============================] - 6s 6ms/step - loss: 0.6029 - accuracy: 0.8285 - val_loss: 0.6389 - val_accuracy: 0.8192\n",
            "Epoch 76/100\n",
            "938/938 [==============================] - 6s 6ms/step - loss: 0.6065 - accuracy: 0.8266 - val_loss: 0.6344 - val_accuracy: 0.8223\n",
            "Epoch 77/100\n",
            "938/938 [==============================] - 6s 6ms/step - loss: 0.6035 - accuracy: 0.8266 - val_loss: 0.6338 - val_accuracy: 0.8200\n",
            "Epoch 78/100\n",
            "938/938 [==============================] - 6s 6ms/step - loss: 0.5989 - accuracy: 0.8301 - val_loss: 0.6287 - val_accuracy: 0.8242\n",
            "Epoch 79/100\n",
            "938/938 [==============================] - 6s 6ms/step - loss: 0.5882 - accuracy: 0.8316 - val_loss: 0.6285 - val_accuracy: 0.8244\n",
            "Epoch 80/100\n",
            "938/938 [==============================] - 6s 6ms/step - loss: 0.6020 - accuracy: 0.8288 - val_loss: 0.6265 - val_accuracy: 0.8257\n",
            "Epoch 81/100\n",
            "938/938 [==============================] - 6s 6ms/step - loss: 0.5877 - accuracy: 0.8306 - val_loss: 0.6235 - val_accuracy: 0.8253\n",
            "Epoch 82/100\n",
            "938/938 [==============================] - 6s 6ms/step - loss: 0.5848 - accuracy: 0.8306 - val_loss: 0.6189 - val_accuracy: 0.8273\n",
            "Epoch 83/100\n",
            "938/938 [==============================] - 6s 6ms/step - loss: 0.5840 - accuracy: 0.8352 - val_loss: 0.6170 - val_accuracy: 0.8288\n",
            "Epoch 84/100\n",
            "938/938 [==============================] - 6s 6ms/step - loss: 0.5747 - accuracy: 0.8332 - val_loss: 0.6169 - val_accuracy: 0.8256\n",
            "Epoch 85/100\n",
            "938/938 [==============================] - 6s 6ms/step - loss: 0.5705 - accuracy: 0.8380 - val_loss: 0.6107 - val_accuracy: 0.8291\n",
            "Epoch 86/100\n",
            "938/938 [==============================] - 6s 6ms/step - loss: 0.5662 - accuracy: 0.8402 - val_loss: 0.6140 - val_accuracy: 0.8290\n",
            "Epoch 87/100\n",
            "938/938 [==============================] - 6s 6ms/step - loss: 0.5682 - accuracy: 0.8363 - val_loss: 0.6144 - val_accuracy: 0.8278\n",
            "Epoch 88/100\n",
            "938/938 [==============================] - 6s 6ms/step - loss: 0.5698 - accuracy: 0.8395 - val_loss: 0.6047 - val_accuracy: 0.8301\n",
            "Epoch 89/100\n",
            "938/938 [==============================] - 6s 6ms/step - loss: 0.5644 - accuracy: 0.8393 - val_loss: 0.6029 - val_accuracy: 0.8292\n",
            "Epoch 90/100\n",
            "938/938 [==============================] - 6s 6ms/step - loss: 0.5620 - accuracy: 0.8392 - val_loss: 0.6053 - val_accuracy: 0.8316\n",
            "Epoch 91/100\n",
            "938/938 [==============================] - 6s 6ms/step - loss: 0.5579 - accuracy: 0.8388 - val_loss: 0.6049 - val_accuracy: 0.8317\n",
            "Epoch 92/100\n",
            "938/938 [==============================] - 6s 6ms/step - loss: 0.5592 - accuracy: 0.8379 - val_loss: 0.6029 - val_accuracy: 0.8331\n",
            "Epoch 93/100\n",
            "938/938 [==============================] - 6s 6ms/step - loss: 0.5520 - accuracy: 0.8441 - val_loss: 0.6000 - val_accuracy: 0.8331\n",
            "Epoch 94/100\n",
            "938/938 [==============================] - 6s 6ms/step - loss: 0.5419 - accuracy: 0.8462 - val_loss: 0.5961 - val_accuracy: 0.8317\n",
            "Epoch 95/100\n",
            "938/938 [==============================] - 6s 6ms/step - loss: 0.5338 - accuracy: 0.8457 - val_loss: 0.5964 - val_accuracy: 0.8331\n",
            "Epoch 96/100\n",
            "938/938 [==============================] - 6s 6ms/step - loss: 0.5518 - accuracy: 0.8411 - val_loss: 0.5950 - val_accuracy: 0.8325\n",
            "Epoch 97/100\n",
            "938/938 [==============================] - 6s 6ms/step - loss: 0.5422 - accuracy: 0.8460 - val_loss: 0.5874 - val_accuracy: 0.8357\n",
            "Epoch 98/100\n",
            "938/938 [==============================] - 6s 6ms/step - loss: 0.5442 - accuracy: 0.8450 - val_loss: 0.5860 - val_accuracy: 0.8356\n",
            "Epoch 99/100\n",
            "938/938 [==============================] - 6s 6ms/step - loss: 0.5318 - accuracy: 0.8473 - val_loss: 0.5963 - val_accuracy: 0.8281\n",
            "Epoch 100/100\n",
            "938/938 [==============================] - 6s 6ms/step - loss: 0.5353 - accuracy: 0.8487 - val_loss: 0.5874 - val_accuracy: 0.8355\n"
          ],
          "name": "stdout"
        }
      ]
    },
    {
      "cell_type": "code",
      "metadata": {
        "colab": {
          "base_uri": "https://localhost:8080/",
          "height": 528
        },
        "id": "MayiFc_r1T68",
        "outputId": "650d6e7d-7cee-468f-9d76-65d8e24748de"
      },
      "source": [
        "history_df = pd.DataFrame(history.history)\n",
        "history_df.loc[:, ['loss', 'val_loss']].plot();\n",
        "print(\"Minimum validation loss: {}\".format(history_df['val_loss'].min()))\n",
        "history_df = pd.DataFrame(history.history)\n",
        "history_df.loc[:, ['accuracy', 'val_accuracy']].plot();\n",
        "#print(\"Minimum validation loss: {}\".format(history_df['val_loss'].min()))"
      ],
      "execution_count": null,
      "outputs": [
        {
          "output_type": "stream",
          "text": [
            "Minimum validation loss: 0.5860321521759033\n"
          ],
          "name": "stdout"
        },
        {
          "output_type": "display_data",
          "data": {
            "image/png": "[encoded data removed]",
            "text/plain": [
              "<Figure size 432x288 with 1 Axes>"
            ]
          },
          "metadata": {
            "tags": [],
            "needs_background": "light"
          }
        },
        {
          "output_type": "display_data",
          "data": {
            "image/png": "[encoded data removed]",
            "text/plain": [
              "<Figure size 432x288 with 1 Axes>"
            ]
          },
          "metadata": {
            "tags": [],
            "needs_background": "light"
          }
        }
      ]
    },
    {
      "cell_type": "code",
      "metadata": {
        "colab": {
          "base_uri": "https://localhost:8080/"
        },
        "id": "GYHc81Ct3yG8",
        "outputId": "3b74f5b8-26e4-4ed4-ee81-d1561c3c8aee"
      },
      "source": [
        "model.evaluate(X_test,y_test)\n",
        "model.evaluate(x_val,Y_val)\n",
        "\n",
        "model.evaluate(x_train , Y_train)"
      ],
      "execution_count": null,
      "outputs": [
        {
          "output_type": "stream",
          "text": [
            "563/563 [==============================] - 2s 4ms/step - loss: 0.5864 - accuracy: 0.8328\n",
            "375/375 [==============================] - 1s 3ms/step - loss: 0.5874 - accuracy: 0.8355\n",
            "938/938 [==============================] - 4s 4ms/step - loss: 0.5324 - accuracy: 0.8476\n"
          ],
          "name": "stdout"
        },
        {
          "output_type": "execute_result",
          "data": {
            "text/plain": [
              "[0.5323991179466248, 0.847599983215332]"
            ]
          },
          "metadata": {
            "tags": []
          },
          "execution_count": 51
        }
      ]
    },
    {
      "cell_type": "markdown",
      "metadata": {
        "id": "PTD_ysGJi9cj"
      },
      "source": [
        "# Model 1B Modified LeNet Architecture with BatchNormalization"
      ]
    },
    {
      "cell_type": "code",
      "metadata": {
        "id": "Ee2VKcoF1Ixz"
      },
      "source": [
        "input_layer=Input(shape=input_shape)\n",
        "conv_layer_1=Conv2D(8,kernel_size=(3,3),padding='same')(input_layer)\n",
        "batch_norm_1=BatchNormalization()(conv_layer_1)\n",
        "activation_layer_1=Activation('relu')(batch_norm_1)\n",
        "pool_layer_1=MaxPooling2D(pool_size=(2,2),strides=2)(activation_layer_1)\n",
        "conv_layer_2=Conv2D(16,kernel_size=(3,3),padding='same',activation='relu')(pool_layer_1)\n",
        "pool_layer_2=MaxPooling2D(pool_size=(2,2),strides=2)(conv_layer_2)\n",
        "conv_layer_3=Conv2D(32,kernel_size=(3,3),padding='same',activation='relu')(pool_layer_2)\n",
        "pool_layer_3=MaxPooling2D(pool_size=(2,2),strides=2)(conv_layer_3)\n",
        "flat_1=Flatten()(pool_layer_3)\n",
        "hidden_layer_1=Dense(1024,kernel_initializer='he_uniform',activation='relu')(flat_1)\n",
        "output=Dense(num_classes,kernel_initializer='he_uniform',activation='softmax')(hidden_layer_1)\n",
        "model=Model(inputs=input_layer,outputs=output)"
      ],
      "execution_count": null,
      "outputs": []
    },
    {
      "cell_type": "code",
      "metadata": {
        "colab": {
          "base_uri": "https://localhost:8080/"
        },
        "id": "uB5HHYdgsfBc",
        "outputId": "2859b698-3d2f-4ce0-ecad-cc13ca78a97a"
      },
      "source": [
        "model.summary()"
      ],
      "execution_count": null,
      "outputs": [
        {
          "output_type": "stream",
          "text": [
            "Model: \"model\"\n",
            "_________________________________________________________________\n",
            "Layer (type)                 Output Shape              Param #   \n",
            "=================================================================\n",
            "input_1 (InputLayer)         [(None, 32, 32, 1)]       0         \n",
            "_________________________________________________________________\n",
            "conv2d (Conv2D)              (None, 32, 32, 8)         80        \n",
            "_________________________________________________________________\n",
            "batch_normalization (BatchNo (None, 32, 32, 8)         32        \n",
            "_________________________________________________________________\n",
            "activation (Activation)      (None, 32, 32, 8)         0         \n",
            "_________________________________________________________________\n",
            "max_pooling2d (MaxPooling2D) (None, 16, 16, 8)         0         \n",
            "_________________________________________________________________\n",
            "conv2d_1 (Conv2D)            (None, 16, 16, 16)        1168      \n",
            "_________________________________________________________________\n",
            "max_pooling2d_1 (MaxPooling2 (None, 8, 8, 16)          0         \n",
            "_________________________________________________________________\n",
            "conv2d_2 (Conv2D)            (None, 8, 8, 32)          4640      \n",
            "_________________________________________________________________\n",
            "max_pooling2d_2 (MaxPooling2 (None, 4, 4, 32)          0         \n",
            "_________________________________________________________________\n",
            "flatten (Flatten)            (None, 512)               0         \n",
            "_________________________________________________________________\n",
            "dense (Dense)                (None, 1024)              525312    \n",
            "_________________________________________________________________\n",
            "dense_1 (Dense)              (None, 10)                10250     \n",
            "=================================================================\n",
            "Total params: 541,482\n",
            "Trainable params: 541,466\n",
            "Non-trainable params: 16\n",
            "_________________________________________________________________\n"
          ],
          "name": "stdout"
        }
      ]
    },
    {
      "cell_type": "code",
      "metadata": {
        "colab": {
          "base_uri": "https://localhost:8080/"
        },
        "id": "rpL5RoaGsiU9",
        "outputId": "4b8ddd7b-52d3-457c-ea2c-6272544dc805"
      },
      "source": [
        "optimizer=Adam(learning_rate=1e-5)\n",
        "model.compile(loss=categorical_crossentropy,optimizer=optimizer,metrics=['accuracy'])\n",
        "history=model.fit(x_train,Y_train,validation_data=(x_val,Y_val),epochs=100,batch_size=32,verbose=1)"
      ],
      "execution_count": null,
      "outputs": [
        {
          "output_type": "stream",
          "text": [
            "Epoch 1/100\n",
            "938/938 [==============================] - 37s 5ms/step - loss: 2.3458 - accuracy: 0.1052 - val_loss: 2.2707 - val_accuracy: 0.1513\n",
            "Epoch 2/100\n",
            "938/938 [==============================] - 4s 4ms/step - loss: 2.2536 - accuracy: 0.1718 - val_loss: 2.1994 - val_accuracy: 0.2510\n",
            "Epoch 3/100\n",
            "938/938 [==============================] - 4s 4ms/step - loss: 2.1768 - accuracy: 0.2630 - val_loss: 2.0954 - val_accuracy: 0.3249\n",
            "Epoch 4/100\n",
            "938/938 [==============================] - 4s 4ms/step - loss: 2.0663 - accuracy: 0.3503 - val_loss: 1.9467 - val_accuracy: 0.4296\n",
            "Epoch 5/100\n",
            "938/938 [==============================] - 4s 4ms/step - loss: 1.9105 - accuracy: 0.4391 - val_loss: 1.7701 - val_accuracy: 0.4890\n",
            "Epoch 6/100\n",
            "938/938 [==============================] - 4s 4ms/step - loss: 1.7329 - accuracy: 0.5088 - val_loss: 1.6021 - val_accuracy: 0.5477\n",
            "Epoch 7/100\n",
            "938/938 [==============================] - 4s 4ms/step - loss: 1.5638 - accuracy: 0.5609 - val_loss: 1.4504 - val_accuracy: 0.5877\n",
            "Epoch 8/100\n",
            "938/938 [==============================] - 4s 4ms/step - loss: 1.4326 - accuracy: 0.5937 - val_loss: 1.3367 - val_accuracy: 0.6205\n",
            "Epoch 9/100\n",
            "938/938 [==============================] - 4s 4ms/step - loss: 1.3101 - accuracy: 0.6304 - val_loss: 1.2392 - val_accuracy: 0.6530\n",
            "Epoch 10/100\n",
            "938/938 [==============================] - 4s 4ms/step - loss: 1.2198 - accuracy: 0.6578 - val_loss: 1.1639 - val_accuracy: 0.6708\n",
            "Epoch 11/100\n",
            "938/938 [==============================] - 4s 4ms/step - loss: 1.1447 - accuracy: 0.6780 - val_loss: 1.1019 - val_accuracy: 0.6930\n",
            "Epoch 12/100\n",
            "938/938 [==============================] - 4s 4ms/step - loss: 1.0845 - accuracy: 0.6936 - val_loss: 1.0534 - val_accuracy: 0.7010\n",
            "Epoch 13/100\n",
            "938/938 [==============================] - 4s 4ms/step - loss: 1.0312 - accuracy: 0.7032 - val_loss: 1.0010 - val_accuracy: 0.7167\n",
            "Epoch 14/100\n",
            "938/938 [==============================] - 4s 4ms/step - loss: 0.9842 - accuracy: 0.7212 - val_loss: 0.9654 - val_accuracy: 0.7237\n",
            "Epoch 15/100\n",
            "938/938 [==============================] - 4s 4ms/step - loss: 0.9406 - accuracy: 0.7344 - val_loss: 0.9307 - val_accuracy: 0.7318\n",
            "Epoch 16/100\n",
            "938/938 [==============================] - 4s 4ms/step - loss: 0.9159 - accuracy: 0.7409 - val_loss: 0.9039 - val_accuracy: 0.7416\n",
            "Epoch 17/100\n",
            "938/938 [==============================] - 4s 4ms/step - loss: 0.8832 - accuracy: 0.7486 - val_loss: 0.8764 - val_accuracy: 0.7492\n",
            "Epoch 18/100\n",
            "938/938 [==============================] - 4s 4ms/step - loss: 0.8636 - accuracy: 0.7552 - val_loss: 0.8552 - val_accuracy: 0.7567\n",
            "Epoch 19/100\n",
            "938/938 [==============================] - 4s 4ms/step - loss: 0.8299 - accuracy: 0.7625 - val_loss: 0.8268 - val_accuracy: 0.7694\n",
            "Epoch 20/100\n",
            "938/938 [==============================] - 4s 4ms/step - loss: 0.8063 - accuracy: 0.7712 - val_loss: 0.8083 - val_accuracy: 0.7689\n",
            "Epoch 21/100\n",
            "938/938 [==============================] - 4s 4ms/step - loss: 0.7817 - accuracy: 0.7794 - val_loss: 0.7934 - val_accuracy: 0.7737\n",
            "Epoch 22/100\n",
            "938/938 [==============================] - 4s 4ms/step - loss: 0.7702 - accuracy: 0.7806 - val_loss: 0.7831 - val_accuracy: 0.7735\n",
            "Epoch 23/100\n",
            "938/938 [==============================] - 4s 4ms/step - loss: 0.7589 - accuracy: 0.7833 - val_loss: 0.7620 - val_accuracy: 0.7828\n",
            "Epoch 24/100\n",
            "938/938 [==============================] - 4s 4ms/step - loss: 0.7360 - accuracy: 0.7902 - val_loss: 0.7556 - val_accuracy: 0.7828\n",
            "Epoch 25/100\n",
            "938/938 [==============================] - 4s 4ms/step - loss: 0.7335 - accuracy: 0.7915 - val_loss: 0.7375 - val_accuracy: 0.7897\n",
            "Epoch 26/100\n",
            "938/938 [==============================] - 4s 4ms/step - loss: 0.7063 - accuracy: 0.7973 - val_loss: 0.7275 - val_accuracy: 0.7931\n",
            "Epoch 27/100\n",
            "938/938 [==============================] - 4s 4ms/step - loss: 0.7024 - accuracy: 0.7991 - val_loss: 0.7215 - val_accuracy: 0.7935\n",
            "Epoch 28/100\n",
            "938/938 [==============================] - 4s 4ms/step - loss: 0.6897 - accuracy: 0.8034 - val_loss: 0.7068 - val_accuracy: 0.8019\n",
            "Epoch 29/100\n",
            "938/938 [==============================] - 4s 4ms/step - loss: 0.6865 - accuracy: 0.8054 - val_loss: 0.6995 - val_accuracy: 0.8003\n",
            "Epoch 30/100\n",
            "938/938 [==============================] - 4s 4ms/step - loss: 0.6693 - accuracy: 0.8086 - val_loss: 0.6946 - val_accuracy: 0.8023\n",
            "Epoch 31/100\n",
            "938/938 [==============================] - 4s 4ms/step - loss: 0.6616 - accuracy: 0.8147 - val_loss: 0.6862 - val_accuracy: 0.8027\n",
            "Epoch 32/100\n",
            "938/938 [==============================] - 4s 4ms/step - loss: 0.6574 - accuracy: 0.8122 - val_loss: 0.6754 - val_accuracy: 0.8076\n",
            "Epoch 33/100\n",
            "938/938 [==============================] - 4s 4ms/step - loss: 0.6363 - accuracy: 0.8184 - val_loss: 0.6705 - val_accuracy: 0.8103\n",
            "Epoch 34/100\n",
            "938/938 [==============================] - 4s 4ms/step - loss: 0.6395 - accuracy: 0.8192 - val_loss: 0.6659 - val_accuracy: 0.8113\n",
            "Epoch 35/100\n",
            "938/938 [==============================] - 4s 4ms/step - loss: 0.6196 - accuracy: 0.8235 - val_loss: 0.6634 - val_accuracy: 0.8103\n",
            "Epoch 36/100\n",
            "938/938 [==============================] - 4s 4ms/step - loss: 0.6210 - accuracy: 0.8226 - val_loss: 0.6557 - val_accuracy: 0.8143\n",
            "Epoch 37/100\n",
            "938/938 [==============================] - 4s 4ms/step - loss: 0.6169 - accuracy: 0.8236 - val_loss: 0.6485 - val_accuracy: 0.8148\n",
            "Epoch 38/100\n",
            "938/938 [==============================] - 4s 4ms/step - loss: 0.6127 - accuracy: 0.8271 - val_loss: 0.6433 - val_accuracy: 0.8173\n",
            "Epoch 39/100\n",
            "938/938 [==============================] - 4s 4ms/step - loss: 0.5934 - accuracy: 0.8302 - val_loss: 0.6384 - val_accuracy: 0.8199\n",
            "Epoch 40/100\n",
            "938/938 [==============================] - 4s 4ms/step - loss: 0.6008 - accuracy: 0.8264 - val_loss: 0.6320 - val_accuracy: 0.8197\n",
            "Epoch 41/100\n",
            "938/938 [==============================] - 4s 4ms/step - loss: 0.5943 - accuracy: 0.8320 - val_loss: 0.6301 - val_accuracy: 0.8200\n",
            "Epoch 42/100\n",
            "938/938 [==============================] - 4s 4ms/step - loss: 0.5868 - accuracy: 0.8314 - val_loss: 0.6227 - val_accuracy: 0.8234\n",
            "Epoch 43/100\n",
            "938/938 [==============================] - 4s 4ms/step - loss: 0.5804 - accuracy: 0.8359 - val_loss: 0.6208 - val_accuracy: 0.8249\n",
            "Epoch 44/100\n",
            "938/938 [==============================] - 4s 4ms/step - loss: 0.5792 - accuracy: 0.8293 - val_loss: 0.6142 - val_accuracy: 0.8263\n",
            "Epoch 45/100\n",
            "938/938 [==============================] - 4s 4ms/step - loss: 0.5712 - accuracy: 0.8348 - val_loss: 0.6117 - val_accuracy: 0.8257\n",
            "Epoch 46/100\n",
            "938/938 [==============================] - 4s 4ms/step - loss: 0.5669 - accuracy: 0.8360 - val_loss: 0.6097 - val_accuracy: 0.8264\n",
            "Epoch 47/100\n",
            "938/938 [==============================] - 4s 4ms/step - loss: 0.5621 - accuracy: 0.8386 - val_loss: 0.6037 - val_accuracy: 0.8298\n",
            "Epoch 48/100\n",
            "938/938 [==============================] - 4s 4ms/step - loss: 0.5605 - accuracy: 0.8366 - val_loss: 0.5984 - val_accuracy: 0.8313\n",
            "Epoch 49/100\n",
            "938/938 [==============================] - 4s 4ms/step - loss: 0.5512 - accuracy: 0.8401 - val_loss: 0.5997 - val_accuracy: 0.8300\n",
            "Epoch 50/100\n",
            "938/938 [==============================] - 4s 4ms/step - loss: 0.5460 - accuracy: 0.8422 - val_loss: 0.5957 - val_accuracy: 0.8302\n",
            "Epoch 51/100\n",
            "938/938 [==============================] - 4s 4ms/step - loss: 0.5417 - accuracy: 0.8444 - val_loss: 0.5892 - val_accuracy: 0.8330\n",
            "Epoch 52/100\n",
            "938/938 [==============================] - 4s 4ms/step - loss: 0.5335 - accuracy: 0.8431 - val_loss: 0.6009 - val_accuracy: 0.8279\n",
            "Epoch 53/100\n",
            "938/938 [==============================] - 4s 4ms/step - loss: 0.5399 - accuracy: 0.8457 - val_loss: 0.5839 - val_accuracy: 0.8364\n",
            "Epoch 54/100\n",
            "938/938 [==============================] - 4s 4ms/step - loss: 0.5299 - accuracy: 0.8470 - val_loss: 0.5866 - val_accuracy: 0.8356\n",
            "Epoch 55/100\n",
            "938/938 [==============================] - 4s 4ms/step - loss: 0.5262 - accuracy: 0.8536 - val_loss: 0.5868 - val_accuracy: 0.8347\n",
            "Epoch 56/100\n",
            "938/938 [==============================] - 4s 4ms/step - loss: 0.5230 - accuracy: 0.8495 - val_loss: 0.5791 - val_accuracy: 0.8362\n",
            "Epoch 57/100\n",
            "938/938 [==============================] - 4s 4ms/step - loss: 0.5162 - accuracy: 0.8510 - val_loss: 0.5761 - val_accuracy: 0.8363\n",
            "Epoch 58/100\n",
            "938/938 [==============================] - 4s 4ms/step - loss: 0.5164 - accuracy: 0.8526 - val_loss: 0.5744 - val_accuracy: 0.8395\n",
            "Epoch 59/100\n",
            "938/938 [==============================] - 4s 4ms/step - loss: 0.4977 - accuracy: 0.8602 - val_loss: 0.5706 - val_accuracy: 0.8390\n",
            "Epoch 60/100\n",
            "938/938 [==============================] - 4s 4ms/step - loss: 0.5208 - accuracy: 0.8503 - val_loss: 0.5756 - val_accuracy: 0.8357\n",
            "Epoch 61/100\n",
            "938/938 [==============================] - 4s 4ms/step - loss: 0.4993 - accuracy: 0.8567 - val_loss: 0.5716 - val_accuracy: 0.8372\n",
            "Epoch 62/100\n",
            "938/938 [==============================] - 4s 4ms/step - loss: 0.5003 - accuracy: 0.8537 - val_loss: 0.5668 - val_accuracy: 0.8395\n",
            "Epoch 63/100\n",
            "938/938 [==============================] - 4s 4ms/step - loss: 0.4950 - accuracy: 0.8619 - val_loss: 0.5609 - val_accuracy: 0.8417\n",
            "Epoch 64/100\n",
            "938/938 [==============================] - 4s 4ms/step - loss: 0.4921 - accuracy: 0.8574 - val_loss: 0.5624 - val_accuracy: 0.8399\n",
            "Epoch 65/100\n",
            "938/938 [==============================] - 4s 4ms/step - loss: 0.4960 - accuracy: 0.8621 - val_loss: 0.5583 - val_accuracy: 0.8422\n",
            "Epoch 66/100\n",
            "938/938 [==============================] - 4s 4ms/step - loss: 0.4825 - accuracy: 0.8622 - val_loss: 0.5564 - val_accuracy: 0.8429\n",
            "Epoch 67/100\n",
            "938/938 [==============================] - 4s 4ms/step - loss: 0.4799 - accuracy: 0.8594 - val_loss: 0.5563 - val_accuracy: 0.8424\n",
            "Epoch 68/100\n",
            "938/938 [==============================] - 4s 4ms/step - loss: 0.4817 - accuracy: 0.8620 - val_loss: 0.5570 - val_accuracy: 0.8420\n",
            "Epoch 69/100\n",
            "938/938 [==============================] - 4s 4ms/step - loss: 0.4910 - accuracy: 0.8602 - val_loss: 0.5467 - val_accuracy: 0.8453\n",
            "Epoch 70/100\n",
            "938/938 [==============================] - 4s 4ms/step - loss: 0.4682 - accuracy: 0.8677 - val_loss: 0.5490 - val_accuracy: 0.8446\n",
            "Epoch 71/100\n",
            "938/938 [==============================] - 4s 4ms/step - loss: 0.4697 - accuracy: 0.8627 - val_loss: 0.5474 - val_accuracy: 0.8437\n",
            "Epoch 72/100\n",
            "938/938 [==============================] - 4s 4ms/step - loss: 0.4760 - accuracy: 0.8631 - val_loss: 0.5440 - val_accuracy: 0.8464\n",
            "Epoch 73/100\n",
            "938/938 [==============================] - 4s 4ms/step - loss: 0.4679 - accuracy: 0.8688 - val_loss: 0.5411 - val_accuracy: 0.8482\n",
            "Epoch 74/100\n",
            "938/938 [==============================] - 4s 4ms/step - loss: 0.4583 - accuracy: 0.8672 - val_loss: 0.5394 - val_accuracy: 0.8468\n",
            "Epoch 75/100\n",
            "938/938 [==============================] - 4s 4ms/step - loss: 0.4662 - accuracy: 0.8668 - val_loss: 0.5375 - val_accuracy: 0.8487\n",
            "Epoch 76/100\n",
            "938/938 [==============================] - 4s 4ms/step - loss: 0.4602 - accuracy: 0.8682 - val_loss: 0.5377 - val_accuracy: 0.8475\n",
            "Epoch 77/100\n",
            "938/938 [==============================] - 4s 4ms/step - loss: 0.4537 - accuracy: 0.8709 - val_loss: 0.5360 - val_accuracy: 0.8474\n",
            "Epoch 78/100\n",
            "938/938 [==============================] - 4s 4ms/step - loss: 0.4381 - accuracy: 0.8754 - val_loss: 0.5313 - val_accuracy: 0.8504\n",
            "Epoch 79/100\n",
            "938/938 [==============================] - 4s 4ms/step - loss: 0.4445 - accuracy: 0.8742 - val_loss: 0.5282 - val_accuracy: 0.8517\n",
            "Epoch 80/100\n",
            "938/938 [==============================] - 4s 4ms/step - loss: 0.4403 - accuracy: 0.8759 - val_loss: 0.5291 - val_accuracy: 0.8501\n",
            "Epoch 81/100\n",
            "938/938 [==============================] - 4s 4ms/step - loss: 0.4351 - accuracy: 0.8766 - val_loss: 0.5300 - val_accuracy: 0.8505\n",
            "Epoch 82/100\n",
            "938/938 [==============================] - 4s 4ms/step - loss: 0.4460 - accuracy: 0.8733 - val_loss: 0.5279 - val_accuracy: 0.8499\n",
            "Epoch 83/100\n",
            "938/938 [==============================] - 4s 4ms/step - loss: 0.4360 - accuracy: 0.8762 - val_loss: 0.5341 - val_accuracy: 0.8477\n",
            "Epoch 84/100\n",
            "938/938 [==============================] - 4s 4ms/step - loss: 0.4404 - accuracy: 0.8759 - val_loss: 0.5230 - val_accuracy: 0.8537\n",
            "Epoch 85/100\n",
            "938/938 [==============================] - 4s 4ms/step - loss: 0.4222 - accuracy: 0.8776 - val_loss: 0.5239 - val_accuracy: 0.8528\n",
            "Epoch 86/100\n",
            "938/938 [==============================] - 4s 4ms/step - loss: 0.4334 - accuracy: 0.8774 - val_loss: 0.5172 - val_accuracy: 0.8559\n",
            "Epoch 87/100\n",
            "938/938 [==============================] - 4s 4ms/step - loss: 0.4377 - accuracy: 0.8764 - val_loss: 0.5244 - val_accuracy: 0.8516\n",
            "Epoch 88/100\n",
            "938/938 [==============================] - 4s 4ms/step - loss: 0.4188 - accuracy: 0.8818 - val_loss: 0.5197 - val_accuracy: 0.8543\n",
            "Epoch 89/100\n",
            "938/938 [==============================] - 4s 4ms/step - loss: 0.4221 - accuracy: 0.8796 - val_loss: 0.5146 - val_accuracy: 0.8544\n",
            "Epoch 90/100\n",
            "938/938 [==============================] - 4s 4ms/step - loss: 0.4194 - accuracy: 0.8799 - val_loss: 0.5130 - val_accuracy: 0.8540\n",
            "Epoch 91/100\n",
            "938/938 [==============================] - 4s 4ms/step - loss: 0.4232 - accuracy: 0.8805 - val_loss: 0.5132 - val_accuracy: 0.8553\n",
            "Epoch 92/100\n",
            "938/938 [==============================] - 4s 4ms/step - loss: 0.4167 - accuracy: 0.8822 - val_loss: 0.5106 - val_accuracy: 0.8556\n",
            "Epoch 93/100\n",
            "938/938 [==============================] - 4s 4ms/step - loss: 0.4161 - accuracy: 0.8800 - val_loss: 0.5227 - val_accuracy: 0.8526\n",
            "Epoch 94/100\n",
            "938/938 [==============================] - 4s 4ms/step - loss: 0.4044 - accuracy: 0.8856 - val_loss: 0.5087 - val_accuracy: 0.8568\n",
            "Epoch 95/100\n",
            "938/938 [==============================] - 4s 4ms/step - loss: 0.4105 - accuracy: 0.8845 - val_loss: 0.5047 - val_accuracy: 0.8571\n",
            "Epoch 96/100\n",
            "938/938 [==============================] - 4s 4ms/step - loss: 0.3853 - accuracy: 0.8898 - val_loss: 0.5045 - val_accuracy: 0.8592\n",
            "Epoch 97/100\n",
            "938/938 [==============================] - 4s 4ms/step - loss: 0.3975 - accuracy: 0.8872 - val_loss: 0.5055 - val_accuracy: 0.8584\n",
            "Epoch 98/100\n",
            "938/938 [==============================] - 4s 4ms/step - loss: 0.4037 - accuracy: 0.8835 - val_loss: 0.5034 - val_accuracy: 0.8574\n",
            "Epoch 99/100\n",
            "938/938 [==============================] - 4s 4ms/step - loss: 0.4008 - accuracy: 0.8848 - val_loss: 0.5016 - val_accuracy: 0.8590\n",
            "Epoch 100/100\n",
            "938/938 [==============================] - 4s 4ms/step - loss: 0.3941 - accuracy: 0.8880 - val_loss: 0.4965 - val_accuracy: 0.8605\n"
          ],
          "name": "stdout"
        }
      ]
    },
    {
      "cell_type": "code",
      "metadata": {
        "colab": {
          "base_uri": "https://localhost:8080/",
          "height": 528
        },
        "id": "Yxf0azzCtM39",
        "outputId": "8f841bf5-0f40-4518-f8ea-2ab9f43800bb"
      },
      "source": [
        "history_df = pd.DataFrame(history.history)\n",
        "history_df.loc[:, ['loss', 'val_loss']].plot();\n",
        "print(\"Minimum validation loss: {}\".format(history_df['val_loss'].min()))\n",
        "history_df = pd.DataFrame(history.history)\n",
        "history_df.loc[:, ['accuracy', 'val_accuracy']].plot();\n",
        "#print(\"Minimum validation loss: {}\".format(history_df['val_loss'].min()))"
      ],
      "execution_count": null,
      "outputs": [
        {
          "output_type": "stream",
          "text": [
            "Minimum validation loss: 0.4964812099933624\n"
          ],
          "name": "stdout"
        },
        {
          "output_type": "display_data",
          "data": {
            "image/png": "[encoded data removed]",
            "text/plain": [
              "<Figure size 432x288 with 1 Axes>"
            ]
          },
          "metadata": {
            "tags": [],
            "needs_background": "light"
          }
        },
        {
          "output_type": "display_data",
          "data": {
            "image/png": "[encoded data removed]",
            "text/plain": [
              "<Figure size 432x288 with 1 Axes>"
            ]
          },
          "metadata": {
            "tags": [],
            "needs_background": "light"
          }
        }
      ]
    },
    {
      "cell_type": "code",
      "metadata": {
        "colab": {
          "base_uri": "https://localhost:8080/"
        },
        "id": "3H2g-FV78IIR",
        "outputId": "aded3bd1-32e3-4a47-db2b-8a992d017f1e"
      },
      "source": [
        "history.history.keys()"
      ],
      "execution_count": null,
      "outputs": [
        {
          "output_type": "execute_result",
          "data": {
            "text/plain": [
              "dict_keys(['loss', 'accuracy', 'val_loss', 'val_accuracy'])"
            ]
          },
          "metadata": {
            "tags": []
          },
          "execution_count": 22
        }
      ]
    },
    {
      "cell_type": "code",
      "metadata": {
        "colab": {
          "base_uri": "https://localhost:8080/"
        },
        "id": "SBa5UtT2i77v",
        "outputId": "8201772f-412d-4611-fc72-780d357380a2"
      },
      "source": [
        "model.evaluate(X_test,y_test)\n",
        "model.evaluate(x_val,Y_val)\n",
        "\n",
        "model.evaluate(x_train , Y_train)"
      ],
      "execution_count": null,
      "outputs": [
        {
          "output_type": "stream",
          "text": [
            "563/563 [==============================] - 2s 3ms/step - loss: 0.4995 - accuracy: 0.8620\n",
            "375/375 [==============================] - 1s 2ms/step - loss: 0.4965 - accuracy: 0.8605\n",
            "938/938 [==============================] - 3s 3ms/step - loss: 0.3868 - accuracy: 0.8908\n"
          ],
          "name": "stdout"
        },
        {
          "output_type": "execute_result",
          "data": {
            "text/plain": [
              "[0.38680627942085266, 0.8907999992370605]"
            ]
          },
          "metadata": {
            "tags": []
          },
          "execution_count": 17
        }
      ]
    },
    {
      "cell_type": "markdown",
      "metadata": {
        "id": "D1wz7Mf-8oWu"
      },
      "source": [
        "# Model 1C Modiefied Model 1B with ImageDataGenerator"
      ]
    },
    {
      "cell_type": "code",
      "metadata": {
        "id": "5p6HfQA08tpE"
      },
      "source": [
        "datagen = ImageDataGenerator(rotation_range=8,\n",
        "                             zoom_range=[0.95, 1.05],\n",
        "                             height_shift_range=0.10,\n",
        "                             shear_range=0.15)"
      ],
      "execution_count": null,
      "outputs": []
    },
    {
      "cell_type": "code",
      "metadata": {
        "id": "ZTtMCEQh8x1F"
      },
      "source": [
        "input_layer=Input(shape=input_shape)\n",
        "conv_layer_1=Conv2D(8,kernel_size=(3,3),padding='same')(input_layer)\n",
        "batch_norm_1=BatchNormalization()(conv_layer_1)\n",
        "activation_layer_1=Activation('relu')(batch_norm_1)\n",
        "pool_layer_1=MaxPooling2D(pool_size=(2,2),strides=2)(activation_layer_1)\n",
        "conv_layer_2=Conv2D(16,kernel_size=(3,3),padding='same',activation='relu')(pool_layer_1)\n",
        "pool_layer_2=MaxPooling2D(pool_size=(2,2),strides=2)(conv_layer_2)\n",
        "conv_layer_3=Conv2D(32,kernel_size=(3,3),padding='same',activation='relu')(pool_layer_2)\n",
        "pool_layer_3=MaxPooling2D(pool_size=(2,2),strides=2)(conv_layer_3)\n",
        "flat_1=Flatten()(pool_layer_3)\n",
        "hidden_layer_1=Dense(1024,kernel_initializer='he_uniform',activation='relu')(flat_1)\n",
        "output=Dense(num_classes,kernel_initializer='he_uniform',activation='softmax')(hidden_layer_1)\n",
        "model=Model(inputs=input_layer,outputs=output)"
      ],
      "execution_count": null,
      "outputs": []
    },
    {
      "cell_type": "code",
      "metadata": {
        "colab": {
          "base_uri": "https://localhost:8080/"
        },
        "id": "FC82pNHE81-6",
        "outputId": "c39368f1-4044-41d2-8071-6ab1e52e1383"
      },
      "source": [
        "model.summary()"
      ],
      "execution_count": null,
      "outputs": [
        {
          "output_type": "stream",
          "text": [
            "Model: \"model\"\n",
            "_________________________________________________________________\n",
            "Layer (type)                 Output Shape              Param #   \n",
            "=================================================================\n",
            "input_1 (InputLayer)         [(None, 32, 32, 1)]       0         \n",
            "_________________________________________________________________\n",
            "conv2d (Conv2D)              (None, 32, 32, 8)         80        \n",
            "_________________________________________________________________\n",
            "batch_normalization (BatchNo (None, 32, 32, 8)         32        \n",
            "_________________________________________________________________\n",
            "activation (Activation)      (None, 32, 32, 8)         0         \n",
            "_________________________________________________________________\n",
            "max_pooling2d (MaxPooling2D) (None, 16, 16, 8)         0         \n",
            "_________________________________________________________________\n",
            "conv2d_1 (Conv2D)            (None, 16, 16, 16)        1168      \n",
            "_________________________________________________________________\n",
            "max_pooling2d_1 (MaxPooling2 (None, 8, 8, 16)          0         \n",
            "_________________________________________________________________\n",
            "conv2d_2 (Conv2D)            (None, 8, 8, 32)          4640      \n",
            "_________________________________________________________________\n",
            "max_pooling2d_2 (MaxPooling2 (None, 4, 4, 32)          0         \n",
            "_________________________________________________________________\n",
            "flatten (Flatten)            (None, 512)               0         \n",
            "_________________________________________________________________\n",
            "dense (Dense)                (None, 1024)              525312    \n",
            "_________________________________________________________________\n",
            "dense_1 (Dense)              (None, 10)                10250     \n",
            "=================================================================\n",
            "Total params: 541,482\n",
            "Trainable params: 541,466\n",
            "Non-trainable params: 16\n",
            "_________________________________________________________________\n"
          ],
          "name": "stdout"
        }
      ]
    },
    {
      "cell_type": "code",
      "metadata": {
        "id": "wscNLOM5_ZDW"
      },
      "source": [
        "os.chdir('/content/drive/MyDrive/Projects/SVHN/Convolution_Checkpoints')"
      ],
      "execution_count": null,
      "outputs": []
    },
    {
      "cell_type": "code",
      "metadata": {
        "colab": {
          "base_uri": "https://localhost:8080/"
        },
        "id": "2Thij5Vt864R",
        "outputId": "a9d25b69-074f-43e8-f98a-ac08976735c9"
      },
      "source": [
        "optimizer=Adam(learning_rate=1e-5,amsgrad=True)\n",
        "#lr_schedule = LearningRateScheduler(lambda epoch: 1e-4 * 10**(epoch / 10))\n",
        "early_stopping = EarlyStopping(patience=8)\n",
        "model_checkpoint = ModelCheckpoint(\n",
        "                   '/content/drive/MyDrive/Projects/SVHN/Convolution_Checkpoints/best_cnn.h5', \n",
        "                   save_best_only=True)\n",
        "model.compile(loss=categorical_crossentropy,optimizer=optimizer,metrics=['accuracy'])\n",
        "#history=model.fit(x_train,Y_train,validation_data=(x_val,Y_val),epochs=100,batch_size=32,verbose=1)\n",
        "history = model.fit(datagen.flow(x_train, Y_train, batch_size=32),\n",
        "                              epochs=100, validation_data=(x_val, Y_val),\n",
        "                              callbacks=[early_stopping,model_checkpoint])"
      ],
      "execution_count": null,
      "outputs": [
        {
          "output_type": "stream",
          "text": [
            "Epoch 1/100\n",
            "938/938 [==============================] - 11s 12ms/step - loss: 2.3560 - accuracy: 0.1085 - val_loss: 2.2506 - val_accuracy: 0.1947\n",
            "Epoch 2/100\n",
            "938/938 [==============================] - 11s 11ms/step - loss: 2.2410 - accuracy: 0.1885 - val_loss: 2.1651 - val_accuracy: 0.2618\n",
            "Epoch 3/100\n",
            "938/938 [==============================] - 11s 11ms/step - loss: 2.1646 - accuracy: 0.2619 - val_loss: 2.0459 - val_accuracy: 0.3499\n",
            "Epoch 4/100\n",
            "938/938 [==============================] - 11s 11ms/step - loss: 2.0544 - accuracy: 0.3370 - val_loss: 1.8962 - val_accuracy: 0.4298\n",
            "Epoch 5/100\n",
            "938/938 [==============================] - 11s 11ms/step - loss: 1.9224 - accuracy: 0.3932 - val_loss: 1.7420 - val_accuracy: 0.4857\n",
            "Epoch 6/100\n",
            "938/938 [==============================] - 11s 11ms/step - loss: 1.7916 - accuracy: 0.4463 - val_loss: 1.6033 - val_accuracy: 0.5251\n",
            "Epoch 7/100\n",
            "938/938 [==============================] - 11s 12ms/step - loss: 1.6682 - accuracy: 0.4867 - val_loss: 1.4794 - val_accuracy: 0.5710\n",
            "Epoch 8/100\n",
            "938/938 [==============================] - 11s 11ms/step - loss: 1.5627 - accuracy: 0.5225 - val_loss: 1.3813 - val_accuracy: 0.6066\n",
            "Epoch 9/100\n",
            "938/938 [==============================] - 11s 11ms/step - loss: 1.4782 - accuracy: 0.5493 - val_loss: 1.2977 - val_accuracy: 0.6208\n",
            "Epoch 10/100\n",
            "938/938 [==============================] - 11s 11ms/step - loss: 1.4090 - accuracy: 0.5724 - val_loss: 1.2299 - val_accuracy: 0.6439\n",
            "Epoch 11/100\n",
            "938/938 [==============================] - 11s 11ms/step - loss: 1.3400 - accuracy: 0.5979 - val_loss: 1.1656 - val_accuracy: 0.6594\n",
            "Epoch 12/100\n",
            "938/938 [==============================] - 11s 11ms/step - loss: 1.2867 - accuracy: 0.6080 - val_loss: 1.1141 - val_accuracy: 0.6801\n",
            "Epoch 13/100\n",
            "938/938 [==============================] - 11s 12ms/step - loss: 1.2471 - accuracy: 0.6251 - val_loss: 1.0678 - val_accuracy: 0.6879\n",
            "Epoch 14/100\n",
            "938/938 [==============================] - 11s 11ms/step - loss: 1.1989 - accuracy: 0.6418 - val_loss: 1.0281 - val_accuracy: 0.7120\n",
            "Epoch 15/100\n",
            "938/938 [==============================] - 11s 11ms/step - loss: 1.1642 - accuracy: 0.6522 - val_loss: 0.9952 - val_accuracy: 0.7138\n",
            "Epoch 16/100\n",
            "938/938 [==============================] - 11s 12ms/step - loss: 1.1334 - accuracy: 0.6589 - val_loss: 0.9733 - val_accuracy: 0.7119\n",
            "Epoch 17/100\n",
            "938/938 [==============================] - 11s 11ms/step - loss: 1.1091 - accuracy: 0.6667 - val_loss: 0.9418 - val_accuracy: 0.7283\n",
            "Epoch 18/100\n",
            "938/938 [==============================] - 11s 11ms/step - loss: 1.0719 - accuracy: 0.6853 - val_loss: 0.9151 - val_accuracy: 0.7330\n",
            "Epoch 19/100\n",
            "938/938 [==============================] - 11s 12ms/step - loss: 1.0617 - accuracy: 0.6832 - val_loss: 0.8941 - val_accuracy: 0.7397\n",
            "Epoch 20/100\n",
            "938/938 [==============================] - 11s 12ms/step - loss: 1.0498 - accuracy: 0.6860 - val_loss: 0.8716 - val_accuracy: 0.7475\n",
            "Epoch 21/100\n",
            "938/938 [==============================] - 11s 12ms/step - loss: 1.0136 - accuracy: 0.7000 - val_loss: 0.8534 - val_accuracy: 0.7564\n",
            "Epoch 22/100\n",
            "938/938 [==============================] - 12s 12ms/step - loss: 0.9885 - accuracy: 0.7116 - val_loss: 0.8363 - val_accuracy: 0.7599\n",
            "Epoch 23/100\n",
            "938/938 [==============================] - 11s 12ms/step - loss: 0.9726 - accuracy: 0.7134 - val_loss: 0.8212 - val_accuracy: 0.7601\n",
            "Epoch 24/100\n",
            "938/938 [==============================] - 12s 12ms/step - loss: 0.9519 - accuracy: 0.7148 - val_loss: 0.8068 - val_accuracy: 0.7648\n",
            "Epoch 25/100\n",
            "938/938 [==============================] - 11s 12ms/step - loss: 0.9424 - accuracy: 0.7230 - val_loss: 0.7948 - val_accuracy: 0.7697\n",
            "Epoch 26/100\n",
            "938/938 [==============================] - 11s 12ms/step - loss: 0.9461 - accuracy: 0.7206 - val_loss: 0.7768 - val_accuracy: 0.7797\n",
            "Epoch 27/100\n",
            "938/938 [==============================] - 11s 12ms/step - loss: 0.9248 - accuracy: 0.7256 - val_loss: 0.7697 - val_accuracy: 0.7779\n",
            "Epoch 28/100\n",
            "938/938 [==============================] - 11s 12ms/step - loss: 0.9125 - accuracy: 0.7354 - val_loss: 0.7507 - val_accuracy: 0.7855\n",
            "Epoch 29/100\n",
            "938/938 [==============================] - 11s 12ms/step - loss: 0.8926 - accuracy: 0.7343 - val_loss: 0.7429 - val_accuracy: 0.7869\n",
            "Epoch 30/100\n",
            "938/938 [==============================] - 11s 12ms/step - loss: 0.8797 - accuracy: 0.7410 - val_loss: 0.7318 - val_accuracy: 0.7927\n",
            "Epoch 31/100\n",
            "938/938 [==============================] - 11s 12ms/step - loss: 0.8629 - accuracy: 0.7488 - val_loss: 0.7258 - val_accuracy: 0.7977\n",
            "Epoch 32/100\n",
            "938/938 [==============================] - 11s 12ms/step - loss: 0.8589 - accuracy: 0.7477 - val_loss: 0.7122 - val_accuracy: 0.7976\n",
            "Epoch 33/100\n",
            "938/938 [==============================] - 11s 12ms/step - loss: 0.8447 - accuracy: 0.7539 - val_loss: 0.7081 - val_accuracy: 0.7990\n",
            "Epoch 34/100\n",
            "938/938 [==============================] - 11s 12ms/step - loss: 0.8381 - accuracy: 0.7552 - val_loss: 0.6984 - val_accuracy: 0.8013\n",
            "Epoch 35/100\n",
            "938/938 [==============================] - 11s 12ms/step - loss: 0.8227 - accuracy: 0.7568 - val_loss: 0.6933 - val_accuracy: 0.8002\n",
            "Epoch 36/100\n",
            "938/938 [==============================] - 11s 12ms/step - loss: 0.8374 - accuracy: 0.7530 - val_loss: 0.6798 - val_accuracy: 0.8067\n",
            "Epoch 37/100\n",
            "938/938 [==============================] - 11s 12ms/step - loss: 0.8128 - accuracy: 0.7613 - val_loss: 0.6791 - val_accuracy: 0.8067\n",
            "Epoch 38/100\n",
            "938/938 [==============================] - 11s 12ms/step - loss: 0.8116 - accuracy: 0.7631 - val_loss: 0.6707 - val_accuracy: 0.8096\n",
            "Epoch 39/100\n",
            "938/938 [==============================] - 11s 12ms/step - loss: 0.8013 - accuracy: 0.7690 - val_loss: 0.6629 - val_accuracy: 0.8081\n",
            "Epoch 40/100\n",
            "938/938 [==============================] - 11s 12ms/step - loss: 0.7815 - accuracy: 0.7714 - val_loss: 0.6529 - val_accuracy: 0.8156\n",
            "Epoch 41/100\n",
            "938/938 [==============================] - 11s 12ms/step - loss: 0.7965 - accuracy: 0.7665 - val_loss: 0.6473 - val_accuracy: 0.8139\n",
            "Epoch 42/100\n",
            "938/938 [==============================] - 11s 12ms/step - loss: 0.7680 - accuracy: 0.7783 - val_loss: 0.6442 - val_accuracy: 0.8190\n",
            "Epoch 43/100\n",
            "938/938 [==============================] - 11s 12ms/step - loss: 0.7739 - accuracy: 0.7744 - val_loss: 0.6405 - val_accuracy: 0.8170\n",
            "Epoch 44/100\n",
            "938/938 [==============================] - 11s 12ms/step - loss: 0.7710 - accuracy: 0.7723 - val_loss: 0.6305 - val_accuracy: 0.8217\n",
            "Epoch 45/100\n",
            "938/938 [==============================] - 11s 12ms/step - loss: 0.7674 - accuracy: 0.7763 - val_loss: 0.6298 - val_accuracy: 0.8169\n",
            "Epoch 46/100\n",
            "938/938 [==============================] - 11s 12ms/step - loss: 0.7552 - accuracy: 0.7816 - val_loss: 0.6209 - val_accuracy: 0.8231\n",
            "Epoch 47/100\n",
            "938/938 [==============================] - 11s 12ms/step - loss: 0.7406 - accuracy: 0.7860 - val_loss: 0.6218 - val_accuracy: 0.8227\n",
            "Epoch 48/100\n",
            "938/938 [==============================] - 11s 12ms/step - loss: 0.7346 - accuracy: 0.7850 - val_loss: 0.6165 - val_accuracy: 0.8234\n",
            "Epoch 49/100\n",
            "938/938 [==============================] - 11s 12ms/step - loss: 0.7370 - accuracy: 0.7831 - val_loss: 0.6072 - val_accuracy: 0.8285\n",
            "Epoch 50/100\n",
            "938/938 [==============================] - 11s 12ms/step - loss: 0.7220 - accuracy: 0.7852 - val_loss: 0.6021 - val_accuracy: 0.8290\n",
            "Epoch 51/100\n",
            "938/938 [==============================] - 11s 12ms/step - loss: 0.7372 - accuracy: 0.7822 - val_loss: 0.6020 - val_accuracy: 0.8292\n",
            "Epoch 52/100\n",
            "938/938 [==============================] - 11s 12ms/step - loss: 0.7170 - accuracy: 0.7902 - val_loss: 0.5965 - val_accuracy: 0.8299\n",
            "Epoch 53/100\n",
            "938/938 [==============================] - 12s 13ms/step - loss: 0.7188 - accuracy: 0.7909 - val_loss: 0.5997 - val_accuracy: 0.8264\n",
            "Epoch 54/100\n",
            "938/938 [==============================] - 11s 12ms/step - loss: 0.7166 - accuracy: 0.7900 - val_loss: 0.5876 - val_accuracy: 0.8328\n",
            "Epoch 55/100\n",
            "938/938 [==============================] - 12s 13ms/step - loss: 0.7189 - accuracy: 0.7894 - val_loss: 0.5824 - val_accuracy: 0.8361\n",
            "Epoch 56/100\n",
            "938/938 [==============================] - 12s 12ms/step - loss: 0.7048 - accuracy: 0.7934 - val_loss: 0.5816 - val_accuracy: 0.8375\n",
            "Epoch 57/100\n",
            "938/938 [==============================] - 11s 12ms/step - loss: 0.6952 - accuracy: 0.7971 - val_loss: 0.5800 - val_accuracy: 0.8346\n",
            "Epoch 58/100\n",
            "938/938 [==============================] - 11s 12ms/step - loss: 0.7056 - accuracy: 0.7933 - val_loss: 0.5769 - val_accuracy: 0.8345\n",
            "Epoch 59/100\n",
            "938/938 [==============================] - 11s 12ms/step - loss: 0.6866 - accuracy: 0.7991 - val_loss: 0.5681 - val_accuracy: 0.8400\n",
            "Epoch 60/100\n",
            "938/938 [==============================] - 11s 12ms/step - loss: 0.6840 - accuracy: 0.7950 - val_loss: 0.5709 - val_accuracy: 0.8404\n",
            "Epoch 61/100\n",
            "938/938 [==============================] - 12s 12ms/step - loss: 0.6943 - accuracy: 0.7971 - val_loss: 0.5688 - val_accuracy: 0.8378\n",
            "Epoch 62/100\n",
            "938/938 [==============================] - 12s 13ms/step - loss: 0.6791 - accuracy: 0.8019 - val_loss: 0.5605 - val_accuracy: 0.8424\n",
            "Epoch 63/100\n",
            "938/938 [==============================] - 12s 13ms/step - loss: 0.6723 - accuracy: 0.8029 - val_loss: 0.5597 - val_accuracy: 0.8437\n",
            "Epoch 64/100\n",
            "938/938 [==============================] - 12s 13ms/step - loss: 0.6727 - accuracy: 0.8054 - val_loss: 0.5533 - val_accuracy: 0.8448\n",
            "Epoch 65/100\n",
            "938/938 [==============================] - 12s 13ms/step - loss: 0.6624 - accuracy: 0.8051 - val_loss: 0.5528 - val_accuracy: 0.8446\n",
            "Epoch 66/100\n",
            "938/938 [==============================] - 12s 12ms/step - loss: 0.6718 - accuracy: 0.8044 - val_loss: 0.5535 - val_accuracy: 0.8436\n",
            "Epoch 67/100\n",
            "938/938 [==============================] - 12s 12ms/step - loss: 0.6581 - accuracy: 0.8045 - val_loss: 0.5485 - val_accuracy: 0.8477\n",
            "Epoch 68/100\n",
            "938/938 [==============================] - 12s 12ms/step - loss: 0.6641 - accuracy: 0.8046 - val_loss: 0.5493 - val_accuracy: 0.8474\n",
            "Epoch 69/100\n",
            "938/938 [==============================] - 12s 12ms/step - loss: 0.6497 - accuracy: 0.8122 - val_loss: 0.5406 - val_accuracy: 0.8490\n",
            "Epoch 70/100\n",
            "938/938 [==============================] - 12s 13ms/step - loss: 0.6450 - accuracy: 0.8104 - val_loss: 0.5374 - val_accuracy: 0.8482\n",
            "Epoch 71/100\n",
            "938/938 [==============================] - 12s 12ms/step - loss: 0.6495 - accuracy: 0.8105 - val_loss: 0.5366 - val_accuracy: 0.8497\n",
            "Epoch 72/100\n",
            "938/938 [==============================] - 12s 12ms/step - loss: 0.6362 - accuracy: 0.8155 - val_loss: 0.5357 - val_accuracy: 0.8525\n",
            "Epoch 73/100\n",
            "938/938 [==============================] - 12s 12ms/step - loss: 0.6374 - accuracy: 0.8130 - val_loss: 0.5313 - val_accuracy: 0.8521\n",
            "Epoch 74/100\n",
            "938/938 [==============================] - 11s 12ms/step - loss: 0.6282 - accuracy: 0.8188 - val_loss: 0.5294 - val_accuracy: 0.8528\n",
            "Epoch 75/100\n",
            "938/938 [==============================] - 11s 12ms/step - loss: 0.6347 - accuracy: 0.8164 - val_loss: 0.5254 - val_accuracy: 0.8550\n",
            "Epoch 76/100\n",
            "938/938 [==============================] - 11s 12ms/step - loss: 0.6321 - accuracy: 0.8153 - val_loss: 0.5241 - val_accuracy: 0.8536\n",
            "Epoch 77/100\n",
            "938/938 [==============================] - 11s 12ms/step - loss: 0.6166 - accuracy: 0.8223 - val_loss: 0.5218 - val_accuracy: 0.8525\n",
            "Epoch 78/100\n",
            "938/938 [==============================] - 11s 12ms/step - loss: 0.6220 - accuracy: 0.8177 - val_loss: 0.5236 - val_accuracy: 0.8534\n",
            "Epoch 79/100\n",
            "938/938 [==============================] - 11s 12ms/step - loss: 0.6201 - accuracy: 0.8188 - val_loss: 0.5151 - val_accuracy: 0.8572\n",
            "Epoch 80/100\n",
            "938/938 [==============================] - 11s 12ms/step - loss: 0.6254 - accuracy: 0.8182 - val_loss: 0.5144 - val_accuracy: 0.8569\n",
            "Epoch 81/100\n",
            "938/938 [==============================] - 11s 12ms/step - loss: 0.6151 - accuracy: 0.8218 - val_loss: 0.5143 - val_accuracy: 0.8572\n",
            "Epoch 82/100\n",
            "938/938 [==============================] - 11s 12ms/step - loss: 0.6106 - accuracy: 0.8243 - val_loss: 0.5134 - val_accuracy: 0.8582\n",
            "Epoch 83/100\n",
            "938/938 [==============================] - 11s 12ms/step - loss: 0.6008 - accuracy: 0.8240 - val_loss: 0.5110 - val_accuracy: 0.8572\n",
            "Epoch 84/100\n",
            "938/938 [==============================] - 11s 12ms/step - loss: 0.6039 - accuracy: 0.8224 - val_loss: 0.5054 - val_accuracy: 0.8611\n",
            "Epoch 85/100\n",
            "938/938 [==============================] - 11s 12ms/step - loss: 0.5986 - accuracy: 0.8264 - val_loss: 0.5024 - val_accuracy: 0.8623\n",
            "Epoch 86/100\n",
            "938/938 [==============================] - 11s 12ms/step - loss: 0.5978 - accuracy: 0.8269 - val_loss: 0.5081 - val_accuracy: 0.8579\n",
            "Epoch 87/100\n",
            "938/938 [==============================] - 11s 12ms/step - loss: 0.5981 - accuracy: 0.8260 - val_loss: 0.5021 - val_accuracy: 0.8608\n",
            "Epoch 88/100\n",
            "938/938 [==============================] - 12s 12ms/step - loss: 0.5922 - accuracy: 0.8287 - val_loss: 0.5047 - val_accuracy: 0.8588\n",
            "Epoch 89/100\n",
            "938/938 [==============================] - 11s 12ms/step - loss: 0.5900 - accuracy: 0.8290 - val_loss: 0.5001 - val_accuracy: 0.8612\n",
            "Epoch 90/100\n",
            "938/938 [==============================] - 11s 12ms/step - loss: 0.5896 - accuracy: 0.8269 - val_loss: 0.4965 - val_accuracy: 0.8617\n",
            "Epoch 91/100\n",
            "938/938 [==============================] - 11s 12ms/step - loss: 0.5999 - accuracy: 0.8257 - val_loss: 0.4969 - val_accuracy: 0.8633\n",
            "Epoch 92/100\n",
            "938/938 [==============================] - 11s 12ms/step - loss: 0.5827 - accuracy: 0.8316 - val_loss: 0.4944 - val_accuracy: 0.8622\n",
            "Epoch 93/100\n",
            "938/938 [==============================] - 11s 12ms/step - loss: 0.5911 - accuracy: 0.8306 - val_loss: 0.4887 - val_accuracy: 0.8650\n",
            "Epoch 94/100\n",
            "938/938 [==============================] - 11s 12ms/step - loss: 0.5710 - accuracy: 0.8329 - val_loss: 0.4870 - val_accuracy: 0.8666\n",
            "Epoch 95/100\n",
            "938/938 [==============================] - 11s 12ms/step - loss: 0.5881 - accuracy: 0.8293 - val_loss: 0.4886 - val_accuracy: 0.8653\n",
            "Epoch 96/100\n",
            "938/938 [==============================] - 11s 12ms/step - loss: 0.5816 - accuracy: 0.8309 - val_loss: 0.4856 - val_accuracy: 0.8681\n",
            "Epoch 97/100\n",
            "938/938 [==============================] - 11s 12ms/step - loss: 0.5729 - accuracy: 0.8329 - val_loss: 0.4865 - val_accuracy: 0.8648\n",
            "Epoch 98/100\n",
            "938/938 [==============================] - 11s 12ms/step - loss: 0.5624 - accuracy: 0.8371 - val_loss: 0.4812 - val_accuracy: 0.8682\n",
            "Epoch 99/100\n",
            "938/938 [==============================] - 11s 12ms/step - loss: 0.5653 - accuracy: 0.8347 - val_loss: 0.4812 - val_accuracy: 0.8679\n",
            "Epoch 100/100\n",
            "938/938 [==============================] - 11s 12ms/step - loss: 0.5664 - accuracy: 0.8338 - val_loss: 0.4796 - val_accuracy: 0.8669\n"
          ],
          "name": "stdout"
        }
      ]
    },
    {
      "cell_type": "code",
      "metadata": {
        "colab": {
          "base_uri": "https://localhost:8080/",
          "height": 532
        },
        "id": "gCpZvnB59X47",
        "outputId": "e12f8a8c-4fc0-4630-f5db-65efb617e31e"
      },
      "source": [
        "history_df = pd.DataFrame(history.history)\n",
        "history_df.loc[:, ['loss', 'val_loss']].plot();\n",
        "print(\"Minimum validation loss: {}\".format(history_df['val_loss'].min()))\n",
        "history_df = pd.DataFrame(history.history)\n",
        "history_df.loc[:, ['accuracy', 'val_accuracy']].plot();\n",
        "#print(\"Minimum validation loss: {}\".format(history_df['val_loss'].min()))"
      ],
      "execution_count": null,
      "outputs": [
        {
          "output_type": "stream",
          "text": [
            "Minimum validation loss: 0.47955936193466187\n"
          ],
          "name": "stdout"
        },
        {
          "output_type": "display_data",
          "data": {
            "image/png": "[encoded data removed]",
            "text/plain": [
              "<Figure size 432x288 with 1 Axes>"
            ]
          },
          "metadata": {
            "tags": [],
            "needs_background": "light"
          }
        },
        {
          "output_type": "display_data",
          "data": {
            "image/png": "[encoded data removed]",
            "text/plain": [
              "<Figure size 432x288 with 1 Axes>"
            ]
          },
          "metadata": {
            "tags": [],
            "needs_background": "light"
          }
        }
      ]
    },
    {
      "cell_type": "code",
      "metadata": {
        "colab": {
          "base_uri": "https://localhost:8080/"
        },
        "id": "OTiZDM67C8BT",
        "outputId": "b1aefdf8-f479-4474-8001-ef96ba092c3e"
      },
      "source": [
        "model.evaluate(X_test,y_test)\n",
        "model.evaluate(x_val,Y_val)\n",
        "\n",
        "model.evaluate(x_train , Y_train)"
      ],
      "execution_count": null,
      "outputs": [
        {
          "output_type": "stream",
          "text": [
            "563/563 [==============================] - 2s 3ms/step - loss: 0.4873 - accuracy: 0.8672\n",
            "375/375 [==============================] - 1s 2ms/step - loss: 0.4796 - accuracy: 0.8669\n",
            "938/938 [==============================] - 3s 3ms/step - loss: 0.4363 - accuracy: 0.8769\n"
          ],
          "name": "stdout"
        },
        {
          "output_type": "execute_result",
          "data": {
            "text/plain": [
              "[0.4362945258617401, 0.8769333362579346]"
            ]
          },
          "metadata": {
            "tags": []
          },
          "execution_count": 47
        }
      ]
    },
    {
      "cell_type": "markdown",
      "metadata": {
        "id": "ZlmI1oxZI-y4"
      },
      "source": [
        "# Model 1D Modified Model 1C with Increased Filters"
      ]
    },
    {
      "cell_type": "code",
      "metadata": {
        "id": "uByic8BsJF9V"
      },
      "source": [
        "datagen = ImageDataGenerator(rotation_range=8,\n",
        "                             zoom_range=[0.95, 1.05],\n",
        "                             height_shift_range=0.10,\n",
        "                             shear_range=0.15)"
      ],
      "execution_count": null,
      "outputs": []
    },
    {
      "cell_type": "code",
      "metadata": {
        "id": "kfjKdAX6JISL"
      },
      "source": [
        "input_layer=Input(shape=input_shape)\n",
        "conv_layer_1=Conv2D(16,kernel_size=(3,3),padding='same')(input_layer)\n",
        "batch_norm_1=BatchNormalization()(conv_layer_1)\n",
        "activation_layer_1=Activation('relu')(batch_norm_1)\n",
        "pool_layer_1=MaxPooling2D(pool_size=(2,2),strides=2)(activation_layer_1)\n",
        "conv_layer_2=Conv2D(32,kernel_size=(3,3),padding='same',activation='relu')(pool_layer_1)\n",
        "pool_layer_2=MaxPooling2D(pool_size=(2,2),strides=2)(conv_layer_2)\n",
        "conv_layer_3=Conv2D(64,kernel_size=(3,3),padding='same',activation='relu')(pool_layer_2)\n",
        "pool_layer_3=MaxPooling2D(pool_size=(2,2),strides=2)(conv_layer_3)\n",
        "flat_1=Flatten()(pool_layer_3)\n",
        "hidden_layer_1=Dense(1024,kernel_initializer='he_uniform',activation='relu')(flat_1)\n",
        "output=Dense(num_classes,kernel_initializer='he_uniform',activation='softmax')(hidden_layer_1)\n",
        "model=Model(inputs=input_layer,outputs=output)"
      ],
      "execution_count": null,
      "outputs": []
    },
    {
      "cell_type": "code",
      "metadata": {
        "colab": {
          "base_uri": "https://localhost:8080/"
        },
        "id": "Ji4kjCB2JXiG",
        "outputId": "ef9bb0ce-5da0-41a9-8bc0-a3c8dad52d11"
      },
      "source": [
        "model.summary()"
      ],
      "execution_count": null,
      "outputs": [
        {
          "output_type": "stream",
          "text": [
            "Model: \"model_1\"\n",
            "_________________________________________________________________\n",
            "Layer (type)                 Output Shape              Param #   \n",
            "=================================================================\n",
            "input_2 (InputLayer)         [(None, 32, 32, 1)]       0         \n",
            "_________________________________________________________________\n",
            "conv2d_3 (Conv2D)            (None, 32, 32, 16)        160       \n",
            "_________________________________________________________________\n",
            "batch_normalization_1 (Batch (None, 32, 32, 16)        64        \n",
            "_________________________________________________________________\n",
            "activation_1 (Activation)    (None, 32, 32, 16)        0         \n",
            "_________________________________________________________________\n",
            "max_pooling2d_3 (MaxPooling2 (None, 16, 16, 16)        0         \n",
            "_________________________________________________________________\n",
            "conv2d_4 (Conv2D)            (None, 16, 16, 32)        4640      \n",
            "_________________________________________________________________\n",
            "max_pooling2d_4 (MaxPooling2 (None, 8, 8, 32)          0         \n",
            "_________________________________________________________________\n",
            "conv2d_5 (Conv2D)            (None, 8, 8, 64)          18496     \n",
            "_________________________________________________________________\n",
            "max_pooling2d_5 (MaxPooling2 (None, 4, 4, 64)          0         \n",
            "_________________________________________________________________\n",
            "flatten_1 (Flatten)          (None, 1024)              0         \n",
            "_________________________________________________________________\n",
            "dense_2 (Dense)              (None, 1024)              1049600   \n",
            "_________________________________________________________________\n",
            "dense_3 (Dense)              (None, 10)                10250     \n",
            "=================================================================\n",
            "Total params: 1,083,210\n",
            "Trainable params: 1,083,178\n",
            "Non-trainable params: 32\n",
            "_________________________________________________________________\n"
          ],
          "name": "stdout"
        }
      ]
    },
    {
      "cell_type": "code",
      "metadata": {
        "colab": {
          "base_uri": "https://localhost:8080/"
        },
        "id": "ggz2aXh8Jbhz",
        "outputId": "1f873ec0-6627-454d-de3f-b2cb1194726e"
      },
      "source": [
        "optimizer=Adam(learning_rate=1e-5,amsgrad=True)\n",
        "#lr_schedule = LearningRateScheduler(lambda epoch: 1e-4 * 10**(epoch / 10))\n",
        "early_stopping = EarlyStopping(patience=8)\n",
        "model_checkpoint = ModelCheckpoint(\n",
        "                   '/content/drive/MyDrive/Projects/SVHN/Convolution_Checkpoints/best_cnn.h5', \n",
        "                   save_best_only=True)\n",
        "model.compile(loss=categorical_crossentropy,optimizer=optimizer,metrics=['accuracy'])\n",
        "#history=model.fit(x_train,Y_train,validation_data=(x_val,Y_val),epochs=100,batch_size=32,verbose=1)\n",
        "history = model.fit(datagen.flow(x_train, Y_train, batch_size=32),\n",
        "                              epochs=100, validation_data=(x_val, Y_val),\n",
        "                              callbacks=[early_stopping,model_checkpoint])"
      ],
      "execution_count": null,
      "outputs": [
        {
          "output_type": "stream",
          "text": [
            "Epoch 1/100\n",
            "938/938 [==============================] - 12s 12ms/step - loss: 2.3026 - accuracy: 0.1208 - val_loss: 2.2359 - val_accuracy: 0.2023\n",
            "Epoch 2/100\n",
            "938/938 [==============================] - 11s 12ms/step - loss: 2.2205 - accuracy: 0.2273 - val_loss: 2.1248 - val_accuracy: 0.3043\n",
            "Epoch 3/100\n",
            "938/938 [==============================] - 11s 12ms/step - loss: 2.0983 - accuracy: 0.3378 - val_loss: 1.9355 - val_accuracy: 0.4362\n",
            "Epoch 4/100\n",
            "938/938 [==============================] - 11s 12ms/step - loss: 1.9240 - accuracy: 0.4222 - val_loss: 1.7209 - val_accuracy: 0.5047\n",
            "Epoch 5/100\n",
            "938/938 [==============================] - 11s 12ms/step - loss: 1.7308 - accuracy: 0.5030 - val_loss: 1.5103 - val_accuracy: 0.5955\n",
            "Epoch 6/100\n",
            "938/938 [==============================] - 11s 12ms/step - loss: 1.5519 - accuracy: 0.5655 - val_loss: 1.3468 - val_accuracy: 0.6382\n",
            "Epoch 7/100\n",
            "938/938 [==============================] - 11s 12ms/step - loss: 1.4091 - accuracy: 0.6031 - val_loss: 1.2142 - val_accuracy: 0.6677\n",
            "Epoch 8/100\n",
            "938/938 [==============================] - 11s 12ms/step - loss: 1.2909 - accuracy: 0.6336 - val_loss: 1.1147 - val_accuracy: 0.7003\n",
            "Epoch 9/100\n",
            "938/938 [==============================] - 11s 12ms/step - loss: 1.2150 - accuracy: 0.6521 - val_loss: 1.0410 - val_accuracy: 0.7142\n",
            "Epoch 10/100\n",
            "938/938 [==============================] - 11s 12ms/step - loss: 1.1325 - accuracy: 0.6745 - val_loss: 0.9781 - val_accuracy: 0.7287\n",
            "Epoch 11/100\n",
            "938/938 [==============================] - 11s 12ms/step - loss: 1.0828 - accuracy: 0.6923 - val_loss: 0.9192 - val_accuracy: 0.7517\n",
            "Epoch 12/100\n",
            "938/938 [==============================] - 11s 12ms/step - loss: 1.0307 - accuracy: 0.7040 - val_loss: 0.8883 - val_accuracy: 0.7552\n",
            "Epoch 13/100\n",
            "938/938 [==============================] - 11s 12ms/step - loss: 0.9997 - accuracy: 0.7117 - val_loss: 0.8534 - val_accuracy: 0.7684\n",
            "Epoch 14/100\n",
            "938/938 [==============================] - 11s 12ms/step - loss: 0.9616 - accuracy: 0.7224 - val_loss: 0.8170 - val_accuracy: 0.7776\n",
            "Epoch 15/100\n",
            "938/938 [==============================] - 11s 12ms/step - loss: 0.9221 - accuracy: 0.7356 - val_loss: 0.7879 - val_accuracy: 0.7814\n",
            "Epoch 16/100\n",
            "938/938 [==============================] - 11s 12ms/step - loss: 0.9088 - accuracy: 0.7409 - val_loss: 0.7793 - val_accuracy: 0.7823\n",
            "Epoch 17/100\n",
            "938/938 [==============================] - 11s 11ms/step - loss: 0.8817 - accuracy: 0.7482 - val_loss: 0.7436 - val_accuracy: 0.7978\n",
            "Epoch 18/100\n",
            "938/938 [==============================] - 11s 12ms/step - loss: 0.8675 - accuracy: 0.7503 - val_loss: 0.7244 - val_accuracy: 0.8061\n",
            "Epoch 19/100\n",
            "938/938 [==============================] - 11s 12ms/step - loss: 0.8416 - accuracy: 0.7591 - val_loss: 0.7128 - val_accuracy: 0.8078\n",
            "Epoch 20/100\n",
            "938/938 [==============================] - 11s 12ms/step - loss: 0.8282 - accuracy: 0.7621 - val_loss: 0.6953 - val_accuracy: 0.8098\n",
            "Epoch 21/100\n",
            "938/938 [==============================] - 11s 12ms/step - loss: 0.8134 - accuracy: 0.7671 - val_loss: 0.6802 - val_accuracy: 0.8167\n",
            "Epoch 22/100\n",
            "938/938 [==============================] - 11s 12ms/step - loss: 0.7966 - accuracy: 0.7740 - val_loss: 0.6687 - val_accuracy: 0.8202\n",
            "Epoch 23/100\n",
            "938/938 [==============================] - 11s 12ms/step - loss: 0.7754 - accuracy: 0.7764 - val_loss: 0.6575 - val_accuracy: 0.8229\n",
            "Epoch 24/100\n",
            "938/938 [==============================] - 11s 12ms/step - loss: 0.7632 - accuracy: 0.7820 - val_loss: 0.6462 - val_accuracy: 0.8265\n",
            "Epoch 25/100\n",
            "938/938 [==============================] - 11s 12ms/step - loss: 0.7621 - accuracy: 0.7793 - val_loss: 0.6388 - val_accuracy: 0.8240\n",
            "Epoch 26/100\n",
            "938/938 [==============================] - 11s 12ms/step - loss: 0.7417 - accuracy: 0.7869 - val_loss: 0.6208 - val_accuracy: 0.8307\n",
            "Epoch 27/100\n",
            "938/938 [==============================] - 11s 12ms/step - loss: 0.7290 - accuracy: 0.7862 - val_loss: 0.6167 - val_accuracy: 0.8321\n",
            "Epoch 28/100\n",
            "938/938 [==============================] - 11s 12ms/step - loss: 0.7304 - accuracy: 0.7906 - val_loss: 0.6040 - val_accuracy: 0.8364\n",
            "Epoch 29/100\n",
            "938/938 [==============================] - 11s 12ms/step - loss: 0.7288 - accuracy: 0.7867 - val_loss: 0.5965 - val_accuracy: 0.8397\n",
            "Epoch 30/100\n",
            "938/938 [==============================] - 11s 12ms/step - loss: 0.7117 - accuracy: 0.7998 - val_loss: 0.5899 - val_accuracy: 0.8431\n",
            "Epoch 31/100\n",
            "938/938 [==============================] - 11s 12ms/step - loss: 0.6913 - accuracy: 0.8034 - val_loss: 0.5919 - val_accuracy: 0.8372\n",
            "Epoch 32/100\n",
            "938/938 [==============================] - 11s 12ms/step - loss: 0.7045 - accuracy: 0.7929 - val_loss: 0.5817 - val_accuracy: 0.8421\n",
            "Epoch 33/100\n",
            "938/938 [==============================] - 11s 12ms/step - loss: 0.6779 - accuracy: 0.8038 - val_loss: 0.5721 - val_accuracy: 0.8447\n",
            "Epoch 34/100\n",
            "938/938 [==============================] - 11s 12ms/step - loss: 0.6835 - accuracy: 0.8038 - val_loss: 0.5655 - val_accuracy: 0.8498\n",
            "Epoch 35/100\n",
            "938/938 [==============================] - 11s 12ms/step - loss: 0.6691 - accuracy: 0.8113 - val_loss: 0.5607 - val_accuracy: 0.8503\n",
            "Epoch 36/100\n",
            "938/938 [==============================] - 11s 12ms/step - loss: 0.6581 - accuracy: 0.8104 - val_loss: 0.5628 - val_accuracy: 0.8446\n",
            "Epoch 37/100\n",
            "938/938 [==============================] - 11s 12ms/step - loss: 0.6571 - accuracy: 0.8130 - val_loss: 0.5542 - val_accuracy: 0.8507\n",
            "Epoch 38/100\n",
            "938/938 [==============================] - 11s 12ms/step - loss: 0.6438 - accuracy: 0.8134 - val_loss: 0.5489 - val_accuracy: 0.8508\n",
            "Epoch 39/100\n",
            "938/938 [==============================] - 11s 12ms/step - loss: 0.6454 - accuracy: 0.8153 - val_loss: 0.5437 - val_accuracy: 0.8515\n",
            "Epoch 40/100\n",
            "938/938 [==============================] - 11s 12ms/step - loss: 0.6416 - accuracy: 0.8175 - val_loss: 0.5376 - val_accuracy: 0.8527\n",
            "Epoch 41/100\n",
            "938/938 [==============================] - 11s 12ms/step - loss: 0.6329 - accuracy: 0.8209 - val_loss: 0.5326 - val_accuracy: 0.8576\n",
            "Epoch 42/100\n",
            "938/938 [==============================] - 11s 12ms/step - loss: 0.6303 - accuracy: 0.8204 - val_loss: 0.5322 - val_accuracy: 0.8548\n",
            "Epoch 43/100\n",
            "938/938 [==============================] - 11s 12ms/step - loss: 0.6328 - accuracy: 0.8209 - val_loss: 0.5234 - val_accuracy: 0.8607\n",
            "Epoch 44/100\n",
            "938/938 [==============================] - 11s 12ms/step - loss: 0.6179 - accuracy: 0.8245 - val_loss: 0.5229 - val_accuracy: 0.8587\n",
            "Epoch 45/100\n",
            "938/938 [==============================] - 11s 12ms/step - loss: 0.6246 - accuracy: 0.8190 - val_loss: 0.5178 - val_accuracy: 0.8602\n",
            "Epoch 46/100\n",
            "938/938 [==============================] - 11s 12ms/step - loss: 0.6145 - accuracy: 0.8253 - val_loss: 0.5180 - val_accuracy: 0.8570\n",
            "Epoch 47/100\n",
            "938/938 [==============================] - 11s 12ms/step - loss: 0.5994 - accuracy: 0.8276 - val_loss: 0.5206 - val_accuracy: 0.8559\n",
            "Epoch 48/100\n",
            "938/938 [==============================] - 11s 12ms/step - loss: 0.6076 - accuracy: 0.8283 - val_loss: 0.5159 - val_accuracy: 0.8609\n",
            "Epoch 49/100\n",
            "938/938 [==============================] - 11s 12ms/step - loss: 0.5986 - accuracy: 0.8294 - val_loss: 0.5048 - val_accuracy: 0.8620\n",
            "Epoch 50/100\n",
            "938/938 [==============================] - 11s 12ms/step - loss: 0.5858 - accuracy: 0.8312 - val_loss: 0.5126 - val_accuracy: 0.8618\n",
            "Epoch 51/100\n",
            "938/938 [==============================] - 11s 12ms/step - loss: 0.5853 - accuracy: 0.8360 - val_loss: 0.5033 - val_accuracy: 0.8620\n",
            "Epoch 52/100\n",
            "938/938 [==============================] - 11s 12ms/step - loss: 0.5781 - accuracy: 0.8336 - val_loss: 0.4971 - val_accuracy: 0.8642\n",
            "Epoch 53/100\n",
            "938/938 [==============================] - 11s 12ms/step - loss: 0.5746 - accuracy: 0.8367 - val_loss: 0.4964 - val_accuracy: 0.8651\n",
            "Epoch 54/100\n",
            "938/938 [==============================] - 11s 12ms/step - loss: 0.5679 - accuracy: 0.8371 - val_loss: 0.4913 - val_accuracy: 0.8659\n",
            "Epoch 55/100\n",
            "938/938 [==============================] - 11s 12ms/step - loss: 0.5615 - accuracy: 0.8406 - val_loss: 0.4925 - val_accuracy: 0.8670\n",
            "Epoch 56/100\n",
            "938/938 [==============================] - 11s 12ms/step - loss: 0.5605 - accuracy: 0.8425 - val_loss: 0.4883 - val_accuracy: 0.8683\n",
            "Epoch 57/100\n",
            "938/938 [==============================] - 11s 12ms/step - loss: 0.5717 - accuracy: 0.8350 - val_loss: 0.4804 - val_accuracy: 0.8717\n",
            "Epoch 58/100\n",
            "938/938 [==============================] - 11s 12ms/step - loss: 0.5664 - accuracy: 0.8374 - val_loss: 0.4842 - val_accuracy: 0.8683\n",
            "Epoch 59/100\n",
            "938/938 [==============================] - 11s 12ms/step - loss: 0.5538 - accuracy: 0.8400 - val_loss: 0.4807 - val_accuracy: 0.8678\n",
            "Epoch 60/100\n",
            "938/938 [==============================] - 11s 12ms/step - loss: 0.5633 - accuracy: 0.8399 - val_loss: 0.4896 - val_accuracy: 0.8634\n",
            "Epoch 61/100\n",
            "938/938 [==============================] - 11s 12ms/step - loss: 0.5559 - accuracy: 0.8389 - val_loss: 0.4807 - val_accuracy: 0.8671\n",
            "Epoch 62/100\n",
            "938/938 [==============================] - 11s 12ms/step - loss: 0.5346 - accuracy: 0.8486 - val_loss: 0.4833 - val_accuracy: 0.8643\n",
            "Epoch 63/100\n",
            "938/938 [==============================] - 11s 12ms/step - loss: 0.5299 - accuracy: 0.8487 - val_loss: 0.4755 - val_accuracy: 0.8673\n",
            "Epoch 64/100\n",
            "938/938 [==============================] - 11s 12ms/step - loss: 0.5386 - accuracy: 0.8484 - val_loss: 0.4738 - val_accuracy: 0.8680\n",
            "Epoch 65/100\n",
            "938/938 [==============================] - 11s 12ms/step - loss: 0.5244 - accuracy: 0.8478 - val_loss: 0.4638 - val_accuracy: 0.8733\n",
            "Epoch 66/100\n",
            "938/938 [==============================] - 11s 12ms/step - loss: 0.5318 - accuracy: 0.8449 - val_loss: 0.4631 - val_accuracy: 0.8736\n",
            "Epoch 67/100\n",
            "938/938 [==============================] - 11s 12ms/step - loss: 0.5385 - accuracy: 0.8437 - val_loss: 0.4605 - val_accuracy: 0.8742\n",
            "Epoch 68/100\n",
            "938/938 [==============================] - 11s 12ms/step - loss: 0.5350 - accuracy: 0.8428 - val_loss: 0.4584 - val_accuracy: 0.8747\n",
            "Epoch 69/100\n",
            "938/938 [==============================] - 11s 12ms/step - loss: 0.5171 - accuracy: 0.8546 - val_loss: 0.4593 - val_accuracy: 0.8742\n",
            "Epoch 70/100\n",
            "938/938 [==============================] - 11s 12ms/step - loss: 0.5173 - accuracy: 0.8533 - val_loss: 0.4654 - val_accuracy: 0.8719\n",
            "Epoch 71/100\n",
            "938/938 [==============================] - 11s 12ms/step - loss: 0.5259 - accuracy: 0.8472 - val_loss: 0.4649 - val_accuracy: 0.8708\n",
            "Epoch 72/100\n",
            "938/938 [==============================] - 11s 12ms/step - loss: 0.5173 - accuracy: 0.8531 - val_loss: 0.4505 - val_accuracy: 0.8769\n",
            "Epoch 73/100\n",
            "938/938 [==============================] - 11s 12ms/step - loss: 0.5120 - accuracy: 0.8526 - val_loss: 0.4512 - val_accuracy: 0.8765\n",
            "Epoch 74/100\n",
            "938/938 [==============================] - 11s 12ms/step - loss: 0.5150 - accuracy: 0.8552 - val_loss: 0.4512 - val_accuracy: 0.8753\n",
            "Epoch 75/100\n",
            "938/938 [==============================] - 11s 12ms/step - loss: 0.5083 - accuracy: 0.8523 - val_loss: 0.4461 - val_accuracy: 0.8763\n",
            "Epoch 76/100\n",
            "938/938 [==============================] - 11s 12ms/step - loss: 0.5118 - accuracy: 0.8535 - val_loss: 0.4488 - val_accuracy: 0.8757\n",
            "Epoch 77/100\n",
            "938/938 [==============================] - 11s 12ms/step - loss: 0.5095 - accuracy: 0.8551 - val_loss: 0.4478 - val_accuracy: 0.8748\n",
            "Epoch 78/100\n",
            "938/938 [==============================] - 11s 12ms/step - loss: 0.5039 - accuracy: 0.8589 - val_loss: 0.4439 - val_accuracy: 0.8774\n",
            "Epoch 79/100\n",
            "938/938 [==============================] - 11s 12ms/step - loss: 0.4963 - accuracy: 0.8552 - val_loss: 0.4404 - val_accuracy: 0.8782\n",
            "Epoch 80/100\n",
            "938/938 [==============================] - 11s 12ms/step - loss: 0.4975 - accuracy: 0.8549 - val_loss: 0.4446 - val_accuracy: 0.8787\n",
            "Epoch 81/100\n",
            "938/938 [==============================] - 11s 12ms/step - loss: 0.4936 - accuracy: 0.8569 - val_loss: 0.4358 - val_accuracy: 0.8798\n",
            "Epoch 82/100\n",
            "938/938 [==============================] - 11s 12ms/step - loss: 0.4936 - accuracy: 0.8583 - val_loss: 0.4360 - val_accuracy: 0.8810\n",
            "Epoch 83/100\n",
            "938/938 [==============================] - 11s 12ms/step - loss: 0.4753 - accuracy: 0.8640 - val_loss: 0.4323 - val_accuracy: 0.8811\n",
            "Epoch 84/100\n",
            "938/938 [==============================] - 11s 12ms/step - loss: 0.4733 - accuracy: 0.8624 - val_loss: 0.4355 - val_accuracy: 0.8793\n",
            "Epoch 85/100\n",
            "938/938 [==============================] - 11s 12ms/step - loss: 0.4823 - accuracy: 0.8626 - val_loss: 0.4322 - val_accuracy: 0.8811\n",
            "Epoch 86/100\n",
            "938/938 [==============================] - 11s 12ms/step - loss: 0.4782 - accuracy: 0.8666 - val_loss: 0.4329 - val_accuracy: 0.8798\n",
            "Epoch 87/100\n",
            "938/938 [==============================] - 11s 12ms/step - loss: 0.4620 - accuracy: 0.8666 - val_loss: 0.4276 - val_accuracy: 0.8823\n",
            "Epoch 88/100\n",
            "938/938 [==============================] - 11s 12ms/step - loss: 0.4728 - accuracy: 0.8623 - val_loss: 0.4258 - val_accuracy: 0.8834\n",
            "Epoch 89/100\n",
            "938/938 [==============================] - 11s 12ms/step - loss: 0.4684 - accuracy: 0.8653 - val_loss: 0.4220 - val_accuracy: 0.8838\n",
            "Epoch 90/100\n",
            "938/938 [==============================] - 11s 12ms/step - loss: 0.4647 - accuracy: 0.8659 - val_loss: 0.4225 - val_accuracy: 0.8852\n",
            "Epoch 91/100\n",
            "938/938 [==============================] - 11s 12ms/step - loss: 0.4568 - accuracy: 0.8686 - val_loss: 0.4277 - val_accuracy: 0.8820\n",
            "Epoch 92/100\n",
            "938/938 [==============================] - 11s 12ms/step - loss: 0.4487 - accuracy: 0.8718 - val_loss: 0.4250 - val_accuracy: 0.8848\n",
            "Epoch 93/100\n",
            "938/938 [==============================] - 11s 12ms/step - loss: 0.4586 - accuracy: 0.8633 - val_loss: 0.4205 - val_accuracy: 0.8850\n",
            "Epoch 94/100\n",
            "938/938 [==============================] - 11s 12ms/step - loss: 0.4603 - accuracy: 0.8696 - val_loss: 0.4190 - val_accuracy: 0.8852\n",
            "Epoch 95/100\n",
            "938/938 [==============================] - 11s 12ms/step - loss: 0.4508 - accuracy: 0.8724 - val_loss: 0.4219 - val_accuracy: 0.8821\n",
            "Epoch 96/100\n",
            "938/938 [==============================] - 11s 12ms/step - loss: 0.4534 - accuracy: 0.8698 - val_loss: 0.4159 - val_accuracy: 0.8856\n",
            "Epoch 97/100\n",
            "938/938 [==============================] - 11s 12ms/step - loss: 0.4431 - accuracy: 0.8724 - val_loss: 0.4186 - val_accuracy: 0.8842\n",
            "Epoch 98/100\n",
            "938/938 [==============================] - 11s 12ms/step - loss: 0.4514 - accuracy: 0.8712 - val_loss: 0.4144 - val_accuracy: 0.8867\n",
            "Epoch 99/100\n",
            "938/938 [==============================] - 11s 12ms/step - loss: 0.4402 - accuracy: 0.8735 - val_loss: 0.4119 - val_accuracy: 0.8867\n",
            "Epoch 100/100\n",
            "938/938 [==============================] - 11s 12ms/step - loss: 0.4447 - accuracy: 0.8713 - val_loss: 0.4085 - val_accuracy: 0.8873\n"
          ],
          "name": "stdout"
        }
      ]
    },
    {
      "cell_type": "code",
      "metadata": {
        "colab": {
          "base_uri": "https://localhost:8080/",
          "height": 528
        },
        "id": "SO1FoSsqKACF",
        "outputId": "986bbc42-740e-4170-b069-ef66ba604df9"
      },
      "source": [
        "history_df = pd.DataFrame(history.history)\n",
        "history_df.loc[:, ['loss', 'val_loss']].plot();\n",
        "print(\"Minimum validation loss: {}\".format(history_df['val_loss'].min()))\n",
        "history_df = pd.DataFrame(history.history)\n",
        "history_df.loc[:, ['accuracy', 'val_accuracy']].plot();\n",
        "#print(\"Minimum validation loss: {}\".format(history_df['val_loss'].min()))"
      ],
      "execution_count": null,
      "outputs": [
        {
          "output_type": "stream",
          "text": [
            "Minimum validation loss: 0.40849819779396057\n"
          ],
          "name": "stdout"
        },
        {
          "output_type": "display_data",
          "data": {
            "image/png": "[encoded data removed]",
            "text/plain": [
              "<Figure size 432x288 with 1 Axes>"
            ]
          },
          "metadata": {
            "tags": [],
            "needs_background": "light"
          }
        },
        {
          "output_type": "display_data",
          "data": {
            "image/png": "[encoded data removed]",
            "text/plain": [
              "<Figure size 432x288 with 1 Axes>"
            ]
          },
          "metadata": {
            "tags": [],
            "needs_background": "light"
          }
        }
      ]
    },
    {
      "cell_type": "code",
      "metadata": {
        "colab": {
          "base_uri": "https://localhost:8080/"
        },
        "id": "EbEWjQSDPTwW",
        "outputId": "b1b76d82-6615-45c2-85c1-9f203f857347"
      },
      "source": [
        "model.evaluate(X_test,y_test)\n",
        "model.evaluate(x_val,Y_val)\n",
        "\n",
        "model.evaluate(x_train , Y_train)"
      ],
      "execution_count": null,
      "outputs": [
        {
          "output_type": "stream",
          "text": [
            "563/563 [==============================] - 2s 3ms/step - loss: 0.4167 - accuracy: 0.8871\n",
            "375/375 [==============================] - 1s 2ms/step - loss: 0.4085 - accuracy: 0.8873\n",
            "938/938 [==============================] - 3s 3ms/step - loss: 0.3294 - accuracy: 0.9097\n"
          ],
          "name": "stdout"
        },
        {
          "output_type": "execute_result",
          "data": {
            "text/plain": [
              "[0.3294128477573395, 0.9096666574478149]"
            ]
          },
          "metadata": {
            "tags": []
          },
          "execution_count": 53
        }
      ]
    },
    {
      "cell_type": "markdown",
      "metadata": {
        "id": "2Asq8RycP_Tb"
      },
      "source": [
        "# Model 1E Modified Model 1D by Increasing Hidden Layer and Reduced no of Neurons"
      ]
    },
    {
      "cell_type": "code",
      "metadata": {
        "id": "ccvLptQ_PX2Z"
      },
      "source": [
        "datagen = ImageDataGenerator(rotation_range=8,\n",
        "                             zoom_range=[0.95, 1.05],\n",
        "                             height_shift_range=0.10,\n",
        "                             shear_range=0.15)"
      ],
      "execution_count": null,
      "outputs": []
    },
    {
      "cell_type": "code",
      "metadata": {
        "id": "5FtE2LuxQGn7"
      },
      "source": [
        "input_layer=Input(shape=input_shape)\n",
        "conv_layer_1=Conv2D(16,kernel_size=(3,3),padding='same')(input_layer)\n",
        "batch_norm_1=BatchNormalization()(conv_layer_1)\n",
        "activation_layer_1=Activation('relu')(batch_norm_1)\n",
        "pool_layer_1=MaxPooling2D(pool_size=(2,2),strides=2)(activation_layer_1)\n",
        "conv_layer_2=Conv2D(32,kernel_size=(3,3),padding='same',activation='relu')(pool_layer_1)\n",
        "pool_layer_2=MaxPooling2D(pool_size=(2,2),strides=2)(conv_layer_2)\n",
        "conv_layer_3=Conv2D(64,kernel_size=(3,3),padding='same',activation='relu')(pool_layer_2)\n",
        "pool_layer_3=MaxPooling2D(pool_size=(2,2),strides=2)(conv_layer_3)\n",
        "flat_1=Flatten()(pool_layer_3)\n",
        "hidden_layer_1=Dense(120,kernel_initializer='he_uniform',activation='relu')(flat_1)\n",
        "hidden_layer_2=Dense(84,kernel_initializer='he_uniform',activation='relu')(hidden_layer_1)\n",
        "output=Dense(num_classes,kernel_initializer='he_uniform',activation='softmax')(hidden_layer_2)\n",
        "model=Model(inputs=input_layer,outputs=output)"
      ],
      "execution_count": null,
      "outputs": []
    },
    {
      "cell_type": "code",
      "metadata": {
        "colab": {
          "base_uri": "https://localhost:8080/"
        },
        "id": "laaZvkHOVHGh",
        "outputId": "b3c6e6af-08d4-43ef-e8b1-890d53473a05"
      },
      "source": [
        "model.summary()"
      ],
      "execution_count": null,
      "outputs": [
        {
          "output_type": "stream",
          "text": [
            "Model: \"model_2\"\n",
            "_________________________________________________________________\n",
            "Layer (type)                 Output Shape              Param #   \n",
            "=================================================================\n",
            "input_3 (InputLayer)         [(None, 32, 32, 1)]       0         \n",
            "_________________________________________________________________\n",
            "conv2d_6 (Conv2D)            (None, 32, 32, 16)        160       \n",
            "_________________________________________________________________\n",
            "batch_normalization_2 (Batch (None, 32, 32, 16)        64        \n",
            "_________________________________________________________________\n",
            "activation_2 (Activation)    (None, 32, 32, 16)        0         \n",
            "_________________________________________________________________\n",
            "max_pooling2d_6 (MaxPooling2 (None, 16, 16, 16)        0         \n",
            "_________________________________________________________________\n",
            "conv2d_7 (Conv2D)            (None, 16, 16, 32)        4640      \n",
            "_________________________________________________________________\n",
            "max_pooling2d_7 (MaxPooling2 (None, 8, 8, 32)          0         \n",
            "_________________________________________________________________\n",
            "conv2d_8 (Conv2D)            (None, 8, 8, 64)          18496     \n",
            "_________________________________________________________________\n",
            "max_pooling2d_8 (MaxPooling2 (None, 4, 4, 64)          0         \n",
            "_________________________________________________________________\n",
            "flatten_2 (Flatten)          (None, 1024)              0         \n",
            "_________________________________________________________________\n",
            "dense_4 (Dense)              (None, 120)               123000    \n",
            "_________________________________________________________________\n",
            "dense_5 (Dense)              (None, 84)                10164     \n",
            "_________________________________________________________________\n",
            "dense_6 (Dense)              (None, 10)                850       \n",
            "=================================================================\n",
            "Total params: 157,374\n",
            "Trainable params: 157,342\n",
            "Non-trainable params: 32\n",
            "_________________________________________________________________\n"
          ],
          "name": "stdout"
        }
      ]
    },
    {
      "cell_type": "code",
      "metadata": {
        "colab": {
          "base_uri": "https://localhost:8080/"
        },
        "id": "O0SyUbqFQeg6",
        "outputId": "beb05325-044e-4711-d7b1-2598c8138880"
      },
      "source": [
        "optimizer=Adam(learning_rate=1e-5,amsgrad=True)\n",
        "#lr_schedule = LearningRateScheduler(lambda epoch: 1e-4 * 10**(epoch / 10))\n",
        "early_stopping = EarlyStopping(patience=8)\n",
        "model_checkpoint = ModelCheckpoint(\n",
        "                   '/content/drive/MyDrive/Projects/SVHN/Convolution_Checkpoints/best_cnn.h5', \n",
        "                   save_best_only=True)\n",
        "model.compile(loss=categorical_crossentropy,optimizer=optimizer,metrics=['accuracy'])\n",
        "#history=model.fit(x_train,Y_train,validation_data=(x_val,Y_val),epochs=100,batch_size=32,verbose=1)\n",
        "history = model.fit(datagen.flow(x_train, Y_train, batch_size=32),\n",
        "                              epochs=100, validation_data=(x_val, Y_val),\n",
        "                              callbacks=[early_stopping,model_checkpoint])"
      ],
      "execution_count": null,
      "outputs": [
        {
          "output_type": "stream",
          "text": [
            "Epoch 1/100\n",
            "938/938 [==============================] - 11s 12ms/step - loss: 2.3357 - accuracy: 0.1062 - val_loss: 2.2805 - val_accuracy: 0.1402\n",
            "Epoch 2/100\n",
            "938/938 [==============================] - 11s 11ms/step - loss: 2.2775 - accuracy: 0.1516 - val_loss: 2.2459 - val_accuracy: 0.1900\n",
            "Epoch 3/100\n",
            "938/938 [==============================] - 11s 11ms/step - loss: 2.2390 - accuracy: 0.1996 - val_loss: 2.1885 - val_accuracy: 0.2513\n",
            "Epoch 4/100\n",
            "938/938 [==============================] - 11s 12ms/step - loss: 2.1823 - accuracy: 0.2579 - val_loss: 2.0899 - val_accuracy: 0.3281\n",
            "Epoch 5/100\n",
            "938/938 [==============================] - 11s 12ms/step - loss: 2.0860 - accuracy: 0.3279 - val_loss: 1.9470 - val_accuracy: 0.3930\n",
            "Epoch 6/100\n",
            "938/938 [==============================] - 11s 11ms/step - loss: 1.9405 - accuracy: 0.4011 - val_loss: 1.7724 - val_accuracy: 0.4721\n",
            "Epoch 7/100\n",
            "938/938 [==============================] - 11s 11ms/step - loss: 1.7797 - accuracy: 0.4720 - val_loss: 1.5987 - val_accuracy: 0.5460\n",
            "Epoch 8/100\n",
            "938/938 [==============================] - 11s 12ms/step - loss: 1.6374 - accuracy: 0.5175 - val_loss: 1.4411 - val_accuracy: 0.5938\n",
            "Epoch 9/100\n",
            "938/938 [==============================] - 11s 11ms/step - loss: 1.5075 - accuracy: 0.5555 - val_loss: 1.3135 - val_accuracy: 0.6272\n",
            "Epoch 10/100\n",
            "938/938 [==============================] - 11s 12ms/step - loss: 1.3957 - accuracy: 0.5852 - val_loss: 1.2162 - val_accuracy: 0.6561\n",
            "Epoch 11/100\n",
            "938/938 [==============================] - 11s 11ms/step - loss: 1.2936 - accuracy: 0.6149 - val_loss: 1.1282 - val_accuracy: 0.6774\n",
            "Epoch 12/100\n",
            "938/938 [==============================] - 11s 12ms/step - loss: 1.2201 - accuracy: 0.6400 - val_loss: 1.0595 - val_accuracy: 0.6974\n",
            "Epoch 13/100\n",
            "938/938 [==============================] - 11s 12ms/step - loss: 1.1589 - accuracy: 0.6494 - val_loss: 1.0055 - val_accuracy: 0.7082\n",
            "Epoch 14/100\n",
            "938/938 [==============================] - 11s 12ms/step - loss: 1.1069 - accuracy: 0.6676 - val_loss: 0.9656 - val_accuracy: 0.7174\n",
            "Epoch 15/100\n",
            "938/938 [==============================] - 11s 12ms/step - loss: 1.0630 - accuracy: 0.6794 - val_loss: 0.9214 - val_accuracy: 0.7327\n",
            "Epoch 16/100\n",
            "938/938 [==============================] - 11s 11ms/step - loss: 1.0255 - accuracy: 0.6939 - val_loss: 0.8838 - val_accuracy: 0.7456\n",
            "Epoch 17/100\n",
            "938/938 [==============================] - 11s 11ms/step - loss: 0.9965 - accuracy: 0.7029 - val_loss: 0.8551 - val_accuracy: 0.7523\n",
            "Epoch 18/100\n",
            "938/938 [==============================] - 11s 11ms/step - loss: 0.9833 - accuracy: 0.7033 - val_loss: 0.8256 - val_accuracy: 0.7620\n",
            "Epoch 19/100\n",
            "938/938 [==============================] - 11s 12ms/step - loss: 0.9517 - accuracy: 0.7146 - val_loss: 0.8024 - val_accuracy: 0.7696\n",
            "Epoch 20/100\n",
            "938/938 [==============================] - 11s 11ms/step - loss: 0.9163 - accuracy: 0.7238 - val_loss: 0.7813 - val_accuracy: 0.7771\n",
            "Epoch 21/100\n",
            "938/938 [==============================] - 11s 12ms/step - loss: 0.8966 - accuracy: 0.7334 - val_loss: 0.7570 - val_accuracy: 0.7825\n",
            "Epoch 22/100\n",
            "938/938 [==============================] - 11s 12ms/step - loss: 0.8871 - accuracy: 0.7341 - val_loss: 0.7413 - val_accuracy: 0.7889\n",
            "Epoch 23/100\n",
            "938/938 [==============================] - 11s 11ms/step - loss: 0.8681 - accuracy: 0.7413 - val_loss: 0.7315 - val_accuracy: 0.7876\n",
            "Epoch 24/100\n",
            "938/938 [==============================] - 11s 12ms/step - loss: 0.8494 - accuracy: 0.7475 - val_loss: 0.7180 - val_accuracy: 0.7946\n",
            "Epoch 25/100\n",
            "938/938 [==============================] - 11s 11ms/step - loss: 0.8441 - accuracy: 0.7505 - val_loss: 0.7000 - val_accuracy: 0.7978\n",
            "Epoch 26/100\n",
            "938/938 [==============================] - 11s 12ms/step - loss: 0.8228 - accuracy: 0.7555 - val_loss: 0.6876 - val_accuracy: 0.8044\n",
            "Epoch 27/100\n",
            "938/938 [==============================] - 11s 12ms/step - loss: 0.8029 - accuracy: 0.7609 - val_loss: 0.6835 - val_accuracy: 0.8054\n",
            "Epoch 28/100\n",
            "938/938 [==============================] - 11s 11ms/step - loss: 0.7934 - accuracy: 0.7678 - val_loss: 0.6613 - val_accuracy: 0.8131\n",
            "Epoch 29/100\n",
            "938/938 [==============================] - 11s 11ms/step - loss: 0.7847 - accuracy: 0.7674 - val_loss: 0.6528 - val_accuracy: 0.8136\n",
            "Epoch 30/100\n",
            "938/938 [==============================] - 11s 12ms/step - loss: 0.7671 - accuracy: 0.7749 - val_loss: 0.6432 - val_accuracy: 0.8165\n",
            "Epoch 31/100\n",
            "938/938 [==============================] - 11s 12ms/step - loss: 0.7706 - accuracy: 0.7721 - val_loss: 0.6361 - val_accuracy: 0.8201\n",
            "Epoch 32/100\n",
            "938/938 [==============================] - 11s 12ms/step - loss: 0.7485 - accuracy: 0.7753 - val_loss: 0.6252 - val_accuracy: 0.8257\n",
            "Epoch 33/100\n",
            "938/938 [==============================] - 11s 12ms/step - loss: 0.7436 - accuracy: 0.7798 - val_loss: 0.6351 - val_accuracy: 0.8148\n",
            "Epoch 34/100\n",
            "938/938 [==============================] - 11s 12ms/step - loss: 0.7461 - accuracy: 0.7809 - val_loss: 0.6137 - val_accuracy: 0.8266\n",
            "Epoch 35/100\n",
            "938/938 [==============================] - 11s 12ms/step - loss: 0.7297 - accuracy: 0.7856 - val_loss: 0.6066 - val_accuracy: 0.8273\n",
            "Epoch 36/100\n",
            "938/938 [==============================] - 11s 11ms/step - loss: 0.7256 - accuracy: 0.7856 - val_loss: 0.5974 - val_accuracy: 0.8367\n",
            "Epoch 37/100\n",
            "938/938 [==============================] - 11s 12ms/step - loss: 0.7173 - accuracy: 0.7920 - val_loss: 0.5921 - val_accuracy: 0.8370\n",
            "Epoch 38/100\n",
            "938/938 [==============================] - 11s 12ms/step - loss: 0.6959 - accuracy: 0.7954 - val_loss: 0.5884 - val_accuracy: 0.8340\n",
            "Epoch 39/100\n",
            "938/938 [==============================] - 11s 11ms/step - loss: 0.7052 - accuracy: 0.7936 - val_loss: 0.5827 - val_accuracy: 0.8375\n",
            "Epoch 40/100\n",
            "938/938 [==============================] - 11s 11ms/step - loss: 0.7097 - accuracy: 0.7919 - val_loss: 0.5779 - val_accuracy: 0.8385\n",
            "Epoch 41/100\n",
            "938/938 [==============================] - 11s 12ms/step - loss: 0.6866 - accuracy: 0.7988 - val_loss: 0.5767 - val_accuracy: 0.8369\n",
            "Epoch 42/100\n",
            "938/938 [==============================] - 11s 11ms/step - loss: 0.6959 - accuracy: 0.7967 - val_loss: 0.5697 - val_accuracy: 0.8401\n",
            "Epoch 43/100\n",
            "938/938 [==============================] - 11s 12ms/step - loss: 0.6852 - accuracy: 0.8019 - val_loss: 0.5685 - val_accuracy: 0.8363\n",
            "Epoch 44/100\n",
            "938/938 [==============================] - 11s 11ms/step - loss: 0.6695 - accuracy: 0.8044 - val_loss: 0.5624 - val_accuracy: 0.8414\n",
            "Epoch 45/100\n",
            "938/938 [==============================] - 11s 11ms/step - loss: 0.6794 - accuracy: 0.8000 - val_loss: 0.5527 - val_accuracy: 0.8456\n",
            "Epoch 46/100\n",
            "938/938 [==============================] - 11s 12ms/step - loss: 0.6847 - accuracy: 0.7983 - val_loss: 0.5561 - val_accuracy: 0.8446\n",
            "Epoch 47/100\n",
            "938/938 [==============================] - 11s 12ms/step - loss: 0.6654 - accuracy: 0.8050 - val_loss: 0.5533 - val_accuracy: 0.8422\n",
            "Epoch 48/100\n",
            "938/938 [==============================] - 11s 12ms/step - loss: 0.6512 - accuracy: 0.8086 - val_loss: 0.5437 - val_accuracy: 0.8457\n",
            "Epoch 49/100\n",
            "938/938 [==============================] - 11s 12ms/step - loss: 0.6626 - accuracy: 0.8057 - val_loss: 0.5367 - val_accuracy: 0.8497\n",
            "Epoch 50/100\n",
            "938/938 [==============================] - 11s 12ms/step - loss: 0.6386 - accuracy: 0.8135 - val_loss: 0.5356 - val_accuracy: 0.8498\n",
            "Epoch 51/100\n",
            "938/938 [==============================] - 11s 12ms/step - loss: 0.6465 - accuracy: 0.8127 - val_loss: 0.5271 - val_accuracy: 0.8508\n",
            "Epoch 52/100\n",
            "938/938 [==============================] - 11s 12ms/step - loss: 0.6253 - accuracy: 0.8158 - val_loss: 0.5299 - val_accuracy: 0.8497\n",
            "Epoch 53/100\n",
            "938/938 [==============================] - 11s 12ms/step - loss: 0.6274 - accuracy: 0.8172 - val_loss: 0.5202 - val_accuracy: 0.8536\n",
            "Epoch 54/100\n",
            "938/938 [==============================] - 11s 12ms/step - loss: 0.6267 - accuracy: 0.8191 - val_loss: 0.5207 - val_accuracy: 0.8521\n",
            "Epoch 55/100\n",
            "938/938 [==============================] - 11s 12ms/step - loss: 0.6205 - accuracy: 0.8178 - val_loss: 0.5130 - val_accuracy: 0.8557\n",
            "Epoch 56/100\n",
            "938/938 [==============================] - 11s 12ms/step - loss: 0.6311 - accuracy: 0.8123 - val_loss: 0.5115 - val_accuracy: 0.8558\n",
            "Epoch 57/100\n",
            "938/938 [==============================] - 11s 12ms/step - loss: 0.6243 - accuracy: 0.8185 - val_loss: 0.5113 - val_accuracy: 0.8560\n",
            "Epoch 58/100\n",
            "938/938 [==============================] - 11s 11ms/step - loss: 0.6290 - accuracy: 0.8162 - val_loss: 0.5077 - val_accuracy: 0.8591\n",
            "Epoch 59/100\n",
            "938/938 [==============================] - 11s 12ms/step - loss: 0.6223 - accuracy: 0.8198 - val_loss: 0.5051 - val_accuracy: 0.8593\n",
            "Epoch 60/100\n",
            "938/938 [==============================] - 11s 12ms/step - loss: 0.6014 - accuracy: 0.8210 - val_loss: 0.5011 - val_accuracy: 0.8591\n",
            "Epoch 61/100\n",
            "938/938 [==============================] - 11s 12ms/step - loss: 0.6021 - accuracy: 0.8223 - val_loss: 0.4978 - val_accuracy: 0.8583\n",
            "Epoch 62/100\n",
            "938/938 [==============================] - 11s 12ms/step - loss: 0.6035 - accuracy: 0.8252 - val_loss: 0.4954 - val_accuracy: 0.8602\n",
            "Epoch 63/100\n",
            "938/938 [==============================] - 11s 12ms/step - loss: 0.5844 - accuracy: 0.8289 - val_loss: 0.4943 - val_accuracy: 0.8593\n",
            "Epoch 64/100\n",
            "938/938 [==============================] - 11s 12ms/step - loss: 0.5907 - accuracy: 0.8252 - val_loss: 0.4967 - val_accuracy: 0.8610\n",
            "Epoch 65/100\n",
            "938/938 [==============================] - 11s 12ms/step - loss: 0.5936 - accuracy: 0.8266 - val_loss: 0.4900 - val_accuracy: 0.8621\n",
            "Epoch 66/100\n",
            "938/938 [==============================] - 11s 12ms/step - loss: 0.5983 - accuracy: 0.8250 - val_loss: 0.4872 - val_accuracy: 0.8633\n",
            "Epoch 67/100\n",
            "938/938 [==============================] - 11s 12ms/step - loss: 0.5816 - accuracy: 0.8286 - val_loss: 0.4866 - val_accuracy: 0.8645\n",
            "Epoch 68/100\n",
            "938/938 [==============================] - 11s 12ms/step - loss: 0.5869 - accuracy: 0.8259 - val_loss: 0.4820 - val_accuracy: 0.8652\n",
            "Epoch 69/100\n",
            "938/938 [==============================] - 11s 12ms/step - loss: 0.5859 - accuracy: 0.8285 - val_loss: 0.4812 - val_accuracy: 0.8649\n",
            "Epoch 70/100\n",
            "938/938 [==============================] - 11s 12ms/step - loss: 0.5803 - accuracy: 0.8280 - val_loss: 0.4820 - val_accuracy: 0.8616\n",
            "Epoch 71/100\n",
            "938/938 [==============================] - 11s 12ms/step - loss: 0.5690 - accuracy: 0.8340 - val_loss: 0.4768 - val_accuracy: 0.8651\n",
            "Epoch 72/100\n",
            "938/938 [==============================] - 11s 12ms/step - loss: 0.5795 - accuracy: 0.8303 - val_loss: 0.4765 - val_accuracy: 0.8640\n",
            "Epoch 73/100\n",
            "938/938 [==============================] - 11s 12ms/step - loss: 0.5568 - accuracy: 0.8374 - val_loss: 0.4727 - val_accuracy: 0.8660\n",
            "Epoch 74/100\n",
            "938/938 [==============================] - 11s 12ms/step - loss: 0.5713 - accuracy: 0.8324 - val_loss: 0.4709 - val_accuracy: 0.8660\n",
            "Epoch 75/100\n",
            "938/938 [==============================] - 11s 12ms/step - loss: 0.5495 - accuracy: 0.8391 - val_loss: 0.4694 - val_accuracy: 0.8692\n",
            "Epoch 76/100\n",
            "938/938 [==============================] - 11s 12ms/step - loss: 0.5670 - accuracy: 0.8303 - val_loss: 0.4676 - val_accuracy: 0.8699\n",
            "Epoch 77/100\n",
            "938/938 [==============================] - 11s 12ms/step - loss: 0.5546 - accuracy: 0.8356 - val_loss: 0.4701 - val_accuracy: 0.8680\n",
            "Epoch 78/100\n",
            "938/938 [==============================] - 11s 12ms/step - loss: 0.5457 - accuracy: 0.8387 - val_loss: 0.4641 - val_accuracy: 0.8717\n",
            "Epoch 79/100\n",
            "938/938 [==============================] - 11s 12ms/step - loss: 0.5578 - accuracy: 0.8351 - val_loss: 0.4592 - val_accuracy: 0.8711\n",
            "Epoch 80/100\n",
            "938/938 [==============================] - 11s 12ms/step - loss: 0.5447 - accuracy: 0.8387 - val_loss: 0.4573 - val_accuracy: 0.8702\n",
            "Epoch 81/100\n",
            "938/938 [==============================] - 11s 12ms/step - loss: 0.5419 - accuracy: 0.8416 - val_loss: 0.4569 - val_accuracy: 0.8711\n",
            "Epoch 82/100\n",
            "938/938 [==============================] - 11s 12ms/step - loss: 0.5454 - accuracy: 0.8406 - val_loss: 0.4543 - val_accuracy: 0.8717\n",
            "Epoch 83/100\n",
            "938/938 [==============================] - 11s 12ms/step - loss: 0.5500 - accuracy: 0.8412 - val_loss: 0.4562 - val_accuracy: 0.8687\n",
            "Epoch 84/100\n",
            "938/938 [==============================] - 11s 12ms/step - loss: 0.5417 - accuracy: 0.8432 - val_loss: 0.4561 - val_accuracy: 0.8723\n",
            "Epoch 85/100\n",
            "938/938 [==============================] - 11s 12ms/step - loss: 0.5384 - accuracy: 0.8385 - val_loss: 0.4523 - val_accuracy: 0.8719\n",
            "Epoch 86/100\n",
            "938/938 [==============================] - 11s 12ms/step - loss: 0.5514 - accuracy: 0.8380 - val_loss: 0.4498 - val_accuracy: 0.8748\n",
            "Epoch 87/100\n",
            "938/938 [==============================] - 11s 12ms/step - loss: 0.5191 - accuracy: 0.8468 - val_loss: 0.4502 - val_accuracy: 0.8712\n",
            "Epoch 88/100\n",
            "938/938 [==============================] - 11s 12ms/step - loss: 0.5326 - accuracy: 0.8450 - val_loss: 0.4467 - val_accuracy: 0.8750\n",
            "Epoch 89/100\n",
            "938/938 [==============================] - 11s 12ms/step - loss: 0.5270 - accuracy: 0.8443 - val_loss: 0.4434 - val_accuracy: 0.8753\n",
            "Epoch 90/100\n",
            "938/938 [==============================] - 11s 12ms/step - loss: 0.5269 - accuracy: 0.8460 - val_loss: 0.4432 - val_accuracy: 0.8742\n",
            "Epoch 91/100\n",
            "938/938 [==============================] - 11s 12ms/step - loss: 0.5207 - accuracy: 0.8470 - val_loss: 0.4464 - val_accuracy: 0.8734\n",
            "Epoch 92/100\n",
            "938/938 [==============================] - 11s 12ms/step - loss: 0.5202 - accuracy: 0.8461 - val_loss: 0.4403 - val_accuracy: 0.8766\n",
            "Epoch 93/100\n",
            "938/938 [==============================] - 11s 12ms/step - loss: 0.5136 - accuracy: 0.8493 - val_loss: 0.4371 - val_accuracy: 0.8767\n",
            "Epoch 94/100\n",
            "938/938 [==============================] - 11s 12ms/step - loss: 0.5216 - accuracy: 0.8472 - val_loss: 0.4354 - val_accuracy: 0.8772\n",
            "Epoch 95/100\n",
            "938/938 [==============================] - 11s 12ms/step - loss: 0.5119 - accuracy: 0.8487 - val_loss: 0.4366 - val_accuracy: 0.8766\n",
            "Epoch 96/100\n",
            "938/938 [==============================] - 11s 12ms/step - loss: 0.5027 - accuracy: 0.8551 - val_loss: 0.4378 - val_accuracy: 0.8755\n",
            "Epoch 97/100\n",
            "938/938 [==============================] - 11s 12ms/step - loss: 0.5040 - accuracy: 0.8514 - val_loss: 0.4395 - val_accuracy: 0.8744\n",
            "Epoch 98/100\n",
            "938/938 [==============================] - 11s 12ms/step - loss: 0.5203 - accuracy: 0.8465 - val_loss: 0.4313 - val_accuracy: 0.8781\n",
            "Epoch 99/100\n",
            "938/938 [==============================] - 11s 12ms/step - loss: 0.5173 - accuracy: 0.8462 - val_loss: 0.4311 - val_accuracy: 0.8794\n",
            "Epoch 100/100\n",
            "938/938 [==============================] - 11s 12ms/step - loss: 0.5053 - accuracy: 0.8485 - val_loss: 0.4289 - val_accuracy: 0.8804\n"
          ],
          "name": "stdout"
        }
      ]
    },
    {
      "cell_type": "code",
      "metadata": {
        "colab": {
          "base_uri": "https://localhost:8080/",
          "height": 528
        },
        "id": "GPl57Gv6Qjcz",
        "outputId": "b9e6b803-cd0e-4c6c-d65b-d30837d48087"
      },
      "source": [
        "history_df = pd.DataFrame(history.history)\n",
        "history_df.loc[:, ['loss', 'val_loss']].plot();\n",
        "print(\"Minimum validation loss: {}\".format(history_df['val_loss'].min()))\n",
        "history_df = pd.DataFrame(history.history)\n",
        "history_df.loc[:, ['accuracy', 'val_accuracy']].plot();\n",
        "#print(\"Minimum validation loss: {}\".format(history_df['val_loss'].min()))"
      ],
      "execution_count": null,
      "outputs": [
        {
          "output_type": "stream",
          "text": [
            "Minimum validation loss: 0.4289493262767792\n"
          ],
          "name": "stdout"
        },
        {
          "output_type": "display_data",
          "data": {
            "image/png": "[encoded data removed]",
            "text/plain": [
              "<Figure size 432x288 with 1 Axes>"
            ]
          },
          "metadata": {
            "tags": [],
            "needs_background": "light"
          }
        },
        {
          "output_type": "display_data",
          "data": {
            "image/png": "[encoded data removed]",
            "text/plain": [
              "<Figure size 432x288 with 1 Axes>"
            ]
          },
          "metadata": {
            "tags": [],
            "needs_background": "light"
          }
        }
      ]
    },
    {
      "cell_type": "code",
      "metadata": {
        "colab": {
          "base_uri": "https://localhost:8080/"
        },
        "id": "2Ir3-9YKU7th",
        "outputId": "697d3473-0238-4959-b37d-e9377a691c98"
      },
      "source": [
        "model.evaluate(X_test,y_test)\n",
        "model.evaluate(x_val,Y_val)\n",
        "\n",
        "model.evaluate(x_train , Y_train)"
      ],
      "execution_count": null,
      "outputs": [
        {
          "output_type": "stream",
          "text": [
            "563/563 [==============================] - 2s 3ms/step - loss: 0.4343 - accuracy: 0.8789\n",
            "375/375 [==============================] - 1s 2ms/step - loss: 0.4289 - accuracy: 0.8804\n",
            "938/938 [==============================] - 2s 3ms/step - loss: 0.3850 - accuracy: 0.8922\n"
          ],
          "name": "stdout"
        },
        {
          "output_type": "execute_result",
          "data": {
            "text/plain": [
              "[0.3850264847278595, 0.8921666741371155]"
            ]
          },
          "metadata": {
            "tags": []
          },
          "execution_count": 58
        }
      ]
    },
    {
      "cell_type": "markdown",
      "metadata": {
        "id": "3Fvhb3pkYpJZ"
      },
      "source": [
        "# Model 1F Increased Filters Further"
      ]
    },
    {
      "cell_type": "code",
      "metadata": {
        "id": "DaZApbsVVA83"
      },
      "source": [
        "input_layer=Input(shape=input_shape)\n",
        "conv_layer_1=Conv2D(32,kernel_size=(3,3),padding='same')(input_layer)\n",
        "batch_norm_1=BatchNormalization()(conv_layer_1)\n",
        "activation_layer_1=Activation('relu')(batch_norm_1)\n",
        "pool_layer_1=MaxPooling2D(pool_size=(2,2),strides=2)(activation_layer_1)\n",
        "conv_layer_2=Conv2D(64,kernel_size=(3,3),padding='same',activation='relu')(pool_layer_1)\n",
        "pool_layer_2=MaxPooling2D(pool_size=(2,2),strides=2)(conv_layer_2)\n",
        "conv_layer_3=Conv2D(128,kernel_size=(3,3),padding='same',activation='relu')(pool_layer_2)\n",
        "pool_layer_3=MaxPooling2D(pool_size=(2,2),strides=2)(conv_layer_3)\n",
        "flat_1=Flatten()(pool_layer_3)\n",
        "hidden_layer_1=Dense(120,kernel_initializer='he_uniform',activation='relu')(flat_1)\n",
        "hidden_layer_2=Dense(84,kernel_initializer='he_uniform',activation='relu')(hidden_layer_1)\n",
        "output=Dense(num_classes,kernel_initializer='he_uniform',activation='softmax')(hidden_layer_2)\n",
        "model=Model(inputs=input_layer,outputs=output)"
      ],
      "execution_count": null,
      "outputs": []
    },
    {
      "cell_type": "code",
      "metadata": {
        "colab": {
          "base_uri": "https://localhost:8080/"
        },
        "id": "6wWp5FdCY0b8",
        "outputId": "c6b2e384-7499-4979-db9b-7c9b426f9467"
      },
      "source": [
        "model.summary()"
      ],
      "execution_count": null,
      "outputs": [
        {
          "output_type": "stream",
          "text": [
            "Model: \"model\"\n",
            "_________________________________________________________________\n",
            "Layer (type)                 Output Shape              Param #   \n",
            "=================================================================\n",
            "input_1 (InputLayer)         [(None, 32, 32, 1)]       0         \n",
            "_________________________________________________________________\n",
            "conv2d (Conv2D)              (None, 32, 32, 32)        320       \n",
            "_________________________________________________________________\n",
            "batch_normalization (BatchNo (None, 32, 32, 32)        128       \n",
            "_________________________________________________________________\n",
            "activation (Activation)      (None, 32, 32, 32)        0         \n",
            "_________________________________________________________________\n",
            "max_pooling2d (MaxPooling2D) (None, 16, 16, 32)        0         \n",
            "_________________________________________________________________\n",
            "conv2d_1 (Conv2D)            (None, 16, 16, 64)        18496     \n",
            "_________________________________________________________________\n",
            "max_pooling2d_1 (MaxPooling2 (None, 8, 8, 64)          0         \n",
            "_________________________________________________________________\n",
            "conv2d_2 (Conv2D)            (None, 8, 8, 128)         73856     \n",
            "_________________________________________________________________\n",
            "max_pooling2d_2 (MaxPooling2 (None, 4, 4, 128)         0         \n",
            "_________________________________________________________________\n",
            "flatten (Flatten)            (None, 2048)              0         \n",
            "_________________________________________________________________\n",
            "dense (Dense)                (None, 120)               245880    \n",
            "_________________________________________________________________\n",
            "dense_1 (Dense)              (None, 84)                10164     \n",
            "_________________________________________________________________\n",
            "dense_2 (Dense)              (None, 10)                850       \n",
            "=================================================================\n",
            "Total params: 349,694\n",
            "Trainable params: 349,630\n",
            "Non-trainable params: 64\n",
            "_________________________________________________________________\n"
          ],
          "name": "stdout"
        }
      ]
    },
    {
      "cell_type": "code",
      "metadata": {
        "colab": {
          "base_uri": "https://localhost:8080/"
        },
        "id": "-Gg4uP3wY19b",
        "outputId": "6e3cd65c-c946-44fd-a179-e0ebab027aff"
      },
      "source": [
        "optimizer=Adam(learning_rate=1e-5,amsgrad=True)\n",
        "#lr_schedule = LearningRateScheduler(lambda epoch: 1e-5 * 10**(epoch / 10))\n",
        "early_stopping = EarlyStopping(patience=8)\n",
        "model_checkpoint = ModelCheckpoint(\n",
        "                   '/content/drive/MyDrive/Projects/SVHN/Convolution_Checkpoints/best_cnn.h5', \n",
        "                   save_best_only=True)\n",
        "model.compile(loss=categorical_crossentropy,optimizer=optimizer,metrics=['accuracy'])\n",
        "#history=model.fit(x_train,Y_train,validation_data=(x_val,Y_val),epochs=100,batch_size=32,verbose=1)\n",
        "history = model.fit(datagen.flow(x_train, Y_train, batch_size=32),\n",
        "                              epochs=100, validation_data=(x_val, Y_val),\n",
        "                              callbacks=[early_stopping,model_checkpoint])"
      ],
      "execution_count": null,
      "outputs": [
        {
          "output_type": "stream",
          "text": [
            "Epoch 1/100\n",
            "938/938 [==============================] - 12s 12ms/step - loss: 2.3016 - accuracy: 0.1116 - val_loss: 2.2398 - val_accuracy: 0.1908\n",
            "Epoch 2/100\n",
            "938/938 [==============================] - 11s 12ms/step - loss: 2.2236 - accuracy: 0.2045 - val_loss: 2.0952 - val_accuracy: 0.3332\n",
            "Epoch 3/100\n",
            "938/938 [==============================] - 11s 12ms/step - loss: 2.0710 - accuracy: 0.3300 - val_loss: 1.8361 - val_accuracy: 0.4553\n",
            "Epoch 4/100\n",
            "938/938 [==============================] - 11s 12ms/step - loss: 1.8190 - accuracy: 0.4484 - val_loss: 1.5285 - val_accuracy: 0.5660\n",
            "Epoch 5/100\n",
            "938/938 [==============================] - 11s 12ms/step - loss: 1.5536 - accuracy: 0.5482 - val_loss: 1.2940 - val_accuracy: 0.6361\n",
            "Epoch 6/100\n",
            "938/938 [==============================] - 11s 12ms/step - loss: 1.3542 - accuracy: 0.6102 - val_loss: 1.1320 - val_accuracy: 0.6853\n",
            "Epoch 7/100\n",
            "938/938 [==============================] - 11s 12ms/step - loss: 1.2066 - accuracy: 0.6553 - val_loss: 1.0059 - val_accuracy: 0.7262\n",
            "Epoch 8/100\n",
            "938/938 [==============================] - 12s 12ms/step - loss: 1.1122 - accuracy: 0.6744 - val_loss: 0.9270 - val_accuracy: 0.7448\n",
            "Epoch 9/100\n",
            "938/938 [==============================] - 12s 12ms/step - loss: 1.0342 - accuracy: 0.6966 - val_loss: 0.8630 - val_accuracy: 0.7663\n",
            "Epoch 10/100\n",
            "938/938 [==============================] - 12s 12ms/step - loss: 0.9758 - accuracy: 0.7105 - val_loss: 0.8319 - val_accuracy: 0.7554\n",
            "Epoch 11/100\n",
            "938/938 [==============================] - 11s 12ms/step - loss: 0.9358 - accuracy: 0.7279 - val_loss: 0.7777 - val_accuracy: 0.7845\n",
            "Epoch 12/100\n",
            "938/938 [==============================] - 11s 12ms/step - loss: 0.8892 - accuracy: 0.7398 - val_loss: 0.7444 - val_accuracy: 0.7974\n",
            "Epoch 13/100\n",
            "938/938 [==============================] - 12s 12ms/step - loss: 0.8707 - accuracy: 0.7481 - val_loss: 0.7107 - val_accuracy: 0.8042\n",
            "Epoch 14/100\n",
            "938/938 [==============================] - 12s 13ms/step - loss: 0.8483 - accuracy: 0.7545 - val_loss: 0.6886 - val_accuracy: 0.8158\n",
            "Epoch 15/100\n",
            "938/938 [==============================] - 11s 12ms/step - loss: 0.8174 - accuracy: 0.7628 - val_loss: 0.6736 - val_accuracy: 0.8097\n",
            "Epoch 16/100\n",
            "938/938 [==============================] - 11s 12ms/step - loss: 0.7991 - accuracy: 0.7688 - val_loss: 0.6558 - val_accuracy: 0.8146\n",
            "Epoch 17/100\n",
            "938/938 [==============================] - 11s 12ms/step - loss: 0.7737 - accuracy: 0.7749 - val_loss: 0.6356 - val_accuracy: 0.8303\n",
            "Epoch 18/100\n",
            "938/938 [==============================] - 12s 12ms/step - loss: 0.7629 - accuracy: 0.7785 - val_loss: 0.6255 - val_accuracy: 0.8324\n",
            "Epoch 19/100\n",
            "938/938 [==============================] - 12s 12ms/step - loss: 0.7438 - accuracy: 0.7831 - val_loss: 0.6101 - val_accuracy: 0.8319\n",
            "Epoch 20/100\n",
            "938/938 [==============================] - 12s 12ms/step - loss: 0.7210 - accuracy: 0.7957 - val_loss: 0.5920 - val_accuracy: 0.8390\n",
            "Epoch 21/100\n",
            "938/938 [==============================] - 12s 12ms/step - loss: 0.7233 - accuracy: 0.7919 - val_loss: 0.5853 - val_accuracy: 0.8432\n",
            "Epoch 22/100\n",
            "938/938 [==============================] - 12s 12ms/step - loss: 0.6988 - accuracy: 0.7962 - val_loss: 0.5767 - val_accuracy: 0.8412\n",
            "Epoch 23/100\n",
            "938/938 [==============================] - 12s 12ms/step - loss: 0.6988 - accuracy: 0.7991 - val_loss: 0.5655 - val_accuracy: 0.8469\n",
            "Epoch 24/100\n",
            "938/938 [==============================] - 12s 12ms/step - loss: 0.6931 - accuracy: 0.7990 - val_loss: 0.5621 - val_accuracy: 0.8507\n",
            "Epoch 25/100\n",
            "938/938 [==============================] - 12s 12ms/step - loss: 0.6706 - accuracy: 0.8055 - val_loss: 0.5520 - val_accuracy: 0.8509\n",
            "Epoch 26/100\n",
            "938/938 [==============================] - 12s 12ms/step - loss: 0.6641 - accuracy: 0.8093 - val_loss: 0.5394 - val_accuracy: 0.8572\n",
            "Epoch 27/100\n",
            "938/938 [==============================] - 12s 12ms/step - loss: 0.6550 - accuracy: 0.8126 - val_loss: 0.5362 - val_accuracy: 0.8567\n",
            "Epoch 28/100\n",
            "938/938 [==============================] - 12s 12ms/step - loss: 0.6613 - accuracy: 0.8098 - val_loss: 0.5380 - val_accuracy: 0.8535\n",
            "Epoch 29/100\n",
            "938/938 [==============================] - 12s 12ms/step - loss: 0.6407 - accuracy: 0.8167 - val_loss: 0.5268 - val_accuracy: 0.8600\n",
            "Epoch 30/100\n",
            "938/938 [==============================] - 12s 12ms/step - loss: 0.6321 - accuracy: 0.8193 - val_loss: 0.5142 - val_accuracy: 0.8619\n",
            "Epoch 31/100\n",
            "938/938 [==============================] - 11s 12ms/step - loss: 0.6206 - accuracy: 0.8203 - val_loss: 0.5100 - val_accuracy: 0.8631\n",
            "Epoch 32/100\n",
            "938/938 [==============================] - 12s 12ms/step - loss: 0.6059 - accuracy: 0.8236 - val_loss: 0.5056 - val_accuracy: 0.8646\n",
            "Epoch 33/100\n",
            "938/938 [==============================] - 11s 12ms/step - loss: 0.6103 - accuracy: 0.8258 - val_loss: 0.4997 - val_accuracy: 0.8667\n",
            "Epoch 34/100\n",
            "938/938 [==============================] - 12s 13ms/step - loss: 0.5993 - accuracy: 0.8269 - val_loss: 0.4953 - val_accuracy: 0.8678\n",
            "Epoch 35/100\n",
            "938/938 [==============================] - 12s 12ms/step - loss: 0.5975 - accuracy: 0.8306 - val_loss: 0.4988 - val_accuracy: 0.8652\n",
            "Epoch 36/100\n",
            "938/938 [==============================] - 12s 12ms/step - loss: 0.5932 - accuracy: 0.8301 - val_loss: 0.4898 - val_accuracy: 0.8677\n",
            "Epoch 37/100\n",
            "938/938 [==============================] - 12s 12ms/step - loss: 0.5831 - accuracy: 0.8327 - val_loss: 0.4833 - val_accuracy: 0.8712\n",
            "Epoch 38/100\n",
            "938/938 [==============================] - 12s 12ms/step - loss: 0.5686 - accuracy: 0.8363 - val_loss: 0.4791 - val_accuracy: 0.8712\n",
            "Epoch 39/100\n",
            "938/938 [==============================] - 12s 12ms/step - loss: 0.5729 - accuracy: 0.8341 - val_loss: 0.4756 - val_accuracy: 0.8743\n",
            "Epoch 40/100\n",
            "938/938 [==============================] - 12s 13ms/step - loss: 0.5709 - accuracy: 0.8340 - val_loss: 0.4698 - val_accuracy: 0.8746\n",
            "Epoch 41/100\n",
            "938/938 [==============================] - 12s 12ms/step - loss: 0.5522 - accuracy: 0.8400 - val_loss: 0.4712 - val_accuracy: 0.8704\n",
            "Epoch 42/100\n",
            "938/938 [==============================] - 12s 12ms/step - loss: 0.5515 - accuracy: 0.8409 - val_loss: 0.4678 - val_accuracy: 0.8701\n",
            "Epoch 43/100\n",
            "938/938 [==============================] - 12s 12ms/step - loss: 0.5427 - accuracy: 0.8415 - val_loss: 0.4596 - val_accuracy: 0.8765\n",
            "Epoch 44/100\n",
            "938/938 [==============================] - 12s 13ms/step - loss: 0.5464 - accuracy: 0.8409 - val_loss: 0.4543 - val_accuracy: 0.8771\n",
            "Epoch 45/100\n",
            "938/938 [==============================] - 12s 12ms/step - loss: 0.5384 - accuracy: 0.8443 - val_loss: 0.4539 - val_accuracy: 0.8785\n",
            "Epoch 46/100\n",
            "938/938 [==============================] - 12s 12ms/step - loss: 0.5452 - accuracy: 0.8426 - val_loss: 0.4504 - val_accuracy: 0.8784\n",
            "Epoch 47/100\n",
            "938/938 [==============================] - 12s 13ms/step - loss: 0.5295 - accuracy: 0.8462 - val_loss: 0.4454 - val_accuracy: 0.8780\n",
            "Epoch 48/100\n",
            "938/938 [==============================] - 12s 12ms/step - loss: 0.5289 - accuracy: 0.8469 - val_loss: 0.4470 - val_accuracy: 0.8780\n",
            "Epoch 49/100\n",
            "938/938 [==============================] - 12s 13ms/step - loss: 0.5244 - accuracy: 0.8492 - val_loss: 0.4489 - val_accuracy: 0.8788\n",
            "Epoch 50/100\n",
            "938/938 [==============================] - 12s 12ms/step - loss: 0.5143 - accuracy: 0.8538 - val_loss: 0.4402 - val_accuracy: 0.8797\n",
            "Epoch 51/100\n",
            "938/938 [==============================] - 12s 13ms/step - loss: 0.5054 - accuracy: 0.8535 - val_loss: 0.4362 - val_accuracy: 0.8793\n",
            "Epoch 52/100\n",
            "938/938 [==============================] - 12s 12ms/step - loss: 0.5076 - accuracy: 0.8530 - val_loss: 0.4360 - val_accuracy: 0.8834\n",
            "Epoch 53/100\n",
            "938/938 [==============================] - 12s 12ms/step - loss: 0.5053 - accuracy: 0.8528 - val_loss: 0.4279 - val_accuracy: 0.8841\n",
            "Epoch 54/100\n",
            "938/938 [==============================] - 12s 12ms/step - loss: 0.5060 - accuracy: 0.8544 - val_loss: 0.4264 - val_accuracy: 0.8835\n",
            "Epoch 55/100\n",
            "938/938 [==============================] - 12s 13ms/step - loss: 0.4883 - accuracy: 0.8551 - val_loss: 0.4215 - val_accuracy: 0.8861\n",
            "Epoch 56/100\n",
            "938/938 [==============================] - 12s 12ms/step - loss: 0.4937 - accuracy: 0.8581 - val_loss: 0.4194 - val_accuracy: 0.8878\n",
            "Epoch 57/100\n",
            "938/938 [==============================] - 12s 13ms/step - loss: 0.4869 - accuracy: 0.8597 - val_loss: 0.4204 - val_accuracy: 0.8850\n",
            "Epoch 58/100\n",
            "938/938 [==============================] - 12s 12ms/step - loss: 0.4834 - accuracy: 0.8574 - val_loss: 0.4195 - val_accuracy: 0.8858\n",
            "Epoch 59/100\n",
            "938/938 [==============================] - 12s 13ms/step - loss: 0.4665 - accuracy: 0.8656 - val_loss: 0.4150 - val_accuracy: 0.8869\n",
            "Epoch 60/100\n",
            "938/938 [==============================] - 12s 13ms/step - loss: 0.4829 - accuracy: 0.8589 - val_loss: 0.4109 - val_accuracy: 0.8895\n",
            "Epoch 61/100\n",
            "938/938 [==============================] - 12s 13ms/step - loss: 0.4701 - accuracy: 0.8625 - val_loss: 0.4163 - val_accuracy: 0.8859\n",
            "Epoch 62/100\n",
            "938/938 [==============================] - 12s 13ms/step - loss: 0.4654 - accuracy: 0.8656 - val_loss: 0.4124 - val_accuracy: 0.8892\n",
            "Epoch 63/100\n",
            "938/938 [==============================] - 12s 13ms/step - loss: 0.4700 - accuracy: 0.8645 - val_loss: 0.4125 - val_accuracy: 0.8863\n",
            "Epoch 64/100\n",
            "938/938 [==============================] - 12s 13ms/step - loss: 0.4714 - accuracy: 0.8648 - val_loss: 0.4015 - val_accuracy: 0.8917\n",
            "Epoch 65/100\n",
            "938/938 [==============================] - 12s 13ms/step - loss: 0.4606 - accuracy: 0.8684 - val_loss: 0.4081 - val_accuracy: 0.8902\n",
            "Epoch 66/100\n",
            "938/938 [==============================] - 12s 13ms/step - loss: 0.4600 - accuracy: 0.8651 - val_loss: 0.4006 - val_accuracy: 0.8911\n",
            "Epoch 67/100\n",
            "938/938 [==============================] - 12s 13ms/step - loss: 0.4672 - accuracy: 0.8639 - val_loss: 0.4008 - val_accuracy: 0.8917\n",
            "Epoch 68/100\n",
            "938/938 [==============================] - 12s 13ms/step - loss: 0.4480 - accuracy: 0.8702 - val_loss: 0.3989 - val_accuracy: 0.8898\n",
            "Epoch 69/100\n",
            "938/938 [==============================] - 12s 13ms/step - loss: 0.4467 - accuracy: 0.8684 - val_loss: 0.3948 - val_accuracy: 0.8935\n",
            "Epoch 70/100\n",
            "938/938 [==============================] - 12s 13ms/step - loss: 0.4479 - accuracy: 0.8725 - val_loss: 0.3957 - val_accuracy: 0.8924\n",
            "Epoch 71/100\n",
            "938/938 [==============================] - 12s 13ms/step - loss: 0.4410 - accuracy: 0.8715 - val_loss: 0.3924 - val_accuracy: 0.8924\n",
            "Epoch 72/100\n",
            "938/938 [==============================] - 12s 13ms/step - loss: 0.4379 - accuracy: 0.8736 - val_loss: 0.3948 - val_accuracy: 0.8925\n",
            "Epoch 73/100\n",
            "938/938 [==============================] - 12s 13ms/step - loss: 0.4356 - accuracy: 0.8749 - val_loss: 0.3926 - val_accuracy: 0.8913\n",
            "Epoch 74/100\n",
            "938/938 [==============================] - 12s 13ms/step - loss: 0.4322 - accuracy: 0.8739 - val_loss: 0.3897 - val_accuracy: 0.8943\n",
            "Epoch 75/100\n",
            "938/938 [==============================] - 12s 13ms/step - loss: 0.4427 - accuracy: 0.8698 - val_loss: 0.3880 - val_accuracy: 0.8966\n",
            "Epoch 76/100\n",
            "938/938 [==============================] - 12s 13ms/step - loss: 0.4375 - accuracy: 0.8737 - val_loss: 0.3883 - val_accuracy: 0.8932\n",
            "Epoch 77/100\n",
            "938/938 [==============================] - 12s 13ms/step - loss: 0.4303 - accuracy: 0.8734 - val_loss: 0.3869 - val_accuracy: 0.8962\n",
            "Epoch 78/100\n",
            "938/938 [==============================] - 12s 13ms/step - loss: 0.4245 - accuracy: 0.8783 - val_loss: 0.3887 - val_accuracy: 0.8949\n",
            "Epoch 79/100\n",
            "938/938 [==============================] - 12s 13ms/step - loss: 0.4158 - accuracy: 0.8788 - val_loss: 0.3861 - val_accuracy: 0.8947\n",
            "Epoch 80/100\n",
            "938/938 [==============================] - 12s 13ms/step - loss: 0.4189 - accuracy: 0.8807 - val_loss: 0.3821 - val_accuracy: 0.8957\n",
            "Epoch 81/100\n",
            "938/938 [==============================] - 12s 13ms/step - loss: 0.4122 - accuracy: 0.8805 - val_loss: 0.3807 - val_accuracy: 0.8970\n",
            "Epoch 82/100\n",
            "938/938 [==============================] - 12s 12ms/step - loss: 0.4126 - accuracy: 0.8805 - val_loss: 0.3793 - val_accuracy: 0.8976\n",
            "Epoch 83/100\n",
            "938/938 [==============================] - 12s 12ms/step - loss: 0.4121 - accuracy: 0.8773 - val_loss: 0.3783 - val_accuracy: 0.8965\n",
            "Epoch 84/100\n",
            "938/938 [==============================] - 12s 12ms/step - loss: 0.4065 - accuracy: 0.8812 - val_loss: 0.3762 - val_accuracy: 0.8980\n",
            "Epoch 85/100\n",
            "938/938 [==============================] - 12s 13ms/step - loss: 0.4095 - accuracy: 0.8814 - val_loss: 0.3757 - val_accuracy: 0.8987\n",
            "Epoch 86/100\n",
            "938/938 [==============================] - 12s 13ms/step - loss: 0.4063 - accuracy: 0.8805 - val_loss: 0.3816 - val_accuracy: 0.8972\n",
            "Epoch 87/100\n",
            "938/938 [==============================] - 12s 13ms/step - loss: 0.4019 - accuracy: 0.8839 - val_loss: 0.3772 - val_accuracy: 0.8958\n",
            "Epoch 88/100\n",
            "938/938 [==============================] - 12s 13ms/step - loss: 0.3996 - accuracy: 0.8858 - val_loss: 0.3773 - val_accuracy: 0.8952\n",
            "Epoch 89/100\n",
            "938/938 [==============================] - 13s 13ms/step - loss: 0.4046 - accuracy: 0.8813 - val_loss: 0.3734 - val_accuracy: 0.8972\n",
            "Epoch 90/100\n",
            "938/938 [==============================] - 12s 13ms/step - loss: 0.3925 - accuracy: 0.8843 - val_loss: 0.3687 - val_accuracy: 0.8995\n",
            "Epoch 91/100\n",
            "938/938 [==============================] - 12s 13ms/step - loss: 0.3970 - accuracy: 0.8865 - val_loss: 0.3734 - val_accuracy: 0.8968\n",
            "Epoch 92/100\n",
            "938/938 [==============================] - 12s 13ms/step - loss: 0.3911 - accuracy: 0.8835 - val_loss: 0.3688 - val_accuracy: 0.8998\n",
            "Epoch 93/100\n",
            "938/938 [==============================] - 12s 12ms/step - loss: 0.3870 - accuracy: 0.8852 - val_loss: 0.3695 - val_accuracy: 0.9001\n",
            "Epoch 94/100\n",
            "938/938 [==============================] - 12s 12ms/step - loss: 0.3967 - accuracy: 0.8855 - val_loss: 0.3660 - val_accuracy: 0.9004\n",
            "Epoch 95/100\n",
            "938/938 [==============================] - 12s 13ms/step - loss: 0.3804 - accuracy: 0.8886 - val_loss: 0.3636 - val_accuracy: 0.9011\n",
            "Epoch 96/100\n",
            "938/938 [==============================] - 12s 13ms/step - loss: 0.3823 - accuracy: 0.8902 - val_loss: 0.3653 - val_accuracy: 0.9022\n",
            "Epoch 97/100\n",
            "938/938 [==============================] - 12s 13ms/step - loss: 0.3780 - accuracy: 0.8909 - val_loss: 0.3630 - val_accuracy: 0.9022\n",
            "Epoch 98/100\n",
            "938/938 [==============================] - 12s 13ms/step - loss: 0.3773 - accuracy: 0.8901 - val_loss: 0.3609 - val_accuracy: 0.9044\n",
            "Epoch 99/100\n",
            "938/938 [==============================] - 12s 13ms/step - loss: 0.3751 - accuracy: 0.8900 - val_loss: 0.3577 - val_accuracy: 0.9038\n",
            "Epoch 100/100\n",
            "938/938 [==============================] - 12s 13ms/step - loss: 0.3791 - accuracy: 0.8879 - val_loss: 0.3588 - val_accuracy: 0.9014\n"
          ],
          "name": "stdout"
        }
      ]
    },
    {
      "cell_type": "code",
      "metadata": {
        "colab": {
          "base_uri": "https://localhost:8080/",
          "height": 528
        },
        "id": "yYmH8ydyY8nf",
        "outputId": "2b7f30d8-e908-41ba-e3cb-87ba0ee57212"
      },
      "source": [
        "history_df = pd.DataFrame(history.history)\n",
        "history_df.loc[:, ['loss', 'val_loss']].plot();\n",
        "print(\"Minimum validation loss: {}\".format(history_df['val_loss'].min()))\n",
        "history_df = pd.DataFrame(history.history)\n",
        "history_df.loc[:, ['accuracy', 'val_accuracy']].plot();\n",
        "#print(\"Minimum validation loss: {}\".format(history_df['val_loss'].min()))"
      ],
      "execution_count": null,
      "outputs": [
        {
          "output_type": "stream",
          "text": [
            "Minimum validation loss: 0.3577238917350769\n"
          ],
          "name": "stdout"
        },
        {
          "output_type": "display_data",
          "data": {
            "image/png": "[encoded data removed]",
            "text/plain": [
              "<Figure size 432x288 with 1 Axes>"
            ]
          },
          "metadata": {
            "tags": [],
            "needs_background": "light"
          }
        },
        {
          "output_type": "display_data",
          "data": {
            "image/png": "[encoded data removed]",
            "text/plain": [
              "<Figure size 432x288 with 1 Axes>"
            ]
          },
          "metadata": {
            "tags": [],
            "needs_background": "light"
          }
        }
      ]
    },
    {
      "cell_type": "code",
      "metadata": {
        "colab": {
          "base_uri": "https://localhost:8080/"
        },
        "id": "2gTP2MSuH514",
        "outputId": "17a8ab06-a8eb-4d58-ad7b-ac4d6b76e7b5"
      },
      "source": [
        "model.evaluate(X_test,y_test)\n",
        "model.evaluate(x_val,Y_val)\n",
        "\n",
        "model.evaluate(x_train , Y_train)"
      ],
      "execution_count": null,
      "outputs": [
        {
          "output_type": "stream",
          "text": [
            "563/563 [==============================] - 2s 3ms/step - loss: 0.3625 - accuracy: 0.8996\n",
            "375/375 [==============================] - 1s 2ms/step - loss: 0.3588 - accuracy: 0.9014\n",
            "938/938 [==============================] - 3s 3ms/step - loss: 0.2732 - accuracy: 0.9234\n"
          ],
          "name": "stdout"
        },
        {
          "output_type": "execute_result",
          "data": {
            "text/plain": [
              "[0.2732243239879608, 0.9234333038330078]"
            ]
          },
          "metadata": {
            "tags": []
          },
          "execution_count": 95
        }
      ]
    },
    {
      "cell_type": "markdown",
      "metadata": {
        "id": "S5u8Yh5R5g1x"
      },
      "source": [
        "# Summary"
      ]
    },
    {
      "cell_type": "markdown",
      "metadata": {
        "id": "bHStVQLjCRjO"
      },
      "source": [
        "- Model 1F - Train Acc : .92 ; Train Loss : .27\n",
        "           - Val Acc   : .90 ; Val Loss   : .35\n",
        "           - Test Acc  : .89 ; Test Loss  : .36\n",
        "\n",
        "- Model 1E - Train Acc : .89 ; Train Loss : .38\n",
        "           - Val Acc   : .88 ; Val Loss   : .42\n",
        "           - Test Acc  : .87 ; Test Loss  : .43\n",
        "\n",
        "- Model 1D - Train Acc : .90 ; Train Loss : .32\n",
        "           - Val Acc   : .88 ; Val Loss   : .40\n",
        "           - Test Acc  : .88 ; Test Loss  : .41\n",
        "\n",
        "- Model 1C - Train Acc : .87 ; Train Loss : .43\n",
        "           - Val Acc   : .86 ; Val Loss   : .47\n",
        "           - Test Acc  : .86 ; Test Loss  : .48\n",
        "\n",
        "- Model 1B - Train Acc : .89 ; Train Loss : .38\n",
        "           - Val Acc   : .86 ; Val Loss   : .49\n",
        "           - Test Acc  : .86 ; Test Loss  : .49\n",
        "\n",
        "- Model 1A - Train Acc : .84 ; Train Loss : .53\n",
        "           - Val Acc   : .83 ; Val Loss   : .58\n",
        "           - Test Acc  : .83 ; Test Loss  : .58\n",
        "\n"
      ]
    },
    {
      "cell_type": "markdown",
      "metadata": {
        "id": "hPFhG87k5kUc"
      },
      "source": [
        "- We see that Convolution with BatchNorm has faster convergence and increase in performance \n",
        "\n",
        "- We notice that increasing the filters we have increased the performance of the model\n",
        "\n",
        "- Also, Increasing the hidden layers from 1 to 2 hidden layer with reduced neurons , increases the performance"
      ]
    },
    {
      "cell_type": "code",
      "metadata": {
        "id": "zxe9mts25jn6"
      },
      "source": [
        ""
      ],
      "execution_count": null,
      "outputs": []
    },
    {
      "cell_type": "code",
      "metadata": {
        "id": "aqA-aifmiwCG"
      },
      "source": [
        ""
      ],
      "execution_count": null,
      "outputs": []
    },
    {
      "cell_type": "code",
      "metadata": {
        "id": "REQwoFFoiX-h"
      },
      "source": [
        ""
      ],
      "execution_count": null,
      "outputs": []
    },
    {
      "cell_type": "code",
      "metadata": {
        "id": "KuP59i35iBMn"
      },
      "source": [
        ""
      ],
      "execution_count": null,
      "outputs": []
    },
    {
      "cell_type": "code",
      "metadata": {
        "id": "zliIcV6Rh75j"
      },
      "source": [
        ""
      ],
      "execution_count": null,
      "outputs": []
    }
  ]
}